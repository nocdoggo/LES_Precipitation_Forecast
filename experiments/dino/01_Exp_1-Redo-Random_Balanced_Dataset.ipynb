{
 "cells": [
  {
   "cell_type": "markdown",
   "id": "a72af1bb",
   "metadata": {},
   "source": [
    "# Experiment 1\n"
   ]
  },
  {
   "cell_type": "markdown",
   "id": "6f3b8d8d",
   "metadata": {},
   "source": [
    "---\n",
    "\n",
    "## 1. Dataset Creation\n",
    "\n",
    "> Prof Dino has major GI issues (I do), stemming from a gluten and a lactose allergy. Let's just say that if he eats something with gluten or drinks something with lactose, then next day(s) he has diarrhea. Create a dataset with breakfast, morning tea, lunch, afternoon tea, dinner, toilet. Each column is binary (T/F) values, and for breakfast, lunch, and dinner denotes whether or not I had gluten. For both tea columns, it's whether I had tea with milk. Toilet T means diarrhea. Create that dataset randomly as T/F values, for all columns. Make sure the label is balanced around T/F."
   ]
  },
  {
   "cell_type": "markdown",
   "id": "f5b5d8c4",
   "metadata": {},
   "source": [
    "## 1.1 Generate Randomly Selected Data\n",
    "\n",
    "To achieve this, I will outline the steps to create a balanced dataset with $43,800$ rows, equivalent to approximately $120$ years of data (All I wish Prof. Dino will live forever, but my RAM is small.):\n",
    "\n",
    "1. Create a dataframe called df_daily with five columns: `Breakfast`, `Morning_Tea`, `Lunch`, `Afternoon_Tea`, and `Dinner`.\n",
    "\n",
    "2. Add $43,800$ rows to df_daily where all values are randomly filled with $True$ or $False$.\n",
    "\n",
    "By following these steps, we can generate a balanced dataset around $True$ and $False$ values."
   ]
  },
  {
   "cell_type": "code",
   "execution_count": 1,
   "id": "3d7aee90",
   "metadata": {},
   "outputs": [],
   "source": [
    "import pandas as pd\n",
    "import numpy as np\n",
    "from sklearn.model_selection import train_test_split\n",
    "import tensorflow as tf\n",
    "from tensorflow.keras.models import Model\n",
    "from tensorflow.keras.layers import Input, Dense, Concatenate\n",
    "import matplotlib.pyplot as plt\n",
    "import seaborn as sns\n",
    "%matplotlib inline\n",
    "\n",
    "# Number of days for this dataset\n",
    "size  = 100000"
   ]
  },
  {
   "cell_type": "code",
   "execution_count": 2,
   "id": "f671009e",
   "metadata": {},
   "outputs": [],
   "source": [
    "# Create the dataframe\n",
    "df_daily = pd.DataFrame({\n",
    "    'Breakfast': np.random.randint(0, 1000, size),\n",
    "    'Morning_Tea': np.random.randint(0, 1000, size),\n",
    "    'Lunch': np.random.randint(0, 1000, size),\n",
    "    'Afternoon_Tea': np.random.randint(0, 1000, size),\n",
    "    'Dinner': np.random.randint(0, 1000, size)\n",
    "#     'Toilet': np.random.randint(0, 1000, size)\n",
    "})\n"
   ]
  },
  {
   "cell_type": "code",
   "execution_count": 3,
   "id": "3841f8cb",
   "metadata": {},
   "outputs": [],
   "source": [
    "df_daily.drop_duplicates(inplace=True)"
   ]
  },
  {
   "cell_type": "code",
   "execution_count": 4,
   "id": "9a689e38",
   "metadata": {},
   "outputs": [
    {
     "data": {
      "text/plain": [
       "(100000, 5)"
      ]
     },
     "execution_count": 4,
     "metadata": {},
     "output_type": "execute_result"
    }
   ],
   "source": [
    "df_daily.shape"
   ]
  },
  {
   "cell_type": "code",
   "execution_count": 5,
   "id": "de1bd439",
   "metadata": {},
   "outputs": [],
   "source": [
    "df_daily['Toilet'] = np.random.randint(0, 2, size=len(df_daily))"
   ]
  },
  {
   "cell_type": "code",
   "execution_count": null,
   "id": "285f80d9",
   "metadata": {},
   "outputs": [],
   "source": []
  },
  {
   "cell_type": "code",
   "execution_count": null,
   "id": "5efbe1ed",
   "metadata": {},
   "outputs": [],
   "source": []
  },
  {
   "cell_type": "code",
   "execution_count": null,
   "id": "0a9b4d59",
   "metadata": {},
   "outputs": [],
   "source": []
  },
  {
   "cell_type": "code",
   "execution_count": null,
   "id": "2070cb9d",
   "metadata": {},
   "outputs": [],
   "source": []
  },
  {
   "cell_type": "code",
   "execution_count": null,
   "id": "6c7f0a4e",
   "metadata": {},
   "outputs": [],
   "source": []
  },
  {
   "cell_type": "markdown",
   "id": "be0bd1f6",
   "metadata": {},
   "source": [
    "## 1.2 Check Dataframe Shape"
   ]
  },
  {
   "cell_type": "code",
   "execution_count": 6,
   "id": "a2769524",
   "metadata": {},
   "outputs": [
    {
     "data": {
      "text/plain": [
       "(100000, 6)"
      ]
     },
     "execution_count": 6,
     "metadata": {},
     "output_type": "execute_result"
    }
   ],
   "source": [
    "df_daily.shape"
   ]
  },
  {
   "cell_type": "markdown",
   "id": "9b608479",
   "metadata": {},
   "source": [
    "By following this approach, we have successfully obtained a dataset with $43,800$ rows and $6$ labels. To ensure the data's integrity, let's perform a sanity check to confirm that there are no $NaN$ values present.\n",
    "\n",
    "---\n",
    "\n",
    "## 1.3 Sanity Check\n",
    "\n",
    "### 1.3.1 Check NaN\n",
    "\n",
    "Here's the code snippet to perform the sanity check:"
   ]
  },
  {
   "cell_type": "code",
   "execution_count": 7,
   "id": "c9825d17",
   "metadata": {},
   "outputs": [
    {
     "name": "stdout",
     "output_type": "stream",
     "text": [
      "Sanity check passed: No NaN values detected in the dataset.\n"
     ]
    }
   ],
   "source": [
    "# Check for NaN values in the dataset\n",
    "nan_values = df_daily.isnull().sum().sum()\n",
    "\n",
    "if nan_values == 0:\n",
    "    print(\"Sanity check passed: No NaN values detected in the dataset.\")\n",
    "else:\n",
    "    print(\"Sanity check failed: NaN values detected in the dataset.\")"
   ]
  },
  {
   "cell_type": "markdown",
   "id": "640465ad",
   "metadata": {},
   "source": [
    "Then, let's examine all the column names in the dataframe df_daily to get an overview of the available columns."
   ]
  },
  {
   "cell_type": "code",
   "execution_count": 8,
   "id": "3cb4b3d2",
   "metadata": {},
   "outputs": [
    {
     "name": "stdout",
     "output_type": "stream",
     "text": [
      "Column names in the dataframe df_daily:\n",
      "['Breakfast', 'Morning_Tea', 'Lunch', 'Afternoon_Tea', 'Dinner', 'Toilet']\n"
     ]
    }
   ],
   "source": [
    "column_names = df_daily.columns.tolist()\n",
    "\n",
    "print(\"Column names in the dataframe df_daily:\")\n",
    "print(column_names)"
   ]
  },
  {
   "cell_type": "markdown",
   "id": "007da146",
   "metadata": {},
   "source": [
    "Next, let's examine the distribution of values in the `Toilet` column of the dataframe to assess the dataset's balance. This will provide insights into the proportion of `True` and `False` values in the dataset."
   ]
  },
  {
   "cell_type": "code",
   "execution_count": 9,
   "id": "b4b61f7d",
   "metadata": {},
   "outputs": [
    {
     "name": "stdout",
     "output_type": "stream",
     "text": [
      "Distribution of values in the 'Toilet' column:\n",
      "1    50159\n",
      "0    49841\n",
      "Name: Toilet, dtype: int64\n"
     ]
    }
   ],
   "source": [
    "# Check the distribution of values in the 'Toilet' column\n",
    "toilet_distribution = df_daily['Toilet'].value_counts()\n",
    "\n",
    "print(\"Distribution of values in the 'Toilet' column:\")\n",
    "print(toilet_distribution)"
   ]
  },
  {
   "cell_type": "code",
   "execution_count": 10,
   "id": "db84f5d1",
   "metadata": {},
   "outputs": [],
   "source": [
    "import matplotlib.pyplot as plt\n",
    "import seaborn as sns\n",
    "%matplotlib inline\n",
    "\n",
    "# # Visualize the distribution of values in column 'Toilet'\n",
    "# sns.countplot(x = df_daily['Toilet'], palette=[\"#7fcdbb\", \"#edf8b1\"])"
   ]
  },
  {
   "cell_type": "markdown",
   "id": "cf942125",
   "metadata": {},
   "source": [
    "### 1.3.2 Check Value Distribution Across All Columns\n",
    "\n",
    "Next, we will examine the distribution of 'True' and 'False' values in all columns of the dataframe."
   ]
  },
  {
   "cell_type": "code",
   "execution_count": 11,
   "id": "13c3bd41",
   "metadata": {},
   "outputs": [
    {
     "name": "stdout",
     "output_type": "stream",
     "text": [
      "163    140\n",
      "882    129\n",
      "550    128\n",
      "376    127\n",
      "520    124\n",
      "      ... \n",
      "141     75\n",
      "549     74\n",
      "228     72\n",
      "435     72\n",
      "434     70\n",
      "Name: Breakfast, Length: 1000, dtype: int64\n",
      "804    138\n",
      "368    133\n",
      "801    131\n",
      "672    131\n",
      "179    130\n",
      "      ... \n",
      "112     75\n",
      "119     73\n",
      "641     73\n",
      "710     73\n",
      "8       72\n",
      "Name: Morning_Tea, Length: 1000, dtype: int64\n",
      "294    128\n",
      "26     127\n",
      "230    126\n",
      "301    126\n",
      "967    125\n",
      "      ... \n",
      "328     73\n",
      "530     71\n",
      "5       71\n",
      "904     70\n",
      "238     70\n",
      "Name: Lunch, Length: 1000, dtype: int64\n",
      "822    131\n",
      "687    129\n",
      "956    128\n",
      "499    126\n",
      "95     126\n",
      "      ... \n",
      "245     75\n",
      "451     73\n",
      "638     72\n",
      "408     72\n",
      "371     70\n",
      "Name: Afternoon_Tea, Length: 1000, dtype: int64\n",
      "219    138\n",
      "252    135\n",
      "142    131\n",
      "111    128\n",
      "118    128\n",
      "      ... \n",
      "333     77\n",
      "298     77\n",
      "152     76\n",
      "192     76\n",
      "48      75\n",
      "Name: Dinner, Length: 1000, dtype: int64\n",
      "1    50159\n",
      "0    49841\n",
      "Name: Toilet, dtype: int64\n"
     ]
    }
   ],
   "source": [
    "for col in df_daily.columns:\n",
    "    print(df_daily[col].value_counts())"
   ]
  },
  {
   "cell_type": "code",
   "execution_count": 12,
   "id": "ec7160b8",
   "metadata": {},
   "outputs": [],
   "source": [
    "# import seaborn as sns\n",
    "# import matplotlib.pyplot as plt\n",
    "\n",
    "# fig, axes = plt.subplots(nrows=3, ncols=2, figsize=(8, 8))\n",
    "\n",
    "# axes = axes.flatten()  # Using this can turn the 2D grid of axes into a flat array\n",
    "\n",
    "# for i, col in enumerate(df_daily.columns):\n",
    "#     sns.countplot(x=df_daily[col], ax=axes[i])\n",
    "#     axes[i].set_title(f\"Distribution for {col}\")\n",
    "\n",
    "# plt.tight_layout()\n",
    "# plt.show()\n"
   ]
  },
  {
   "cell_type": "markdown",
   "id": "46b12987",
   "metadata": {},
   "source": [
    "Based on the distribution of values in all columns as shown above, we can infer that the dataset is balanced. This conclusion is drawn from observing that there is a roughly equal number of $True$ and $False$ values in the column. With this confirmation, we can proceed to the next step: model creation.\n",
    "\n",
    "---"
   ]
  },
  {
   "cell_type": "code",
   "execution_count": 13,
   "id": "203b3bd0",
   "metadata": {},
   "outputs": [
    {
     "name": "stdout",
     "output_type": "stream",
     "text": [
      "Model: \"model\"\n",
      "__________________________________________________________________________________________________\n",
      " Layer (type)                   Output Shape         Param #     Connected to                     \n",
      "==================================================================================================\n",
      " gluten_input (InputLayer)      [(None, 3)]          0           []                               \n",
      "                                                                                                  \n",
      " lactose_input (InputLayer)     [(None, 2)]          0           []                               \n",
      "                                                                                                  \n",
      " dense (Dense)                  (None, 64)           256         ['gluten_input[0][0]']           \n",
      "                                                                                                  \n",
      " dense_3 (Dense)                (None, 64)           192         ['lactose_input[0][0]']          \n",
      "                                                                                                  \n",
      " dense_1 (Dense)                (None, 128)          8320        ['dense[0][0]']                  \n",
      "                                                                                                  \n",
      " dense_4 (Dense)                (None, 128)          8320        ['dense_3[0][0]']                \n",
      "                                                                                                  \n",
      " dense_2 (Dense)                (None, 256)          33024       ['dense_1[0][0]']                \n",
      "                                                                                                  \n",
      " dense_5 (Dense)                (None, 256)          33024       ['dense_4[0][0]']                \n",
      "                                                                                                  \n",
      " gluten_output (Dense)          (None, 1)            257         ['dense_2[0][0]']                \n",
      "                                                                                                  \n",
      " lactose_output (Dense)         (None, 1)            257         ['dense_5[0][0]']                \n",
      "                                                                                                  \n",
      " concatenate (Concatenate)      (None, 2)            0           ['gluten_output[0][0]',          \n",
      "                                                                  'lactose_output[0][0]']         \n",
      "                                                                                                  \n",
      " final_output (Dense)           (None, 1)            3           ['concatenate[0][0]']            \n",
      "                                                                                                  \n",
      "==================================================================================================\n",
      "Total params: 83,653\n",
      "Trainable params: 83,653\n",
      "Non-trainable params: 0\n",
      "__________________________________________________________________________________________________\n"
     ]
    }
   ],
   "source": [
    "gluten_data = df_daily[['Breakfast', 'Lunch', 'Dinner']][0:(size - 1)].values\n",
    "lactose_data = df_daily[['Morning_Tea', 'Afternoon_Tea']][0:(size - 1)].values\n",
    "toilet_data = df_daily['Toilet'][1:].values\n",
    "\n",
    "\n",
    "from tensorflow.keras.layers import Input, Dense, concatenate\n",
    "from tensorflow.keras.models import Model\n",
    "from tensorflow.keras.optimizers import Adam\n",
    "from sklearn.model_selection import KFold\n",
    "\n",
    "# Define the input layers for the two subnetworks\n",
    "gluten_input = Input(shape=(3,), name='gluten_input')\n",
    "lactose_input = Input(shape=(2,), name='lactose_input')\n",
    "\n",
    "# Define the structure of the subnetworks\n",
    "gluten_layer1 = Dense(64, activation='relu')(gluten_input)\n",
    "gluten_layer2 = Dense(128, activation='relu')(gluten_layer1)\n",
    "gluten_layer3 = Dense(256, activation='relu')(gluten_layer2)\n",
    "gluten_output = Dense(1, activation='sigmoid', name='gluten_output')(gluten_layer3)\n",
    "\n",
    "lactose_layer1 = Dense(64, activation='relu')(lactose_input)\n",
    "lactose_layer2 = Dense(128, activation='relu')(lactose_layer1)\n",
    "lactose_layer3 = Dense(256, activation='relu')(lactose_layer2)\n",
    "lactose_output = Dense(1, activation='sigmoid', name='lactose_output')(lactose_layer3)\n",
    "\n",
    "# Concatenate the output of the two subnetworks\n",
    "concatenated = concatenate([gluten_output, lactose_output])\n",
    "\n",
    "# Add a final prediction layer\n",
    "final_output = Dense(1, activation='sigmoid', name='final_output')(concatenated)\n",
    "\n",
    "# Define the model\n",
    "model = Model(inputs=[gluten_input, lactose_input], outputs=[gluten_output, lactose_output, final_output])\n",
    "\n",
    "# Compile the model\n",
    "model.compile(optimizer=Adam(), \n",
    "              loss={'gluten_output': 'binary_crossentropy', 'lactose_output': 'binary_crossentropy', 'final_output': 'binary_crossentropy'},\n",
    "              loss_weights={'gluten_output': 1., 'lactose_output': 1., 'final_output': 1.},\n",
    "              metrics=['accuracy'])\n",
    "\n",
    "# Summary of the model\n",
    "model.summary()\n",
    "\n",
    "\n"
   ]
  },
  {
   "cell_type": "code",
   "execution_count": 14,
   "id": "d96b9638",
   "metadata": {},
   "outputs": [
    {
     "name": "stdout",
     "output_type": "stream",
     "text": [
      "------------------------------------------------------------------------\n",
      "Training for fold 1 ...\n",
      "Training for fold 1 finished ...\n",
      "Score for fold 1: loss of 2.079437255859375; gluten_output_loss of 69.31427121162415%\n",
      "------------------------------------------------------------------------\n",
      "Training for fold 2 ...\n",
      "Training for fold 2 finished ...\n",
      "Score for fold 2: loss of 2.079399347305298; gluten_output_loss of 69.31360960006714%\n",
      "------------------------------------------------------------------------\n",
      "Training for fold 3 ...\n",
      "Training for fold 3 finished ...\n",
      "Score for fold 3: loss of 2.0794389247894287; gluten_output_loss of 69.31427717208862%\n",
      "------------------------------------------------------------------------\n",
      "Training for fold 4 ...\n",
      "Training for fold 4 finished ...\n",
      "Score for fold 4: loss of 2.079543352127075; gluten_output_loss of 69.31815147399902%\n",
      "------------------------------------------------------------------------\n",
      "Training for fold 5 ...\n",
      "Training for fold 5 finished ...\n",
      "Score for fold 5: loss of 2.0795199871063232; gluten_output_loss of 69.31565403938293%\n"
     ]
    }
   ],
   "source": [
    "# Define the K-fold Cross Validator\n",
    "kfold = KFold(n_splits=5, shuffle=True)\n",
    "\n",
    "# K-fold Cross Validation model evaluation\n",
    "fold_no = 1\n",
    "for train, test in kfold.split(gluten_data, toilet_data):\n",
    "\n",
    "  # Generate a print\n",
    "  print('------------------------------------------------------------------------')\n",
    "  print(f'Training for fold {fold_no} ...')\n",
    "\n",
    "  # Fit data to model\n",
    "  history = model.fit([gluten_data[train], lactose_data[train]], \n",
    "                      {'gluten_output': toilet_data[train], 'lactose_output': toilet_data[train], 'final_output': toilet_data[train]},\n",
    "                      batch_size=128,\n",
    "                      epochs=20,\n",
    "                      verbose=0)\n",
    "\n",
    "  print(f'Training for fold {fold_no} finished ...')\n",
    "    \n",
    "#   plt.figure(figsize=(6, 4))\n",
    "#   plt.plot(history.history['accuracy'], label='Train Accuracy')\n",
    "#   plt.plot(history.history['val_accuracy'], label='Val Accuracy')\n",
    "#   plt.xlabel('Epoch')\n",
    "#   plt.ylabel('Accuracy')\n",
    "#   plt.title('Accuracy over epochs')\n",
    "#   plt.legend()\n",
    "#   plt.show()\n",
    "\n",
    "  # Generate generalization metrics\n",
    "  scores = model.evaluate([gluten_data[test], lactose_data[test]], \n",
    "                          {'gluten_output': toilet_data[test], 'lactose_output': toilet_data[test], 'final_output': toilet_data[test]}, \n",
    "                          verbose=0)\n",
    "\n",
    "  print(f'Score for fold {fold_no}: {model.metrics_names[0]} of {scores[0]}; {model.metrics_names[1]} of {scores[1]*100}%')\n",
    "  \n",
    "  fold_no = fold_no + 1\n"
   ]
  },
  {
   "cell_type": "code",
   "execution_count": 16,
   "id": "6ae00655",
   "metadata": {},
   "outputs": [
    {
     "data": {
      "image/png": "[encoded data removed]",
      "text/plain": [
       "<Figure size 864x288 with 1 Axes>"
      ]
     },
     "metadata": {
      "needs_background": "light"
     },
     "output_type": "display_data"
    }
   ],
   "source": [
    "plt.figure(figsize=(12, 4))\n",
    "plt.plot(history.history['loss'], label='Train Loss')\n",
    "# plt.plot(history.history['val_loss'], label='Val Loss')\n",
    "plt.xlabel('Epoch')\n",
    "plt.ylabel('Loss')\n",
    "plt.title('Loss over epochs')\n",
    "plt.legend()\n",
    "plt.show()"
   ]
  },
  {
   "cell_type": "code",
   "execution_count": null,
   "id": "ba5d2163",
   "metadata": {},
   "outputs": [],
   "source": []
  },
  {
   "cell_type": "code",
   "execution_count": null,
   "id": "fa8ed8b0",
   "metadata": {},
   "outputs": [],
   "source": []
  },
  {
   "cell_type": "code",
   "execution_count": null,
   "id": "88a23178",
   "metadata": {},
   "outputs": [],
   "source": []
  },
  {
   "cell_type": "code",
   "execution_count": null,
   "id": "f56a20dc",
   "metadata": {},
   "outputs": [],
   "source": []
  },
  {
   "cell_type": "code",
   "execution_count": null,
   "id": "ae8d1568",
   "metadata": {},
   "outputs": [],
   "source": []
  },
  {
   "cell_type": "code",
   "execution_count": null,
   "id": "9072b310",
   "metadata": {},
   "outputs": [],
   "source": []
  },
  {
   "cell_type": "code",
   "execution_count": null,
   "id": "6215a232",
   "metadata": {},
   "outputs": [],
   "source": []
  },
  {
   "cell_type": "code",
   "execution_count": null,
   "id": "ebe4a392",
   "metadata": {},
   "outputs": [],
   "source": []
  },
  {
   "cell_type": "markdown",
   "id": "066b8f99",
   "metadata": {},
   "source": [
    "# 2. Model Creation\n",
    "\n",
    "To create a neural network model with two subnetworks based on the dataframe `df_daily`, where each subnetwork predicts the value in the `Toilet` column for the next row, and split the data into training, validation, and testing sets, we are following these steps:\n",
    "\n",
    "1. Split the dataframe into features (input) and labels (output), shift the labels by 1.\n",
    "\n",
    "2. Determine the indices for splitting the data into training, validation, and testing sets based on the provided percentages.\n",
    "\n",
    "3. Create the gluten subnetwork using the `Breakfast`, `Lunch`, and `Dinner` columns.\n",
    "\n",
    "4. Create the lactose subnetwork using the `Morning_Tea` and `Afternoon_Tea` columns.\n",
    "\n",
    "5. Concatenate the output of the subnetworks.\n",
    "\n",
    "6. Add a one-neuron dense layer to the concatenated output for the final prediction of the `Toilet` label.\n",
    "\n",
    "7. Compile the model with an appropriate loss function and optimizer.\n",
    "\n",
    "8. Train the model using the training set and validate using the validation set.\n",
    "\n",
    "9. Evaluate the model's performance using the testing set."
   ]
  },
  {
   "cell_type": "code",
   "execution_count": 19,
   "id": "0571f7a1",
   "metadata": {},
   "outputs": [],
   "source": [
    "# df_daily = df_daily.astype(int)"
   ]
  },
  {
   "cell_type": "code",
   "execution_count": 20,
   "id": "442296ad",
   "metadata": {},
   "outputs": [],
   "source": [
    "# Split the dataframe into features (input) and labels (output)\n",
    "features = df_daily[['Breakfast', 'Lunch', 'Dinner', 'Morning_Tea', 'Afternoon_Tea']][0:(size - 1)]\n",
    "labels = df_daily['Toilet'][1:]"
   ]
  },
  {
   "cell_type": "markdown",
   "id": "ea58f829",
   "metadata": {},
   "source": [
    "Perform an inspection to check the number of rows in the feature and label dataframes and verify if they have the same length. Doing this will display the number of rows in the features and labels dataframes. It will also indicate whether the two dataframes have the same length or not."
   ]
  },
  {
   "cell_type": "code",
   "execution_count": 21,
   "id": "40559c4d",
   "metadata": {},
   "outputs": [
    {
     "name": "stdout",
     "output_type": "stream",
     "text": [
      "Number of rows in features dataframe: 99999\n",
      "Number of rows in labels dataframe: 99999\n",
      "The feature and label dataframes have the same length.\n"
     ]
    }
   ],
   "source": [
    "num_features_rows = len(features)\n",
    "num_labels_rows = len(labels)\n",
    "\n",
    "print(\"Number of rows in features dataframe:\", num_features_rows)\n",
    "print(\"Number of rows in labels dataframe:\", num_labels_rows)\n",
    "\n",
    "if num_features_rows == num_labels_rows:\n",
    "    print(\"The feature and label dataframes have the same length.\")\n",
    "else:\n",
    "    print(\"The feature and label dataframes do not have the same length.\")\n"
   ]
  },
  {
   "cell_type": "code",
   "execution_count": 22,
   "id": "e660f608",
   "metadata": {},
   "outputs": [],
   "source": [
    "# Determine the indices for splitting the data\n",
    "train_size = int(len(df_daily) * 0.8)\n",
    "val_size = int(len(df_daily) * 0.1)\n",
    "test_size = len(df_daily) - train_size - val_size"
   ]
  },
  {
   "cell_type": "markdown",
   "id": "f624d729",
   "metadata": {},
   "source": [
    "We first split the dataframe into features and labels. Then, we use the train_test_split() function from scikit-learn to split the data into training, validation, and testing sets based on the provided percentages."
   ]
  },
  {
   "cell_type": "code",
   "execution_count": 23,
   "id": "fe9e9f31",
   "metadata": {},
   "outputs": [],
   "source": [
    "from sklearn.model_selection import train_test_split\n",
    "from tensorflow.keras.models import Model\n",
    "from tensorflow.keras.layers import Input, Dense, concatenate\n",
    "from tensorflow.keras.optimizers import Adam\n",
    "from tensorflow.keras.utils import plot_model"
   ]
  },
  {
   "cell_type": "code",
   "execution_count": 24,
   "id": "b4fe2ba3",
   "metadata": {},
   "outputs": [],
   "source": [
    "# Split the data into training, validation, and testing sets\n",
    "train_features = features.iloc[:train_size]\n",
    "val_features = features.iloc[train_size:train_size+val_size]\n",
    "test_features = features.iloc[-test_size:]\n",
    "\n",
    "train_labels = labels.iloc[:train_size]\n",
    "val_labels = labels.iloc[train_size:train_size+val_size]\n",
    "test_labels = labels.iloc[-test_size:]"
   ]
  },
  {
   "cell_type": "markdown",
   "id": "ac031ac2",
   "metadata": {},
   "source": [
    "Next, we create the gluten and lactose subnetworks using the dense layers. The output of these subnetworks is concatenated, and a final prediction layer is added. The model is then compiled with the appropriate loss function and optimizer."
   ]
  },
  {
   "cell_type": "code",
   "execution_count": 25,
   "id": "1c7779d0",
   "metadata": {},
   "outputs": [],
   "source": [
    "# Create the gluten subnetwork\n",
    "gluten_input = Input(shape=(3,))\n",
    "gluten_dense1 = Dense(64, activation='sigmoid')(gluten_input)\n",
    "gluten_dense2 = Dense(128, activation='sigmoid')(gluten_dense1)\n",
    "gluten_dense3 = Dense(256, activation='sigmoid')(gluten_dense2)\n",
    "gluten_dense4 = Dense(512, activation='sigmoid')(gluten_dense3)\n",
    "gluten_dense5 = Dense(512, activation='sigmoid')(gluten_dense4)\n",
    "gluten_dense6 = Dense(1024, activation='sigmoid')(gluten_dense5)\n",
    "gluten_output = Dense(1, activation='sigmoid')(gluten_dense6)"
   ]
  },
  {
   "cell_type": "code",
   "execution_count": 26,
   "id": "451b2226",
   "metadata": {},
   "outputs": [],
   "source": [
    "# Create the lactose subnetwork\n",
    "lactose_input = Input(shape=(2,))\n",
    "lactose_dense1 = Dense(64, activation='sigmoid')(lactose_input)\n",
    "lactose_dense2 = Dense(128, activation='sigmoid')(lactose_dense1)\n",
    "lactose_dense3 = Dense(256, activation='sigmoid')(lactose_dense2)\n",
    "lactose_dense4 = Dense(512, activation='sigmoid')(lactose_dense3)\n",
    "lactose_dense5 = Dense(512, activation='sigmoid')(lactose_dense4)\n",
    "lactose_dense6 = Dense(1024, activation='sigmoid')(lactose_dense5)\n",
    "lactose_output = Dense(1, activation='sigmoid')(lactose_dense6)"
   ]
  },
  {
   "cell_type": "code",
   "execution_count": 27,
   "id": "2f71e0b7",
   "metadata": {},
   "outputs": [],
   "source": [
    "# Concatenate the output of the subnetworks\n",
    "concatenated = concatenate([gluten_output, lactose_output])"
   ]
  },
  {
   "cell_type": "code",
   "execution_count": 28,
   "id": "b61e42c0",
   "metadata": {},
   "outputs": [],
   "source": [
    "# Build the final prediction layer\n",
    "prediction = Dense(1, activation='sigmoid')(concatenated)"
   ]
  },
  {
   "cell_type": "code",
   "execution_count": 29,
   "id": "05a3e59c",
   "metadata": {},
   "outputs": [],
   "source": [
    "# Create the model\n",
    "model = Model(inputs=[gluten_input, lactose_input], outputs=prediction)"
   ]
  },
  {
   "cell_type": "markdown",
   "id": "b4abe7c9",
   "metadata": {},
   "source": [
    "The `Adam` optimizer is used with the specified learning rate of $0.001$. The optimizer is then passed to the **compile()** function to set the learning rate of the model."
   ]
  },
  {
   "cell_type": "code",
   "execution_count": 30,
   "id": "dfc18bf3",
   "metadata": {},
   "outputs": [],
   "source": [
    "# Set the learning rate\n",
    "learning_rate = 0.001\n",
    "optimizer = Adam(learning_rate=learning_rate)"
   ]
  },
  {
   "cell_type": "code",
   "execution_count": 31,
   "id": "87e4bb8b",
   "metadata": {},
   "outputs": [],
   "source": [
    "# Compile the model with the specified learning rate\n",
    "model.compile(optimizer=optimizer, loss='binary_crossentropy', metrics=['accuracy'])"
   ]
  },
  {
   "cell_type": "markdown",
   "id": "5e14ed3a",
   "metadata": {},
   "source": [
    "Let's then display a summary of the model's structure, including the number of parameters in each layer and the total number of trainable parameters."
   ]
  },
  {
   "cell_type": "code",
   "execution_count": 32,
   "id": "62c0493b",
   "metadata": {},
   "outputs": [
    {
     "name": "stdout",
     "output_type": "stream",
     "text": [
      "Model: \"model_1\"\n",
      "__________________________________________________________________________________________________\n",
      " Layer (type)                   Output Shape         Param #     Connected to                     \n",
      "==================================================================================================\n",
      " input_1 (InputLayer)           [(None, 3)]          0           []                               \n",
      "                                                                                                  \n",
      " input_2 (InputLayer)           [(None, 2)]          0           []                               \n",
      "                                                                                                  \n",
      " dense_6 (Dense)                (None, 64)           256         ['input_1[0][0]']                \n",
      "                                                                                                  \n",
      " dense_13 (Dense)               (None, 64)           192         ['input_2[0][0]']                \n",
      "                                                                                                  \n",
      " dense_7 (Dense)                (None, 128)          8320        ['dense_6[0][0]']                \n",
      "                                                                                                  \n",
      " dense_14 (Dense)               (None, 128)          8320        ['dense_13[0][0]']               \n",
      "                                                                                                  \n",
      " dense_8 (Dense)                (None, 256)          33024       ['dense_7[0][0]']                \n",
      "                                                                                                  \n",
      " dense_15 (Dense)               (None, 256)          33024       ['dense_14[0][0]']               \n",
      "                                                                                                  \n",
      " dense_9 (Dense)                (None, 512)          131584      ['dense_8[0][0]']                \n",
      "                                                                                                  \n",
      " dense_16 (Dense)               (None, 512)          131584      ['dense_15[0][0]']               \n",
      "                                                                                                  \n",
      " dense_10 (Dense)               (None, 512)          262656      ['dense_9[0][0]']                \n",
      "                                                                                                  \n",
      " dense_17 (Dense)               (None, 512)          262656      ['dense_16[0][0]']               \n",
      "                                                                                                  \n",
      " dense_11 (Dense)               (None, 1024)         525312      ['dense_10[0][0]']               \n",
      "                                                                                                  \n",
      " dense_18 (Dense)               (None, 1024)         525312      ['dense_17[0][0]']               \n",
      "                                                                                                  \n",
      " dense_12 (Dense)               (None, 1)            1025        ['dense_11[0][0]']               \n",
      "                                                                                                  \n",
      " dense_19 (Dense)               (None, 1)            1025        ['dense_18[0][0]']               \n",
      "                                                                                                  \n",
      " concatenate_1 (Concatenate)    (None, 2)            0           ['dense_12[0][0]',               \n",
      "                                                                  'dense_19[0][0]']               \n",
      "                                                                                                  \n",
      " dense_20 (Dense)               (None, 1)            3           ['concatenate_1[0][0]']          \n",
      "                                                                                                  \n",
      "==================================================================================================\n",
      "Total params: 1,924,293\n",
      "Trainable params: 1,924,293\n",
      "Non-trainable params: 0\n",
      "__________________________________________________________________________________________________\n"
     ]
    }
   ],
   "source": [
    "model.summary()"
   ]
  },
  {
   "cell_type": "code",
   "execution_count": 33,
   "id": "c4b66cb1",
   "metadata": {},
   "outputs": [
    {
     "name": "stdout",
     "output_type": "stream",
     "text": [
      "Layer Name: input_1\n",
      "Type of layer: InputLayer\n",
      "Input dimesion: []\n",
      "Output dimesion: []\n",
      "Parameter Count: 0\n",
      " \n",
      "Layer Name: input_2\n",
      "Type of layer: InputLayer\n",
      "Input dimesion: []\n",
      "Output dimesion: []\n",
      "Parameter Count: 0\n",
      " \n",
      "Layer Name: dense_6\n",
      "Type of layer: Dense\n",
      "Input dimesion: (3,)\n",
      "Output dimesion: (64,)\n",
      "Parameter Count: 256\n",
      "Activation : sigmoid\n",
      " \n",
      "Layer Name: dense_13\n",
      "Type of layer: Dense\n",
      "Input dimesion: (2,)\n",
      "Output dimesion: (64,)\n",
      "Parameter Count: 192\n",
      "Activation : sigmoid\n",
      " \n",
      "Layer Name: dense_7\n",
      "Type of layer: Dense\n",
      "Input dimesion: (64,)\n",
      "Output dimesion: (128,)\n",
      "Parameter Count: 8320\n",
      "Activation : sigmoid\n",
      " \n",
      "Layer Name: dense_14\n",
      "Type of layer: Dense\n",
      "Input dimesion: (64,)\n",
      "Output dimesion: (128,)\n",
      "Parameter Count: 8320\n",
      "Activation : sigmoid\n",
      " \n",
      "Layer Name: dense_8\n",
      "Type of layer: Dense\n",
      "Input dimesion: (128,)\n",
      "Output dimesion: (256,)\n",
      "Parameter Count: 33024\n",
      "Activation : sigmoid\n",
      " \n",
      "Layer Name: dense_15\n",
      "Type of layer: Dense\n",
      "Input dimesion: (128,)\n",
      "Output dimesion: (256,)\n",
      "Parameter Count: 33024\n",
      "Activation : sigmoid\n",
      " \n",
      "Layer Name: dense_9\n",
      "Type of layer: Dense\n",
      "Input dimesion: (256,)\n",
      "Output dimesion: (512,)\n",
      "Parameter Count: 131584\n",
      "Activation : sigmoid\n",
      " \n",
      "Layer Name: dense_16\n",
      "Type of layer: Dense\n",
      "Input dimesion: (256,)\n",
      "Output dimesion: (512,)\n",
      "Parameter Count: 131584\n",
      "Activation : sigmoid\n",
      " \n",
      "Layer Name: dense_10\n",
      "Type of layer: Dense\n",
      "Input dimesion: (512,)\n",
      "Output dimesion: (512,)\n",
      "Parameter Count: 262656\n",
      "Activation : sigmoid\n",
      " \n",
      "Layer Name: dense_17\n",
      "Type of layer: Dense\n",
      "Input dimesion: (512,)\n",
      "Output dimesion: (512,)\n",
      "Parameter Count: 262656\n",
      "Activation : sigmoid\n",
      " \n",
      "Layer Name: dense_11\n",
      "Type of layer: Dense\n",
      "Input dimesion: (512,)\n",
      "Output dimesion: (1024,)\n",
      "Parameter Count: 525312\n",
      "Activation : sigmoid\n",
      " \n",
      "Layer Name: dense_18\n",
      "Type of layer: Dense\n",
      "Input dimesion: (512,)\n",
      "Output dimesion: (1024,)\n",
      "Parameter Count: 525312\n",
      "Activation : sigmoid\n",
      " \n",
      "Layer Name: dense_12\n",
      "Type of layer: Dense\n",
      "Input dimesion: (1024,)\n",
      "Output dimesion: (1,)\n",
      "Parameter Count: 1025\n",
      "Activation : sigmoid\n",
      " \n",
      "Layer Name: dense_19\n",
      "Type of layer: Dense\n",
      "Input dimesion: (1024,)\n",
      "Output dimesion: (1,)\n",
      "Parameter Count: 1025\n",
      "Activation : sigmoid\n",
      " \n",
      "Layer Name: concatenate_1\n",
      "Type of layer: Concatenate\n",
      "Input dimesion: [(None, 1)]\n",
      "Output dimesion: (2,)\n",
      "Parameter Count: 0\n",
      " \n",
      "Layer Name: dense_20\n",
      "Type of layer: Dense\n",
      "Input dimesion: (2,)\n",
      "Output dimesion: (1,)\n",
      "Parameter Count: 3\n",
      "Activation : sigmoid\n",
      " \n"
     ]
    }
   ],
   "source": [
    "for layer in model.layers:\n",
    "        print(\"Layer Name: \" + layer.name)\n",
    "        print(\"Type of layer: \" + layer.__class__.__name__)\n",
    "        print(\"Input dimesion: {}\".format(layer.input_shape[1:]))\n",
    "        print(\"Output dimesion: {}\".format(layer.output_shape[1:]))\n",
    "        print(\"Parameter Count: {}\".format( layer.count_params()))\n",
    "        try:\n",
    "            print(\"Activation : \" + layer.activation.__name__)\n",
    "            print(\" \")\n",
    "        except:\n",
    "            print(\" \")"
   ]
  },
  {
   "cell_type": "code",
   "execution_count": 34,
   "id": "30a85584",
   "metadata": {},
   "outputs": [
    {
     "data": {
      "image/png": "[encoded data removed]",
      "text/plain": [
       "<IPython.core.display.Image object>"
      ]
     },
     "execution_count": 34,
     "metadata": {},
     "output_type": "execute_result"
    }
   ],
   "source": [
    "model_img_file = 'exp1_model.png'\n",
    "plot_model(model, to_file=model_img_file, \n",
    "                          show_shapes=True, \n",
    "                          show_layer_activations=True, \n",
    "                          show_dtype=True,\n",
    "                          show_layer_names=True )"
   ]
  },
  {
   "cell_type": "markdown",
   "id": "62c59f75",
   "metadata": {},
   "source": [
    "By setting the epochs parameter to $20$, the model will iterate over the training data $20$ times during the training process. The `batch_size` parameter is set to $32$, which means that the model will update its weights after processing each batch of $32$ samples."
   ]
  },
  {
   "cell_type": "code",
   "execution_count": 35,
   "id": "73a40254",
   "metadata": {},
   "outputs": [
    {
     "name": "stdout",
     "output_type": "stream",
     "text": [
      "Epoch 1/20\n",
      "1250/1250 [==============================] - 5s 4ms/step - loss: 0.6960 - accuracy: 0.5023 - val_loss: 0.6940 - val_accuracy: 0.4967\n",
      "Epoch 2/20\n",
      "1250/1250 [==============================] - 4s 3ms/step - loss: 0.6955 - accuracy: 0.4967 - val_loss: 0.6933 - val_accuracy: 0.4967\n",
      "Epoch 3/20\n",
      "1250/1250 [==============================] - 4s 4ms/step - loss: 0.6946 - accuracy: 0.4996 - val_loss: 0.6934 - val_accuracy: 0.5033\n",
      "Epoch 4/20\n",
      "1250/1250 [==============================] - 4s 4ms/step - loss: 0.6933 - accuracy: 0.5025 - val_loss: 0.6931 - val_accuracy: 0.5033\n",
      "Epoch 5/20\n",
      "1250/1250 [==============================] - 4s 4ms/step - loss: 0.6932 - accuracy: 0.4995 - val_loss: 0.6934 - val_accuracy: 0.4967\n",
      "Epoch 6/20\n",
      "1250/1250 [==============================] - 4s 4ms/step - loss: 0.6932 - accuracy: 0.4987 - val_loss: 0.6932 - val_accuracy: 0.4967\n",
      "Epoch 7/20\n",
      "1250/1250 [==============================] - 5s 4ms/step - loss: 0.6932 - accuracy: 0.4998 - val_loss: 0.6932 - val_accuracy: 0.4967\n",
      "Epoch 8/20\n",
      "1250/1250 [==============================] - 4s 4ms/step - loss: 0.6932 - accuracy: 0.5001 - val_loss: 0.6931 - val_accuracy: 0.5033\n",
      "Epoch 9/20\n",
      "1250/1250 [==============================] - 4s 4ms/step - loss: 0.6932 - accuracy: 0.4997 - val_loss: 0.6933 - val_accuracy: 0.4967\n",
      "Epoch 10/20\n",
      "1250/1250 [==============================] - 4s 3ms/step - loss: 0.6932 - accuracy: 0.5000 - val_loss: 0.6933 - val_accuracy: 0.4967\n",
      "Epoch 11/20\n",
      "1250/1250 [==============================] - 4s 3ms/step - loss: 0.6932 - accuracy: 0.5033 - val_loss: 0.6931 - val_accuracy: 0.5033\n",
      "Epoch 12/20\n",
      "1250/1250 [==============================] - 4s 3ms/step - loss: 0.6932 - accuracy: 0.4991 - val_loss: 0.6934 - val_accuracy: 0.4967\n",
      "Epoch 13/20\n",
      "1250/1250 [==============================] - 4s 4ms/step - loss: 0.6932 - accuracy: 0.5000 - val_loss: 0.6934 - val_accuracy: 0.4967\n",
      "Epoch 14/20\n",
      "1250/1250 [==============================] - 4s 3ms/step - loss: 0.6932 - accuracy: 0.4981 - val_loss: 0.6932 - val_accuracy: 0.4967\n",
      "Epoch 15/20\n",
      "1250/1250 [==============================] - 4s 3ms/step - loss: 0.6932 - accuracy: 0.5005 - val_loss: 0.6931 - val_accuracy: 0.5033\n",
      "Epoch 16/20\n",
      "1250/1250 [==============================] - 4s 4ms/step - loss: 0.6932 - accuracy: 0.4995 - val_loss: 0.6932 - val_accuracy: 0.4967\n",
      "Epoch 17/20\n",
      "1250/1250 [==============================] - 4s 3ms/step - loss: 0.6932 - accuracy: 0.4990 - val_loss: 0.6931 - val_accuracy: 0.5033\n",
      "Epoch 18/20\n",
      "1250/1250 [==============================] - 4s 3ms/step - loss: 0.6931 - accuracy: 0.5022 - val_loss: 0.6932 - val_accuracy: 0.5033\n",
      "Epoch 19/20\n",
      "1250/1250 [==============================] - 4s 4ms/step - loss: 0.6932 - accuracy: 0.5013 - val_loss: 0.6932 - val_accuracy: 0.4967\n",
      "Epoch 20/20\n",
      "1250/1250 [==============================] - 4s 3ms/step - loss: 0.6932 - accuracy: 0.4975 - val_loss: 0.6932 - val_accuracy: 0.4967\n"
     ]
    }
   ],
   "source": [
    "history = model.fit(\n",
    "    [train_features[['Breakfast', 'Lunch', 'Dinner']], train_features[['Morning_Tea', 'Afternoon_Tea']]],\n",
    "    train_labels,\n",
    "    validation_data=([val_features[['Breakfast', 'Lunch', 'Dinner']], val_features[['Morning_Tea', 'Afternoon_Tea']]], val_labels),\n",
    "    epochs=20,\n",
    "    batch_size=64\n",
    ")"
   ]
  },
  {
   "cell_type": "code",
   "execution_count": 36,
   "id": "4ddc298e",
   "metadata": {},
   "outputs": [
    {
     "data": {
      "image/png": "[encoded data removed]",
      "text/plain": [
       "<Figure size 864x288 with 1 Axes>"
      ]
     },
     "metadata": {
      "needs_background": "light"
     },
     "output_type": "display_data"
    }
   ],
   "source": [
    "plt.figure(figsize=(12, 4))\n",
    "plt.plot(history.history['loss'], label='Train Loss')\n",
    "plt.plot(history.history['val_loss'], label='Val Loss')\n",
    "plt.xlabel('Epoch')\n",
    "plt.ylabel('Loss')\n",
    "plt.title('Loss over epochs')\n",
    "plt.legend()\n",
    "plt.show()"
   ]
  },
  {
   "cell_type": "code",
   "execution_count": 37,
   "id": "11d0aec0",
   "metadata": {},
   "outputs": [
    {
     "data": {
      "image/png": "[encoded data removed]",
      "text/plain": [
       "<Figure size 864x288 with 1 Axes>"
      ]
     },
     "metadata": {
      "needs_background": "light"
     },
     "output_type": "display_data"
    }
   ],
   "source": [
    "plt.figure(figsize=(12, 4))\n",
    "plt.plot(history.history['accuracy'], label='Train Accuracy')\n",
    "plt.plot(history.history['val_accuracy'], label='Val Accuracy')\n",
    "plt.xlabel('Epoch')\n",
    "plt.ylabel('Accuracy')\n",
    "plt.title('Accuracy over epochs')\n",
    "plt.legend()\n",
    "plt.show()"
   ]
  },
  {
   "cell_type": "code",
   "execution_count": 38,
   "id": "d27d1bde",
   "metadata": {},
   "outputs": [
    {
     "name": "stdout",
     "output_type": "stream",
     "text": [
      "313/313 [==============================] - 1s 2ms/step - loss: 0.6931 - accuracy: 0.5046\n"
     ]
    }
   ],
   "source": [
    "# Evaluate the model\n",
    "test_loss, test_accuracy = model.evaluate(\n",
    "    [test_features[['Breakfast', 'Lunch', 'Dinner']], test_features[['Morning_Tea', 'Afternoon_Tea']]],\n",
    "    test_labels\n",
    ")"
   ]
  },
  {
   "cell_type": "markdown",
   "id": "27bec71b",
   "metadata": {},
   "source": [
    "---\n",
    "\n",
    "## Conclusions/Thoughts:\n",
    "\n",
    "Since the values in the dataframe were randomly generated, they do not adhere to any specific rule or pattern. For example, in reality, if Prof. Dino consumes anything containing lactose or gluten, it does not guarantee that he will use the bathroom on the next day. As a result, the prediction task becomes inherently uncertain, with a 50-50% chance of success.\n",
    "\n",
    "Due to the unpredictable nature of the data and the lack of a deterministic relationship between the input features and the `Toilet` column, it is unrealistic to expect the neural network to achieve nearly $100%$ accuracy in training, validation, and testing. The network's performance will be influenced by the inherent randomness in the data, making it challenging to achieve high accuracy.\n",
    "\n",
    "In such scenarios, where the underlying relationship between the features and the target variable is not well-defined, it is crucial to set realistic expectations for the model's performance. While the network may still learn certain patterns or associations, its accuracy will likely be limited by the inherent uncertainty and randomness in the data.\n",
    "\n",
    "However, it is worth noting that the training loss and validation loss are decreasing while training the model, it indicates that the model is progressively improving its performance in terms of minimizing the error between its predictions and the actual target values.\n",
    "\n",
    "But, the loss values remain relatively high, and the accuracy over epochs oscillates, it suggests that the model is struggling to fit the data and achieve low errors or discrepancies between its predictions and the actual target values. This echos with the issue I described in the first and second paragraph."
   ]
  },
  {
   "cell_type": "code",
   "execution_count": 39,
   "id": "76e2ffbc",
   "metadata": {},
   "outputs": [
    {
     "name": "stdout",
     "output_type": "stream",
     "text": [
      "           Breakfast    Morning_Tea          Lunch  Afternoon_Tea  \\\n",
      "count  100000.000000  100000.000000  100000.000000  100000.000000   \n",
      "mean      499.741680     500.201780     498.961910     499.560860   \n",
      "std       288.874962     288.260538     287.625756     288.967233   \n",
      "min         0.000000       0.000000       0.000000       0.000000   \n",
      "25%       250.000000     251.000000     251.000000     249.000000   \n",
      "50%       500.000000     500.000000     498.000000     501.000000   \n",
      "75%       750.000000     750.000000     747.000000     750.000000   \n",
      "max       999.000000     999.000000     999.000000     999.000000   \n",
      "\n",
      "              Dinner        Toilet  \n",
      "count  100000.000000  100000.00000  \n",
      "mean      499.983090       0.50159  \n",
      "std       288.552091       0.50000  \n",
      "min         0.000000       0.00000  \n",
      "25%       249.000000       0.00000  \n",
      "50%       500.000000       1.00000  \n",
      "75%       750.000000       1.00000  \n",
      "max       999.000000       1.00000  \n"
     ]
    }
   ],
   "source": [
    "print(df_daily.describe())"
   ]
  },
  {
   "cell_type": "code",
   "execution_count": 40,
   "id": "0d3b6906",
   "metadata": {},
   "outputs": [
    {
     "name": "stdout",
     "output_type": "stream",
     "text": [
      "Number of duplicated rows: 0\n"
     ]
    }
   ],
   "source": [
    "number_of_duplicated_rows = df_daily.duplicated().sum()\n",
    "print(f'Number of duplicated rows: {number_of_duplicated_rows}')\n"
   ]
  },
  {
   "cell_type": "code",
   "execution_count": 41,
   "id": "fe7eb2eb",
   "metadata": {},
   "outputs": [],
   "source": [
    "df_daily_construct = df_daily[['Breakfast', 'Lunch', 'Dinner', 'Morning_Tea', 'Afternoon_Tea']].iloc[:99999].copy()\n",
    "df_daily_construct['Toilet'] = df_daily['Toilet'].iloc[1:100000].values\n"
   ]
  },
  {
   "cell_type": "code",
   "execution_count": 42,
   "id": "2c205b6d",
   "metadata": {},
   "outputs": [
    {
     "name": "stdout",
     "output_type": "stream",
     "text": [
      "Number of duplicated rows: 0\n"
     ]
    }
   ],
   "source": [
    "number_of_duplicated_rows = df_daily_construct.duplicated().sum()\n",
    "print(f'Number of duplicated rows: {number_of_duplicated_rows}')"
   ]
  },
  {
   "cell_type": "code",
   "execution_count": 43,
   "id": "96e7981c",
   "metadata": {},
   "outputs": [
    {
     "name": "stdout",
     "output_type": "stream",
     "text": [
      "          Breakfast         Lunch        Dinner   Morning_Tea  Afternoon_Tea  \\\n",
      "count  99999.000000  99999.000000  99999.000000  99999.000000   99999.000000   \n",
      "mean     499.738847    498.964480    499.986310    500.202692     499.557106   \n",
      "std      288.875018    287.626046    288.551737    288.261835     288.966239   \n",
      "min        0.000000      0.000000      0.000000      0.000000       0.000000   \n",
      "25%      250.000000    251.000000    249.000000    251.000000     249.000000   \n",
      "50%      500.000000    498.000000    500.000000    500.000000     501.000000   \n",
      "75%      750.000000    747.000000    750.000000    750.000000     750.000000   \n",
      "max      999.000000    999.000000    999.000000    999.000000     999.000000   \n",
      "\n",
      "             Toilet  \n",
      "count  99999.000000  \n",
      "mean       0.501595  \n",
      "std        0.500000  \n",
      "min        0.000000  \n",
      "25%        0.000000  \n",
      "50%        1.000000  \n",
      "75%        1.000000  \n",
      "max        1.000000  \n"
     ]
    }
   ],
   "source": [
    "print( df_daily_construct.describe())"
   ]
  },
  {
   "cell_type": "code",
   "execution_count": 44,
   "id": "8cf18b5c",
   "metadata": {},
   "outputs": [],
   "source": [
    "correlation_matrix = df_daily_construct.corr()"
   ]
  },
  {
   "cell_type": "code",
   "execution_count": 45,
   "id": "d6df400b",
   "metadata": {},
   "outputs": [
    {
     "name": "stdout",
     "output_type": "stream",
     "text": [
      "Breakfast       -0.000720\n",
      "Lunch           -0.002815\n",
      "Dinner           0.000852\n",
      "Morning_Tea     -0.003579\n",
      "Afternoon_Tea   -0.001755\n",
      "Toilet           1.000000\n",
      "Name: Toilet, dtype: float64\n"
     ]
    }
   ],
   "source": [
    "print(correlation_matrix['Toilet'])"
   ]
  },
  {
   "cell_type": "code",
   "execution_count": 46,
   "id": "950f1472",
   "metadata": {},
   "outputs": [
    {
     "data": {
      "image/png": "[encoded data removed]",
      "text/plain": [
       "<Figure size 720x576 with 2 Axes>"
      ]
     },
     "metadata": {
      "needs_background": "light"
     },
     "output_type": "display_data"
    }
   ],
   "source": [
    "import seaborn as sns\n",
    "import matplotlib.pyplot as plt\n",
    "\n",
    "# Assuming correlation_matrix is the correlation matrix computed using df_daily_construct.corr()\n",
    "\n",
    "plt.figure(figsize=(10,8))  # You can adjust the size to fit your needs.\n",
    "sns.heatmap(correlation_matrix, annot=True, cmap='coolwarm', center=0)\n",
    "plt.title('Correlation Heatmap')\n",
    "plt.show()\n"
   ]
  },
  {
   "cell_type": "code",
   "execution_count": null,
   "id": "a5482e19",
   "metadata": {},
   "outputs": [],
   "source": []
  },
  {
   "cell_type": "code",
   "execution_count": null,
   "id": "2fc042c4",
   "metadata": {},
   "outputs": [],
   "source": []
  },
  {
   "cell_type": "code",
   "execution_count": null,
   "id": "fad725d1",
   "metadata": {},
   "outputs": [],
   "source": []
  },
  {
   "cell_type": "code",
   "execution_count": null,
   "id": "5ac32251",
   "metadata": {},
   "outputs": [],
   "source": []
  }
 ],
 "metadata": {
  "kernelspec": {
   "display_name": "Python 3 (ipykernel)",
   "language": "python",
   "name": "python3"
  },
  "language_info": {
   "codemirror_mode": {
    "name": "ipython",
    "version": 3
   },
   "file_extension": ".py",
   "mimetype": "text/x-python",
   "name": "python",
   "nbconvert_exporter": "python",
   "pygments_lexer": "ipython3",
   "version": "3.8.15"
  }
 },
 "nbformat": 4,
 "nbformat_minor": 5
}
