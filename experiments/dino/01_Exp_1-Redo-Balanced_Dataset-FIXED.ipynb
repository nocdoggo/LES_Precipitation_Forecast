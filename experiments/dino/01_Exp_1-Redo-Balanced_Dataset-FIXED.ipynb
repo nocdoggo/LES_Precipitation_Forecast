{
 "cells": [
  {
   "cell_type": "markdown",
   "id": "a72af1bb",
   "metadata": {},
   "source": [
    "# Experiment 1\n"
   ]
  },
  {
   "cell_type": "markdown",
   "id": "6f3b8d8d",
   "metadata": {},
   "source": [
    "---\n",
    "\n",
    "## 1. Dataset Creation\n",
    "\n",
    "> Prof Dino has major GI issues (I do), stemming from a gluten and a lactose allergy. Let's just say that if he eats something with gluten or drinks something with lactose, then next day(s) he has diarrhea. Create a dataset with breakfast, morning tea, lunch, afternoon tea, dinner, toilet. Each column is binary (T/F) values, and for breakfast, lunch, and dinner denotes whether or not I had gluten. For both tea columns, it's whether I had tea with milk. Toilet T means diarrhea. Create that dataset randomly as T/F values, for all columns. Make sure the label is balanced around T/F."
   ]
  },
  {
   "cell_type": "markdown",
   "id": "f5b5d8c4",
   "metadata": {},
   "source": [
    "## 1.1 Generate Randomly Selected Data\n",
    "\n",
    "To achieve this, I will outline the steps to create a balanced dataset with $43,800$ rows, equivalent to approximately $120$ years of data (All I wish Prof. Dino will live forever, but my RAM is small.):\n",
    "\n",
    "1. Create a dataframe called df_daily with five columns: `Breakfast`, `Morning_Tea`, `Lunch`, `Afternoon_Tea`, and `Dinner`.\n",
    "\n",
    "2. Add $21,900$ rows to df_daily where all values are set to $False$.\n",
    "\n",
    "3. Add another $21,900$ rows to df_daily where the values in each column are randomly filled with $True$ or $False$.\n",
    "\n",
    "4. Shuffle all the rows in `df_daily` randomly.\n",
    "\n",
    "> https://datagy.io/pandas-shuffle-dataframe/\n",
    "\n",
    "By following these steps, we can generate a balanced dataset that encompasses a substantial time span."
   ]
  },
  {
   "cell_type": "code",
   "execution_count": 1,
   "id": "abae298a",
   "metadata": {},
   "outputs": [],
   "source": [
    "import pandas as pd\n",
    "import numpy as np\n",
    "# from sklearn.utils import shuffle\n",
    "\n",
    "# Define the column names\n",
    "cols = ['Breakfast', 'Morning_Tea', 'Lunch', 'Afternoon_Tea', 'Dinner', 'Toilet']"
   ]
  },
  {
   "cell_type": "code",
   "execution_count": 2,
   "id": "d063dbb4",
   "metadata": {},
   "outputs": [],
   "source": [
    "# Create a dataframe with all False rows\n",
    "df_false = pd.DataFrame(np.full((21900, len(cols)), False), columns=cols)"
   ]
  },
  {
   "cell_type": "code",
   "execution_count": 3,
   "id": "bb038040",
   "metadata": {},
   "outputs": [],
   "source": [
    "# Create a dataframe with randomly assigned True/False rows\n",
    "df_random = pd.DataFrame(np.random.choice([True, False], size=(21900, len(cols))), columns=cols)"
   ]
  },
  {
   "cell_type": "code",
   "execution_count": 4,
   "id": "3ea11d69",
   "metadata": {},
   "outputs": [],
   "source": [
    "# Concatenate the dataframes\n",
    "df_daily = pd.concat([df_false, df_random])"
   ]
  },
  {
   "cell_type": "code",
   "execution_count": 5,
   "id": "721aa21d",
   "metadata": {},
   "outputs": [
    {
     "data": {
      "text/plain": [
       "22578"
      ]
     },
     "execution_count": 5,
     "metadata": {},
     "output_type": "execute_result"
    }
   ],
   "source": [
    "count_all_false = (df_daily == False).all(axis=1).sum()\n",
    "count_all_false"
   ]
  },
  {
   "cell_type": "code",
   "execution_count": 6,
   "id": "34668621",
   "metadata": {},
   "outputs": [],
   "source": [
    "# Shuffle the dataframe\n",
    "df_daily = df_daily.sample(frac=1).reset_index()"
   ]
  },
  {
   "cell_type": "code",
   "execution_count": null,
   "id": "94375af6",
   "metadata": {},
   "outputs": [],
   "source": []
  },
  {
   "cell_type": "markdown",
   "id": "dd8b827c",
   "metadata": {},
   "source": [
    "## 1.2 Create Label 'Toilet'\n",
    "\n",
    "After creating the dataframe `df_daily`, we can add a new column called `Toilet`. For each row $t$ in df_daily, we can set the value in the `Toilet` column of row $t+1$ based on the values in the `Breakfast`, `Morning_Tea`, `Lunch`, `Afternoon_Tea`, and `Dinner` columns."
   ]
  },
  {
   "cell_type": "code",
   "execution_count": 7,
   "id": "bb5610be",
   "metadata": {},
   "outputs": [],
   "source": [
    "# # Create a condition where all specified columns are False\n",
    "# condition = (df_daily[['Breakfast', 'Morning_Tea', 'Lunch', 'Afternoon_Tea', 'Dinner']] == False).all(axis=1)\n",
    "\n",
    "# # Shift the condition one row downwards (so that row t's condition affects row t+1)\n",
    "# condition = condition.shift(1)\n",
    "\n",
    "# # Use the condition to update 'Toilet' values. If condition is True, set 'Toilet' to False. If condition is False or NaN, set 'Toilet' to True.\n",
    "# df_daily['Toilet'] = np.where(condition, False, True)\n"
   ]
  },
  {
   "cell_type": "markdown",
   "id": "b0e5e901",
   "metadata": {},
   "source": [
    "In this code, we use the **any()** function along with the **axis=1** argument to check if any value in the specified columns is $True$. We then use the **shift()** function with $-1$ as the shift parameter to shift the values by one row. Finally, we use the **fill_value=False** argument to replace any $NaN$ values resulting from the shift operation with $False$."
   ]
  },
  {
   "cell_type": "code",
   "execution_count": 8,
   "id": "20220bbb",
   "metadata": {},
   "outputs": [],
   "source": [
    "# df_daily = df_daily.drop('index', axis=1)"
   ]
  },
  {
   "cell_type": "code",
   "execution_count": 9,
   "id": "a2769524",
   "metadata": {},
   "outputs": [
    {
     "data": {
      "text/plain": [
       "(43800, 6)"
      ]
     },
     "execution_count": 9,
     "metadata": {},
     "output_type": "execute_result"
    }
   ],
   "source": [
    "df_daily.shape"
   ]
  },
  {
   "cell_type": "markdown",
   "id": "9b608479",
   "metadata": {},
   "source": [
    "By following this approach, we have successfully obtained a dataset with $43,800$ rows and $6$ labels. To ensure the data's integrity, let's perform a sanity check to confirm that there are no $NaN$ values present.\n",
    "\n",
    "---\n",
    "\n",
    "## 1.3 Sanity Check\n",
    "\n",
    "Here's the code snippet to perform the sanity check:"
   ]
  },
  {
   "cell_type": "code",
   "execution_count": 10,
   "id": "c9825d17",
   "metadata": {},
   "outputs": [
    {
     "name": "stdout",
     "output_type": "stream",
     "text": [
      "Sanity check passed: No NaN values detected in the dataset.\n"
     ]
    }
   ],
   "source": [
    "# Check for NaN values in the dataset\n",
    "nan_values = df_daily.isnull().sum().sum()\n",
    "\n",
    "if nan_values == 0:\n",
    "    print(\"Sanity check passed: No NaN values detected in the dataset.\")\n",
    "else:\n",
    "    print(\"Sanity check failed: NaN values detected in the dataset.\")"
   ]
  },
  {
   "cell_type": "markdown",
   "id": "640465ad",
   "metadata": {},
   "source": [
    "Then, let's examine all the column names in the dataframe df_daily to get an overview of the available columns."
   ]
  },
  {
   "cell_type": "code",
   "execution_count": 11,
   "id": "3cb4b3d2",
   "metadata": {},
   "outputs": [
    {
     "name": "stdout",
     "output_type": "stream",
     "text": [
      "Column names in the dataframe df_daily:\n",
      "['Breakfast', 'Morning_Tea', 'Lunch', 'Afternoon_Tea', 'Dinner', 'Toilet']\n"
     ]
    }
   ],
   "source": [
    "column_names = df_daily.columns.tolist()\n",
    "\n",
    "print(\"Column names in the dataframe df_daily:\")\n",
    "print(column_names)"
   ]
  },
  {
   "cell_type": "markdown",
   "id": "007da146",
   "metadata": {},
   "source": [
    "Next, let's examine the distribution of values in the `Toilet` column of the dataframe to assess the dataset's balance. This will provide insights into the proportion of `True` and `False` values in the dataset."
   ]
  },
  {
   "cell_type": "code",
   "execution_count": 12,
   "id": "b4b61f7d",
   "metadata": {},
   "outputs": [
    {
     "name": "stdout",
     "output_type": "stream",
     "text": [
      "Distribution of values in the 'Toilet' column:\n",
      "False    22579\n",
      "True     21221\n",
      "Name: Toilet, dtype: int64\n"
     ]
    }
   ],
   "source": [
    "# Check the distribution of values in the 'Toilet' column\n",
    "toilet_distribution = df_daily['Toilet'].value_counts()\n",
    "\n",
    "print(\"Distribution of values in the 'Toilet' column:\")\n",
    "print(toilet_distribution)"
   ]
  },
  {
   "cell_type": "code",
   "execution_count": 13,
   "id": "db84f5d1",
   "metadata": {},
   "outputs": [
    {
     "data": {
      "text/plain": [
       "<AxesSubplot:xlabel='Toilet', ylabel='count'>"
      ]
     },
     "execution_count": 13,
     "metadata": {},
     "output_type": "execute_result"
    },
    {
     "data": {
      "image/png": "[encoded data removed]",
      "text/plain": [
       "<Figure size 432x288 with 1 Axes>"
      ]
     },
     "metadata": {
      "needs_background": "light"
     },
     "output_type": "display_data"
    }
   ],
   "source": [
    "import matplotlib.pyplot as plt\n",
    "import seaborn as sns\n",
    "%matplotlib inline\n",
    "\n",
    "# Visualize the distribution of values in column 'Toilet'\n",
    "sns.countplot(x = df_daily['Toilet'], palette=[\"#7fcdbb\", \"#edf8b1\"])"
   ]
  },
  {
   "cell_type": "markdown",
   "id": "46b12987",
   "metadata": {},
   "source": [
    "Based on the distribution of values in the `Toilet` column as shown above, we can infer that the dataset is balanced. This conclusion is drawn from observing that there is a roughly equal number of $True$ and $False$ values in the column. With this confirmation, we can proceed to the next step: model creation.\n",
    "\n",
    "---"
   ]
  },
  {
   "cell_type": "markdown",
   "id": "066b8f99",
   "metadata": {},
   "source": [
    "# 2. Model Creation\n",
    "\n",
    "To create a neural network model with two subnetworks based on the dataframe `df_daily`, where each subnetwork predicts the value in the `Toilet` column for the next row, and split the data into training, validation, and testing sets, we are following these steps:\n",
    "\n",
    "1. Split the dataframe into features (input) and labels (output), shift the labels by 1.\n",
    "\n",
    "2. Determine the indices for splitting the data into training, validation, and testing sets based on the provided percentages.\n",
    "\n",
    "3. Create the gluten subnetwork using the `Breakfast`, `Lunch`, and `Dinner` columns.\n",
    "\n",
    "4. Create the lactose subnetwork using the `Morning_Tea` and `Afternoon_Tea` columns.\n",
    "\n",
    "5. Concatenate the output of the subnetworks.\n",
    "\n",
    "6. Add a one-neuron dense layer to the concatenated output for the final prediction of the `Toilet` label.\n",
    "\n",
    "7. Compile the model with an appropriate loss function and optimizer.\n",
    "\n",
    "8. Train the model using the training set and validate using the validation set.\n",
    "\n",
    "9. Evaluate the model's performance using the testing set."
   ]
  },
  {
   "cell_type": "code",
   "execution_count": 14,
   "id": "0571f7a1",
   "metadata": {},
   "outputs": [],
   "source": [
    "df_daily = df_daily.astype(int)"
   ]
  },
  {
   "cell_type": "code",
   "execution_count": 15,
   "id": "442296ad",
   "metadata": {},
   "outputs": [],
   "source": [
    "# Split the dataframe into features (input) and labels (output)\n",
    "features = df_daily[['Breakfast', 'Lunch', 'Dinner', 'Morning_Tea', 'Afternoon_Tea']][0:21900*2 - 1]\n",
    "labels = df_daily['Toilet'][1:]"
   ]
  },
  {
   "cell_type": "markdown",
   "id": "ea58f829",
   "metadata": {},
   "source": [
    "Perform an inspection to check the number of rows in the feature and label dataframes and verify if they have the same length. Doing this will display the number of rows in the features and labels dataframes. It will also indicate whether the two dataframes have the same length or not."
   ]
  },
  {
   "cell_type": "code",
   "execution_count": 16,
   "id": "40559c4d",
   "metadata": {},
   "outputs": [
    {
     "name": "stdout",
     "output_type": "stream",
     "text": [
      "Number of rows in features dataframe: 43799\n",
      "Number of rows in labels dataframe: 43799\n",
      "The feature and label dataframes have the same length.\n"
     ]
    }
   ],
   "source": [
    "num_features_rows = len(features)\n",
    "num_labels_rows = len(labels)\n",
    "\n",
    "print(\"Number of rows in features dataframe:\", num_features_rows)\n",
    "print(\"Number of rows in labels dataframe:\", num_labels_rows)\n",
    "\n",
    "if num_features_rows == num_labels_rows:\n",
    "    print(\"The feature and label dataframes have the same length.\")\n",
    "else:\n",
    "    print(\"The feature and label dataframes do not have the same length.\")\n"
   ]
  },
  {
   "cell_type": "code",
   "execution_count": 17,
   "id": "e8231bc9",
   "metadata": {},
   "outputs": [
    {
     "data": {
      "text/plain": [
       "(43799, 6)"
      ]
     },
     "execution_count": 17,
     "metadata": {},
     "output_type": "execute_result"
    }
   ],
   "source": [
    "fea_copy = features.copy()\n",
    "lab_copy = labels.copy()\n",
    "\n",
    "fea_copy = fea_copy.reset_index(drop=True)\n",
    "lab_copy = lab_copy.reset_index(drop=True)\n",
    "\n",
    "df_combo = pd.concat([fea_copy, lab_copy], axis=1)\n",
    "\n",
    "\n",
    "df_combo.shape"
   ]
  },
  {
   "cell_type": "code",
   "execution_count": 18,
   "id": "b995d19e",
   "metadata": {},
   "outputs": [
    {
     "data": {
      "text/plain": [
       "(32, 6)"
      ]
     },
     "execution_count": 18,
     "metadata": {},
     "output_type": "execute_result"
    }
   ],
   "source": [
    "df_unique_list = df_combo.drop_duplicates()\n",
    "df_unique_list.shape"
   ]
  },
  {
   "cell_type": "code",
   "execution_count": 19,
   "id": "b796eaa0",
   "metadata": {},
   "outputs": [
    {
     "name": "stdout",
     "output_type": "stream",
     "text": [
      "     Breakfast  Lunch  Dinner  Morning_Tea  Afternoon_Tea  Toilet\n",
      "0            0      0       0            1              1       1\n",
      "1            0      0       1            0              0       1\n",
      "2            0      1       1            0              0       1\n",
      "3            1      0       1            1              1       1\n",
      "4            0      0       0            0              0       0\n",
      "9            1      0       0            1              1       1\n",
      "17           1      1       1            0              0       1\n",
      "20           1      1       0            1              0       1\n",
      "21           1      1       0            0              1       1\n",
      "22           0      1       1            1              0       1\n",
      "24           0      1       0            1              1       1\n",
      "33           1      0       1            1              0       1\n",
      "35           0      0       1            1              1       1\n",
      "37           0      1       0            0              0       1\n",
      "38           0      0       0            1              0       1\n",
      "40           0      1       0            1              0       1\n",
      "41           0      1       0            0              1       1\n",
      "45           1      1       0            0              0       1\n",
      "47           0      0       1            1              0       1\n",
      "57           1      1       1            1              1       1\n",
      "66           1      1       0            1              1       1\n",
      "105          1      0       1            0              0       1\n",
      "106          0      1       1            0              1       1\n",
      "116          1      1       1            0              1       1\n",
      "117          0      1       1            1              1       1\n",
      "119          1      0       0            1              0       1\n",
      "120          1      1       1            1              0       1\n",
      "124          1      0       0            0              1       1\n",
      "158          1      0       1            0              1       1\n",
      "169          0      0       0            0              1       1\n",
      "173          0      0       1            0              1       1\n",
      "231          1      0       0            0              0       1\n"
     ]
    }
   ],
   "source": [
    "print(df_unique_list)"
   ]
  },
  {
   "cell_type": "markdown",
   "id": "733d27be",
   "metadata": {},
   "source": []
  },
  {
   "cell_type": "code",
   "execution_count": 20,
   "id": "e660f608",
   "metadata": {},
   "outputs": [],
   "source": [
    "# Determine the indices for splitting the data\n",
    "train_size = int(len(df_daily) * 0.8)\n",
    "val_size = int(len(df_daily) * 0.1)\n",
    "test_size = len(df_daily) - train_size - val_size"
   ]
  },
  {
   "cell_type": "markdown",
   "id": "f624d729",
   "metadata": {},
   "source": [
    "We first split the dataframe into features and labels. Then, we use the train_test_split() function from scikit-learn to split the data into training, validation, and testing sets based on the provided percentages."
   ]
  },
  {
   "cell_type": "code",
   "execution_count": 21,
   "id": "fe9e9f31",
   "metadata": {},
   "outputs": [],
   "source": [
    "from sklearn.model_selection import train_test_split\n",
    "from tensorflow.keras.models import Model\n",
    "from tensorflow.keras.layers import Input, Dense, concatenate\n",
    "from tensorflow.keras.optimizers import Adam\n",
    "from tensorflow.keras.utils import plot_model"
   ]
  },
  {
   "cell_type": "code",
   "execution_count": 22,
   "id": "b4fe2ba3",
   "metadata": {},
   "outputs": [],
   "source": [
    "# Split the data into training, validation, and testing sets\n",
    "train_features = features.iloc[:train_size]\n",
    "val_features = features.iloc[train_size:train_size+val_size]\n",
    "test_features = features.iloc[-test_size:]\n",
    "\n",
    "train_labels = labels.iloc[:train_size]\n",
    "val_labels = labels.iloc[train_size:train_size+val_size]\n",
    "test_labels = labels.iloc[-test_size:]"
   ]
  },
  {
   "cell_type": "markdown",
   "id": "ac031ac2",
   "metadata": {},
   "source": [
    "Next, we create the gluten and lactose subnetworks using the dense layers. The output of these subnetworks is concatenated, and a final prediction layer is added. The model is then compiled with the appropriate loss function and optimizer."
   ]
  },
  {
   "cell_type": "code",
   "execution_count": 23,
   "id": "1c7779d0",
   "metadata": {},
   "outputs": [],
   "source": [
    "# Create the gluten subnetwork\n",
    "gluten_input = Input(shape=(3,))\n",
    "gluten_dense1 = Dense(64, activation='selu')(gluten_input)\n",
    "gluten_dense2 = Dense(32, activation='selu')(gluten_dense1)\n",
    "# gluten_output = Dense(1, activation='sigmoid')(gluten_dense2)\n",
    "gluten_output = Dense(1, activation='selu')(gluten_dense2)"
   ]
  },
  {
   "cell_type": "code",
   "execution_count": 24,
   "id": "451b2226",
   "metadata": {},
   "outputs": [],
   "source": [
    "# Create the lactose subnetwork\n",
    "lactose_input = Input(shape=(2,))\n",
    "lactose_dense1 = Dense(64, activation='selu')(lactose_input)\n",
    "lactose_dense2 = Dense(32, activation='selu')(lactose_dense1)\n",
    "# lactose_output = Dense(1, activation='sigmoid')(lactose_dense2)\n",
    "lactose_output = Dense(1, activation='selu')(lactose_dense2)"
   ]
  },
  {
   "cell_type": "code",
   "execution_count": 25,
   "id": "2f71e0b7",
   "metadata": {},
   "outputs": [],
   "source": [
    "# Concatenate the output of the subnetworks\n",
    "concatenated = concatenate([gluten_output, lactose_output])"
   ]
  },
  {
   "cell_type": "code",
   "execution_count": 26,
   "id": "b61e42c0",
   "metadata": {},
   "outputs": [],
   "source": [
    "# Build the final prediction layer\n",
    "prediction = Dense(1, activation='sigmoid')(concatenated)"
   ]
  },
  {
   "cell_type": "code",
   "execution_count": 27,
   "id": "4c22ff46",
   "metadata": {},
   "outputs": [],
   "source": [
    "# Build the final prediction layer\n",
    "prediction = Dense(1, activation='sigmoid')(concatenated)"
   ]
  },
  {
   "cell_type": "code",
   "execution_count": 28,
   "id": "05a3e59c",
   "metadata": {},
   "outputs": [],
   "source": [
    "# Create the model\n",
    "model = Model(inputs=[gluten_input, lactose_input], outputs=prediction)"
   ]
  },
  {
   "cell_type": "markdown",
   "id": "b4abe7c9",
   "metadata": {},
   "source": [
    "The `Adam` optimizer is used with the specified learning rate of $0.001$. The optimizer is then passed to the **compile()** function to set the learning rate of the model."
   ]
  },
  {
   "cell_type": "code",
   "execution_count": 29,
   "id": "dfc18bf3",
   "metadata": {},
   "outputs": [],
   "source": [
    "# Set the learning rate\n",
    "learning_rate = 0.001\n",
    "optimizer = Adam(learning_rate=learning_rate)"
   ]
  },
  {
   "cell_type": "code",
   "execution_count": 30,
   "id": "87e4bb8b",
   "metadata": {},
   "outputs": [],
   "source": [
    "# Compile the model with the specified learning rate\n",
    "model.compile(optimizer=optimizer, loss='binary_crossentropy', metrics=['accuracy'])"
   ]
  },
  {
   "cell_type": "markdown",
   "id": "5e14ed3a",
   "metadata": {},
   "source": [
    "Let's then display a summary of the model's structure, including the number of parameters in each layer and the total number of trainable parameters."
   ]
  },
  {
   "cell_type": "code",
   "execution_count": 31,
   "id": "62c0493b",
   "metadata": {},
   "outputs": [
    {
     "name": "stdout",
     "output_type": "stream",
     "text": [
      "Model: \"model\"\n",
      "__________________________________________________________________________________________________\n",
      " Layer (type)                   Output Shape         Param #     Connected to                     \n",
      "==================================================================================================\n",
      " input_1 (InputLayer)           [(None, 3)]          0           []                               \n",
      "                                                                                                  \n",
      " input_2 (InputLayer)           [(None, 2)]          0           []                               \n",
      "                                                                                                  \n",
      " dense (Dense)                  (None, 64)           256         ['input_1[0][0]']                \n",
      "                                                                                                  \n",
      " dense_3 (Dense)                (None, 64)           192         ['input_2[0][0]']                \n",
      "                                                                                                  \n",
      " dense_1 (Dense)                (None, 32)           2080        ['dense[0][0]']                  \n",
      "                                                                                                  \n",
      " dense_4 (Dense)                (None, 32)           2080        ['dense_3[0][0]']                \n",
      "                                                                                                  \n",
      " dense_2 (Dense)                (None, 1)            33          ['dense_1[0][0]']                \n",
      "                                                                                                  \n",
      " dense_5 (Dense)                (None, 1)            33          ['dense_4[0][0]']                \n",
      "                                                                                                  \n",
      " concatenate (Concatenate)      (None, 2)            0           ['dense_2[0][0]',                \n",
      "                                                                  'dense_5[0][0]']                \n",
      "                                                                                                  \n",
      " dense_7 (Dense)                (None, 1)            3           ['concatenate[0][0]']            \n",
      "                                                                                                  \n",
      "==================================================================================================\n",
      "Total params: 4,677\n",
      "Trainable params: 4,677\n",
      "Non-trainable params: 0\n",
      "__________________________________________________________________________________________________\n"
     ]
    }
   ],
   "source": [
    "model.summary()"
   ]
  },
  {
   "cell_type": "code",
   "execution_count": 32,
   "id": "c4b66cb1",
   "metadata": {},
   "outputs": [
    {
     "name": "stdout",
     "output_type": "stream",
     "text": [
      "Layer Name: input_1\n",
      "Type of layer: InputLayer\n",
      "Input dimesion: []\n",
      "Output dimesion: []\n",
      "Parameter Count: 0\n",
      " \n",
      "Layer Name: input_2\n",
      "Type of layer: InputLayer\n",
      "Input dimesion: []\n",
      "Output dimesion: []\n",
      "Parameter Count: 0\n",
      " \n",
      "Layer Name: dense\n",
      "Type of layer: Dense\n",
      "Input dimesion: (3,)\n",
      "Output dimesion: (64,)\n",
      "Parameter Count: 256\n",
      "Activation : selu\n",
      " \n",
      "Layer Name: dense_3\n",
      "Type of layer: Dense\n",
      "Input dimesion: (2,)\n",
      "Output dimesion: (64,)\n",
      "Parameter Count: 192\n",
      "Activation : selu\n",
      " \n",
      "Layer Name: dense_1\n",
      "Type of layer: Dense\n",
      "Input dimesion: (64,)\n",
      "Output dimesion: (32,)\n",
      "Parameter Count: 2080\n",
      "Activation : selu\n",
      " \n",
      "Layer Name: dense_4\n",
      "Type of layer: Dense\n",
      "Input dimesion: (64,)\n",
      "Output dimesion: (32,)\n",
      "Parameter Count: 2080\n",
      "Activation : selu\n",
      " \n",
      "Layer Name: dense_2\n",
      "Type of layer: Dense\n",
      "Input dimesion: (32,)\n",
      "Output dimesion: (1,)\n",
      "Parameter Count: 33\n",
      "Activation : selu\n",
      " \n",
      "Layer Name: dense_5\n",
      "Type of layer: Dense\n",
      "Input dimesion: (32,)\n",
      "Output dimesion: (1,)\n",
      "Parameter Count: 33\n",
      "Activation : selu\n",
      " \n",
      "Layer Name: concatenate\n",
      "Type of layer: Concatenate\n",
      "Input dimesion: [(None, 1)]\n",
      "Output dimesion: (2,)\n",
      "Parameter Count: 0\n",
      " \n",
      "Layer Name: dense_7\n",
      "Type of layer: Dense\n",
      "Input dimesion: (2,)\n",
      "Output dimesion: (1,)\n",
      "Parameter Count: 3\n",
      "Activation : sigmoid\n",
      " \n"
     ]
    }
   ],
   "source": [
    "for layer in model.layers:\n",
    "        print(\"Layer Name: \" + layer.name)\n",
    "        print(\"Type of layer: \" + layer.__class__.__name__)\n",
    "        print(\"Input dimesion: {}\".format(layer.input_shape[1:]))\n",
    "        print(\"Output dimesion: {}\".format(layer.output_shape[1:]))\n",
    "        print(\"Parameter Count: {}\".format( layer.count_params()))\n",
    "        try:\n",
    "            print(\"Activation : \" + layer.activation.__name__)\n",
    "            print(\" \")\n",
    "        except:\n",
    "            print(\" \")"
   ]
  },
  {
   "cell_type": "code",
   "execution_count": 33,
   "id": "30a85584",
   "metadata": {},
   "outputs": [
    {
     "data": {
      "image/png": "[encoded data removed]",
      "text/plain": [
       "<IPython.core.display.Image object>"
      ]
     },
     "execution_count": 33,
     "metadata": {},
     "output_type": "execute_result"
    }
   ],
   "source": [
    "model_img_file = 'exp1_model.png'\n",
    "plot_model(model, to_file=model_img_file, \n",
    "                          show_shapes=True, \n",
    "                          show_layer_activations=True, \n",
    "                          show_dtype=True,\n",
    "                          show_layer_names=True )"
   ]
  },
  {
   "cell_type": "markdown",
   "id": "62c59f75",
   "metadata": {},
   "source": [
    "By setting the epochs parameter to $20$, the model will iterate over the training data $20$ times during the training process. The `batch_size` parameter is set to $32$, which means that the model will update its weights after processing each batch of $32$ samples."
   ]
  },
  {
   "cell_type": "code",
   "execution_count": 34,
   "id": "73a40254",
   "metadata": {},
   "outputs": [
    {
     "name": "stdout",
     "output_type": "stream",
     "text": [
      "Epoch 1/20\n",
      "1095/1095 [==============================] - 4s 2ms/step - loss: 0.0678 - accuracy: 0.9973 - val_loss: 0.0377 - val_accuracy: 1.0000\n",
      "Epoch 2/20\n",
      "1095/1095 [==============================] - 2s 2ms/step - loss: 0.0268 - accuracy: 1.0000 - val_loss: 0.0189 - val_accuracy: 1.0000\n",
      "Epoch 3/20\n",
      "1095/1095 [==============================] - 2s 2ms/step - loss: 0.0141 - accuracy: 1.0000 - val_loss: 0.0105 - val_accuracy: 1.0000\n",
      "Epoch 4/20\n",
      "1095/1095 [==============================] - 2s 2ms/step - loss: 0.0080 - accuracy: 1.0000 - val_loss: 0.0062 - val_accuracy: 1.0000\n",
      "Epoch 5/20\n",
      "1095/1095 [==============================] - 2s 2ms/step - loss: 0.0048 - accuracy: 1.0000 - val_loss: 0.0039 - val_accuracy: 1.0000\n",
      "Epoch 6/20\n",
      "1095/1095 [==============================] - 2s 2ms/step - loss: 0.0029 - accuracy: 1.0000 - val_loss: 0.0023 - val_accuracy: 1.0000\n",
      "Epoch 7/20\n",
      "1095/1095 [==============================] - 2s 2ms/step - loss: 0.0018 - accuracy: 1.0000 - val_loss: 0.0015 - val_accuracy: 1.0000\n",
      "Epoch 8/20\n",
      "1095/1095 [==============================] - 2s 2ms/step - loss: 0.0011 - accuracy: 1.0000 - val_loss: 8.6401e-04 - val_accuracy: 1.0000\n",
      "Epoch 9/20\n",
      "1095/1095 [==============================] - 2s 2ms/step - loss: 6.9042e-04 - accuracy: 1.0000 - val_loss: 5.5106e-04 - val_accuracy: 1.0000\n",
      "Epoch 10/20\n",
      "1095/1095 [==============================] - 2s 2ms/step - loss: 4.3360e-04 - accuracy: 1.0000 - val_loss: 3.4031e-04 - val_accuracy: 1.0000\n",
      "Epoch 11/20\n",
      "1095/1095 [==============================] - 2s 2ms/step - loss: 2.7005e-04 - accuracy: 1.0000 - val_loss: 2.1047e-04 - val_accuracy: 1.0000\n",
      "Epoch 12/20\n",
      "1095/1095 [==============================] - 2s 2ms/step - loss: 1.6889e-04 - accuracy: 1.0000 - val_loss: 1.3546e-04 - val_accuracy: 1.0000\n",
      "Epoch 13/20\n",
      "1095/1095 [==============================] - 2s 2ms/step - loss: 1.0621e-04 - accuracy: 1.0000 - val_loss: 8.4692e-05 - val_accuracy: 1.0000\n",
      "Epoch 14/20\n",
      "1095/1095 [==============================] - 2s 2ms/step - loss: 6.6634e-05 - accuracy: 1.0000 - val_loss: 5.2128e-05 - val_accuracy: 1.0000\n",
      "Epoch 15/20\n",
      "1095/1095 [==============================] - 2s 2ms/step - loss: 4.1731e-05 - accuracy: 1.0000 - val_loss: 3.2760e-05 - val_accuracy: 1.0000\n",
      "Epoch 16/20\n",
      "1095/1095 [==============================] - 2s 2ms/step - loss: 2.6160e-05 - accuracy: 1.0000 - val_loss: 2.0411e-05 - val_accuracy: 1.0000\n",
      "Epoch 17/20\n",
      "1095/1095 [==============================] - 2s 2ms/step - loss: 1.6432e-05 - accuracy: 1.0000 - val_loss: 1.2838e-05 - val_accuracy: 1.0000\n",
      "Epoch 18/20\n",
      "1095/1095 [==============================] - 2s 2ms/step - loss: 1.0300e-05 - accuracy: 1.0000 - val_loss: 8.3623e-06 - val_accuracy: 1.0000\n",
      "Epoch 19/20\n",
      "1095/1095 [==============================] - 2s 2ms/step - loss: 6.5124e-06 - accuracy: 1.0000 - val_loss: 5.1281e-06 - val_accuracy: 1.0000\n",
      "Epoch 20/20\n",
      "1095/1095 [==============================] - 2s 2ms/step - loss: 4.0732e-06 - accuracy: 1.0000 - val_loss: 3.2044e-06 - val_accuracy: 1.0000\n"
     ]
    }
   ],
   "source": [
    "history = model.fit(\n",
    "    [train_features[['Breakfast', 'Lunch', 'Dinner']], train_features[['Morning_Tea', 'Afternoon_Tea']]],\n",
    "    train_labels,\n",
    "    validation_data=([val_features[['Breakfast', 'Lunch', 'Dinner']], val_features[['Morning_Tea', 'Afternoon_Tea']]], val_labels),\n",
    "    epochs=20,\n",
    "    batch_size=32\n",
    ")"
   ]
  },
  {
   "cell_type": "code",
   "execution_count": 35,
   "id": "4ddc298e",
   "metadata": {},
   "outputs": [
    {
     "data": {
      "image/png": "[encoded data removed]",
      "text/plain": [
       "<Figure size 864x288 with 1 Axes>"
      ]
     },
     "metadata": {
      "needs_background": "light"
     },
     "output_type": "display_data"
    }
   ],
   "source": [
    "plt.figure(figsize=(12, 4))\n",
    "plt.plot(history.history['loss'], label='Train Loss')\n",
    "plt.plot(history.history['val_loss'], label='Val Loss')\n",
    "plt.xlabel('Epoch')\n",
    "plt.ylabel('Loss')\n",
    "plt.title('Loss over epochs')\n",
    "plt.legend()\n",
    "plt.show()"
   ]
  },
  {
   "cell_type": "code",
   "execution_count": 36,
   "id": "11d0aec0",
   "metadata": {},
   "outputs": [
    {
     "data": {
      "image/png": "[encoded data removed]",
      "text/plain": [
       "<Figure size 864x288 with 1 Axes>"
      ]
     },
     "metadata": {
      "needs_background": "light"
     },
     "output_type": "display_data"
    }
   ],
   "source": [
    "plt.figure(figsize=(12, 4))\n",
    "plt.plot(history.history['accuracy'], label='Train Accuracy')\n",
    "plt.plot(history.history['val_accuracy'], label='Val Accuracy')\n",
    "plt.xlabel('Epoch')\n",
    "plt.ylabel('Accuracy')\n",
    "plt.title('Accuracy over epochs')\n",
    "plt.legend()\n",
    "plt.show()"
   ]
  },
  {
   "cell_type": "code",
   "execution_count": 37,
   "id": "d27d1bde",
   "metadata": {},
   "outputs": [
    {
     "name": "stdout",
     "output_type": "stream",
     "text": [
      "137/137 [==============================] - 0s 1ms/step - loss: 3.1441e-06 - accuracy: 1.0000\n"
     ]
    }
   ],
   "source": [
    "# Evaluate the model\n",
    "test_loss, test_accuracy = model.evaluate(\n",
    "    [test_features[['Breakfast', 'Lunch', 'Dinner']], test_features[['Morning_Tea', 'Afternoon_Tea']]],\n",
    "    test_labels\n",
    ")"
   ]
  }
 ],
 "metadata": {
  "kernelspec": {
   "display_name": "Python 3 (ipykernel)",
   "language": "python",
   "name": "python3"
  },
  "language_info": {
   "codemirror_mode": {
    "name": "ipython",
    "version": 3
   },
   "file_extension": ".py",
   "mimetype": "text/x-python",
   "name": "python",
   "nbconvert_exporter": "python",
   "pygments_lexer": "ipython3",
   "version": "3.8.15"
  }
 },
 "nbformat": 4,
 "nbformat_minor": 5
}
