{
 "cells": [
  {
   "cell_type": "code",
   "execution_count": 1,
   "id": "cdac11eb",
   "metadata": {},
   "outputs": [],
   "source": [
    "import pandas as pd\n",
    "import numpy as np\n",
    "from sklearn.model_selection import train_test_split\n",
    "import tensorflow as tf\n",
    "from tensorflow.keras.models import Model\n",
    "from tensorflow.keras.layers import Input, Dense, Concatenate\n",
    "import matplotlib.pyplot as plt\n",
    "import seaborn as sns\n",
    "%matplotlib inline"
   ]
  },
  {
   "cell_type": "code",
   "execution_count": null,
   "id": "db7af44a",
   "metadata": {},
   "outputs": [],
   "source": []
  },
  {
   "cell_type": "code",
   "execution_count": 2,
   "id": "bd2e64dd",
   "metadata": {},
   "outputs": [],
   "source": [
    "# Number of days for this dataset\n",
    "n_days = 365*120"
   ]
  },
  {
   "cell_type": "code",
   "execution_count": null,
   "id": "93600930",
   "metadata": {},
   "outputs": [],
   "source": []
  },
  {
   "cell_type": "code",
   "execution_count": 3,
   "id": "abae298a",
   "metadata": {},
   "outputs": [],
   "source": [
    "import pandas as pd\n",
    "import numpy as np\n",
    "# from sklearn.utils import shuffle\n",
    "\n",
    "# Define the column names\n",
    "cols = ['Breakfast', 'Morning_Tea', 'Lunch', 'Afternoon_Tea', 'Dinner']"
   ]
  },
  {
   "cell_type": "code",
   "execution_count": 4,
   "id": "d063dbb4",
   "metadata": {},
   "outputs": [],
   "source": [
    "# Create a dataframe with all False rows\n",
    "df_false = pd.DataFrame(np.full((21900, len(cols)), False), columns=cols)"
   ]
  },
  {
   "cell_type": "code",
   "execution_count": 5,
   "id": "bb038040",
   "metadata": {},
   "outputs": [],
   "source": [
    "# Create a dataframe with randomly assigned True/False rows\n",
    "df_random = pd.DataFrame(np.random.choice([True, False], size=(21900, len(cols))), columns=cols)"
   ]
  },
  {
   "cell_type": "code",
   "execution_count": 6,
   "id": "3ea11d69",
   "metadata": {},
   "outputs": [],
   "source": [
    "# Concatenate the dataframes\n",
    "df_daily = pd.concat([df_false, df_random])"
   ]
  },
  {
   "cell_type": "code",
   "execution_count": 7,
   "id": "721aa21d",
   "metadata": {},
   "outputs": [
    {
     "data": {
      "text/plain": [
       "22627"
      ]
     },
     "execution_count": 7,
     "metadata": {},
     "output_type": "execute_result"
    }
   ],
   "source": [
    "count_all_false = (df_daily == False).all(axis=1).sum()\n",
    "count_all_false"
   ]
  },
  {
   "cell_type": "code",
   "execution_count": 8,
   "id": "34668621",
   "metadata": {},
   "outputs": [],
   "source": [
    "# Shuffle the dataframe\n",
    "df_daily = df_daily.sample(frac=1).reset_index()"
   ]
  },
  {
   "cell_type": "code",
   "execution_count": null,
   "id": "94375af6",
   "metadata": {},
   "outputs": [],
   "source": []
  },
  {
   "cell_type": "markdown",
   "id": "dd8b827c",
   "metadata": {},
   "source": [
    "## 1.2 Create Label 'Toilet'\n",
    "\n",
    "After creating the dataframe `df_daily`, we can add a new column called `Toilet`. For each row $t$ in df_daily, we can set the value in the `Toilet` column of row $t+1$ based on the values in the `Breakfast`, `Morning_Tea`, `Lunch`, `Afternoon_Tea`, and `Dinner` columns."
   ]
  },
  {
   "cell_type": "code",
   "execution_count": 9,
   "id": "bb5610be",
   "metadata": {},
   "outputs": [],
   "source": [
    "# Create a condition where all specified columns are False\n",
    "condition = (df_daily[['Breakfast', 'Morning_Tea', 'Lunch', 'Afternoon_Tea', 'Dinner']] == False).all(axis=1)\n",
    "\n",
    "# Shift the condition one row downwards (so that row t's condition affects row t+1)\n",
    "condition = condition.shift(1)\n",
    "\n",
    "# Use the condition to update 'Toilet' values. If condition is True, set 'Toilet' to False. If condition is False or NaN, set 'Toilet' to True.\n",
    "df_daily['Toilet'] = np.where(condition, False, True)\n"
   ]
  },
  {
   "cell_type": "markdown",
   "id": "b0e5e901",
   "metadata": {},
   "source": [
    "In this code, we use the **any()** function along with the **axis=1** argument to check if any value in the specified columns is $True$. We then use the **shift()** function with $-1$ as the shift parameter to shift the values by one row. Finally, we use the **fill_value=False** argument to replace any $NaN$ values resulting from the shift operation with $False$."
   ]
  },
  {
   "cell_type": "code",
   "execution_count": 10,
   "id": "20220bbb",
   "metadata": {},
   "outputs": [],
   "source": [
    "df_daily = df_daily.drop('index', axis=1)"
   ]
  },
  {
   "cell_type": "code",
   "execution_count": 11,
   "id": "a2769524",
   "metadata": {},
   "outputs": [
    {
     "data": {
      "text/plain": [
       "(43800, 6)"
      ]
     },
     "execution_count": 11,
     "metadata": {},
     "output_type": "execute_result"
    }
   ],
   "source": [
    "df_daily.shape"
   ]
  },
  {
   "cell_type": "code",
   "execution_count": 12,
   "id": "cd6cf9a3",
   "metadata": {},
   "outputs": [],
   "source": [
    "df_daily = df_daily.astype(int)"
   ]
  },
  {
   "cell_type": "code",
   "execution_count": null,
   "id": "a04a926e",
   "metadata": {},
   "outputs": [],
   "source": []
  },
  {
   "cell_type": "code",
   "execution_count": null,
   "id": "1e25c0a0",
   "metadata": {},
   "outputs": [],
   "source": []
  },
  {
   "cell_type": "code",
   "execution_count": null,
   "id": "94c6a6d6",
   "metadata": {},
   "outputs": [],
   "source": []
  },
  {
   "cell_type": "code",
   "execution_count": null,
   "id": "1e66dab7",
   "metadata": {},
   "outputs": [],
   "source": []
  },
  {
   "cell_type": "code",
   "execution_count": null,
   "id": "9dd81650",
   "metadata": {},
   "outputs": [],
   "source": []
  },
  {
   "cell_type": "code",
   "execution_count": null,
   "id": "6caa9a1d",
   "metadata": {},
   "outputs": [],
   "source": []
  },
  {
   "cell_type": "code",
   "execution_count": 13,
   "id": "5a5d2397",
   "metadata": {},
   "outputs": [
    {
     "data": {
      "text/plain": [
       "(43800, 6)"
      ]
     },
     "execution_count": 13,
     "metadata": {},
     "output_type": "execute_result"
    }
   ],
   "source": [
    "df_daily.shape"
   ]
  },
  {
   "cell_type": "code",
   "execution_count": 14,
   "id": "d3b74b95",
   "metadata": {},
   "outputs": [],
   "source": [
    "df_daily = df_daily.astype(int)"
   ]
  },
  {
   "cell_type": "code",
   "execution_count": 15,
   "id": "1d6a89b5",
   "metadata": {},
   "outputs": [
    {
     "data": {
      "text/html": [
       "<div>\n",
       "<style scoped>\n",
       "    .dataframe tbody tr th:only-of-type {\n",
       "        vertical-align: middle;\n",
       "    }\n",
       "\n",
       "    .dataframe tbody tr th {\n",
       "        vertical-align: top;\n",
       "    }\n",
       "\n",
       "    .dataframe thead th {\n",
       "        text-align: right;\n",
       "    }\n",
       "</style>\n",
       "<table border=\"1\" class=\"dataframe\">\n",
       "  <thead>\n",
       "    <tr style=\"text-align: right;\">\n",
       "      <th></th>\n",
       "      <th>Breakfast</th>\n",
       "      <th>Morning_Tea</th>\n",
       "      <th>Lunch</th>\n",
       "      <th>Afternoon_Tea</th>\n",
       "      <th>Dinner</th>\n",
       "      <th>Toilet</th>\n",
       "    </tr>\n",
       "  </thead>\n",
       "  <tbody>\n",
       "    <tr>\n",
       "      <th>0</th>\n",
       "      <td>0</td>\n",
       "      <td>1</td>\n",
       "      <td>0</td>\n",
       "      <td>1</td>\n",
       "      <td>1</td>\n",
       "      <td>0</td>\n",
       "    </tr>\n",
       "    <tr>\n",
       "      <th>1</th>\n",
       "      <td>0</td>\n",
       "      <td>0</td>\n",
       "      <td>0</td>\n",
       "      <td>0</td>\n",
       "      <td>0</td>\n",
       "      <td>1</td>\n",
       "    </tr>\n",
       "    <tr>\n",
       "      <th>2</th>\n",
       "      <td>1</td>\n",
       "      <td>0</td>\n",
       "      <td>1</td>\n",
       "      <td>0</td>\n",
       "      <td>0</td>\n",
       "      <td>0</td>\n",
       "    </tr>\n",
       "    <tr>\n",
       "      <th>3</th>\n",
       "      <td>0</td>\n",
       "      <td>0</td>\n",
       "      <td>0</td>\n",
       "      <td>1</td>\n",
       "      <td>0</td>\n",
       "      <td>1</td>\n",
       "    </tr>\n",
       "    <tr>\n",
       "      <th>4</th>\n",
       "      <td>1</td>\n",
       "      <td>1</td>\n",
       "      <td>1</td>\n",
       "      <td>0</td>\n",
       "      <td>0</td>\n",
       "      <td>1</td>\n",
       "    </tr>\n",
       "    <tr>\n",
       "      <th>5</th>\n",
       "      <td>0</td>\n",
       "      <td>0</td>\n",
       "      <td>0</td>\n",
       "      <td>0</td>\n",
       "      <td>0</td>\n",
       "      <td>1</td>\n",
       "    </tr>\n",
       "    <tr>\n",
       "      <th>6</th>\n",
       "      <td>0</td>\n",
       "      <td>0</td>\n",
       "      <td>0</td>\n",
       "      <td>0</td>\n",
       "      <td>0</td>\n",
       "      <td>0</td>\n",
       "    </tr>\n",
       "    <tr>\n",
       "      <th>7</th>\n",
       "      <td>1</td>\n",
       "      <td>0</td>\n",
       "      <td>0</td>\n",
       "      <td>0</td>\n",
       "      <td>0</td>\n",
       "      <td>0</td>\n",
       "    </tr>\n",
       "    <tr>\n",
       "      <th>8</th>\n",
       "      <td>0</td>\n",
       "      <td>0</td>\n",
       "      <td>0</td>\n",
       "      <td>0</td>\n",
       "      <td>0</td>\n",
       "      <td>1</td>\n",
       "    </tr>\n",
       "    <tr>\n",
       "      <th>9</th>\n",
       "      <td>0</td>\n",
       "      <td>1</td>\n",
       "      <td>1</td>\n",
       "      <td>1</td>\n",
       "      <td>0</td>\n",
       "      <td>0</td>\n",
       "    </tr>\n",
       "  </tbody>\n",
       "</table>\n",
       "</div>"
      ],
      "text/plain": [
       "   Breakfast  Morning_Tea  Lunch  Afternoon_Tea  Dinner  Toilet\n",
       "0          0            1      0              1       1       0\n",
       "1          0            0      0              0       0       1\n",
       "2          1            0      1              0       0       0\n",
       "3          0            0      0              1       0       1\n",
       "4          1            1      1              0       0       1\n",
       "5          0            0      0              0       0       1\n",
       "6          0            0      0              0       0       0\n",
       "7          1            0      0              0       0       0\n",
       "8          0            0      0              0       0       1\n",
       "9          0            1      1              1       0       0"
      ]
     },
     "execution_count": 15,
     "metadata": {},
     "output_type": "execute_result"
    }
   ],
   "source": [
    "df_daily.head(10)"
   ]
  },
  {
   "cell_type": "code",
   "execution_count": 16,
   "id": "2c59612c",
   "metadata": {},
   "outputs": [
    {
     "data": {
      "text/html": [
       "<div>\n",
       "<style scoped>\n",
       "    .dataframe tbody tr th:only-of-type {\n",
       "        vertical-align: middle;\n",
       "    }\n",
       "\n",
       "    .dataframe tbody tr th {\n",
       "        vertical-align: top;\n",
       "    }\n",
       "\n",
       "    .dataframe thead th {\n",
       "        text-align: right;\n",
       "    }\n",
       "</style>\n",
       "<table border=\"1\" class=\"dataframe\">\n",
       "  <thead>\n",
       "    <tr style=\"text-align: right;\">\n",
       "      <th></th>\n",
       "      <th>Breakfast</th>\n",
       "      <th>Morning_Tea</th>\n",
       "      <th>Lunch</th>\n",
       "      <th>Afternoon_Tea</th>\n",
       "      <th>Dinner</th>\n",
       "      <th>Toilet</th>\n",
       "    </tr>\n",
       "  </thead>\n",
       "  <tbody>\n",
       "    <tr>\n",
       "      <th>count</th>\n",
       "      <td>43800.000000</td>\n",
       "      <td>43800.000000</td>\n",
       "      <td>43800.00000</td>\n",
       "      <td>43800.000000</td>\n",
       "      <td>43800.000000</td>\n",
       "      <td>43800.000000</td>\n",
       "    </tr>\n",
       "    <tr>\n",
       "      <th>mean</th>\n",
       "      <td>0.250365</td>\n",
       "      <td>0.249635</td>\n",
       "      <td>0.24895</td>\n",
       "      <td>0.245251</td>\n",
       "      <td>0.250890</td>\n",
       "      <td>0.483379</td>\n",
       "    </tr>\n",
       "    <tr>\n",
       "      <th>std</th>\n",
       "      <td>0.433228</td>\n",
       "      <td>0.432807</td>\n",
       "      <td>0.43241</td>\n",
       "      <td>0.430241</td>\n",
       "      <td>0.433531</td>\n",
       "      <td>0.499729</td>\n",
       "    </tr>\n",
       "    <tr>\n",
       "      <th>min</th>\n",
       "      <td>0.000000</td>\n",
       "      <td>0.000000</td>\n",
       "      <td>0.00000</td>\n",
       "      <td>0.000000</td>\n",
       "      <td>0.000000</td>\n",
       "      <td>0.000000</td>\n",
       "    </tr>\n",
       "    <tr>\n",
       "      <th>25%</th>\n",
       "      <td>0.000000</td>\n",
       "      <td>0.000000</td>\n",
       "      <td>0.00000</td>\n",
       "      <td>0.000000</td>\n",
       "      <td>0.000000</td>\n",
       "      <td>0.000000</td>\n",
       "    </tr>\n",
       "    <tr>\n",
       "      <th>50%</th>\n",
       "      <td>0.000000</td>\n",
       "      <td>0.000000</td>\n",
       "      <td>0.00000</td>\n",
       "      <td>0.000000</td>\n",
       "      <td>0.000000</td>\n",
       "      <td>0.000000</td>\n",
       "    </tr>\n",
       "    <tr>\n",
       "      <th>75%</th>\n",
       "      <td>1.000000</td>\n",
       "      <td>0.000000</td>\n",
       "      <td>0.00000</td>\n",
       "      <td>0.000000</td>\n",
       "      <td>1.000000</td>\n",
       "      <td>1.000000</td>\n",
       "    </tr>\n",
       "    <tr>\n",
       "      <th>max</th>\n",
       "      <td>1.000000</td>\n",
       "      <td>1.000000</td>\n",
       "      <td>1.00000</td>\n",
       "      <td>1.000000</td>\n",
       "      <td>1.000000</td>\n",
       "      <td>1.000000</td>\n",
       "    </tr>\n",
       "  </tbody>\n",
       "</table>\n",
       "</div>"
      ],
      "text/plain": [
       "          Breakfast   Morning_Tea        Lunch  Afternoon_Tea        Dinner  \\\n",
       "count  43800.000000  43800.000000  43800.00000   43800.000000  43800.000000   \n",
       "mean       0.250365      0.249635      0.24895       0.245251      0.250890   \n",
       "std        0.433228      0.432807      0.43241       0.430241      0.433531   \n",
       "min        0.000000      0.000000      0.00000       0.000000      0.000000   \n",
       "25%        0.000000      0.000000      0.00000       0.000000      0.000000   \n",
       "50%        0.000000      0.000000      0.00000       0.000000      0.000000   \n",
       "75%        1.000000      0.000000      0.00000       0.000000      1.000000   \n",
       "max        1.000000      1.000000      1.00000       1.000000      1.000000   \n",
       "\n",
       "             Toilet  \n",
       "count  43800.000000  \n",
       "mean       0.483379  \n",
       "std        0.499729  \n",
       "min        0.000000  \n",
       "25%        0.000000  \n",
       "50%        0.000000  \n",
       "75%        1.000000  \n",
       "max        1.000000  "
      ]
     },
     "execution_count": 16,
     "metadata": {},
     "output_type": "execute_result"
    }
   ],
   "source": [
    "df_daily.describe()"
   ]
  },
  {
   "cell_type": "code",
   "execution_count": 17,
   "id": "bff22579",
   "metadata": {},
   "outputs": [
    {
     "data": {
      "text/plain": [
       "0    22628\n",
       "1    21172\n",
       "Name: Toilet, dtype: int64"
      ]
     },
     "execution_count": 17,
     "metadata": {},
     "output_type": "execute_result"
    }
   ],
   "source": [
    "df_daily['Toilet'].value_counts()"
   ]
  },
  {
   "cell_type": "code",
   "execution_count": null,
   "id": "a1f4c4bd",
   "metadata": {},
   "outputs": [],
   "source": []
  },
  {
   "cell_type": "code",
   "execution_count": null,
   "id": "9d1f8d69",
   "metadata": {},
   "outputs": [],
   "source": []
  },
  {
   "cell_type": "code",
   "execution_count": 18,
   "id": "a219607f",
   "metadata": {
    "scrolled": true
   },
   "outputs": [
    {
     "data": {
      "text/plain": [
       "<AxesSubplot:xlabel='Toilet', ylabel='count'>"
      ]
     },
     "execution_count": 18,
     "metadata": {},
     "output_type": "execute_result"
    },
    {
     "data": {
      "image/png": "[encoded data removed]",
      "text/plain": [
       "<Figure size 432x288 with 1 Axes>"
      ]
     },
     "metadata": {
      "needs_background": "light"
     },
     "output_type": "display_data"
    }
   ],
   "source": [
    "sns.countplot(x = df_daily['Toilet'], palette=[\"#7fcdbb\", \"#edf8b1\"])"
   ]
  },
  {
   "cell_type": "code",
   "execution_count": 19,
   "id": "e42834b7",
   "metadata": {},
   "outputs": [],
   "source": [
    "# # Replace 0 with 'F' and 1 with 'T'\n",
    "# df_daily.replace({0: 'F', 1: 'T'}, inplace=True)"
   ]
  },
  {
   "cell_type": "code",
   "execution_count": 20,
   "id": "62e3aa7b",
   "metadata": {},
   "outputs": [],
   "source": [
    "import tensorflow as tf\n",
    "from tensorflow.keras.layers import LSTM, Dense, Input, Concatenate\n",
    "from tensorflow.keras.models import Model"
   ]
  },
  {
   "cell_type": "code",
   "execution_count": 21,
   "id": "32319afd",
   "metadata": {},
   "outputs": [],
   "source": [
    "# Split dataset into train and validation\n",
    "train = df_daily[:36500]\n",
    "val = df_daily[36500:36500+36500]"
   ]
  },
  {
   "cell_type": "code",
   "execution_count": 22,
   "id": "e0a6416a",
   "metadata": {},
   "outputs": [],
   "source": [
    "# Create a time-series dataset from the dataframes, make it reusable\n",
    "def timeseries_dataset(df, past, future):\n",
    "    # I think shuffle should be False, correct me if I am wrong\n",
    "    ds = tf.keras.preprocessing.timeseries_dataset_from_array(\n",
    "        data=np.array(df, dtype=np.float32),\n",
    "        targets=None,\n",
    "        sequence_length=past+future,\n",
    "        sequence_stride = 1,\n",
    "        shuffle = False,\n",
    "        batch_size = 32,\n",
    "    )\n",
    "\n",
    "    ds = ds.map(lambda batch: (batch[:, :past, :], batch[:, past:, -1]))\n",
    "\n",
    "    return ds"
   ]
  },
  {
   "cell_type": "code",
   "execution_count": 23,
   "id": "ffd2c398",
   "metadata": {},
   "outputs": [],
   "source": [
    "# Create training and validation datasets\n",
    "past = 3  # previous 3 days\n",
    "future = 2  # next 2 days"
   ]
  },
  {
   "cell_type": "code",
   "execution_count": 24,
   "id": "47ae9987",
   "metadata": {},
   "outputs": [
    {
     "name": "stdout",
     "output_type": "stream",
     "text": [
      "   Breakfast  Morning_Tea  Lunch  Afternoon_Tea  Dinner  Toilet\n",
      "0          0            0      0              0       0       0\n",
      "1          1            1      1              1       1       1\n",
      "2          2            2      2              2       2       2\n",
      "3          3            3      3              3       3       3\n",
      "4          4            4      4              4       4       4\n",
      "5          5            5      5              5       5       5\n",
      "6          6            6      6              6       6       6\n",
      "7          7            7      7              7       7       7\n",
      "8          8            8      8              8       8       8\n",
      "9          9            9      9              9       9       9\n"
     ]
    }
   ],
   "source": [
    "# Create a dictionary with column names as keys and empty lists as values\n",
    "data = {\n",
    "    'Breakfast': [],\n",
    "    'Morning_Tea': [],\n",
    "    'Lunch': [],\n",
    "    'Afternoon_Tea': [],\n",
    "    'Dinner': [],\n",
    "    'Toilet': []\n",
    "}\n",
    "\n",
    "# Define the number of rows for the dataframe\n",
    "num_rows = 10  # You can change this value to the desired number of rows\n",
    "\n",
    "# Populate the dictionary with index numbers for each column\n",
    "for i in range(num_rows):\n",
    "    for col in data:\n",
    "        data[col].append(i)\n",
    "\n",
    "# Create the dataframe using the populated dictionary\n",
    "df_temp = pd.DataFrame(data)\n",
    "\n",
    "# Print the dataframe\n",
    "print(df_temp)\n"
   ]
  },
  {
   "cell_type": "code",
   "execution_count": 25,
   "id": "e78b5b58",
   "metadata": {},
   "outputs": [],
   "source": [
    "train_temp = timeseries_dataset(df_temp, past, future)"
   ]
  },
  {
   "cell_type": "code",
   "execution_count": 26,
   "id": "1fdbe28c",
   "metadata": {},
   "outputs": [],
   "source": [
    "def print_dataset(ds):\n",
    "    for inputs, targets in ds:\n",
    "        print(\"---Batch---\")\n",
    "        print(\"Feature:\", inputs.numpy())\n",
    "        print(\"Label:\", targets.numpy())\n",
    "        print(\"\")"
   ]
  },
  {
   "cell_type": "code",
   "execution_count": 27,
   "id": "ca5fdd1e",
   "metadata": {},
   "outputs": [
    {
     "name": "stdout",
     "output_type": "stream",
     "text": [
      "---Batch---\n",
      "Feature: [[[1. 1. 1. 1. 1. 1.]\n",
      "  [2. 2. 2. 2. 2. 2.]\n",
      "  [3. 3. 3. 3. 3. 3.]]\n",
      "\n",
      " [[2. 2. 2. 2. 2. 2.]\n",
      "  [3. 3. 3. 3. 3. 3.]\n",
      "  [4. 4. 4. 4. 4. 4.]]\n",
      "\n",
      " [[3. 3. 3. 3. 3. 3.]\n",
      "  [4. 4. 4. 4. 4. 4.]\n",
      "  [5. 5. 5. 5. 5. 5.]]\n",
      "\n",
      " [[4. 4. 4. 4. 4. 4.]\n",
      "  [5. 5. 5. 5. 5. 5.]\n",
      "  [6. 6. 6. 6. 6. 6.]]\n",
      "\n",
      " [[5. 5. 5. 5. 5. 5.]\n",
      "  [6. 6. 6. 6. 6. 6.]\n",
      "  [7. 7. 7. 7. 7. 7.]]\n",
      "\n",
      " [[0. 0. 0. 0. 0. 0.]\n",
      "  [1. 1. 1. 1. 1. 1.]\n",
      "  [2. 2. 2. 2. 2. 2.]]]\n",
      "Label: [[4. 5.]\n",
      " [5. 6.]\n",
      " [6. 7.]\n",
      " [7. 8.]\n",
      " [8. 9.]\n",
      " [3. 4.]]\n",
      "\n"
     ]
    }
   ],
   "source": [
    "print_dataset(train_temp)"
   ]
  },
  {
   "cell_type": "code",
   "execution_count": null,
   "id": "7515965c",
   "metadata": {},
   "outputs": [],
   "source": []
  },
  {
   "cell_type": "code",
   "execution_count": null,
   "id": "3ae6f842",
   "metadata": {},
   "outputs": [],
   "source": []
  },
  {
   "cell_type": "code",
   "execution_count": null,
   "id": "54fcb44b",
   "metadata": {},
   "outputs": [],
   "source": []
  },
  {
   "cell_type": "code",
   "execution_count": null,
   "id": "475007c4",
   "metadata": {},
   "outputs": [],
   "source": []
  },
  {
   "cell_type": "code",
   "execution_count": null,
   "id": "154b9ff8",
   "metadata": {},
   "outputs": [],
   "source": []
  },
  {
   "cell_type": "code",
   "execution_count": 28,
   "id": "5a977b1c",
   "metadata": {},
   "outputs": [],
   "source": [
    "train_ds = timeseries_dataset(train, past, future)\n",
    "val_ds = timeseries_dataset(val, past, future)"
   ]
  },
  {
   "cell_type": "code",
   "execution_count": null,
   "id": "8b1c8bfc",
   "metadata": {},
   "outputs": [],
   "source": []
  },
  {
   "cell_type": "code",
   "execution_count": 29,
   "id": "8643e243",
   "metadata": {},
   "outputs": [],
   "source": [
    "# Create subnetworks for gluten and lactose\n",
    "input_layer = Input(shape=(past, df_daily.shape[-1]))\n",
    "\n",
    "gluten_layer = LSTM(32)(input_layer[:, :, :3])\n",
    "lactose_layer = LSTM(32)(input_layer[:, :, 3:5])\n"
   ]
  },
  {
   "cell_type": "code",
   "execution_count": 30,
   "id": "1cfaec64",
   "metadata": {},
   "outputs": [],
   "source": [
    "# Concatenate the outputs of the two subnetworks\n",
    "concat_layer = Concatenate()([gluten_layer, lactose_layer])\n",
    "\n",
    "# Dense layer for prediction\n",
    "output_layer = Dense(1, activation='sigmoid')(concat_layer)"
   ]
  },
  {
   "cell_type": "code",
   "execution_count": 31,
   "id": "df39794c",
   "metadata": {},
   "outputs": [],
   "source": [
    "# Create and compile the model\n",
    "model = Model(inputs=input_layer, outputs=output_layer)\n",
    "model.compile(optimizer='adam', loss='binary_crossentropy', metrics=['accuracy'])"
   ]
  },
  {
   "cell_type": "code",
   "execution_count": null,
   "id": "67de2ee5",
   "metadata": {},
   "outputs": [
    {
     "name": "stdout",
     "output_type": "stream",
     "text": [
      "Epoch 1/10\n",
      "1141/1141 [==============================] - 8s 5ms/step - loss: 0.5970 - accuracy: 0.7126 - val_loss: 0.5813 - val_accuracy: 0.7332\n",
      "Epoch 2/10\n",
      "1141/1141 [==============================] - 5s 4ms/step - loss: 0.5793 - accuracy: 0.7335 - val_loss: 0.5756 - val_accuracy: 0.7392\n",
      "Epoch 3/10\n",
      "1141/1141 [==============================] - 5s 4ms/step - loss: 0.5762 - accuracy: 0.7324 - val_loss: 0.5732 - val_accuracy: 0.7333\n",
      "Epoch 4/10\n",
      "1141/1141 [==============================] - 5s 4ms/step - loss: 0.5750 - accuracy: 0.7313 - val_loss: 0.5725 - val_accuracy: 0.7327\n",
      "Epoch 5/10\n",
      " 828/1141 [====================>.........] - ETA: 1s - loss: 0.5747 - accuracy: 0.7311"
     ]
    }
   ],
   "source": [
    "# Train the model\n",
    "history = model.fit(train_ds, epochs=10, validation_data=val_ds)"
   ]
  },
  {
   "cell_type": "code",
   "execution_count": null,
   "id": "7ff2c646",
   "metadata": {},
   "outputs": [],
   "source": [
    "import matplotlib.pyplot as plt\n",
    "\n",
    "# Plot training & validation loss values\n",
    "plt.figure(figsize=(12, 6))\n",
    "plt.plot(history.history['loss'])\n",
    "plt.plot(history.history['val_loss'])\n",
    "plt.title('Model accuracy')\n",
    "plt.ylabel('Accuracy')\n",
    "plt.xlabel('Epoch')\n",
    "plt.legend(['Train', 'Validation'], loc='upper right')\n",
    "plt.show()"
   ]
  },
  {
   "cell_type": "code",
   "execution_count": null,
   "id": "b8e73635",
   "metadata": {},
   "outputs": [],
   "source": [
    "# Prepare the test dataset\n",
    "test = df_daily[-3650:]\n",
    "test_ds = timeseries_dataset(test, past, future)\n",
    "\n",
    "# Evaluate the model\n",
    "test_loss, test_accuracy = model.evaluate(test_ds)\n",
    "print(f\"Test Loss: {test_loss}\")\n",
    "print(f\"Test Accuracy: {test_accuracy}\")"
   ]
  },
  {
   "cell_type": "code",
   "execution_count": null,
   "id": "468deba7",
   "metadata": {},
   "outputs": [],
   "source": []
  },
  {
   "cell_type": "code",
   "execution_count": null,
   "id": "dc2f43bc",
   "metadata": {},
   "outputs": [],
   "source": []
  },
  {
   "cell_type": "code",
   "execution_count": null,
   "id": "779600c6",
   "metadata": {},
   "outputs": [],
   "source": []
  },
  {
   "cell_type": "code",
   "execution_count": null,
   "id": "6a279566",
   "metadata": {},
   "outputs": [],
   "source": []
  }
 ],
 "metadata": {
  "kernelspec": {
   "display_name": "Python 3 (ipykernel)",
   "language": "python",
   "name": "python3"
  },
  "language_info": {
   "codemirror_mode": {
    "name": "ipython",
    "version": 3
   },
   "file_extension": ".py",
   "mimetype": "text/x-python",
   "name": "python",
   "nbconvert_exporter": "python",
   "pygments_lexer": "ipython3",
   "version": "3.8.15"
  }
 },
 "nbformat": 4,
 "nbformat_minor": 5
}
