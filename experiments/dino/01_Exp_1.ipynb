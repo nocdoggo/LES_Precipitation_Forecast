{
 "cells": [
  {
   "cell_type": "code",
   "execution_count": 1,
   "id": "e1eaec3e",
   "metadata": {},
   "outputs": [],
   "source": [
    "import pandas as pd\n",
    "import numpy as np\n",
    "from sklearn.model_selection import train_test_split\n",
    "import tensorflow as tf\n",
    "from tensorflow.keras.models import Model\n",
    "from tensorflow.keras.layers import Input, Dense, Concatenate\n",
    "import matplotlib.pyplot as plt\n",
    "import seaborn as sns\n",
    "%matplotlib inline"
   ]
  },
  {
   "cell_type": "markdown",
   "id": "6f3b8d8d",
   "metadata": {},
   "source": [
    "## 1. Dataset Creation\n",
    "\n",
    "Prof Dino has major GI issues (I do), stemming from a gluten and a lactose allergy. Let's just say that if he eats something with gluten or drinks something with lactose, then next day(s) he has diarrhea.\n",
    "\n",
    "Create a dataset with breakfast, morning tea, lunch, afternoon tea, dinner, toilet.\n",
    "\n",
    "Each column is binary (T/F) values, and for breakfast, lunch, and dinner denotes whether or not I had gluten. For both tea columns, it's whether I had tea with milk. Toilet T means diarrhea.\n",
    "\n",
    "Create that dataset randomly as T/F values, for all columns. Make sure the label is balanced around T/F."
   ]
  },
  {
   "cell_type": "code",
   "execution_count": 2,
   "id": "3d7aee90",
   "metadata": {},
   "outputs": [],
   "source": [
    "# Number of days for this dataset\n",
    "num_rows = 43800  # Change this as needed\n",
    "n_days = 43800"
   ]
  },
  {
   "cell_type": "code",
   "execution_count": 3,
   "id": "f671009e",
   "metadata": {},
   "outputs": [],
   "source": [
    "# Create a balanced binary dataset\n",
    "df_daily = pd.DataFrame({\n",
    "    'Breakfast': np.random.choice([True, False], num_rows),\n",
    "    'Morning_Tea': np.random.choice([True, False], num_rows),\n",
    "    'Lunch': np.random.choice([True, False], num_rows),\n",
    "    'Afternoon_Tea': np.random.choice([True, False], num_rows),\n",
    "    'Dinner': np.random.choice([True, False], num_rows),\n",
    "    'Toilet': np.random.choice([True, False], num_rows)\n",
    "})\n"
   ]
  },
  {
   "cell_type": "code",
   "execution_count": 4,
   "id": "99ba8913",
   "metadata": {},
   "outputs": [],
   "source": [
    "df_daily.at[0, 'Toilet'] = 0\n",
    "# Create a new column that is the sum of the other columns\n",
    "df_daily['sum'] = df_daily[['Breakfast', 'Morning_Tea', 'Lunch', 'Afternoon_Tea', 'Dinner']].sum(axis=1)\n",
    "\n",
    "# If 'sum' at row t is not 0, set 'Toilet' at row t+1 to 1\n",
    "df_daily['Toilet'] = (df_daily['sum'].shift(-1) != 0).astype(int)\n",
    "\n",
    "# Drop the 'sum' column as we don't need it anymore\n",
    "df_daily.drop('sum', axis=1, inplace=True)"
   ]
  },
  {
   "cell_type": "code",
   "execution_count": 5,
   "id": "48ccd5c5",
   "metadata": {},
   "outputs": [
    {
     "data": {
      "text/plain": [
       "(43800, 6)"
      ]
     },
     "execution_count": 5,
     "metadata": {},
     "output_type": "execute_result"
    }
   ],
   "source": [
    "df_daily.shape"
   ]
  },
  {
   "cell_type": "code",
   "execution_count": 6,
   "id": "720c023b",
   "metadata": {},
   "outputs": [
    {
     "data": {
      "text/html": [
       "<div>\n",
       "<style scoped>\n",
       "    .dataframe tbody tr th:only-of-type {\n",
       "        vertical-align: middle;\n",
       "    }\n",
       "\n",
       "    .dataframe tbody tr th {\n",
       "        vertical-align: top;\n",
       "    }\n",
       "\n",
       "    .dataframe thead th {\n",
       "        text-align: right;\n",
       "    }\n",
       "</style>\n",
       "<table border=\"1\" class=\"dataframe\">\n",
       "  <thead>\n",
       "    <tr style=\"text-align: right;\">\n",
       "      <th></th>\n",
       "      <th>Breakfast</th>\n",
       "      <th>Morning_Tea</th>\n",
       "      <th>Lunch</th>\n",
       "      <th>Afternoon_Tea</th>\n",
       "      <th>Dinner</th>\n",
       "      <th>Toilet</th>\n",
       "    </tr>\n",
       "  </thead>\n",
       "  <tbody>\n",
       "    <tr>\n",
       "      <th>0</th>\n",
       "      <td>True</td>\n",
       "      <td>False</td>\n",
       "      <td>True</td>\n",
       "      <td>True</td>\n",
       "      <td>True</td>\n",
       "      <td>1</td>\n",
       "    </tr>\n",
       "    <tr>\n",
       "      <th>1</th>\n",
       "      <td>True</td>\n",
       "      <td>False</td>\n",
       "      <td>True</td>\n",
       "      <td>False</td>\n",
       "      <td>True</td>\n",
       "      <td>1</td>\n",
       "    </tr>\n",
       "    <tr>\n",
       "      <th>2</th>\n",
       "      <td>False</td>\n",
       "      <td>True</td>\n",
       "      <td>False</td>\n",
       "      <td>True</td>\n",
       "      <td>False</td>\n",
       "      <td>1</td>\n",
       "    </tr>\n",
       "    <tr>\n",
       "      <th>3</th>\n",
       "      <td>False</td>\n",
       "      <td>False</td>\n",
       "      <td>True</td>\n",
       "      <td>True</td>\n",
       "      <td>True</td>\n",
       "      <td>1</td>\n",
       "    </tr>\n",
       "    <tr>\n",
       "      <th>4</th>\n",
       "      <td>True</td>\n",
       "      <td>False</td>\n",
       "      <td>False</td>\n",
       "      <td>False</td>\n",
       "      <td>True</td>\n",
       "      <td>1</td>\n",
       "    </tr>\n",
       "    <tr>\n",
       "      <th>5</th>\n",
       "      <td>True</td>\n",
       "      <td>False</td>\n",
       "      <td>False</td>\n",
       "      <td>False</td>\n",
       "      <td>True</td>\n",
       "      <td>1</td>\n",
       "    </tr>\n",
       "    <tr>\n",
       "      <th>6</th>\n",
       "      <td>False</td>\n",
       "      <td>False</td>\n",
       "      <td>True</td>\n",
       "      <td>False</td>\n",
       "      <td>True</td>\n",
       "      <td>1</td>\n",
       "    </tr>\n",
       "    <tr>\n",
       "      <th>7</th>\n",
       "      <td>True</td>\n",
       "      <td>False</td>\n",
       "      <td>True</td>\n",
       "      <td>False</td>\n",
       "      <td>False</td>\n",
       "      <td>1</td>\n",
       "    </tr>\n",
       "    <tr>\n",
       "      <th>8</th>\n",
       "      <td>True</td>\n",
       "      <td>False</td>\n",
       "      <td>False</td>\n",
       "      <td>True</td>\n",
       "      <td>True</td>\n",
       "      <td>1</td>\n",
       "    </tr>\n",
       "    <tr>\n",
       "      <th>9</th>\n",
       "      <td>False</td>\n",
       "      <td>True</td>\n",
       "      <td>True</td>\n",
       "      <td>True</td>\n",
       "      <td>True</td>\n",
       "      <td>1</td>\n",
       "    </tr>\n",
       "  </tbody>\n",
       "</table>\n",
       "</div>"
      ],
      "text/plain": [
       "   Breakfast  Morning_Tea  Lunch  Afternoon_Tea  Dinner  Toilet\n",
       "0       True        False   True           True    True       1\n",
       "1       True        False   True          False    True       1\n",
       "2      False         True  False           True   False       1\n",
       "3      False        False   True           True    True       1\n",
       "4       True        False  False          False    True       1\n",
       "5       True        False  False          False    True       1\n",
       "6      False        False   True          False    True       1\n",
       "7       True        False   True          False   False       1\n",
       "8       True        False  False           True    True       1\n",
       "9      False         True   True           True    True       1"
      ]
     },
     "execution_count": 6,
     "metadata": {},
     "output_type": "execute_result"
    }
   ],
   "source": [
    "df_daily.head(10)"
   ]
  },
  {
   "cell_type": "code",
   "execution_count": 7,
   "id": "8a0c2676",
   "metadata": {},
   "outputs": [
    {
     "data": {
      "text/html": [
       "<div>\n",
       "<style scoped>\n",
       "    .dataframe tbody tr th:only-of-type {\n",
       "        vertical-align: middle;\n",
       "    }\n",
       "\n",
       "    .dataframe tbody tr th {\n",
       "        vertical-align: top;\n",
       "    }\n",
       "\n",
       "    .dataframe thead th {\n",
       "        text-align: right;\n",
       "    }\n",
       "</style>\n",
       "<table border=\"1\" class=\"dataframe\">\n",
       "  <thead>\n",
       "    <tr style=\"text-align: right;\">\n",
       "      <th></th>\n",
       "      <th>Toilet</th>\n",
       "    </tr>\n",
       "  </thead>\n",
       "  <tbody>\n",
       "    <tr>\n",
       "      <th>count</th>\n",
       "      <td>43800.000000</td>\n",
       "    </tr>\n",
       "    <tr>\n",
       "      <th>mean</th>\n",
       "      <td>0.968699</td>\n",
       "    </tr>\n",
       "    <tr>\n",
       "      <th>std</th>\n",
       "      <td>0.174133</td>\n",
       "    </tr>\n",
       "    <tr>\n",
       "      <th>min</th>\n",
       "      <td>0.000000</td>\n",
       "    </tr>\n",
       "    <tr>\n",
       "      <th>25%</th>\n",
       "      <td>1.000000</td>\n",
       "    </tr>\n",
       "    <tr>\n",
       "      <th>50%</th>\n",
       "      <td>1.000000</td>\n",
       "    </tr>\n",
       "    <tr>\n",
       "      <th>75%</th>\n",
       "      <td>1.000000</td>\n",
       "    </tr>\n",
       "    <tr>\n",
       "      <th>max</th>\n",
       "      <td>1.000000</td>\n",
       "    </tr>\n",
       "  </tbody>\n",
       "</table>\n",
       "</div>"
      ],
      "text/plain": [
       "             Toilet\n",
       "count  43800.000000\n",
       "mean       0.968699\n",
       "std        0.174133\n",
       "min        0.000000\n",
       "25%        1.000000\n",
       "50%        1.000000\n",
       "75%        1.000000\n",
       "max        1.000000"
      ]
     },
     "execution_count": 7,
     "metadata": {},
     "output_type": "execute_result"
    }
   ],
   "source": [
    "df_daily.describe()"
   ]
  },
  {
   "cell_type": "code",
   "execution_count": 8,
   "id": "282b31a2",
   "metadata": {},
   "outputs": [
    {
     "data": {
      "text/plain": [
       "1    42429\n",
       "0     1371\n",
       "Name: Toilet, dtype: int64"
      ]
     },
     "execution_count": 8,
     "metadata": {},
     "output_type": "execute_result"
    }
   ],
   "source": [
    "df_daily['Toilet'].value_counts()"
   ]
  },
  {
   "cell_type": "code",
   "execution_count": 9,
   "id": "f39fb5a1",
   "metadata": {},
   "outputs": [
    {
     "data": {
      "text/plain": [
       "True     21940\n",
       "False    21860\n",
       "Name: Breakfast, dtype: int64"
      ]
     },
     "execution_count": 9,
     "metadata": {},
     "output_type": "execute_result"
    }
   ],
   "source": [
    "df_daily['Breakfast'].value_counts()"
   ]
  },
  {
   "cell_type": "code",
   "execution_count": 10,
   "id": "c75b1715",
   "metadata": {},
   "outputs": [
    {
     "data": {
      "text/plain": [
       "False"
      ]
     },
     "execution_count": 10,
     "metadata": {},
     "output_type": "execute_result"
    }
   ],
   "source": [
    "# Check if there is any nan values in df_daily across all columns\n",
    "df_daily.isna().any().any()"
   ]
  },
  {
   "cell_type": "code",
   "execution_count": 11,
   "id": "9c0ed280",
   "metadata": {},
   "outputs": [
    {
     "name": "stdout",
     "output_type": "stream",
     "text": [
      "Breakfast        0\n",
      "Morning_Tea      0\n",
      "Lunch            0\n",
      "Afternoon_Tea    0\n",
      "Dinner           0\n",
      "Toilet           0\n",
      "dtype: int64\n"
     ]
    }
   ],
   "source": [
    "print(df_daily.isna().sum())"
   ]
  },
  {
   "cell_type": "code",
   "execution_count": null,
   "id": "631a343c",
   "metadata": {},
   "outputs": [],
   "source": []
  },
  {
   "cell_type": "code",
   "execution_count": 12,
   "id": "0f7fa7a3",
   "metadata": {},
   "outputs": [
    {
     "data": {
      "text/plain": [
       "<AxesSubplot:xlabel='Toilet', ylabel='count'>"
      ]
     },
     "execution_count": 12,
     "metadata": {},
     "output_type": "execute_result"
    },
    {
     "data": {
      "image/png": "[encoded data removed]",
      "text/plain": [
       "<Figure size 432x288 with 1 Axes>"
      ]
     },
     "metadata": {
      "needs_background": "light"
     },
     "output_type": "display_data"
    }
   ],
   "source": [
    "sns.countplot(x = df_daily['Toilet'], palette=[\"#7fcdbb\", \"#edf8b1\"])"
   ]
  },
  {
   "cell_type": "code",
   "execution_count": 11,
   "id": "32a7d221",
   "metadata": {},
   "outputs": [],
   "source": [
    "# # Replace 0 with 'F' and 1 with 'T'\n",
    "# df_daily.replace({0: 'F', 1: 'T'}, inplace=True)"
   ]
  },
  {
   "cell_type": "code",
   "execution_count": null,
   "id": "10c6d893",
   "metadata": {},
   "outputs": [],
   "source": []
  },
  {
   "cell_type": "code",
   "execution_count": null,
   "id": "5c75c020",
   "metadata": {},
   "outputs": [],
   "source": []
  },
  {
   "cell_type": "code",
   "execution_count": null,
   "id": "2efa6055",
   "metadata": {},
   "outputs": [],
   "source": []
  },
  {
   "cell_type": "code",
   "execution_count": null,
   "id": "b0df6f8d",
   "metadata": {},
   "outputs": [],
   "source": []
  },
  {
   "cell_type": "code",
   "execution_count": 12,
   "id": "59b888be",
   "metadata": {},
   "outputs": [],
   "source": [
    "# Split the dataset into input features and labels\n",
    "X_gluten = df_daily[['Breakfast', 'Lunch', 'Dinner']][0:n_days - 1]\n",
    "X_lactose = df_daily[['Morning_Tea', 'Afternoon_Tea']][0:n_days - 1]\n",
    "y = df_daily['Toilet'][1: n_days]\n",
    "\n",
    "\n",
    "# Further split into training, validation, and test sets (80%, 10%, 10%)\n",
    "X_gluten_train, X_gluten_test, y_train, y_test = train_test_split(X_gluten, y, test_size=0.2, random_state=42)\n",
    "X_lactose_train, X_lactose_test = train_test_split(X_lactose, test_size=0.2, random_state=42)"
   ]
  },
  {
   "cell_type": "code",
   "execution_count": 13,
   "id": "8da9c9c3",
   "metadata": {},
   "outputs": [],
   "source": [
    "X_gluten_train, X_gluten_val, y_train, y_val = train_test_split(X_gluten_train, y_train, test_size=0.125, random_state=42)\n",
    "X_lactose_train, X_lactose_val = train_test_split(X_lactose_train, test_size=0.125, random_state=42)"
   ]
  },
  {
   "cell_type": "code",
   "execution_count": 14,
   "id": "77a85808",
   "metadata": {},
   "outputs": [],
   "source": [
    "# Define the two sets of inputs\n",
    "input_gluten = Input(shape=(3,))\n",
    "input_lactose = Input(shape=(2,))"
   ]
  },
  {
   "cell_type": "code",
   "execution_count": 15,
   "id": "88a56f5b",
   "metadata": {},
   "outputs": [],
   "source": [
    "# The first branch operates on the first input\n",
    "gluten = Dense(64, activation=\"selu\")(input_gluten)\n",
    "gluten = Dense(32, activation=\"selu\")(gluten)\n",
    "gluten_model = Model(inputs=input_gluten, outputs=gluten)\n",
    "\n",
    "# The second branch operates on the second input\n",
    "lactose = Dense(64, activation=\"selu\")(input_lactose)\n",
    "lactose = Dense(32, activation=\"selu\")(lactose)\n",
    "lactose_model = Model(inputs=input_lactose, outputs=lactose)\n",
    "\n",
    "# Combine the output of the two branches\n",
    "combined = Concatenate()([gluten_model.output, lactose_model.output])"
   ]
  },
  {
   "cell_type": "code",
   "execution_count": 16,
   "id": "1b3c451b",
   "metadata": {},
   "outputs": [],
   "source": [
    "# Apply a FC layer and then a regression prediction on the\n",
    "# combined outputs\n",
    "z = Dense(2, activation=\"selu\")(combined)\n",
    "z = Dense(1, activation=\"sigmoid\")(z)\n",
    "\n",
    "# Our model will accept the inputs of the two branches and\n",
    "# then output a single value\n",
    "model = Model(inputs=[gluten_model.input, lactose_model.input], outputs=z)"
   ]
  },
  {
   "cell_type": "code",
   "execution_count": null,
   "id": "5e0ae7d6",
   "metadata": {},
   "outputs": [],
   "source": []
  },
  {
   "cell_type": "code",
   "execution_count": 17,
   "id": "2354bdfc",
   "metadata": {
    "scrolled": false
   },
   "outputs": [
    {
     "name": "stdout",
     "output_type": "stream",
     "text": [
      "Epoch 1/50\n",
      "959/959 [==============================] - 3s 2ms/step - loss: 0.1481 - accuracy: 0.9675 - val_loss: 0.1444 - val_accuracy: 0.9674\n",
      "Epoch 2/50\n",
      "959/959 [==============================] - 2s 2ms/step - loss: 0.1439 - accuracy: 0.9679 - val_loss: 0.1466 - val_accuracy: 0.9674\n",
      "Epoch 3/50\n",
      "959/959 [==============================] - 2s 2ms/step - loss: 0.1436 - accuracy: 0.9679 - val_loss: 0.1465 - val_accuracy: 0.9674\n",
      "Epoch 4/50\n",
      "959/959 [==============================] - 2s 2ms/step - loss: 0.1435 - accuracy: 0.9679 - val_loss: 0.1457 - val_accuracy: 0.9674\n",
      "Epoch 5/50\n",
      "959/959 [==============================] - 2s 2ms/step - loss: 0.1433 - accuracy: 0.9679 - val_loss: 0.1468 - val_accuracy: 0.9674\n",
      "Epoch 6/50\n",
      "959/959 [==============================] - 2s 2ms/step - loss: 0.1432 - accuracy: 0.9679 - val_loss: 0.1446 - val_accuracy: 0.9674\n",
      "Epoch 7/50\n",
      "959/959 [==============================] - 2s 2ms/step - loss: 0.1427 - accuracy: 0.9679 - val_loss: 0.1451 - val_accuracy: 0.9674\n",
      "Epoch 8/50\n",
      "959/959 [==============================] - 2s 2ms/step - loss: 0.1429 - accuracy: 0.9679 - val_loss: 0.1443 - val_accuracy: 0.9674\n",
      "Epoch 9/50\n",
      "959/959 [==============================] - 2s 2ms/step - loss: 0.1425 - accuracy: 0.9679 - val_loss: 0.1444 - val_accuracy: 0.9674\n",
      "Epoch 10/50\n",
      "959/959 [==============================] - 2s 2ms/step - loss: 0.1425 - accuracy: 0.9679 - val_loss: 0.1444 - val_accuracy: 0.9674\n",
      "Epoch 11/50\n",
      "959/959 [==============================] - 2s 2ms/step - loss: 0.1424 - accuracy: 0.9679 - val_loss: 0.1444 - val_accuracy: 0.9674\n",
      "Epoch 12/50\n",
      "959/959 [==============================] - 2s 2ms/step - loss: 0.1425 - accuracy: 0.9679 - val_loss: 0.1441 - val_accuracy: 0.9674\n",
      "Epoch 13/50\n",
      "959/959 [==============================] - 2s 2ms/step - loss: 0.1425 - accuracy: 0.9679 - val_loss: 0.1443 - val_accuracy: 0.9674\n",
      "Epoch 14/50\n",
      "959/959 [==============================] - 2s 2ms/step - loss: 0.1424 - accuracy: 0.9679 - val_loss: 0.1440 - val_accuracy: 0.9674\n",
      "Epoch 15/50\n",
      "959/959 [==============================] - 2s 2ms/step - loss: 0.1424 - accuracy: 0.9679 - val_loss: 0.1442 - val_accuracy: 0.9674\n",
      "Epoch 16/50\n",
      "959/959 [==============================] - 2s 2ms/step - loss: 0.1423 - accuracy: 0.9679 - val_loss: 0.1444 - val_accuracy: 0.9674\n",
      "Epoch 17/50\n",
      "959/959 [==============================] - 2s 2ms/step - loss: 0.1423 - accuracy: 0.9679 - val_loss: 0.1450 - val_accuracy: 0.9674\n",
      "Epoch 18/50\n",
      "959/959 [==============================] - 2s 2ms/step - loss: 0.1423 - accuracy: 0.9679 - val_loss: 0.1442 - val_accuracy: 0.9674\n",
      "Epoch 19/50\n",
      "959/959 [==============================] - 2s 2ms/step - loss: 0.1423 - accuracy: 0.9679 - val_loss: 0.1442 - val_accuracy: 0.9674\n",
      "Epoch 20/50\n",
      "959/959 [==============================] - 2s 2ms/step - loss: 0.1422 - accuracy: 0.9679 - val_loss: 0.1452 - val_accuracy: 0.9674\n",
      "Epoch 21/50\n",
      "959/959 [==============================] - 2s 2ms/step - loss: 0.1423 - accuracy: 0.9679 - val_loss: 0.1443 - val_accuracy: 0.9674\n",
      "Epoch 22/50\n",
      "959/959 [==============================] - 2s 2ms/step - loss: 0.1422 - accuracy: 0.9679 - val_loss: 0.1441 - val_accuracy: 0.9674\n",
      "Epoch 23/50\n",
      "959/959 [==============================] - 2s 2ms/step - loss: 0.1422 - accuracy: 0.9679 - val_loss: 0.1441 - val_accuracy: 0.9674\n",
      "Epoch 24/50\n",
      "959/959 [==============================] - 2s 2ms/step - loss: 0.1421 - accuracy: 0.9679 - val_loss: 0.1450 - val_accuracy: 0.9674\n",
      "Epoch 25/50\n",
      "959/959 [==============================] - 2s 2ms/step - loss: 0.1422 - accuracy: 0.9679 - val_loss: 0.1447 - val_accuracy: 0.9674\n",
      "Epoch 26/50\n",
      "959/959 [==============================] - 2s 2ms/step - loss: 0.1422 - accuracy: 0.9679 - val_loss: 0.1446 - val_accuracy: 0.9674\n",
      "Epoch 27/50\n",
      "959/959 [==============================] - 2s 2ms/step - loss: 0.1421 - accuracy: 0.9679 - val_loss: 0.1444 - val_accuracy: 0.9674\n",
      "Epoch 28/50\n",
      "959/959 [==============================] - 2s 2ms/step - loss: 0.1422 - accuracy: 0.9679 - val_loss: 0.1446 - val_accuracy: 0.9674\n",
      "Epoch 29/50\n",
      "959/959 [==============================] - 2s 2ms/step - loss: 0.1422 - accuracy: 0.9679 - val_loss: 0.1442 - val_accuracy: 0.9674\n",
      "Epoch 30/50\n",
      "959/959 [==============================] - 2s 2ms/step - loss: 0.1422 - accuracy: 0.9679 - val_loss: 0.1442 - val_accuracy: 0.9674\n",
      "Epoch 31/50\n",
      "959/959 [==============================] - 2s 2ms/step - loss: 0.1422 - accuracy: 0.9679 - val_loss: 0.1441 - val_accuracy: 0.9674\n",
      "Epoch 32/50\n",
      "959/959 [==============================] - 2s 2ms/step - loss: 0.1421 - accuracy: 0.9679 - val_loss: 0.1441 - val_accuracy: 0.9674\n",
      "Epoch 33/50\n",
      "959/959 [==============================] - 2s 2ms/step - loss: 0.1422 - accuracy: 0.9679 - val_loss: 0.1443 - val_accuracy: 0.9674\n",
      "Epoch 34/50\n",
      "959/959 [==============================] - 2s 2ms/step - loss: 0.1422 - accuracy: 0.9679 - val_loss: 0.1442 - val_accuracy: 0.9674\n",
      "Epoch 35/50\n",
      "959/959 [==============================] - 2s 2ms/step - loss: 0.1422 - accuracy: 0.9679 - val_loss: 0.1445 - val_accuracy: 0.9674\n",
      "Epoch 36/50\n",
      "959/959 [==============================] - 2s 2ms/step - loss: 0.1422 - accuracy: 0.9679 - val_loss: 0.1442 - val_accuracy: 0.9674\n",
      "Epoch 37/50\n",
      "959/959 [==============================] - 2s 2ms/step - loss: 0.1422 - accuracy: 0.9679 - val_loss: 0.1443 - val_accuracy: 0.9674\n",
      "Epoch 38/50\n",
      "959/959 [==============================] - 2s 2ms/step - loss: 0.1422 - accuracy: 0.9679 - val_loss: 0.1441 - val_accuracy: 0.9674\n",
      "Epoch 39/50\n",
      "959/959 [==============================] - 2s 3ms/step - loss: 0.1421 - accuracy: 0.9679 - val_loss: 0.1449 - val_accuracy: 0.9674\n",
      "Epoch 40/50\n",
      "959/959 [==============================] - 2s 2ms/step - loss: 0.1421 - accuracy: 0.9679 - val_loss: 0.1443 - val_accuracy: 0.9674\n",
      "Epoch 41/50\n",
      "959/959 [==============================] - 2s 2ms/step - loss: 0.1422 - accuracy: 0.9679 - val_loss: 0.1442 - val_accuracy: 0.9674\n",
      "Epoch 42/50\n",
      "959/959 [==============================] - 2s 2ms/step - loss: 0.1422 - accuracy: 0.9679 - val_loss: 0.1441 - val_accuracy: 0.9674\n",
      "Epoch 43/50\n",
      "959/959 [==============================] - 2s 2ms/step - loss: 0.1421 - accuracy: 0.9679 - val_loss: 0.1443 - val_accuracy: 0.9674\n",
      "Epoch 44/50\n",
      "959/959 [==============================] - 2s 2ms/step - loss: 0.1421 - accuracy: 0.9679 - val_loss: 0.1442 - val_accuracy: 0.9674\n",
      "Epoch 45/50\n",
      "959/959 [==============================] - 2s 2ms/step - loss: 0.1421 - accuracy: 0.9679 - val_loss: 0.1440 - val_accuracy: 0.9674\n",
      "Epoch 46/50\n",
      "959/959 [==============================] - 2s 2ms/step - loss: 0.1420 - accuracy: 0.9679 - val_loss: 0.1441 - val_accuracy: 0.9674\n",
      "Epoch 47/50\n",
      "959/959 [==============================] - 2s 2ms/step - loss: 0.1421 - accuracy: 0.9679 - val_loss: 0.1441 - val_accuracy: 0.9674\n",
      "Epoch 48/50\n",
      "959/959 [==============================] - 2s 2ms/step - loss: 0.1421 - accuracy: 0.9679 - val_loss: 0.1444 - val_accuracy: 0.9674\n",
      "Epoch 49/50\n",
      "959/959 [==============================] - 2s 2ms/step - loss: 0.1421 - accuracy: 0.9679 - val_loss: 0.1441 - val_accuracy: 0.9674\n",
      "Epoch 50/50\n",
      "959/959 [==============================] - 2s 2ms/step - loss: 0.1421 - accuracy: 0.9679 - val_loss: 0.1443 - val_accuracy: 0.9674\n"
     ]
    }
   ],
   "source": [
    "# Compile the model\n",
    "model.compile(optimizer='adam', loss='binary_crossentropy', metrics=['accuracy'])\n",
    "\n",
    "# Train the model\n",
    "history = model.fit([X_gluten_train, X_lactose_train], y_train, validation_data=([X_gluten_val, X_lactose_val], y_val), epochs=50, batch_size=32)\n"
   ]
  },
  {
   "cell_type": "code",
   "execution_count": null,
   "id": "4b3b2744",
   "metadata": {},
   "outputs": [],
   "source": []
  },
  {
   "cell_type": "code",
   "execution_count": 18,
   "id": "9855093c",
   "metadata": {},
   "outputs": [
    {
     "name": "stdout",
     "output_type": "stream",
     "text": [
      "274/274 [==============================] - 0s 1ms/step - loss: 0.1418 - accuracy: 0.9680\n",
      "Test accuracy: 0.9680365324020386\n"
     ]
    }
   ],
   "source": [
    "# Evaluate the model on the test set\n",
    "test_loss, test_accuracy = model.evaluate([X_gluten_test, X_lactose_test], y_test)\n",
    "print(f\"Test accuracy: {test_accuracy}\")"
   ]
  },
  {
   "cell_type": "code",
   "execution_count": 19,
   "id": "431f8073",
   "metadata": {},
   "outputs": [
    {
     "data": {
      "image/png": "[encoded data removed]",
      "text/plain": [
       "<Figure size 864x288 with 1 Axes>"
      ]
     },
     "metadata": {
      "needs_background": "light"
     },
     "output_type": "display_data"
    }
   ],
   "source": [
    "# Plot the training and validation loss\n",
    "plt.figure(figsize=(12, 4))\n",
    "plt.plot(history.history['loss'], label='Train Loss')\n",
    "plt.plot(history.history['val_loss'], label='Val Loss')\n",
    "plt.xlabel('Epochs')\n",
    "plt.ylabel('Loss')\n",
    "plt.title('Loss over epochs')\n",
    "plt.legend()\n",
    "plt.show()"
   ]
  },
  {
   "cell_type": "code",
   "execution_count": null,
   "id": "6d6ee0cd",
   "metadata": {},
   "outputs": [],
   "source": []
  },
  {
   "cell_type": "markdown",
   "id": "a4b73abf",
   "metadata": {},
   "source": [
    "---\n",
    "\n",
    "# Doesn't work so great, let's try something else!\n",
    "\n",
    "---\n",
    "\n",
    "The 'Toilet' column will record whether it is going to have diarrhea the next day, rather than whether it is having diarrhea today."
   ]
  },
  {
   "cell_type": "code",
   "execution_count": 20,
   "id": "b1be463c",
   "metadata": {},
   "outputs": [],
   "source": [
    "# Check if any of the columns have non-zero values\n",
    "mask = (df_daily['Breakfast'] != 0) | (df_daily['Morning_Tea'] != 0) | (df_daily['Lunch'] != 0) | (df_daily['Afternoon_Tea'] != 0) | (df_daily['Dinner'] != 0)\n",
    "\n",
    "# Set the value in the 'Tiolet' column for the next row based on the condition\n",
    "df_daily.loc[mask, 'Toilet'] = 1\n",
    "df_daily.loc[~mask, 'Toilet'] = 0"
   ]
  },
  {
   "cell_type": "code",
   "execution_count": 21,
   "id": "d4dd3698",
   "metadata": {},
   "outputs": [
    {
     "name": "stdout",
     "output_type": "stream",
     "text": [
      "Epoch 1/50\n",
      "1095/1095 [==============================] - 2s 2ms/step - loss: 0.0127 - accuracy: 0.9947 - val_loss: 2.4913e-04 - val_accuracy: 1.0000\n",
      "Epoch 2/50\n",
      "1095/1095 [==============================] - 2s 2ms/step - loss: 1.0930e-04 - accuracy: 1.0000 - val_loss: 4.7818e-05 - val_accuracy: 1.0000\n",
      "Epoch 3/50\n",
      "1095/1095 [==============================] - 2s 2ms/step - loss: 2.8354e-05 - accuracy: 1.0000 - val_loss: 1.6864e-05 - val_accuracy: 1.0000\n",
      "Epoch 4/50\n",
      "1095/1095 [==============================] - 2s 2ms/step - loss: 1.1061e-05 - accuracy: 1.0000 - val_loss: 7.3104e-06 - val_accuracy: 1.0000\n",
      "Epoch 5/50\n",
      "1095/1095 [==============================] - 2s 2ms/step - loss: 5.0309e-06 - accuracy: 1.0000 - val_loss: 3.4934e-06 - val_accuracy: 1.0000\n",
      "Epoch 6/50\n",
      "1095/1095 [==============================] - 2s 2ms/step - loss: 2.4671e-06 - accuracy: 1.0000 - val_loss: 1.7607e-06 - val_accuracy: 1.0000\n",
      "Epoch 7/50\n",
      "1095/1095 [==============================] - 2s 2ms/step - loss: 1.2624e-06 - accuracy: 1.0000 - val_loss: 9.1436e-07 - val_accuracy: 1.0000\n",
      "Epoch 8/50\n",
      "1095/1095 [==============================] - 2s 2ms/step - loss: 6.6164e-07 - accuracy: 1.0000 - val_loss: 4.8342e-07 - val_accuracy: 1.0000\n",
      "Epoch 9/50\n",
      "1095/1095 [==============================] - 2s 2ms/step - loss: 3.5289e-07 - accuracy: 1.0000 - val_loss: 2.6041e-07 - val_accuracy: 1.0000\n",
      "Epoch 10/50\n",
      "1095/1095 [==============================] - 2s 2ms/step - loss: 1.9065e-07 - accuracy: 1.0000 - val_loss: 1.4127e-07 - val_accuracy: 1.0000\n",
      "Epoch 11/50\n",
      "1095/1095 [==============================] - 2s 2ms/step - loss: 1.0410e-07 - accuracy: 1.0000 - val_loss: 7.7846e-08 - val_accuracy: 1.0000\n",
      "Epoch 12/50\n",
      "1095/1095 [==============================] - 2s 2ms/step - loss: 5.7690e-08 - accuracy: 1.0000 - val_loss: 4.3409e-08 - val_accuracy: 1.0000\n",
      "Epoch 13/50\n",
      "1095/1095 [==============================] - 2s 2ms/step - loss: 3.2396e-08 - accuracy: 1.0000 - val_loss: 2.4852e-08 - val_accuracy: 1.0000\n",
      "Epoch 14/50\n",
      "1095/1095 [==============================] - 2s 2ms/step - loss: 1.8633e-08 - accuracy: 1.0000 - val_loss: 1.3903e-08 - val_accuracy: 1.0000\n",
      "Epoch 15/50\n",
      "1095/1095 [==============================] - 2s 2ms/step - loss: 1.0716e-08 - accuracy: 1.0000 - val_loss: 8.8981e-09 - val_accuracy: 1.0000\n",
      "Epoch 16/50\n",
      "1095/1095 [==============================] - 2s 2ms/step - loss: 7.6729e-09 - accuracy: 1.0000 - val_loss: 6.9236e-09 - val_accuracy: 1.0000\n",
      "Epoch 17/50\n",
      "1095/1095 [==============================] - 2s 2ms/step - loss: 6.3186e-09 - accuracy: 1.0000 - val_loss: 5.9382e-09 - val_accuracy: 1.0000\n",
      "Epoch 18/50\n",
      "1095/1095 [==============================] - 2s 2ms/step - loss: 5.6169e-09 - accuracy: 1.0000 - val_loss: 5.4078e-09 - val_accuracy: 1.0000\n",
      "Epoch 19/50\n",
      "1095/1095 [==============================] - 2s 2ms/step - loss: 5.2287e-09 - accuracy: 1.0000 - val_loss: 5.1051e-09 - val_accuracy: 1.0000\n",
      "Epoch 20/50\n",
      "1095/1095 [==============================] - 2s 2ms/step - loss: 5.0015e-09 - accuracy: 1.0000 - val_loss: 4.9241e-09 - val_accuracy: 1.0000\n",
      "Epoch 21/50\n",
      "1095/1095 [==============================] - 2s 2ms/step - loss: 4.8655e-09 - accuracy: 1.0000 - val_loss: 4.8199e-09 - val_accuracy: 1.0000\n",
      "Epoch 22/50\n",
      "1095/1095 [==============================] - 2s 2ms/step - loss: 4.7691e-09 - accuracy: 1.0000 - val_loss: 4.7467e-09 - val_accuracy: 1.0000\n",
      "Epoch 23/50\n",
      "1095/1095 [==============================] - 2s 2ms/step - loss: 4.7203e-09 - accuracy: 1.0000 - val_loss: 4.6925e-09 - val_accuracy: 1.0000\n",
      "Epoch 24/50\n",
      "1095/1095 [==============================] - 2s 2ms/step - loss: 4.6755e-09 - accuracy: 1.0000 - val_loss: 4.6464e-09 - val_accuracy: 1.0000\n",
      "Epoch 25/50\n",
      "1095/1095 [==============================] - 2s 2ms/step - loss: 4.6506e-09 - accuracy: 1.0000 - val_loss: 4.6418e-09 - val_accuracy: 1.0000\n",
      "Epoch 26/50\n",
      "1095/1095 [==============================] - 2s 2ms/step - loss: 4.6443e-09 - accuracy: 1.0000 - val_loss: 4.6281e-09 - val_accuracy: 1.0000\n",
      "Epoch 27/50\n",
      "1095/1095 [==============================] - 2s 2ms/step - loss: 4.6165e-09 - accuracy: 1.0000 - val_loss: 4.6283e-09 - val_accuracy: 1.0000\n",
      "Epoch 28/50\n",
      "1095/1095 [==============================] - 2s 2ms/step - loss: 4.6180e-09 - accuracy: 1.0000 - val_loss: 4.6078e-09 - val_accuracy: 1.0000\n",
      "Epoch 29/50\n",
      "1095/1095 [==============================] - 2s 2ms/step - loss: 4.6012e-09 - accuracy: 1.0000 - val_loss: 4.5951e-09 - val_accuracy: 1.0000\n",
      "Epoch 30/50\n",
      "1095/1095 [==============================] - 2s 2ms/step - loss: 4.5957e-09 - accuracy: 1.0000 - val_loss: 4.5846e-09 - val_accuracy: 1.0000\n",
      "Epoch 31/50\n",
      "1095/1095 [==============================] - 2s 2ms/step - loss: 4.5867e-09 - accuracy: 1.0000 - val_loss: 4.5992e-09 - val_accuracy: 1.0000\n",
      "Epoch 32/50\n",
      "1095/1095 [==============================] - 2s 2ms/step - loss: 4.6015e-09 - accuracy: 1.0000 - val_loss: 4.5887e-09 - val_accuracy: 1.0000\n",
      "Epoch 33/50\n",
      "1095/1095 [==============================] - 2s 2ms/step - loss: 4.5980e-09 - accuracy: 1.0000 - val_loss: 4.5826e-09 - val_accuracy: 1.0000\n",
      "Epoch 34/50\n",
      "1095/1095 [==============================] - 2s 2ms/step - loss: 4.5966e-09 - accuracy: 1.0000 - val_loss: 4.5873e-09 - val_accuracy: 1.0000\n",
      "Epoch 35/50\n",
      "1095/1095 [==============================] - 2s 2ms/step - loss: 4.5800e-09 - accuracy: 1.0000 - val_loss: 4.5461e-09 - val_accuracy: 1.0000\n",
      "Epoch 36/50\n",
      "1095/1095 [==============================] - 2s 2ms/step - loss: 4.5850e-09 - accuracy: 1.0000 - val_loss: 4.5788e-09 - val_accuracy: 1.0000\n",
      "Epoch 37/50\n",
      "1095/1095 [==============================] - 2s 2ms/step - loss: 4.5851e-09 - accuracy: 1.0000 - val_loss: 4.5714e-09 - val_accuracy: 1.0000\n",
      "Epoch 38/50\n",
      "1095/1095 [==============================] - 2s 2ms/step - loss: 4.5738e-09 - accuracy: 1.0000 - val_loss: 4.5784e-09 - val_accuracy: 1.0000\n",
      "Epoch 39/50\n",
      "1095/1095 [==============================] - 2s 2ms/step - loss: 4.5683e-09 - accuracy: 1.0000 - val_loss: 4.5764e-09 - val_accuracy: 1.0000\n",
      "Epoch 40/50\n",
      "1095/1095 [==============================] - 2s 2ms/step - loss: 4.5723e-09 - accuracy: 1.0000 - val_loss: 4.5078e-09 - val_accuracy: 1.0000\n",
      "Epoch 41/50\n",
      "1095/1095 [==============================] - 2s 2ms/step - loss: 4.5547e-09 - accuracy: 1.0000 - val_loss: 4.5461e-09 - val_accuracy: 1.0000\n",
      "Epoch 42/50\n",
      "1095/1095 [==============================] - 2s 2ms/step - loss: 4.5595e-09 - accuracy: 1.0000 - val_loss: 4.5508e-09 - val_accuracy: 1.0000\n",
      "Epoch 43/50\n",
      "1095/1095 [==============================] - 2s 2ms/step - loss: 4.5809e-09 - accuracy: 1.0000 - val_loss: 4.5772e-09 - val_accuracy: 1.0000\n",
      "Epoch 44/50\n",
      "1095/1095 [==============================] - 2s 2ms/step - loss: 4.5468e-09 - accuracy: 1.0000 - val_loss: 4.5081e-09 - val_accuracy: 1.0000\n",
      "Epoch 45/50\n",
      "1095/1095 [==============================] - 2s 2ms/step - loss: 4.5629e-09 - accuracy: 1.0000 - val_loss: 4.4995e-09 - val_accuracy: 1.0000\n",
      "Epoch 46/50\n",
      "1095/1095 [==============================] - 2s 2ms/step - loss: 4.5484e-09 - accuracy: 1.0000 - val_loss: 4.5602e-09 - val_accuracy: 1.0000\n",
      "Epoch 47/50\n",
      "1095/1095 [==============================] - 2s 2ms/step - loss: 4.5572e-09 - accuracy: 1.0000 - val_loss: 4.5377e-09 - val_accuracy: 1.0000\n",
      "Epoch 48/50\n",
      "1095/1095 [==============================] - 2s 2ms/step - loss: 4.5790e-09 - accuracy: 1.0000 - val_loss: 4.5662e-09 - val_accuracy: 1.0000\n",
      "Epoch 49/50\n",
      "1095/1095 [==============================] - 2s 2ms/step - loss: 4.5739e-09 - accuracy: 1.0000 - val_loss: 4.5619e-09 - val_accuracy: 1.0000\n",
      "Epoch 50/50\n",
      "1095/1095 [==============================] - 2s 2ms/step - loss: 4.5542e-09 - accuracy: 1.0000 - val_loss: 4.4907e-09 - val_accuracy: 1.0000\n"
     ]
    }
   ],
   "source": [
    "from tensorflow import keras\n",
    "# Split the data into training, testing, and validation sets\n",
    "train_data, test_data = train_test_split(df_daily, test_size=0.2, random_state=42)\n",
    "test_data, val_data = train_test_split(test_data, test_size=0.5, random_state=42)\n",
    "\n",
    "# Separate the features and labels\n",
    "train_features = train_data[['Breakfast', 'Morning_Tea', 'Lunch', 'Afternoon_Tea', 'Dinner']]\n",
    "train_labels = train_data['Toilet']\n",
    "test_features = test_data[['Breakfast', 'Morning_Tea', 'Lunch', 'Afternoon_Tea', 'Dinner']]\n",
    "test_labels = test_data['Toilet']\n",
    "val_features = val_data[['Breakfast', 'Morning_Tea', 'Lunch', 'Afternoon_Tea', 'Dinner']]\n",
    "val_labels = val_data['Toilet']\n",
    "\n",
    "# Define the model architecture\n",
    "gluten_subnetwork = keras.Sequential([\n",
    "    keras.layers.Dense(64, activation='selu', input_shape=(5,)),\n",
    "    keras.layers.Dense(32, activation='selu'),\n",
    "#     keras.layers.Dense(16, activation='relu'),\n",
    "])\n",
    "lactose_subnetwork = keras.Sequential([\n",
    "    keras.layers.Dense(64, activation='selu', input_shape=(5,)),\n",
    "    keras.layers.Dense(32, activation='selu'),\n",
    "#     keras.layers.Dense(16, activation='relu'),\n",
    "])\n",
    "combined_network = keras.layers.concatenate([gluten_subnetwork.output, lactose_subnetwork.output])\n",
    "output_layer = keras.layers.Dense(1, activation='sigmoid')(combined_network)\n",
    "model = keras.Model(inputs=[gluten_subnetwork.input, lactose_subnetwork.input], outputs=output_layer)\n",
    "\n",
    "# Compile the model\n",
    "model.compile(optimizer='adam', loss='binary_crossentropy', metrics=['accuracy'])\n",
    "\n",
    "# Train the model\n",
    "history = model.fit(\n",
    "    [train_features, train_features],\n",
    "    train_labels,\n",
    "    epochs=50,\n",
    "    batch_size=32,\n",
    "    validation_data=([val_features, val_features], val_labels)\n",
    ")\n",
    "\n",
    "\n",
    "\n"
   ]
  },
  {
   "cell_type": "code",
   "execution_count": 22,
   "id": "c142131e",
   "metadata": {},
   "outputs": [
    {
     "data": {
      "image/png": "[encoded data removed]",
      "text/plain": [
       "<Figure size 864x288 with 1 Axes>"
      ]
     },
     "metadata": {
      "needs_background": "light"
     },
     "output_type": "display_data"
    },
    {
     "name": "stdout",
     "output_type": "stream",
     "text": [
      "137/137 [==============================] - 0s 1ms/step - loss: 4.6887e-09 - accuracy: 1.0000\n",
      "Test Loss: 0.0000\n",
      "Test Accuracy: 100.00%\n"
     ]
    }
   ],
   "source": [
    "plt.figure(figsize=(12, 4))\n",
    "plt.plot(history.history['loss'], label='Train Loss')\n",
    "plt.plot(history.history['val_loss'], label='Val Loss')\n",
    "plt.xlabel('Epoch')\n",
    "plt.ylabel('Loss')\n",
    "plt.title('Loss over epochs')\n",
    "plt.legend()\n",
    "plt.show()\n",
    "\n",
    "# Evaluate the model on the test data\n",
    "loss, accuracy = model.evaluate([test_features, test_features], test_labels)\n",
    "print(f'Test Loss: {loss:.4f}')\n",
    "print(f'Test Accuracy: {accuracy*100:.2f}%')"
   ]
  },
  {
   "cell_type": "markdown",
   "id": "d0290c21",
   "metadata": {},
   "source": [
    "---\n",
    "\n",
    "# This works out reaaaaly great! BUT! Two networks are using same amount of inputs."
   ]
  },
  {
   "cell_type": "code",
   "execution_count": null,
   "id": "b2666421",
   "metadata": {},
   "outputs": [],
   "source": []
  }
 ],
 "metadata": {
  "kernelspec": {
   "display_name": "Python 3 (ipykernel)",
   "language": "python",
   "name": "python3"
  },
  "language_info": {
   "codemirror_mode": {
    "name": "ipython",
    "version": 3
   },
   "file_extension": ".py",
   "mimetype": "text/x-python",
   "name": "python",
   "nbconvert_exporter": "python",
   "pygments_lexer": "ipython3",
   "version": "3.8.15"
  }
 },
 "nbformat": 4,
 "nbformat_minor": 5
}
