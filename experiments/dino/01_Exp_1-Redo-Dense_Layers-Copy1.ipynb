{
 "cells": [
  {
   "cell_type": "markdown",
   "id": "bb251465",
   "metadata": {},
   "source": [
    "# Experiment 1\n",
    "\n",
    "Marching towards graduation!"
   ]
  },
  {
   "cell_type": "markdown",
   "id": "6f3b8d8d",
   "metadata": {},
   "source": [
    "---\n",
    "\n",
    "## 1. Dataset Creation\n",
    "\n",
    "> Prof Dino has major GI issues (I do), stemming from a gluten and a lactose allergy. Let's just say that if he eats something with gluten or drinks something with lactose, then next day(s) he has diarrhea. Create a dataset with breakfast, morning tea, lunch, afternoon tea, dinner, toilet. Each column is binary (T/F) values, and for breakfast, lunch, and dinner denotes whether or not I had gluten. For both tea columns, it's whether I had tea with milk. Toilet T means diarrhea. Create that dataset randomly as T/F values, for all columns. Make sure the label is balanced around T/F."
   ]
  },
  {
   "cell_type": "markdown",
   "id": "a37766d7",
   "metadata": {},
   "source": [
    "## 1.1 Generate Randomly Selected Data\n",
    "\n",
    "To achieve this, I will outline the steps to create a balanced dataset with $43,800$ rows, equivalent to approximately $120$ years of data (All I wish Prof. Dino will live forever, but my RAM is small.):\n",
    "\n",
    "1. Create a dataframe called df_daily with five columns: `Breakfast`, `Morning_Tea`, `Lunch`, `Afternoon_Tea`, and `Dinner`.\n",
    "\n",
    "2. Add $21,900$ rows to df_daily where all values are set to $False$.\n",
    "\n",
    "3. Add another $21,900$ rows to df_daily where the values in each column are randomly filled with $True$ or $False$.\n",
    "\n",
    "4. Shuffle all the rows in `df_daily` randomly.\n",
    "\n",
    "> https://datagy.io/pandas-shuffle-dataframe/\n",
    "\n",
    "By following these steps, we can generate a balanced dataset that encompasses a substantial time span."
   ]
  },
  {
   "cell_type": "code",
   "execution_count": 1,
   "id": "b42cefdc",
   "metadata": {},
   "outputs": [],
   "source": [
    "import pandas as pd\n",
    "import numpy as np\n",
    "# from sklearn.utils import shuffle\n",
    "\n",
    "# Define the column names\n",
    "cols = ['Breakfast', 'Morning_Tea', 'Lunch', 'Afternoon_Tea', 'Dinner']"
   ]
  },
  {
   "cell_type": "code",
   "execution_count": 2,
   "id": "cf3da447",
   "metadata": {},
   "outputs": [],
   "source": [
    "# Create a dataframe with all False rows\n",
    "df_false = pd.DataFrame(np.full((21900, len(cols)), False), columns=cols)"
   ]
  },
  {
   "cell_type": "code",
   "execution_count": 3,
   "id": "30d7d743",
   "metadata": {},
   "outputs": [],
   "source": [
    "# Create a dataframe with randomly assigned True/False rows\n",
    "df_random = pd.DataFrame(np.random.choice([True, False], size=(21900, len(cols))), columns=cols)"
   ]
  },
  {
   "cell_type": "code",
   "execution_count": 4,
   "id": "bd123b09",
   "metadata": {},
   "outputs": [],
   "source": [
    "# Concatenate the dataframes\n",
    "df_daily = pd.concat([df_false, df_random])"
   ]
  },
  {
   "cell_type": "code",
   "execution_count": 5,
   "id": "6c0a94de",
   "metadata": {},
   "outputs": [
    {
     "data": {
      "text/plain": [
       "22595"
      ]
     },
     "execution_count": 5,
     "metadata": {},
     "output_type": "execute_result"
    }
   ],
   "source": [
    "count_all_false = (df_daily == False).all(axis=1).sum()\n",
    "count_all_false"
   ]
  },
  {
   "cell_type": "code",
   "execution_count": 6,
   "id": "1f8a5f66",
   "metadata": {},
   "outputs": [],
   "source": [
    "# Shuffle the dataframe\n",
    "df_daily = df_daily.sample(frac=1).reset_index()"
   ]
  },
  {
   "cell_type": "code",
   "execution_count": null,
   "id": "d56c0750",
   "metadata": {},
   "outputs": [],
   "source": []
  },
  {
   "cell_type": "markdown",
   "id": "96cf97fd",
   "metadata": {},
   "source": [
    "## 1.2 Create Label 'Toilet'\n",
    "\n",
    "After creating the dataframe `df_daily`, we can add a new column called `Toilet`. For each row $t$ in df_daily, we can set the value in the `Toilet` column of row $t+1$ based on the values in the `Breakfast`, `Morning_Tea`, `Lunch`, `Afternoon_Tea`, and `Dinner` columns."
   ]
  },
  {
   "cell_type": "code",
   "execution_count": 7,
   "id": "c5ee70e7",
   "metadata": {},
   "outputs": [],
   "source": [
    "df_daily['Toilet'] = df_daily[['Breakfast', 'Morning_Tea', 'Lunch', 'Afternoon_Tea', 'Dinner']].any(axis=1).shift(-1, fill_value=False)"
   ]
  },
  {
   "cell_type": "markdown",
   "id": "ea1dd4de",
   "metadata": {},
   "source": [
    "In this code, we use the **any()** function along with the **axis=1** argument to check if any value in the specified columns is $True$. We then use the **shift()** function with $-1$ as the shift parameter to shift the values by one row. Finally, we use the **fill_value=False** argument to replace any $NaN$ values resulting from the shift operation with $False$."
   ]
  },
  {
   "cell_type": "code",
   "execution_count": 8,
   "id": "c1b8b1b1",
   "metadata": {},
   "outputs": [],
   "source": [
    "df_daily = df_daily.drop('index', axis=1)"
   ]
  },
  {
   "cell_type": "code",
   "execution_count": 9,
   "id": "851ae4e0",
   "metadata": {},
   "outputs": [
    {
     "data": {
      "text/plain": [
       "(43800, 6)"
      ]
     },
     "execution_count": 9,
     "metadata": {},
     "output_type": "execute_result"
    }
   ],
   "source": [
    "df_daily.shape"
   ]
  },
  {
   "cell_type": "markdown",
   "id": "44c6ca81",
   "metadata": {},
   "source": [
    "By following this approach, we have successfully obtained a dataset with $43,800$ rows and $6$ labels. To ensure the data's integrity, let's perform a sanity check to confirm that there are no $NaN$ values present.\n",
    "\n",
    "---\n",
    "\n",
    "## 1.3 Sanity Check\n",
    "\n",
    "Here's the code snippet to perform the sanity check:"
   ]
  },
  {
   "cell_type": "code",
   "execution_count": 10,
   "id": "22cd1a40",
   "metadata": {},
   "outputs": [
    {
     "name": "stdout",
     "output_type": "stream",
     "text": [
      "Sanity check passed: No NaN values detected in the dataset.\n"
     ]
    }
   ],
   "source": [
    "# Check for NaN values in the dataset\n",
    "nan_values = df_daily.isnull().sum().sum()\n",
    "\n",
    "if nan_values == 0:\n",
    "    print(\"Sanity check passed: No NaN values detected in the dataset.\")\n",
    "else:\n",
    "    print(\"Sanity check failed: NaN values detected in the dataset.\")"
   ]
  },
  {
   "cell_type": "markdown",
   "id": "5ef9b94d",
   "metadata": {},
   "source": [
    "Then, let's examine all the column names in the dataframe df_daily to get an overview of the available columns."
   ]
  },
  {
   "cell_type": "code",
   "execution_count": 11,
   "id": "571f6e83",
   "metadata": {},
   "outputs": [
    {
     "name": "stdout",
     "output_type": "stream",
     "text": [
      "Column names in the dataframe df_daily:\n",
      "['Breakfast', 'Morning_Tea', 'Lunch', 'Afternoon_Tea', 'Dinner', 'Toilet']\n"
     ]
    }
   ],
   "source": [
    "column_names = df_daily.columns.tolist()\n",
    "\n",
    "print(\"Column names in the dataframe df_daily:\")\n",
    "print(column_names)"
   ]
  },
  {
   "cell_type": "markdown",
   "id": "7b54259d",
   "metadata": {},
   "source": [
    "Next, let's examine the distribution of values in the `Toilet` column of the dataframe to assess the dataset's balance. This will provide insights into the proportion of `True` and `False` values in the dataset."
   ]
  },
  {
   "cell_type": "code",
   "execution_count": 12,
   "id": "cd2714a5",
   "metadata": {},
   "outputs": [
    {
     "name": "stdout",
     "output_type": "stream",
     "text": [
      "Distribution of values in the 'Toilet' column:\n",
      "False    22595\n",
      "True     21205\n",
      "Name: Toilet, dtype: int64\n"
     ]
    }
   ],
   "source": [
    "# Check the distribution of values in the 'Toilet' column\n",
    "toilet_distribution = df_daily['Toilet'].value_counts()\n",
    "\n",
    "print(\"Distribution of values in the 'Toilet' column:\")\n",
    "print(toilet_distribution)"
   ]
  },
  {
   "cell_type": "code",
   "execution_count": 13,
   "id": "8fece483",
   "metadata": {},
   "outputs": [
    {
     "data": {
      "text/plain": [
       "<AxesSubplot:xlabel='Toilet', ylabel='count'>"
      ]
     },
     "execution_count": 13,
     "metadata": {},
     "output_type": "execute_result"
    },
    {
     "data": {
      "image/png": "[encoded data removed]",
      "text/plain": [
       "<Figure size 432x288 with 1 Axes>"
      ]
     },
     "metadata": {
      "needs_background": "light"
     },
     "output_type": "display_data"
    }
   ],
   "source": [
    "import matplotlib.pyplot as plt\n",
    "import seaborn as sns\n",
    "%matplotlib inline\n",
    "\n",
    "# Visualize the distribution of values in column 'Toilet'\n",
    "sns.countplot(x = df_daily['Toilet'], palette=[\"#7fcdbb\", \"#edf8b1\"])"
   ]
  },
  {
   "cell_type": "markdown",
   "id": "a317b558",
   "metadata": {},
   "source": [
    "Based on the distribution of values in the `Toilet` column as shown above, we can infer that the dataset is balanced. This conclusion is drawn from observing that there is a roughly equal number of $True$ and $False$ values in the column. With this confirmation, we can proceed to the next step: model creation.\n",
    "\n",
    "---"
   ]
  },
  {
   "cell_type": "markdown",
   "id": "86564cd2",
   "metadata": {},
   "source": [
    "# 2. Model Creation\n",
    "\n",
    "To create a neural network model with two subnetworks based on the dataframe `df_daily`, where each subnetwork predicts the value in the `Toilet` column for the next row, and split the data into training, validation, and testing sets, we are following these steps:\n",
    "\n",
    "1. Split the dataframe into features (input) and labels (output), shift the labels by 1.\n",
    "\n",
    "2. Determine the indices for splitting the data into training, validation, and testing sets based on the provided percentages.\n",
    "\n",
    "3. Create the gluten subnetwork using the `Breakfast`, `Lunch`, and `Dinner` columns.\n",
    "\n",
    "4. Create the lactose subnetwork using the `Morning_Tea` and `Afternoon_Tea` columns.\n",
    "\n",
    "5. Concatenate the output of the subnetworks.\n",
    "\n",
    "6. Add a one-neuron dense layer to the concatenated output for the final prediction of the `Toilet` label.\n",
    "\n",
    "7. Compile the model with an appropriate loss function and optimizer.\n",
    "\n",
    "8. Train the model using the training set and validate using the validation set.\n",
    "\n",
    "9. Evaluate the model's performance using the testing set."
   ]
  },
  {
   "cell_type": "code",
   "execution_count": 14,
   "id": "5a6bbadf",
   "metadata": {},
   "outputs": [],
   "source": [
    "df_daily = df_daily.astype(int)"
   ]
  },
  {
   "cell_type": "code",
   "execution_count": 15,
   "id": "a8a546c3",
   "metadata": {},
   "outputs": [],
   "source": [
    "# Split the dataframe into features (input) and labels (output)\n",
    "features = df_daily[['Breakfast', 'Lunch', 'Dinner', 'Morning_Tea', 'Afternoon_Tea']][0:21900*2 - 1]\n",
    "labels = df_daily['Toilet'][1:]"
   ]
  },
  {
   "cell_type": "markdown",
   "id": "5cbbfa42",
   "metadata": {},
   "source": [
    "Perform an inspection to check the number of rows in the feature and label dataframes and verify if they have the same length. Doing this will display the number of rows in the features and labels dataframes. It will also indicate whether the two dataframes have the same length or not."
   ]
  },
  {
   "cell_type": "code",
   "execution_count": 16,
   "id": "bfcc8a85",
   "metadata": {},
   "outputs": [
    {
     "name": "stdout",
     "output_type": "stream",
     "text": [
      "Number of rows in features dataframe: 43799\n",
      "Number of rows in labels dataframe: 43799\n",
      "The feature and label dataframes have the same length.\n"
     ]
    }
   ],
   "source": [
    "num_features_rows = len(features)\n",
    "num_labels_rows = len(labels)\n",
    "\n",
    "print(\"Number of rows in features dataframe:\", num_features_rows)\n",
    "print(\"Number of rows in labels dataframe:\", num_labels_rows)\n",
    "\n",
    "if num_features_rows == num_labels_rows:\n",
    "    print(\"The feature and label dataframes have the same length.\")\n",
    "else:\n",
    "    print(\"The feature and label dataframes do not have the same length.\")\n"
   ]
  },
  {
   "cell_type": "code",
   "execution_count": 17,
   "id": "23250c43",
   "metadata": {},
   "outputs": [],
   "source": [
    "# Determine the indices for splitting the data\n",
    "train_size = int(len(df_daily) * 0.8)\n",
    "val_size = int(len(df_daily) * 0.1)\n",
    "test_size = len(df_daily) - train_size - val_size"
   ]
  },
  {
   "cell_type": "markdown",
   "id": "f50f7ead",
   "metadata": {},
   "source": [
    "We first split the dataframe into features and labels. Then, we use the train_test_split() function from scikit-learn to split the data into training, validation, and testing sets based on the provided percentages."
   ]
  },
  {
   "cell_type": "code",
   "execution_count": 18,
   "id": "4c005178",
   "metadata": {},
   "outputs": [],
   "source": [
    "from sklearn.model_selection import train_test_split\n",
    "from tensorflow.keras.models import Model\n",
    "from tensorflow.keras.layers import Input, Dense, concatenate\n",
    "from tensorflow.keras.optimizers import Adam\n",
    "from tensorflow.keras.utils import plot_model"
   ]
  },
  {
   "cell_type": "code",
   "execution_count": 19,
   "id": "287f881b",
   "metadata": {},
   "outputs": [],
   "source": [
    "# Split the data into training, validation, and testing sets\n",
    "train_features = features.iloc[:train_size]\n",
    "val_features = features.iloc[train_size:train_size+val_size]\n",
    "test_features = features.iloc[-test_size:]\n",
    "\n",
    "train_labels = labels.iloc[:train_size]\n",
    "val_labels = labels.iloc[train_size:train_size+val_size]\n",
    "test_labels = labels.iloc[-test_size:]"
   ]
  },
  {
   "cell_type": "markdown",
   "id": "411963e9",
   "metadata": {},
   "source": [
    "Next, we create the gluten and lactose subnetworks using the dense layers. The output of these subnetworks is concatenated, and a final prediction layer is added. The model is then compiled with the appropriate loss function and optimizer."
   ]
  },
  {
   "cell_type": "code",
   "execution_count": 20,
   "id": "4e12dd5c",
   "metadata": {},
   "outputs": [],
   "source": [
    "# Create the gluten subnetwork\n",
    "gluten_input = Input(shape=(3,))\n",
    "gluten_dense1 = Dense(64, activation='relu')(gluten_input)\n",
    "gluten_dense2 = Dense(32, activation='relu')(gluten_dense1)\n",
    "# gluten_output = Dense(1, activation='sigmoid')(gluten_dense2)\n",
    "gluten_output = Dense(1, activation='relu')(gluten_dense2)"
   ]
  },
  {
   "cell_type": "code",
   "execution_count": 21,
   "id": "8f55b950",
   "metadata": {},
   "outputs": [],
   "source": [
    "# Create the lactose subnetwork\n",
    "lactose_input = Input(shape=(2,))\n",
    "lactose_dense1 = Dense(64, activation='relu')(lactose_input)\n",
    "lactose_dense2 = Dense(32, activation='relu')(lactose_dense1)\n",
    "# lactose_output = Dense(1, activation='sigmoid')(lactose_dense2)\n",
    "lactose_output = Dense(1, activation='relu')(lactose_dense2)"
   ]
  },
  {
   "cell_type": "code",
   "execution_count": 22,
   "id": "cb1f1285",
   "metadata": {},
   "outputs": [],
   "source": [
    "# Concatenate the output of the subnetworks\n",
    "concatenated = concatenate([gluten_output, lactose_output])"
   ]
  },
  {
   "cell_type": "code",
   "execution_count": 23,
   "id": "17a5d2b9",
   "metadata": {},
   "outputs": [],
   "source": [
    "# Build the final prediction layer\n",
    "prediction = Dense(1, activation='sigmoid')(concatenated)"
   ]
  },
  {
   "cell_type": "code",
   "execution_count": 24,
   "id": "96980055",
   "metadata": {},
   "outputs": [],
   "source": [
    "# Build the final prediction layer\n",
    "prediction = Dense(1, activation='sigmoid')(concatenated)"
   ]
  },
  {
   "cell_type": "code",
   "execution_count": 25,
   "id": "08842432",
   "metadata": {},
   "outputs": [],
   "source": [
    "# Create the model\n",
    "model = Model(inputs=[gluten_input, lactose_input], outputs=prediction)"
   ]
  },
  {
   "cell_type": "markdown",
   "id": "76d35d65",
   "metadata": {},
   "source": [
    "The `Adam` optimizer is used with the specified learning rate of $0.001$. The optimizer is then passed to the **compile()** function to set the learning rate of the model."
   ]
  },
  {
   "cell_type": "code",
   "execution_count": 26,
   "id": "d9ad1a98",
   "metadata": {},
   "outputs": [],
   "source": [
    "# Set the learning rate\n",
    "learning_rate = 0.001\n",
    "optimizer = Adam(learning_rate=learning_rate)"
   ]
  },
  {
   "cell_type": "code",
   "execution_count": 27,
   "id": "e3607986",
   "metadata": {},
   "outputs": [],
   "source": [
    "# Compile the model with the specified learning rate\n",
    "model.compile(optimizer=optimizer, loss='binary_crossentropy', metrics=['accuracy'])"
   ]
  },
  {
   "cell_type": "markdown",
   "id": "3b6c992a",
   "metadata": {},
   "source": [
    "Let's then display a summary of the model's structure, including the number of parameters in each layer and the total number of trainable parameters."
   ]
  },
  {
   "cell_type": "code",
   "execution_count": 28,
   "id": "1d970c28",
   "metadata": {},
   "outputs": [
    {
     "name": "stdout",
     "output_type": "stream",
     "text": [
      "Model: \"model\"\n",
      "__________________________________________________________________________________________________\n",
      " Layer (type)                   Output Shape         Param #     Connected to                     \n",
      "==================================================================================================\n",
      " input_1 (InputLayer)           [(None, 3)]          0           []                               \n",
      "                                                                                                  \n",
      " input_2 (InputLayer)           [(None, 2)]          0           []                               \n",
      "                                                                                                  \n",
      " dense (Dense)                  (None, 64)           256         ['input_1[0][0]']                \n",
      "                                                                                                  \n",
      " dense_3 (Dense)                (None, 64)           192         ['input_2[0][0]']                \n",
      "                                                                                                  \n",
      " dense_1 (Dense)                (None, 32)           2080        ['dense[0][0]']                  \n",
      "                                                                                                  \n",
      " dense_4 (Dense)                (None, 32)           2080        ['dense_3[0][0]']                \n",
      "                                                                                                  \n",
      " dense_2 (Dense)                (None, 1)            33          ['dense_1[0][0]']                \n",
      "                                                                                                  \n",
      " dense_5 (Dense)                (None, 1)            33          ['dense_4[0][0]']                \n",
      "                                                                                                  \n",
      " concatenate (Concatenate)      (None, 2)            0           ['dense_2[0][0]',                \n",
      "                                                                  'dense_5[0][0]']                \n",
      "                                                                                                  \n",
      " dense_7 (Dense)                (None, 1)            3           ['concatenate[0][0]']            \n",
      "                                                                                                  \n",
      "==================================================================================================\n",
      "Total params: 4,677\n",
      "Trainable params: 4,677\n",
      "Non-trainable params: 0\n",
      "__________________________________________________________________________________________________\n"
     ]
    }
   ],
   "source": [
    "model.summary()"
   ]
  },
  {
   "cell_type": "code",
   "execution_count": 29,
   "id": "3acc03e5",
   "metadata": {},
   "outputs": [
    {
     "name": "stdout",
     "output_type": "stream",
     "text": [
      "Layer Name: input_1\n",
      "Type of layer: InputLayer\n",
      "Input dimesion: []\n",
      "Output dimesion: []\n",
      "Parameter Count: 0\n",
      " \n",
      "Layer Name: input_2\n",
      "Type of layer: InputLayer\n",
      "Input dimesion: []\n",
      "Output dimesion: []\n",
      "Parameter Count: 0\n",
      " \n",
      "Layer Name: dense\n",
      "Type of layer: Dense\n",
      "Input dimesion: (3,)\n",
      "Output dimesion: (64,)\n",
      "Parameter Count: 256\n",
      "Activation : relu\n",
      " \n",
      "Layer Name: dense_3\n",
      "Type of layer: Dense\n",
      "Input dimesion: (2,)\n",
      "Output dimesion: (64,)\n",
      "Parameter Count: 192\n",
      "Activation : relu\n",
      " \n",
      "Layer Name: dense_1\n",
      "Type of layer: Dense\n",
      "Input dimesion: (64,)\n",
      "Output dimesion: (32,)\n",
      "Parameter Count: 2080\n",
      "Activation : relu\n",
      " \n",
      "Layer Name: dense_4\n",
      "Type of layer: Dense\n",
      "Input dimesion: (64,)\n",
      "Output dimesion: (32,)\n",
      "Parameter Count: 2080\n",
      "Activation : relu\n",
      " \n",
      "Layer Name: dense_2\n",
      "Type of layer: Dense\n",
      "Input dimesion: (32,)\n",
      "Output dimesion: (1,)\n",
      "Parameter Count: 33\n",
      "Activation : relu\n",
      " \n",
      "Layer Name: dense_5\n",
      "Type of layer: Dense\n",
      "Input dimesion: (32,)\n",
      "Output dimesion: (1,)\n",
      "Parameter Count: 33\n",
      "Activation : relu\n",
      " \n",
      "Layer Name: concatenate\n",
      "Type of layer: Concatenate\n",
      "Input dimesion: [(None, 1)]\n",
      "Output dimesion: (2,)\n",
      "Parameter Count: 0\n",
      " \n",
      "Layer Name: dense_7\n",
      "Type of layer: Dense\n",
      "Input dimesion: (2,)\n",
      "Output dimesion: (1,)\n",
      "Parameter Count: 3\n",
      "Activation : sigmoid\n",
      " \n"
     ]
    }
   ],
   "source": [
    "for layer in model.layers:\n",
    "        print(\"Layer Name: \" + layer.name)\n",
    "        print(\"Type of layer: \" + layer.__class__.__name__)\n",
    "        print(\"Input dimesion: {}\".format(layer.input_shape[1:]))\n",
    "        print(\"Output dimesion: {}\".format(layer.output_shape[1:]))\n",
    "        print(\"Parameter Count: {}\".format( layer.count_params()))\n",
    "        try:\n",
    "            print(\"Activation : \" + layer.activation.__name__)\n",
    "            print(\" \")\n",
    "        except:\n",
    "            print(\" \")"
   ]
  },
  {
   "cell_type": "code",
   "execution_count": 30,
   "id": "20d7bb5b",
   "metadata": {},
   "outputs": [
    {
     "data": {
      "image/png": "[encoded data removed]",
      "text/plain": [
       "<IPython.core.display.Image object>"
      ]
     },
     "execution_count": 30,
     "metadata": {},
     "output_type": "execute_result"
    }
   ],
   "source": [
    "model_img_file = 'exp1_model.png'\n",
    "plot_model(model, to_file=model_img_file, \n",
    "                          show_shapes=True, \n",
    "                          show_layer_activations=True, \n",
    "                          show_dtype=True,\n",
    "                          show_layer_names=True )"
   ]
  },
  {
   "cell_type": "markdown",
   "id": "bfd6f680",
   "metadata": {},
   "source": [
    "By setting the epochs parameter to $20$, the model will iterate over the training data $20$ times during the training process. The `batch_size` parameter is set to $32$, which means that the model will update its weights after processing each batch of $32$ samples."
   ]
  },
  {
   "cell_type": "code",
   "execution_count": 31,
   "id": "f9f93187",
   "metadata": {},
   "outputs": [
    {
     "name": "stdout",
     "output_type": "stream",
     "text": [
      "Epoch 1/20\n",
      "1095/1095 [==============================] - 3s 2ms/step - loss: 0.6928 - accuracy: 0.5178 - val_loss: 0.6928 - val_accuracy: 0.5128\n",
      "Epoch 2/20\n",
      "1095/1095 [==============================] - 2s 2ms/step - loss: 0.6925 - accuracy: 0.5178 - val_loss: 0.6928 - val_accuracy: 0.5128\n",
      "Epoch 3/20\n",
      "1095/1095 [==============================] - 2s 2ms/step - loss: 0.6926 - accuracy: 0.5178 - val_loss: 0.6928 - val_accuracy: 0.5128\n",
      "Epoch 4/20\n",
      "1095/1095 [==============================] - 2s 2ms/step - loss: 0.6925 - accuracy: 0.5178 - val_loss: 0.6928 - val_accuracy: 0.5128\n",
      "Epoch 5/20\n",
      "1095/1095 [==============================] - 2s 2ms/step - loss: 0.6926 - accuracy: 0.5178 - val_loss: 0.6928 - val_accuracy: 0.5128\n",
      "Epoch 6/20\n",
      "1095/1095 [==============================] - 2s 2ms/step - loss: 0.6926 - accuracy: 0.5178 - val_loss: 0.6929 - val_accuracy: 0.5128\n",
      "Epoch 7/20\n",
      "1095/1095 [==============================] - 2s 2ms/step - loss: 0.6925 - accuracy: 0.5178 - val_loss: 0.6929 - val_accuracy: 0.5128\n",
      "Epoch 8/20\n",
      "1095/1095 [==============================] - 2s 2ms/step - loss: 0.6926 - accuracy: 0.5178 - val_loss: 0.6929 - val_accuracy: 0.5128\n",
      "Epoch 9/20\n",
      "1095/1095 [==============================] - 2s 2ms/step - loss: 0.6925 - accuracy: 0.5178 - val_loss: 0.6929 - val_accuracy: 0.5128\n",
      "Epoch 10/20\n",
      "1095/1095 [==============================] - 2s 2ms/step - loss: 0.6926 - accuracy: 0.5178 - val_loss: 0.6929 - val_accuracy: 0.5128\n",
      "Epoch 11/20\n",
      "1095/1095 [==============================] - 2s 2ms/step - loss: 0.6925 - accuracy: 0.5178 - val_loss: 0.6930 - val_accuracy: 0.5128\n",
      "Epoch 12/20\n",
      "1095/1095 [==============================] - 2s 2ms/step - loss: 0.6925 - accuracy: 0.5178 - val_loss: 0.6928 - val_accuracy: 0.5128\n",
      "Epoch 13/20\n",
      "1095/1095 [==============================] - 2s 2ms/step - loss: 0.6925 - accuracy: 0.5178 - val_loss: 0.6928 - val_accuracy: 0.5128\n",
      "Epoch 14/20\n",
      "1095/1095 [==============================] - 2s 2ms/step - loss: 0.6925 - accuracy: 0.5178 - val_loss: 0.6929 - val_accuracy: 0.5128\n",
      "Epoch 15/20\n",
      "1095/1095 [==============================] - 2s 2ms/step - loss: 0.6925 - accuracy: 0.5178 - val_loss: 0.6929 - val_accuracy: 0.5128\n",
      "Epoch 16/20\n",
      "1095/1095 [==============================] - 2s 2ms/step - loss: 0.6926 - accuracy: 0.5178 - val_loss: 0.6929 - val_accuracy: 0.5128\n",
      "Epoch 17/20\n",
      "1095/1095 [==============================] - 2s 2ms/step - loss: 0.6925 - accuracy: 0.5178 - val_loss: 0.6929 - val_accuracy: 0.5128\n",
      "Epoch 18/20\n",
      "1095/1095 [==============================] - 2s 2ms/step - loss: 0.6925 - accuracy: 0.5178 - val_loss: 0.6928 - val_accuracy: 0.5128\n",
      "Epoch 19/20\n",
      "1095/1095 [==============================] - 2s 2ms/step - loss: 0.6926 - accuracy: 0.5178 - val_loss: 0.6929 - val_accuracy: 0.5128\n",
      "Epoch 20/20\n",
      "1095/1095 [==============================] - 2s 2ms/step - loss: 0.6925 - accuracy: 0.5178 - val_loss: 0.6928 - val_accuracy: 0.5128\n"
     ]
    }
   ],
   "source": [
    "history = model.fit(\n",
    "    [train_features[['Breakfast', 'Lunch', 'Dinner']], train_features[['Morning_Tea', 'Afternoon_Tea']]],\n",
    "    train_labels,\n",
    "    validation_data=([val_features[['Breakfast', 'Lunch', 'Dinner']], val_features[['Morning_Tea', 'Afternoon_Tea']]], val_labels),\n",
    "    epochs=20,\n",
    "    batch_size=32\n",
    ")"
   ]
  },
  {
   "cell_type": "code",
   "execution_count": 32,
   "id": "6bfedfa2",
   "metadata": {},
   "outputs": [
    {
     "data": {
      "image/png": "[encoded data removed]",
      "text/plain": [
       "<Figure size 864x288 with 1 Axes>"
      ]
     },
     "metadata": {
      "needs_background": "light"
     },
     "output_type": "display_data"
    }
   ],
   "source": [
    "plt.figure(figsize=(12, 4))\n",
    "plt.plot(history.history['loss'], label='Train Loss')\n",
    "plt.plot(history.history['val_loss'], label='Val Loss')\n",
    "plt.xlabel('Epoch')\n",
    "plt.ylabel('Loss')\n",
    "plt.title('Loss over epochs')\n",
    "plt.legend()\n",
    "plt.show()"
   ]
  },
  {
   "cell_type": "code",
   "execution_count": 33,
   "id": "ef3d84b7",
   "metadata": {},
   "outputs": [
    {
     "data": {
      "image/png": "[encoded data removed]",
      "text/plain": [
       "<Figure size 864x288 with 1 Axes>"
      ]
     },
     "metadata": {
      "needs_background": "light"
     },
     "output_type": "display_data"
    }
   ],
   "source": [
    "plt.figure(figsize=(12, 4))\n",
    "plt.plot(history.history['accuracy'], label='Train Accuracy')\n",
    "plt.plot(history.history['val_accuracy'], label='Val Accuracy')\n",
    "plt.xlabel('Epoch')\n",
    "plt.ylabel('Accuracy')\n",
    "plt.title('Accuracy over epochs')\n",
    "plt.legend()\n",
    "plt.show()"
   ]
  },
  {
   "cell_type": "code",
   "execution_count": 34,
   "id": "2e7499cb",
   "metadata": {},
   "outputs": [
    {
     "name": "stdout",
     "output_type": "stream",
     "text": [
      "137/137 [==============================] - 0s 1ms/step - loss: 0.6934 - accuracy: 0.5032\n"
     ]
    }
   ],
   "source": [
    "# Evaluate the model\n",
    "test_loss, test_accuracy = model.evaluate(\n",
    "    [test_features[['Breakfast', 'Lunch', 'Dinner']], test_features[['Morning_Tea', 'Afternoon_Tea']]],\n",
    "    test_labels\n",
    ")"
   ]
  },
  {
   "cell_type": "code",
   "execution_count": null,
   "id": "8254ce6c",
   "metadata": {},
   "outputs": [],
   "source": []
  },
  {
   "cell_type": "code",
   "execution_count": null,
   "id": "b2dcdd07",
   "metadata": {},
   "outputs": [],
   "source": []
  },
  {
   "cell_type": "code",
   "execution_count": 35,
   "id": "8deacceb",
   "metadata": {},
   "outputs": [],
   "source": [
    "from tensorflow.keras.models import Model\n",
    "from tensorflow.keras.layers import Input, LSTM, Dense, concatenate\n",
    "import numpy as np\n",
    "\n",
    "# Convert DataFrame to numpy array\n",
    "data = df_daily.values\n",
    "\n",
    "# Set the number of timesteps for the LSTM\n",
    "timesteps = 1\n",
    "\n",
    "# Split data into training (80%), validation (10%), and testing (10%)\n",
    "train_split = int(len(data)*0.8)\n",
    "val_split = int(len(data)*0.9)\n",
    "\n",
    "# Prepare training data for LSTM\n",
    "train_data = []\n",
    "for i in range(timesteps, train_split):\n",
    "    train_data.append(data[i-timesteps:i, :])\n",
    "train_data = np.array(train_data)\n",
    "\n",
    "# Prepare validation data for LSTM\n",
    "val_data = []\n",
    "for i in range(train_split, val_split):\n",
    "    val_data.append(data[i-timesteps:i, :])\n",
    "val_data = np.array(val_data)\n",
    "\n",
    "# Prepare testing data for LSTM\n",
    "test_data = []\n",
    "for i in range(val_split, len(data)):\n",
    "    test_data.append(data[i-timesteps:i, :])\n",
    "test_data = np.array(test_data)\n",
    "\n",
    "# Split data into inputs and labels\n",
    "train_gluten = train_data[:, :, 0:3]\n",
    "train_lactose = train_data[:, :, 3:5]\n",
    "train_labels = train_data[:, -1, -1]\n",
    "\n",
    "val_gluten = val_data[:, :, 0:3]\n",
    "val_lactose = val_data[:, :, 3:5]\n",
    "val_labels = val_data[:, -1, -1]\n",
    "\n",
    "test_gluten = test_data[:, :, 0:3]\n",
    "test_lactose = test_data[:, :, 3:5]\n",
    "test_labels = test_data[:, -1, -1]\n"
   ]
  },
  {
   "cell_type": "code",
   "execution_count": 36,
   "id": "ed6e4d9b",
   "metadata": {},
   "outputs": [],
   "source": [
    "# Define input shapes\n",
    "input_shape_gluten = (timesteps, 3)\n",
    "input_shape_lactose = (timesteps, 2)\n",
    "\n",
    "# Gluten subnetwork\n",
    "input_gluten = Input(shape=input_shape_gluten)\n",
    "lstm_gluten1 = LSTM(50, return_sequences=True)(input_gluten)\n",
    "lstm_gluten2 = LSTM(50)(lstm_gluten1)\n",
    "\n",
    "# Lactose subnetwork\n",
    "input_lactose = Input(shape=input_shape_lactose)\n",
    "lstm_lactose1 = LSTM(50, return_sequences=True)(input_lactose)\n",
    "lstm_lactose2 = LSTM(50)(lstm_lactose1)\n",
    "\n",
    "# Concatenation and output\n",
    "concatenated = concatenate([lstm_gluten2, lstm_lactose2])\n",
    "output = Dense(1, activation='sigmoid')(concatenated)\n",
    "\n",
    "# Define the model\n",
    "model = Model(inputs=[input_gluten, input_lactose], outputs=output)\n",
    "\n",
    "# Compile the model\n",
    "model.compile(optimizer='adam', loss='binary_crossentropy', metrics=['accuracy'])\n"
   ]
  },
  {
   "cell_type": "code",
   "execution_count": 37,
   "id": "a888e426",
   "metadata": {},
   "outputs": [
    {
     "name": "stdout",
     "output_type": "stream",
     "text": [
      "Epoch 1/10\n",
      "1095/1095 [==============================] - 10s 6ms/step - loss: 0.6926 - accuracy: 0.5166 - val_loss: 0.6933 - val_accuracy: 0.5128\n",
      "Epoch 2/10\n",
      "1095/1095 [==============================] - 6s 5ms/step - loss: 0.6925 - accuracy: 0.5160 - val_loss: 0.6935 - val_accuracy: 0.5128\n",
      "Epoch 3/10\n",
      "1095/1095 [==============================] - 6s 5ms/step - loss: 0.6925 - accuracy: 0.5163 - val_loss: 0.6932 - val_accuracy: 0.5128\n",
      "Epoch 4/10\n",
      "1095/1095 [==============================] - 6s 5ms/step - loss: 0.6925 - accuracy: 0.5180 - val_loss: 0.6929 - val_accuracy: 0.5128\n",
      "Epoch 5/10\n",
      "1095/1095 [==============================] - 6s 5ms/step - loss: 0.6925 - accuracy: 0.5171 - val_loss: 0.6931 - val_accuracy: 0.5128\n",
      "Epoch 6/10\n",
      "1095/1095 [==============================] - 6s 6ms/step - loss: 0.6925 - accuracy: 0.5173 - val_loss: 0.6932 - val_accuracy: 0.5128\n",
      "Epoch 7/10\n",
      "1095/1095 [==============================] - 6s 6ms/step - loss: 0.6925 - accuracy: 0.5184 - val_loss: 0.6931 - val_accuracy: 0.5128\n",
      "Epoch 8/10\n",
      "1095/1095 [==============================] - 6s 6ms/step - loss: 0.6925 - accuracy: 0.5173 - val_loss: 0.6931 - val_accuracy: 0.5128\n",
      "Epoch 9/10\n",
      "1095/1095 [==============================] - 6s 6ms/step - loss: 0.6925 - accuracy: 0.5171 - val_loss: 0.6931 - val_accuracy: 0.5144\n",
      "Epoch 10/10\n",
      "1095/1095 [==============================] - 6s 6ms/step - loss: 0.6924 - accuracy: 0.5163 - val_loss: 0.6932 - val_accuracy: 0.5128\n"
     ]
    }
   ],
   "source": [
    "history = model.fit([train_gluten, train_lactose], train_labels,\n",
    "                    validation_data=([val_gluten, val_lactose], val_labels),\n",
    "                    epochs=10)\n"
   ]
  },
  {
   "cell_type": "code",
   "execution_count": 38,
   "id": "bbf8f996",
   "metadata": {},
   "outputs": [
    {
     "name": "stdout",
     "output_type": "stream",
     "text": [
      "137/137 [==============================] - 0s 2ms/step - loss: 0.6936 - accuracy: 0.5032\n",
      "Test Loss:  0.6935892701148987\n",
      "Test Accuracy:  0.5031963586807251\n"
     ]
    }
   ],
   "source": [
    "test_loss, test_acc = model.evaluate([test_gluten, test_lactose], test_labels)\n",
    "print(\"Test Loss: \", test_loss)\n",
    "print(\"Test Accuracy: \", test_acc)"
   ]
  }
 ],
 "metadata": {
  "kernelspec": {
   "display_name": "Python 3 (ipykernel)",
   "language": "python",
   "name": "python3"
  },
  "language_info": {
   "codemirror_mode": {
    "name": "ipython",
    "version": 3
   },
   "file_extension": ".py",
   "mimetype": "text/x-python",
   "name": "python",
   "nbconvert_exporter": "python",
   "pygments_lexer": "ipython3",
   "version": "3.8.15"
  }
 },
 "nbformat": 4,
 "nbformat_minor": 5
}
