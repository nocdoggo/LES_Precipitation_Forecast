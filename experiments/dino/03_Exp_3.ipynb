{
 "cells": [
  {
   "cell_type": "code",
   "execution_count": 1,
   "id": "cdac11eb",
   "metadata": {},
   "outputs": [],
   "source": [
    "import pandas as pd\n",
    "import numpy as np\n",
    "from sklearn.model_selection import train_test_split\n",
    "import tensorflow as tf\n",
    "from tensorflow.keras.models import Model\n",
    "from tensorflow.keras.layers import Input, Dense, Concatenate\n",
    "import matplotlib.pyplot as plt\n",
    "import seaborn as sns\n",
    "%matplotlib inline"
   ]
  },
  {
   "cell_type": "code",
   "execution_count": null,
   "id": "db7af44a",
   "metadata": {},
   "outputs": [],
   "source": []
  },
  {
   "cell_type": "code",
   "execution_count": 2,
   "id": "bd2e64dd",
   "metadata": {},
   "outputs": [],
   "source": [
    "# Number of days for this dataset\n",
    "n_days = 365*200"
   ]
  },
  {
   "cell_type": "code",
   "execution_count": 3,
   "id": "6cdea191",
   "metadata": {},
   "outputs": [],
   "source": [
    "# Generate random binary values\n",
    "breakfast_gluten = np.random.randint(2, size=n_days)\n",
    "morning_tea_milk = np.random.randint(2, size=n_days)\n",
    "lunch_gluten = np.random.randint(2, size=n_days)\n",
    "afternoon_tea_milk = np.random.randint(2, size=n_days)\n",
    "dinner_gluten = np.random.randint(2, size=n_days)\n",
    "toilet_diarrhea = np.random.randint(2, size=n_days)"
   ]
  },
  {
   "cell_type": "code",
   "execution_count": 4,
   "id": "4d1be192",
   "metadata": {},
   "outputs": [],
   "source": [
    "# Create dataframe\n",
    "df_daily = pd.DataFrame({\n",
    "#     'Day': range(1, n_days + 1),\n",
    "    'Breakfast': breakfast_gluten,\n",
    "    'Morning_Tea': morning_tea_milk,\n",
    "    'Lunch': lunch_gluten,\n",
    "    'Afternoon_Tea': afternoon_tea_milk,\n",
    "    'Dinner': dinner_gluten,\n",
    "    'Toilet': toilet_diarrhea\n",
    "})"
   ]
  },
  {
   "cell_type": "code",
   "execution_count": 5,
   "id": "0b46cb08",
   "metadata": {},
   "outputs": [],
   "source": [
    "df_daily = df_daily.replace({True: 1, False: 0})\n"
   ]
  },
  {
   "cell_type": "code",
   "execution_count": 6,
   "id": "19271c41",
   "metadata": {},
   "outputs": [],
   "source": [
    "df_daily.at[0, 'Toilet'] = 0\n",
    "# Create a new column that is the sum of the other columns\n",
    "df_daily['sum'] = df_daily[['Breakfast', 'Morning_Tea', 'Lunch', 'Afternoon_Tea', 'Dinner']].sum(axis=1)\n",
    "\n",
    "# If 'sum' at row t is not 0, set 'Toilet' at row t+1 to 1\n",
    "df_daily['Toilet'] = (df_daily['sum'].shift(-1) != 0).astype(int)\n",
    "\n",
    "# Drop the 'sum' column as we don't need it anymore\n",
    "df_daily.drop('sum', axis=1, inplace=True)"
   ]
  },
  {
   "cell_type": "code",
   "execution_count": 7,
   "id": "5a5d2397",
   "metadata": {},
   "outputs": [
    {
     "data": {
      "text/plain": [
       "(73000, 6)"
      ]
     },
     "execution_count": 7,
     "metadata": {},
     "output_type": "execute_result"
    }
   ],
   "source": [
    "df_daily.shape"
   ]
  },
  {
   "cell_type": "code",
   "execution_count": 8,
   "id": "d3b74b95",
   "metadata": {},
   "outputs": [],
   "source": [
    "df_daily = df_daily.astype(int)"
   ]
  },
  {
   "cell_type": "code",
   "execution_count": 9,
   "id": "1d6a89b5",
   "metadata": {},
   "outputs": [
    {
     "data": {
      "text/html": [
       "<div>\n",
       "<style scoped>\n",
       "    .dataframe tbody tr th:only-of-type {\n",
       "        vertical-align: middle;\n",
       "    }\n",
       "\n",
       "    .dataframe tbody tr th {\n",
       "        vertical-align: top;\n",
       "    }\n",
       "\n",
       "    .dataframe thead th {\n",
       "        text-align: right;\n",
       "    }\n",
       "</style>\n",
       "<table border=\"1\" class=\"dataframe\">\n",
       "  <thead>\n",
       "    <tr style=\"text-align: right;\">\n",
       "      <th></th>\n",
       "      <th>Breakfast</th>\n",
       "      <th>Morning_Tea</th>\n",
       "      <th>Lunch</th>\n",
       "      <th>Afternoon_Tea</th>\n",
       "      <th>Dinner</th>\n",
       "      <th>Toilet</th>\n",
       "    </tr>\n",
       "  </thead>\n",
       "  <tbody>\n",
       "    <tr>\n",
       "      <th>0</th>\n",
       "      <td>0</td>\n",
       "      <td>1</td>\n",
       "      <td>1</td>\n",
       "      <td>1</td>\n",
       "      <td>0</td>\n",
       "      <td>1</td>\n",
       "    </tr>\n",
       "    <tr>\n",
       "      <th>1</th>\n",
       "      <td>0</td>\n",
       "      <td>0</td>\n",
       "      <td>0</td>\n",
       "      <td>0</td>\n",
       "      <td>1</td>\n",
       "      <td>0</td>\n",
       "    </tr>\n",
       "    <tr>\n",
       "      <th>2</th>\n",
       "      <td>0</td>\n",
       "      <td>0</td>\n",
       "      <td>0</td>\n",
       "      <td>0</td>\n",
       "      <td>0</td>\n",
       "      <td>1</td>\n",
       "    </tr>\n",
       "    <tr>\n",
       "      <th>3</th>\n",
       "      <td>0</td>\n",
       "      <td>1</td>\n",
       "      <td>1</td>\n",
       "      <td>0</td>\n",
       "      <td>0</td>\n",
       "      <td>1</td>\n",
       "    </tr>\n",
       "    <tr>\n",
       "      <th>4</th>\n",
       "      <td>1</td>\n",
       "      <td>1</td>\n",
       "      <td>1</td>\n",
       "      <td>0</td>\n",
       "      <td>0</td>\n",
       "      <td>1</td>\n",
       "    </tr>\n",
       "    <tr>\n",
       "      <th>5</th>\n",
       "      <td>1</td>\n",
       "      <td>1</td>\n",
       "      <td>1</td>\n",
       "      <td>1</td>\n",
       "      <td>0</td>\n",
       "      <td>1</td>\n",
       "    </tr>\n",
       "    <tr>\n",
       "      <th>6</th>\n",
       "      <td>1</td>\n",
       "      <td>0</td>\n",
       "      <td>0</td>\n",
       "      <td>1</td>\n",
       "      <td>1</td>\n",
       "      <td>1</td>\n",
       "    </tr>\n",
       "    <tr>\n",
       "      <th>7</th>\n",
       "      <td>1</td>\n",
       "      <td>1</td>\n",
       "      <td>1</td>\n",
       "      <td>1</td>\n",
       "      <td>0</td>\n",
       "      <td>1</td>\n",
       "    </tr>\n",
       "    <tr>\n",
       "      <th>8</th>\n",
       "      <td>0</td>\n",
       "      <td>0</td>\n",
       "      <td>1</td>\n",
       "      <td>1</td>\n",
       "      <td>1</td>\n",
       "      <td>1</td>\n",
       "    </tr>\n",
       "    <tr>\n",
       "      <th>9</th>\n",
       "      <td>0</td>\n",
       "      <td>1</td>\n",
       "      <td>0</td>\n",
       "      <td>1</td>\n",
       "      <td>0</td>\n",
       "      <td>1</td>\n",
       "    </tr>\n",
       "  </tbody>\n",
       "</table>\n",
       "</div>"
      ],
      "text/plain": [
       "   Breakfast  Morning_Tea  Lunch  Afternoon_Tea  Dinner  Toilet\n",
       "0          0            1      1              1       0       1\n",
       "1          0            0      0              0       1       0\n",
       "2          0            0      0              0       0       1\n",
       "3          0            1      1              0       0       1\n",
       "4          1            1      1              0       0       1\n",
       "5          1            1      1              1       0       1\n",
       "6          1            0      0              1       1       1\n",
       "7          1            1      1              1       0       1\n",
       "8          0            0      1              1       1       1\n",
       "9          0            1      0              1       0       1"
      ]
     },
     "execution_count": 9,
     "metadata": {},
     "output_type": "execute_result"
    }
   ],
   "source": [
    "df_daily.head(10)"
   ]
  },
  {
   "cell_type": "code",
   "execution_count": 10,
   "id": "2c59612c",
   "metadata": {},
   "outputs": [
    {
     "data": {
      "text/html": [
       "<div>\n",
       "<style scoped>\n",
       "    .dataframe tbody tr th:only-of-type {\n",
       "        vertical-align: middle;\n",
       "    }\n",
       "\n",
       "    .dataframe tbody tr th {\n",
       "        vertical-align: top;\n",
       "    }\n",
       "\n",
       "    .dataframe thead th {\n",
       "        text-align: right;\n",
       "    }\n",
       "</style>\n",
       "<table border=\"1\" class=\"dataframe\">\n",
       "  <thead>\n",
       "    <tr style=\"text-align: right;\">\n",
       "      <th></th>\n",
       "      <th>Breakfast</th>\n",
       "      <th>Morning_Tea</th>\n",
       "      <th>Lunch</th>\n",
       "      <th>Afternoon_Tea</th>\n",
       "      <th>Dinner</th>\n",
       "      <th>Toilet</th>\n",
       "    </tr>\n",
       "  </thead>\n",
       "  <tbody>\n",
       "    <tr>\n",
       "      <th>count</th>\n",
       "      <td>73000.000000</td>\n",
       "      <td>73000.000000</td>\n",
       "      <td>73000.000000</td>\n",
       "      <td>73000.000000</td>\n",
       "      <td>73000.000000</td>\n",
       "      <td>73000.000000</td>\n",
       "    </tr>\n",
       "    <tr>\n",
       "      <th>mean</th>\n",
       "      <td>0.499247</td>\n",
       "      <td>0.500397</td>\n",
       "      <td>0.500315</td>\n",
       "      <td>0.501836</td>\n",
       "      <td>0.501959</td>\n",
       "      <td>0.968164</td>\n",
       "    </tr>\n",
       "    <tr>\n",
       "      <th>std</th>\n",
       "      <td>0.500003</td>\n",
       "      <td>0.500003</td>\n",
       "      <td>0.500003</td>\n",
       "      <td>0.500000</td>\n",
       "      <td>0.500000</td>\n",
       "      <td>0.175563</td>\n",
       "    </tr>\n",
       "    <tr>\n",
       "      <th>min</th>\n",
       "      <td>0.000000</td>\n",
       "      <td>0.000000</td>\n",
       "      <td>0.000000</td>\n",
       "      <td>0.000000</td>\n",
       "      <td>0.000000</td>\n",
       "      <td>0.000000</td>\n",
       "    </tr>\n",
       "    <tr>\n",
       "      <th>25%</th>\n",
       "      <td>0.000000</td>\n",
       "      <td>0.000000</td>\n",
       "      <td>0.000000</td>\n",
       "      <td>0.000000</td>\n",
       "      <td>0.000000</td>\n",
       "      <td>1.000000</td>\n",
       "    </tr>\n",
       "    <tr>\n",
       "      <th>50%</th>\n",
       "      <td>0.000000</td>\n",
       "      <td>1.000000</td>\n",
       "      <td>1.000000</td>\n",
       "      <td>1.000000</td>\n",
       "      <td>1.000000</td>\n",
       "      <td>1.000000</td>\n",
       "    </tr>\n",
       "    <tr>\n",
       "      <th>75%</th>\n",
       "      <td>1.000000</td>\n",
       "      <td>1.000000</td>\n",
       "      <td>1.000000</td>\n",
       "      <td>1.000000</td>\n",
       "      <td>1.000000</td>\n",
       "      <td>1.000000</td>\n",
       "    </tr>\n",
       "    <tr>\n",
       "      <th>max</th>\n",
       "      <td>1.000000</td>\n",
       "      <td>1.000000</td>\n",
       "      <td>1.000000</td>\n",
       "      <td>1.000000</td>\n",
       "      <td>1.000000</td>\n",
       "      <td>1.000000</td>\n",
       "    </tr>\n",
       "  </tbody>\n",
       "</table>\n",
       "</div>"
      ],
      "text/plain": [
       "          Breakfast   Morning_Tea         Lunch  Afternoon_Tea        Dinner  \\\n",
       "count  73000.000000  73000.000000  73000.000000   73000.000000  73000.000000   \n",
       "mean       0.499247      0.500397      0.500315       0.501836      0.501959   \n",
       "std        0.500003      0.500003      0.500003       0.500000      0.500000   \n",
       "min        0.000000      0.000000      0.000000       0.000000      0.000000   \n",
       "25%        0.000000      0.000000      0.000000       0.000000      0.000000   \n",
       "50%        0.000000      1.000000      1.000000       1.000000      1.000000   \n",
       "75%        1.000000      1.000000      1.000000       1.000000      1.000000   \n",
       "max        1.000000      1.000000      1.000000       1.000000      1.000000   \n",
       "\n",
       "             Toilet  \n",
       "count  73000.000000  \n",
       "mean       0.968164  \n",
       "std        0.175563  \n",
       "min        0.000000  \n",
       "25%        1.000000  \n",
       "50%        1.000000  \n",
       "75%        1.000000  \n",
       "max        1.000000  "
      ]
     },
     "execution_count": 10,
     "metadata": {},
     "output_type": "execute_result"
    }
   ],
   "source": [
    "df_daily.describe()"
   ]
  },
  {
   "cell_type": "code",
   "execution_count": 11,
   "id": "bff22579",
   "metadata": {},
   "outputs": [
    {
     "data": {
      "text/plain": [
       "1    70676\n",
       "0     2324\n",
       "Name: Toilet, dtype: int64"
      ]
     },
     "execution_count": 11,
     "metadata": {},
     "output_type": "execute_result"
    }
   ],
   "source": [
    "df_daily['Toilet'].value_counts()"
   ]
  },
  {
   "cell_type": "code",
   "execution_count": null,
   "id": "a1f4c4bd",
   "metadata": {},
   "outputs": [],
   "source": []
  },
  {
   "cell_type": "code",
   "execution_count": null,
   "id": "9d1f8d69",
   "metadata": {},
   "outputs": [],
   "source": []
  },
  {
   "cell_type": "code",
   "execution_count": 12,
   "id": "a219607f",
   "metadata": {},
   "outputs": [
    {
     "data": {
      "text/plain": [
       "<AxesSubplot:xlabel='Toilet', ylabel='count'>"
      ]
     },
     "execution_count": 12,
     "metadata": {},
     "output_type": "execute_result"
    },
    {
     "data": {
      "image/png": "[encoded data removed]",
      "text/plain": [
       "<Figure size 432x288 with 1 Axes>"
      ]
     },
     "metadata": {
      "needs_background": "light"
     },
     "output_type": "display_data"
    }
   ],
   "source": [
    "sns.countplot(x = df_daily['Toilet'], palette=[\"#7fcdbb\", \"#edf8b1\"])"
   ]
  },
  {
   "cell_type": "code",
   "execution_count": 13,
   "id": "e42834b7",
   "metadata": {},
   "outputs": [],
   "source": [
    "# # Replace 0 with 'F' and 1 with 'T'\n",
    "# df_daily.replace({0: 'F', 1: 'T'}, inplace=True)"
   ]
  },
  {
   "cell_type": "code",
   "execution_count": null,
   "id": "a31fc924",
   "metadata": {},
   "outputs": [],
   "source": []
  },
  {
   "cell_type": "code",
   "execution_count": 15,
   "id": "296145fe",
   "metadata": {},
   "outputs": [
    {
     "ename": "ValueError",
     "evalue": "Data cardinality is ambiguous:\n  x sizes: 36492, 36490\n  y sizes: 36492\nMake sure all arrays contain the same number of samples.",
     "output_type": "error",
     "traceback": [
      "\u001b[1;31m---------------------------------------------------------------------------\u001b[0m",
      "\u001b[1;31mValueError\u001b[0m                                Traceback (most recent call last)",
      "Input \u001b[1;32mIn [15]\u001b[0m, in \u001b[0;36m<cell line: 65>\u001b[1;34m()\u001b[0m\n\u001b[0;32m     62\u001b[0m model\u001b[38;5;241m.\u001b[39mcompile(optimizer\u001b[38;5;241m=\u001b[39m\u001b[38;5;124m'\u001b[39m\u001b[38;5;124madam\u001b[39m\u001b[38;5;124m'\u001b[39m, loss\u001b[38;5;241m=\u001b[39m\u001b[38;5;124m'\u001b[39m\u001b[38;5;124mbinary_crossentropy\u001b[39m\u001b[38;5;124m'\u001b[39m, metrics\u001b[38;5;241m=\u001b[39m[\u001b[38;5;124m'\u001b[39m\u001b[38;5;124maccuracy\u001b[39m\u001b[38;5;124m'\u001b[39m])\n\u001b[0;32m     64\u001b[0m \u001b[38;5;66;03m# Train the model\u001b[39;00m\n\u001b[1;32m---> 65\u001b[0m history \u001b[38;5;241m=\u001b[39m \u001b[43mmodel\u001b[49m\u001b[38;5;241;43m.\u001b[39;49m\u001b[43mfit\u001b[49m\u001b[43m(\u001b[49m\u001b[43m[\u001b[49m\u001b[43mtrain_X_gluten\u001b[49m\u001b[43m,\u001b[49m\u001b[43m \u001b[49m\u001b[43mtrain_X_lactose\u001b[49m\u001b[43m]\u001b[49m\u001b[43m,\u001b[49m\u001b[43m \u001b[49m\u001b[43mtrain_y\u001b[49m\u001b[43m,\u001b[49m\u001b[43m \u001b[49m\u001b[43mvalidation_data\u001b[49m\u001b[38;5;241;43m=\u001b[39;49m\u001b[43m(\u001b[49m\u001b[43m[\u001b[49m\u001b[43mval_X_gluten\u001b[49m\u001b[43m,\u001b[49m\u001b[43m \u001b[49m\u001b[43mval_X_lactose\u001b[49m\u001b[43m]\u001b[49m\u001b[43m,\u001b[49m\u001b[43m \u001b[49m\u001b[43mval_y\u001b[49m\u001b[43m)\u001b[49m\u001b[43m,\u001b[49m\u001b[43m \u001b[49m\u001b[43mepochs\u001b[49m\u001b[38;5;241;43m=\u001b[39;49m\u001b[38;5;241;43m10\u001b[39;49m\u001b[43m)\u001b[49m\n\u001b[0;32m     67\u001b[0m \u001b[38;5;66;03m# Plot the training and validation loss\u001b[39;00m\n\u001b[0;32m     68\u001b[0m \u001b[38;5;28;01mimport\u001b[39;00m \u001b[38;5;21;01mmatplotlib\u001b[39;00m\u001b[38;5;21;01m.\u001b[39;00m\u001b[38;5;21;01mpyplot\u001b[39;00m \u001b[38;5;28;01mas\u001b[39;00m \u001b[38;5;21;01mplt\u001b[39;00m\n",
      "File \u001b[1;32m~\\miniforge3\\lib\\site-packages\\keras\\utils\\traceback_utils.py:67\u001b[0m, in \u001b[0;36mfilter_traceback.<locals>.error_handler\u001b[1;34m(*args, **kwargs)\u001b[0m\n\u001b[0;32m     65\u001b[0m \u001b[38;5;28;01mexcept\u001b[39;00m \u001b[38;5;167;01mException\u001b[39;00m \u001b[38;5;28;01mas\u001b[39;00m e:  \u001b[38;5;66;03m# pylint: disable=broad-except\u001b[39;00m\n\u001b[0;32m     66\u001b[0m   filtered_tb \u001b[38;5;241m=\u001b[39m _process_traceback_frames(e\u001b[38;5;241m.\u001b[39m__traceback__)\n\u001b[1;32m---> 67\u001b[0m   \u001b[38;5;28;01mraise\u001b[39;00m e\u001b[38;5;241m.\u001b[39mwith_traceback(filtered_tb) \u001b[38;5;28;01mfrom\u001b[39;00m \u001b[38;5;28mNone\u001b[39m\n\u001b[0;32m     68\u001b[0m \u001b[38;5;28;01mfinally\u001b[39;00m:\n\u001b[0;32m     69\u001b[0m   \u001b[38;5;28;01mdel\u001b[39;00m filtered_tb\n",
      "File \u001b[1;32m~\\miniforge3\\lib\\site-packages\\keras\\engine\\data_adapter.py:1653\u001b[0m, in \u001b[0;36m_check_data_cardinality\u001b[1;34m(data)\u001b[0m\n\u001b[0;32m   1649\u001b[0m   msg \u001b[38;5;241m+\u001b[39m\u001b[38;5;241m=\u001b[39m \u001b[38;5;124m\"\u001b[39m\u001b[38;5;124m  \u001b[39m\u001b[38;5;132;01m{}\u001b[39;00m\u001b[38;5;124m sizes: \u001b[39m\u001b[38;5;132;01m{}\u001b[39;00m\u001b[38;5;130;01m\\n\u001b[39;00m\u001b[38;5;124m\"\u001b[39m\u001b[38;5;241m.\u001b[39mformat(\n\u001b[0;32m   1650\u001b[0m       label, \u001b[38;5;124m\"\u001b[39m\u001b[38;5;124m, \u001b[39m\u001b[38;5;124m\"\u001b[39m\u001b[38;5;241m.\u001b[39mjoin(\u001b[38;5;28mstr\u001b[39m(i\u001b[38;5;241m.\u001b[39mshape[\u001b[38;5;241m0\u001b[39m])\n\u001b[0;32m   1651\u001b[0m                        \u001b[38;5;28;01mfor\u001b[39;00m i \u001b[38;5;129;01min\u001b[39;00m tf\u001b[38;5;241m.\u001b[39mnest\u001b[38;5;241m.\u001b[39mflatten(single_data)))\n\u001b[0;32m   1652\u001b[0m msg \u001b[38;5;241m+\u001b[39m\u001b[38;5;241m=\u001b[39m \u001b[38;5;124m\"\u001b[39m\u001b[38;5;124mMake sure all arrays contain the same number of samples.\u001b[39m\u001b[38;5;124m\"\u001b[39m\n\u001b[1;32m-> 1653\u001b[0m \u001b[38;5;28;01mraise\u001b[39;00m \u001b[38;5;167;01mValueError\u001b[39;00m(msg)\n",
      "\u001b[1;31mValueError\u001b[0m: Data cardinality is ambiguous:\n  x sizes: 36492, 36490\n  y sizes: 36492\nMake sure all arrays contain the same number of samples."
     ]
    }
   ],
   "source": [
    "import tensorflow as tf\n",
    "from tensorflow.keras.preprocessing.sequence import TimeseriesGenerator\n",
    "from tensorflow.keras.layers import Input, LSTM, Dense, Concatenate\n",
    "from tensorflow.keras.models import Model\n",
    "import numpy as np\n",
    "\n",
    "# Define the input data\n",
    "data = df_daily[['Breakfast', 'Lunch', 'Dinner', 'Morning_Tea', 'Afternoon_Tea']].values\n",
    "\n",
    "# Define the target data\n",
    "target = df_daily['Toilet'].values\n",
    "\n",
    "# Define the number of previous rows to use for each subnetwork\n",
    "gluten_lookback = 5\n",
    "lactose_lookback = 7\n",
    "\n",
    "# Define the number of future rows to predict\n",
    "prediction_length = 3\n",
    "\n",
    "# Create the training dataset\n",
    "train_data = data[:36500]\n",
    "train_target = target[:36500]\n",
    "\n",
    "train_gen_gluten = TimeseriesGenerator(train_data, train_target, length=gluten_lookback+prediction_length, sampling_rate=1, stride=1, batch_size=1)\n",
    "train_gen_lactose = TimeseriesGenerator(train_data, train_target, length=lactose_lookback+prediction_length, sampling_rate=1, stride=1, batch_size=1)\n",
    "\n",
    "train_X_gluten = np.array([train_gen_gluten[i][0] for i in range(len(train_gen_gluten))])\n",
    "train_X_lactose = np.array([train_gen_lactose[i][0] for i in range(len(train_gen_lactose))])\n",
    "train_y = np.array([train_gen_gluten[i][1][-1] for i in range(len(train_gen_gluten))])\n",
    "\n",
    "# Create the validation dataset\n",
    "val_data = data[36500:40150]\n",
    "val_target = target[36500:40150]\n",
    "\n",
    "val_gen_gluten = TimeseriesGenerator(val_data, val_target, length=gluten_lookback+prediction_length, sampling_rate=1, stride=1, batch_size=1)\n",
    "val_gen_lactose = TimeseriesGenerator(val_data, val_target, length=lactose_lookback+prediction_length, sampling_rate=1, stride=1, batch_size=1)\n",
    "\n",
    "val_X_gluten = np.array([val_gen_gluten[i][0] for i in range(len(val_gen_gluten))])\n",
    "val_X_lactose = np.array([val_gen_lactose[i][0] for i in range(len(val_gen_lactose))])\n",
    "val_y = np.array([val_gen_gluten[i][1][-1] for i in range(len(val_gen_gluten))])\n",
    "\n",
    "# Define the input layers for each subnetwork\n",
    "gluten_input = Input(shape=(gluten_lookback+prediction_length, 3))\n",
    "lactose_input = Input(shape=(lactose_lookback+prediction_length, 2))\n",
    "\n",
    "# Define the gluten subnetwork\n",
    "gluten_output = LSTM(1)(gluten_input)\n",
    "\n",
    "# Define the lactose subnetwork\n",
    "lactose_output = LSTM(1)(lactose_input)\n",
    "\n",
    "# Concatenate the outputs of the subnetworks\n",
    "concatenated = Concatenate()([gluten_output, lactose_output])\n",
    "\n",
    "# Define the output layer\n",
    "output = Dense(1, activation='sigmoid')(concatenated)\n",
    "\n",
    "# Create the model\n",
    "model = Model(inputs=[gluten_input, lactose_input], outputs=output)\n",
    "\n",
    "# Compile the model\n",
    "model.compile(optimizer='adam', loss='binary_crossentropy', metrics=['accuracy'])\n",
    "\n",
    "# Train the model\n",
    "history = model.fit([train_X_gluten, train_X_lactose], train_y, validation_data=([val_X_gluten, val_X_lactose], val_y), epochs=10)\n",
    "\n",
    "# Plot the training and validation loss\n",
    "import matplotlib.pyplot as plt\n",
    "plt.plot(history.history['loss'], label='Training Loss')\n",
    "plt.plot(history.history['val_loss'], label='Validation Loss')\n",
    "plt.xlabel('Epochs')\n",
    "plt.ylabel('Loss')\n",
    "plt.legend()\n",
    "plt.show()\n",
    "\n",
    "# Evaluate the model on test data\n",
    "test_data = data[40150:]\n",
    "test_target = target[40150:]\n",
    "\n",
    "test_gen_gluten = TimeseriesGenerator(test_data, test_target, length=gluten_lookback+prediction_length, sampling_rate=1, stride=1, batch_size=1)\n",
    "test_gen_lactose = TimeseriesGenerator(test_data, test_target, length=lactose_lookback+prediction_length, sampling_rate=1, stride=1, batch_size=1)\n",
    "\n",
    "test_X_gluten = np.array([test_gen_gluten[i][0] for i in range(len(test_gen_gluten))])\n",
    "test_X_lactose = np.array([test_gen_lactose[i][0] for i in range(len(test_gen_lactose))])\n",
    "test_y = np.array([test_gen_gluten[i][1][-1] for i in range(len(test_gen_gluten))])\n",
    "\n",
    "# Adjust the number of samples to match between subnetworks\n",
    "num_samples = min(test_X_gluten.shape[0], test_X_lactose.shape[0])\n",
    "test_X_gluten = test_X_gluten[:num_samples]\n",
    "test_X_lactose = test_X_lactose[:num_samples]\n",
    "test_y = test_y[:num_samples]\n",
    "\n",
    "loss, accuracy = model.evaluate([test_X_gluten, test_X_lactose], test_y)\n",
    "print('Test Loss:', loss)\n",
    "print('Test Accuracy:', accuracy)\n"
   ]
  },
  {
   "cell_type": "code",
   "execution_count": null,
   "id": "f0e4607a",
   "metadata": {},
   "outputs": [],
   "source": []
  },
  {
   "cell_type": "code",
   "execution_count": null,
   "id": "bc98990a",
   "metadata": {},
   "outputs": [],
   "source": []
  },
  {
   "cell_type": "code",
   "execution_count": null,
   "id": "672b1021",
   "metadata": {},
   "outputs": [],
   "source": []
  },
  {
   "cell_type": "code",
   "execution_count": null,
   "id": "31e783ba",
   "metadata": {},
   "outputs": [],
   "source": []
  },
  {
   "cell_type": "code",
   "execution_count": null,
   "id": "7ce2c2a3",
   "metadata": {},
   "outputs": [],
   "source": []
  },
  {
   "cell_type": "code",
   "execution_count": null,
   "id": "67795418",
   "metadata": {},
   "outputs": [],
   "source": []
  },
  {
   "cell_type": "code",
   "execution_count": null,
   "id": "dd46bd43",
   "metadata": {},
   "outputs": [],
   "source": []
  },
  {
   "cell_type": "code",
   "execution_count": null,
   "id": "bd4eb0d6",
   "metadata": {},
   "outputs": [],
   "source": []
  },
  {
   "cell_type": "code",
   "execution_count": null,
   "id": "52216c25",
   "metadata": {},
   "outputs": [],
   "source": [
    "from tensorflow.keras.preprocessing import timeseries_dataset_from_array\n",
    "\n",
    "gluten_data = df_daily[['Breakfast', 'Lunch', 'Dinner']].values[:36500]\n",
    "lactose_data = df_daily[['Morning_Tea', 'Afternoon_Tea']].values[:36500]\n",
    "targets = df_daily['Toilet'].values[3:36503]  # shift targets 3 days later\n",
    "\n",
    "gluten_sequence_length = 5\n",
    "lactose_sequence_length = 7\n",
    "target_length = 3\n",
    "\n",
    "gluten_dataset = timeseries_dataset_from_array(\n",
    "    data=gluten_data,\n",
    "    targets=targets,\n",
    "    sequence_length=gluten_sequence_length,\n",
    "    sequence_stride=1,\n",
    "    batch_size=128,\n",
    ")\n",
    "\n",
    "lactose_dataset = timeseries_dataset_from_array(\n",
    "    data=lactose_data,\n",
    "    targets=targets,\n",
    "    sequence_length=lactose_sequence_length,\n",
    "    sequence_stride=1,\n",
    "    batch_size=128,\n",
    ")\n",
    "\n",
    "# Create validation datasets\n",
    "gluten_data_val = df_daily[['Breakfast', 'Lunch', 'Dinner']].values[36500:36500+3650]\n",
    "lactose_data_val = df_daily[['Morning_Tea', 'Afternoon_Tea']].values[36500:36500+3650]\n",
    "targets_val = df_daily['Toilet'].values[36500+3:36500+3650+3]  # shift targets 3 days later\n",
    "\n",
    "gluten_val_dataset = timeseries_dataset_from_array(\n",
    "    data=gluten_data_val,\n",
    "    targets=targets_val,\n",
    "    sequence_length=gluten_sequence_length,\n",
    "    sequence_stride=1,\n",
    "    batch_size=128,\n",
    ")\n",
    "\n",
    "lactose_val_dataset = timeseries_dataset_from_array(\n",
    "    data=lactose_data_val,\n",
    "    targets=targets_val,\n",
    "    sequence_length=lactose_sequence_length,\n",
    "    sequence_stride=1,\n",
    "    batch_size=128,\n",
    ")\n"
   ]
  },
  {
   "cell_type": "code",
   "execution_count": null,
   "id": "db019ea1",
   "metadata": {},
   "outputs": [],
   "source": [
    "from tensorflow.keras.layers import Input, Dense, LSTM, Concatenate\n",
    "from tensorflow.keras.models import Model\n",
    "\n",
    "# Define the sub-networks\n",
    "gluten_input = Input(shape=(gluten_sequence_length,3), name='gluten_input') \n",
    "lactose_input = Input(shape=(lactose_sequence_length,2), name='lactose_input')\n",
    "\n",
    "gluten_model = LSTM(50, return_sequences=True)(gluten_input)\n",
    "gluten_model = LSTM(25)(gluten_model)\n",
    "\n",
    "lactose_model = LSTM(50, return_sequences=True)(lactose_input)\n",
    "lactose_model = LSTM(25)(lactose_model)\n",
    "\n",
    "# Concatenate the outputs of the two subnetworks\n",
    "concat = Concatenate()([gluten_model, lactose_model])\n",
    "\n",
    "# Define the final Dense layer and the Model\n",
    "output = Dense(1, activation='sigmoid')(concat)\n",
    "model = Model(inputs=[gluten_input, lactose_input], outputs=output)\n",
    "\n",
    "# Compile the model\n",
    "model.compile(optimizer='adam', loss='binary_crossentropy', metrics=['accuracy'])\n",
    "\n",
    "# Print a summary of the model\n",
    "model.summary()\n"
   ]
  },
  {
   "cell_type": "code",
   "execution_count": null,
   "id": "dad87981",
   "metadata": {},
   "outputs": [],
   "source": [
    "# Combine the gluten and lactose datasets\n",
    "train_dataset = tf.data.Dataset.zip((gluten_dataset, lactose_dataset))\n",
    "val_dataset = tf.data.Dataset.zip((gluten_val_dataset, lactose_val_dataset))\n",
    "\n",
    "# Define callbacks (optional)\n",
    "early_stopping = tf.keras.callbacks.EarlyStopping(monitor='val_loss', patience=2, mode='min')\n",
    "\n",
    "# Fit the model\n",
    "history = model.fit(train_dataset, epochs=50, validation_data=val_dataset, callbacks=[early_stopping])\n"
   ]
  },
  {
   "cell_type": "code",
   "execution_count": null,
   "id": "84b379c6",
   "metadata": {},
   "outputs": [],
   "source": []
  },
  {
   "cell_type": "code",
   "execution_count": null,
   "id": "dbdc9aba",
   "metadata": {},
   "outputs": [],
   "source": []
  },
  {
   "cell_type": "code",
   "execution_count": null,
   "id": "3c068cc0",
   "metadata": {},
   "outputs": [],
   "source": []
  },
  {
   "cell_type": "code",
   "execution_count": null,
   "id": "d8b86563",
   "metadata": {},
   "outputs": [],
   "source": []
  },
  {
   "cell_type": "code",
   "execution_count": null,
   "id": "f5d87b54",
   "metadata": {},
   "outputs": [],
   "source": []
  },
  {
   "cell_type": "code",
   "execution_count": null,
   "id": "cf68b404",
   "metadata": {},
   "outputs": [],
   "source": []
  },
  {
   "cell_type": "code",
   "execution_count": null,
   "id": "8f67dfc1",
   "metadata": {},
   "outputs": [],
   "source": []
  },
  {
   "cell_type": "code",
   "execution_count": null,
   "id": "86088119",
   "metadata": {},
   "outputs": [],
   "source": []
  }
 ],
 "metadata": {
  "kernelspec": {
   "display_name": "Python 3 (ipykernel)",
   "language": "python",
   "name": "python3"
  },
  "language_info": {
   "codemirror_mode": {
    "name": "ipython",
    "version": 3
   },
   "file_extension": ".py",
   "mimetype": "text/x-python",
   "name": "python",
   "nbconvert_exporter": "python",
   "pygments_lexer": "ipython3",
   "version": "3.8.15"
  }
 },
 "nbformat": 4,
 "nbformat_minor": 5
}
