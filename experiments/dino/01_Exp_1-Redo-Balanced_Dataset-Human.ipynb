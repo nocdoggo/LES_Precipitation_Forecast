{
 "cells": [
  {
   "cell_type": "markdown",
   "id": "a72af1bb",
   "metadata": {},
   "source": [
    "# Experiment 1.1 Human Intervention\n",
    "\n"
   ]
  },
  {
   "cell_type": "markdown",
   "id": "6f3b8d8d",
   "metadata": {},
   "source": [
    "---\n",
    "\n",
    "## 1. Dataset Creation\n",
    "\n",
    "> Prof Dino has major GI issues (I do), stemming from a gluten and a lactose allergy. Let's just say that if he eats something with gluten or drinks something with lactose, then next day(s) he has diarrhea. Create a dataset with breakfast, morning tea, lunch, afternoon tea, dinner, toilet. Each column is binary (T/F) values, and for breakfast, lunch, and dinner denotes whether or not I had gluten. For both tea columns, it's whether I had tea with milk. Toilet T means diarrhea. Create that dataset randomly as T/F values, for all columns. Make sure the label is balanced around T/F."
   ]
  },
  {
   "cell_type": "markdown",
   "id": "f5b5d8c4",
   "metadata": {},
   "source": [
    "## 1.1 Generate Randomly Selected Data\n",
    "\n",
    "To achieve this, I will outline the steps to create a balanced dataset with $43,800$ rows, equivalent to approximately $120$ years of data (All I wish Prof. Dino will live forever, but my RAM is small.):\n",
    "\n",
    "1. Create a dataframe called df_daily with five columns: `Breakfast`, `Morning_Tea`, `Lunch`, `Afternoon_Tea`, and `Dinner`.\n",
    "\n",
    "2. Add $43,800$ rows to df_daily where all values are randomly filled with $True$ or $False$.\n",
    "\n",
    "By following these steps, we can generate a balanced dataset around $True$ and $False$ values."
   ]
  },
  {
   "cell_type": "code",
   "execution_count": 1,
   "id": "abae298a",
   "metadata": {},
   "outputs": [],
   "source": [
    "import pandas as pd\n",
    "import numpy as np\n",
    "from sklearn.model_selection import train_test_split\n",
    "import tensorflow as tf\n",
    "from tensorflow.keras.models import Model\n",
    "from tensorflow.keras.layers import Input, Dense, Concatenate\n",
    "import matplotlib.pyplot as plt\n",
    "import seaborn as sns\n",
    "%matplotlib inline\n",
    "\n",
    "# Number of days for this dataset\n",
    "num_rows = 43800  # Change this as needed\n",
    "n_days = 43800"
   ]
  },
  {
   "cell_type": "code",
   "execution_count": 2,
   "id": "94375af6",
   "metadata": {},
   "outputs": [],
   "source": [
    "# Create a balanced binary dataset\n",
    "df_daily = pd.DataFrame({\n",
    "    'Breakfast': np.random.choice([True, False], num_rows),\n",
    "    'Morning_Tea': np.random.choice([True, False], num_rows),\n",
    "    'Lunch': np.random.choice([True, False], num_rows),\n",
    "    'Afternoon_Tea': np.random.choice([True, False], num_rows),\n",
    "    'Dinner': np.random.choice([True, False], num_rows),\n",
    "    'Toilet': np.random.choice([True, False], num_rows),\n",
    "})\n"
   ]
  },
  {
   "cell_type": "markdown",
   "id": "e014787c",
   "metadata": {},
   "source": [
    "## 1.2 Check Dataframe Shape"
   ]
  },
  {
   "cell_type": "code",
   "execution_count": 3,
   "id": "a2769524",
   "metadata": {},
   "outputs": [
    {
     "data": {
      "text/plain": [
       "(43800, 6)"
      ]
     },
     "execution_count": 3,
     "metadata": {},
     "output_type": "execute_result"
    }
   ],
   "source": [
    "df_daily.shape"
   ]
  },
  {
   "cell_type": "markdown",
   "id": "9b608479",
   "metadata": {},
   "source": [
    "By following this approach, we have successfully obtained a dataset with $43,800$ rows and $6$ labels. To ensure the data's integrity, let's perform a sanity check to confirm that there are no $NaN$ values present.\n",
    "\n",
    "---\n",
    "\n",
    "## 1.3 Sanity Check\n",
    "\n",
    "Here's the code snippet to perform the sanity check:"
   ]
  },
  {
   "cell_type": "code",
   "execution_count": 4,
   "id": "c9825d17",
   "metadata": {},
   "outputs": [
    {
     "name": "stdout",
     "output_type": "stream",
     "text": [
      "Sanity check passed: No NaN values detected in the dataset.\n"
     ]
    }
   ],
   "source": [
    "# Check for NaN values in the dataset\n",
    "nan_values = df_daily.isnull().sum().sum()\n",
    "\n",
    "if nan_values == 0:\n",
    "    print(\"Sanity check passed: No NaN values detected in the dataset.\")\n",
    "else:\n",
    "    print(\"Sanity check failed: NaN values detected in the dataset.\")"
   ]
  },
  {
   "cell_type": "markdown",
   "id": "640465ad",
   "metadata": {},
   "source": [
    "Then, let's examine all the column names in the dataframe df_daily to get an overview of the available columns."
   ]
  },
  {
   "cell_type": "code",
   "execution_count": 5,
   "id": "3cb4b3d2",
   "metadata": {},
   "outputs": [
    {
     "name": "stdout",
     "output_type": "stream",
     "text": [
      "Column names in the dataframe df_daily:\n",
      "['Breakfast', 'Morning_Tea', 'Lunch', 'Afternoon_Tea', 'Dinner', 'Toilet']\n"
     ]
    }
   ],
   "source": [
    "column_names = df_daily.columns.tolist()\n",
    "\n",
    "print(\"Column names in the dataframe df_daily:\")\n",
    "print(column_names)"
   ]
  },
  {
   "cell_type": "markdown",
   "id": "007da146",
   "metadata": {},
   "source": [
    "Next, let's examine the distribution of values in the `Toilet` column of the dataframe to assess the dataset's balance. This will provide insights into the proportion of `True` and `False` values in the dataset."
   ]
  },
  {
   "cell_type": "code",
   "execution_count": 6,
   "id": "b4b61f7d",
   "metadata": {},
   "outputs": [
    {
     "name": "stdout",
     "output_type": "stream",
     "text": [
      "Distribution of values in the 'Toilet' column:\n",
      "False    21918\n",
      "True     21882\n",
      "Name: Toilet, dtype: int64\n"
     ]
    }
   ],
   "source": [
    "# Check the distribution of values in the 'Toilet' column\n",
    "toilet_distribution = df_daily['Toilet'].value_counts()\n",
    "\n",
    "print(\"Distribution of values in the 'Toilet' column:\")\n",
    "print(toilet_distribution)"
   ]
  },
  {
   "cell_type": "code",
   "execution_count": 7,
   "id": "db84f5d1",
   "metadata": {},
   "outputs": [
    {
     "data": {
      "text/plain": [
       "<AxesSubplot:xlabel='Toilet', ylabel='count'>"
      ]
     },
     "execution_count": 7,
     "metadata": {},
     "output_type": "execute_result"
    },
    {
     "data": {
      "image/png": "[encoded data removed]",
      "text/plain": [
       "<Figure size 432x288 with 1 Axes>"
      ]
     },
     "metadata": {
      "needs_background": "light"
     },
     "output_type": "display_data"
    }
   ],
   "source": [
    "import matplotlib.pyplot as plt\n",
    "import seaborn as sns\n",
    "%matplotlib inline\n",
    "\n",
    "# Visualize the distribution of values in column 'Toilet'\n",
    "sns.countplot(x = df_daily['Toilet'], palette=[\"#7fcdbb\", \"#edf8b1\"])"
   ]
  },
  {
   "cell_type": "code",
   "execution_count": 8,
   "id": "9eb21cf4",
   "metadata": {},
   "outputs": [
    {
     "name": "stdout",
     "output_type": "stream",
     "text": [
      "False    22007\n",
      "True     21793\n",
      "Name: Breakfast, dtype: int64\n",
      "False    21933\n",
      "True     21867\n",
      "Name: Morning_Tea, dtype: int64\n",
      "True     22025\n",
      "False    21775\n",
      "Name: Lunch, dtype: int64\n",
      "True     22061\n",
      "False    21739\n",
      "Name: Afternoon_Tea, dtype: int64\n",
      "False    21947\n",
      "True     21853\n",
      "Name: Dinner, dtype: int64\n",
      "False    21918\n",
      "True     21882\n",
      "Name: Toilet, dtype: int64\n"
     ]
    }
   ],
   "source": [
    "for col in df_daily.columns:\n",
    "    print(df_daily[col].value_counts())"
   ]
  },
  {
   "cell_type": "code",
   "execution_count": 9,
   "id": "5aa2bfa6",
   "metadata": {},
   "outputs": [
    {
     "data": {
      "image/png": "[encoded data removed]",
      "text/plain": [
       "<Figure size 576x576 with 6 Axes>"
      ]
     },
     "metadata": {
      "needs_background": "light"
     },
     "output_type": "display_data"
    }
   ],
   "source": [
    "import seaborn as sns\n",
    "import matplotlib.pyplot as plt\n",
    "\n",
    "fig, axes = plt.subplots(nrows=3, ncols=2, figsize=(8, 8))\n",
    "\n",
    "axes = axes.flatten()  # Using this can turn the 2D grid of axes into a flat array\n",
    "\n",
    "for i, col in enumerate(df_daily.columns):\n",
    "    sns.countplot(x=df_daily[col], ax=axes[i])\n",
    "    axes[i].set_title(f\"Distribution for {col}\")\n",
    "\n",
    "plt.tight_layout()\n",
    "plt.show()\n"
   ]
  },
  {
   "cell_type": "markdown",
   "id": "46b12987",
   "metadata": {},
   "source": [
    "Based on the distribution of values in the `Toilet` column as shown above, we can infer that the dataset is balanced. This conclusion is drawn from observing that there is a roughly equal number of $True$ and $False$ values in the column. With this confirmation, we can proceed to the next step: model creation.\n",
    "\n",
    "---"
   ]
  },
  {
   "cell_type": "markdown",
   "id": "066b8f99",
   "metadata": {},
   "source": [
    "# 2. Human Learn Data\n",
    "\n",
    "I believe that humans and neural networks learn from datasets and make predictions fundamentally in different ways due to the differences in our cognitive structures and underlying mechanics. This is how I think a human would learn from the dataset.\n",
    "\n",
    "1. **Observation & Pattern Recognition:** Humans learn by observation and identifying patterns in data. For example, in the case of Prof. Dino's food consumption and subsequent toilet usage, a human could look through the data and start noticing patterns: \"Whenever Prof. Dino consumes gluten for breakfast and lactose in the morning tea, he tends to have diarrhea the next day.\" This form of learning is intuitive and relies heavily on our ability to discern patterns and make connections. This is analogous, in some sense, to the initial stages of training a neural network where it learns to recognize patterns in the input data.\n",
    "\n",
    "\n",
    "2. **Reasoning & Logic:** Humans can use reasoning and logical inference to learn from data. For instance, if Prof. Dino always has diarrhea after consuming gluten and lactose, we could reason that it's probably due to his allergies, and predict that he would likely have the same reaction in the future. This kind of inferential learning is more challenging/impractical for neural networks, which typically learn from patterns in data rather than by reasoning about cause-and-effect relationships.\n",
    "\n",
    "3. **Prior Knowledge and Generalization:** Humans can apply prior knowledge to new situations. If we know from other sources that gluten and lactose can cause digestive issues for some people, we could apply that knowledge to Prof. Dino's situation. Neural networks, on the other hand, don't have prior knowledge in the way humans do and must learn everything from the data they're given. In our case, a human was told that Prof. Dino has the tendency to get digestive issues when consuming inappropriate food. But the computer certainly wouldn't know this.\n",
    "\n",
    "Then, let's perform the 1st stage of human perceiving the knowledge from the dataset."
   ]
  },
  {
   "cell_type": "code",
   "execution_count": 10,
   "id": "0571f7a1",
   "metadata": {},
   "outputs": [],
   "source": [
    "# df_daily = df_daily.astype(int)"
   ]
  },
  {
   "cell_type": "code",
   "execution_count": 11,
   "id": "442296ad",
   "metadata": {},
   "outputs": [],
   "source": [
    "# Split the dataframe into features (input) and labels (output)\n",
    "features = df_daily[['Breakfast', 'Lunch', 'Dinner', 'Morning_Tea', 'Afternoon_Tea']][0:21900*2 - 1]\n",
    "labels = df_daily['Toilet'][1:]"
   ]
  },
  {
   "cell_type": "markdown",
   "id": "ea58f829",
   "metadata": {},
   "source": [
    "Perform an inspection to check the number of rows in the feature and label dataframes and verify if they have the same length. Doing this will display the number of rows in the features and labels dataframes. It will also indicate whether the two dataframes have the same length or not."
   ]
  },
  {
   "cell_type": "code",
   "execution_count": 12,
   "id": "40559c4d",
   "metadata": {},
   "outputs": [
    {
     "name": "stdout",
     "output_type": "stream",
     "text": [
      "Number of rows in features dataframe: 43799\n",
      "Number of rows in labels dataframe: 43799\n",
      "The feature and label dataframes have the same length.\n"
     ]
    }
   ],
   "source": [
    "num_features_rows = len(features)\n",
    "num_labels_rows = len(labels)\n",
    "\n",
    "print(\"Number of rows in features dataframe:\", num_features_rows)\n",
    "print(\"Number of rows in labels dataframe:\", num_labels_rows)\n",
    "\n",
    "if num_features_rows == num_labels_rows:\n",
    "    print(\"The feature and label dataframes have the same length.\")\n",
    "else:\n",
    "    print(\"The feature and label dataframes do not have the same length.\")\n"
   ]
  },
  {
   "cell_type": "code",
   "execution_count": 13,
   "id": "95229f4e",
   "metadata": {},
   "outputs": [
    {
     "name": "stdout",
     "output_type": "stream",
     "text": [
      "(True, True, True, False, False)\n",
      "(False, True, False, False, True)\n",
      "(False, False, True, False, False)\n",
      "(True, False, True, True, False)\n",
      "(False, False, False, False, False)\n",
      "(False, True, True, True, True)\n",
      "(True, True, True, True, True)\n",
      "(True, False, False, True, False)\n",
      "(True, True, False, False, False)\n",
      "(False, False, True, True, True)\n",
      "(True, False, False, False, True)\n",
      "(False, True, False, False, False)\n",
      "(False, False, False, True, True)\n",
      "(True, False, True, False, True)\n",
      "(False, True, True, True, False)\n",
      "(False, True, False, True, True)\n",
      "(True, True, True, True, False)\n",
      "(False, False, True, True, False)\n",
      "(True, True, False, True, True)\n",
      "(False, True, True, False, True)\n",
      "(False, False, False, True, False)\n",
      "(True, True, True, False, True)\n",
      "(True, False, False, False, False)\n",
      "(True, False, True, False, False)\n",
      "(False, False, True, False, True)\n",
      "(True, False, True, True, True)\n",
      "(True, False, False, True, True)\n",
      "(False, False, False, False, True)\n",
      "(False, True, False, True, False)\n",
      "(True, True, False, True, False)\n",
      "(False, True, True, False, False)\n",
      "(True, True, False, False, True)\n"
     ]
    }
   ],
   "source": [
    "import itertools\n",
    "\n",
    "features = features.reset_index(drop=True)\n",
    "labels = labels.reset_index(drop=True)\n",
    "\n",
    "unique_combinations = set(tuple(x) for x in features.values)\n",
    "\n",
    "unique_combo = []\n",
    "# Print unique combinations\n",
    "for combination in unique_combinations:\n",
    "    print(combination)\n",
    "    unique_combo.append(combination)\n"
   ]
  },
  {
   "cell_type": "code",
   "execution_count": 14,
   "id": "84f29514",
   "metadata": {},
   "outputs": [
    {
     "data": {
      "text/plain": [
       "32"
      ]
     },
     "execution_count": 14,
     "metadata": {},
     "output_type": "execute_result"
    }
   ],
   "source": [
    "len(unique_combo)"
   ]
  },
  {
   "cell_type": "markdown",
   "id": "917fc61a",
   "metadata": {},
   "source": [
    "Upon close observation and analysis of the data stored in the five feature columns, we notice a consistent pattern. Specifically, the value for each entry in these columns is either a 0 or a 1, mirroring the binary nature of our experimental parameters (consumption of gluten and/or lactose).\n",
    "\n",
    "This observation underscores a fundamental aspect of our dataset and the broader experimental design. It corroborates our initial hypothesis, which postulated the existence of 32 possible combinations of dietary intake and physiological responses. This stems from the binary representation of gluten and lactose consumption in conjunction with the true or false restroom outcomes, resulting in 2^5 = 32 potential combinations. This evidence reinforces the validity of our initial assumption.\n",
    "\n",
    "In the subsequent stages of our investigation, it becomes imperative to verify whether the 32 distinct combinations of dietary features (specifically the binary inclusion or exclusion of gluten and lactose across five meal periods) directly correspond to 32 unique `Toilet` labels.\n",
    "\n",
    "To achieve so, we can use the **drop_duplicates** method to obtain all the unique combinations of values across all columns in your dataframe."
   ]
  },
  {
   "cell_type": "code",
   "execution_count": 15,
   "id": "c2ceab38",
   "metadata": {},
   "outputs": [],
   "source": [
    "fea_copy = features.copy()\n"
   ]
  },
  {
   "cell_type": "code",
   "execution_count": 16,
   "id": "67006686",
   "metadata": {},
   "outputs": [],
   "source": [
    "df_unique_combo = fea_copy.drop_duplicates()"
   ]
  },
  {
   "cell_type": "code",
   "execution_count": 17,
   "id": "c2226751",
   "metadata": {},
   "outputs": [
    {
     "data": {
      "text/plain": [
       "(32, 5)"
      ]
     },
     "execution_count": 17,
     "metadata": {},
     "output_type": "execute_result"
    }
   ],
   "source": [
    "df_unique_combo.shape"
   ]
  },
  {
   "cell_type": "code",
   "execution_count": 18,
   "id": "e9ba8a2b",
   "metadata": {},
   "outputs": [],
   "source": [
    "df_combo = pd.concat([features, labels], axis=1)\n"
   ]
  },
  {
   "cell_type": "code",
   "execution_count": 19,
   "id": "93c8fede",
   "metadata": {},
   "outputs": [
    {
     "data": {
      "text/plain": [
       "(43799, 6)"
      ]
     },
     "execution_count": 19,
     "metadata": {},
     "output_type": "execute_result"
    }
   ],
   "source": [
    "df_combo.shape"
   ]
  },
  {
   "cell_type": "code",
   "execution_count": 20,
   "id": "0bd73a4a",
   "metadata": {},
   "outputs": [
    {
     "data": {
      "text/plain": [
       "(64, 6)"
      ]
     },
     "execution_count": 20,
     "metadata": {},
     "output_type": "execute_result"
    }
   ],
   "source": [
    "df_unique_list = df_combo.drop_duplicates()\n",
    "df_unique_list.shape"
   ]
  },
  {
   "cell_type": "code",
   "execution_count": 21,
   "id": "2619fd71",
   "metadata": {},
   "outputs": [
    {
     "data": {
      "text/html": [
       "<div>\n",
       "<style scoped>\n",
       "    .dataframe tbody tr th:only-of-type {\n",
       "        vertical-align: middle;\n",
       "    }\n",
       "\n",
       "    .dataframe tbody tr th {\n",
       "        vertical-align: top;\n",
       "    }\n",
       "\n",
       "    .dataframe thead th {\n",
       "        text-align: right;\n",
       "    }\n",
       "</style>\n",
       "<table border=\"1\" class=\"dataframe\">\n",
       "  <thead>\n",
       "    <tr style=\"text-align: right;\">\n",
       "      <th></th>\n",
       "      <th>Breakfast</th>\n",
       "      <th>Lunch</th>\n",
       "      <th>Dinner</th>\n",
       "      <th>Morning_Tea</th>\n",
       "      <th>Afternoon_Tea</th>\n",
       "      <th>Toilet</th>\n",
       "    </tr>\n",
       "  </thead>\n",
       "  <tbody>\n",
       "    <tr>\n",
       "      <th>55</th>\n",
       "      <td>True</td>\n",
       "      <td>True</td>\n",
       "      <td>True</td>\n",
       "      <td>True</td>\n",
       "      <td>True</td>\n",
       "      <td>True</td>\n",
       "    </tr>\n",
       "    <tr>\n",
       "      <th>69</th>\n",
       "      <td>True</td>\n",
       "      <td>True</td>\n",
       "      <td>True</td>\n",
       "      <td>True</td>\n",
       "      <td>True</td>\n",
       "      <td>False</td>\n",
       "    </tr>\n",
       "  </tbody>\n",
       "</table>\n",
       "</div>"
      ],
      "text/plain": [
       "    Breakfast  Lunch  Dinner  Morning_Tea  Afternoon_Tea  Toilet\n",
       "55       True   True    True         True           True    True\n",
       "69       True   True    True         True           True   False"
      ]
     },
     "execution_count": 21,
     "metadata": {},
     "output_type": "execute_result"
    }
   ],
   "source": [
    "df_true = df_unique_list[(df_unique_list['Breakfast'] == True) & \n",
    "                         (df_unique_list['Lunch'] == True) & \n",
    "                         (df_unique_list['Dinner'] == True) & \n",
    "                         (df_unique_list['Morning_Tea'] == True) & \n",
    "                         (df_unique_list['Afternoon_Tea'] == True)]\n",
    "df_true"
   ]
  },
  {
   "cell_type": "markdown",
   "id": "ff698895",
   "metadata": {},
   "source": [
    "### Observations:\n",
    "\n",
    "However, from the further exploration of the data, we observe that there are a total of 64 unique outcomes for the label `Toilet`. This suggests that the relationship between the dietary intake (i.e., `Breakfast`, `Lunch`, `Dinner`, `Morning_Tea`, `Afternoon_Tea`) and the subsequent use of the toilet is more complex than a simple one-to-one mapping.\n",
    "\n",
    "In particular, we found instances in the data where Prof. Dino consumed gluten and/or lactose at all meals and tea times (i.e., `Breakfast`, `Lunch`, `Dinner`, `Morning_Tea`, `Afternoon_Tea` were all True), yet the resulting toilet usage on the next day varied. In these cases, the `Toilet` label was sometimes True (indicating diarrhea) and sometimes False (nothing happened).\n",
    "\n",
    "This inconsistency shows that we cannot create a straightforward mapping from the food and drink labels to the `Toilet` label. Instead of a one-to-one relationship, we have a one-to-two relationship, where the same set of input conditions can lead to two different outcomes.\n",
    "\n",
    "It's worth noting that in such cases, with no other information available, the best we can do is to make a guess. Given the one-to-two relationship, we would expect our guess to be correct about 50% of the time, purely by chance.\n",
    "\n",
    "Then, it echos with the accuracy that the neural network has achieved in the other experiment."
   ]
  }
 ],
 "metadata": {
  "kernelspec": {
   "display_name": "Python 3 (ipykernel)",
   "language": "python",
   "name": "python3"
  },
  "language_info": {
   "codemirror_mode": {
    "name": "ipython",
    "version": 3
   },
   "file_extension": ".py",
   "mimetype": "text/x-python",
   "name": "python",
   "nbconvert_exporter": "python",
   "pygments_lexer": "ipython3",
   "version": "3.8.15"
  }
 },
 "nbformat": 4,
 "nbformat_minor": 5
}
