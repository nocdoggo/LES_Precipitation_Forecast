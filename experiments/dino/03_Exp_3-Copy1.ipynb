{
 "cells": [
  {
   "cell_type": "code",
   "execution_count": 1,
   "id": "cdac11eb",
   "metadata": {},
   "outputs": [],
   "source": [
    "import pandas as pd\n",
    "import numpy as np\n",
    "from sklearn.model_selection import train_test_split\n",
    "import tensorflow as tf\n",
    "from tensorflow.keras.models import Model\n",
    "from tensorflow.keras.layers import Input, Dense, Concatenate\n",
    "import matplotlib.pyplot as plt\n",
    "import seaborn as sns\n",
    "%matplotlib inline"
   ]
  },
  {
   "cell_type": "code",
   "execution_count": null,
   "id": "db7af44a",
   "metadata": {},
   "outputs": [],
   "source": []
  },
  {
   "cell_type": "code",
   "execution_count": 2,
   "id": "bd2e64dd",
   "metadata": {},
   "outputs": [],
   "source": [
    "# Number of days for this dataset\n",
    "n_days = 365*120"
   ]
  },
  {
   "cell_type": "code",
   "execution_count": 3,
   "id": "6cdea191",
   "metadata": {},
   "outputs": [],
   "source": [
    "# Generate random binary values\n",
    "breakfast_gluten = np.random.randint(2, size=n_days)\n",
    "morning_tea_milk = np.random.randint(2, size=n_days)\n",
    "lunch_gluten = np.random.randint(2, size=n_days)\n",
    "afternoon_tea_milk = np.random.randint(2, size=n_days)\n",
    "dinner_gluten = np.random.randint(2, size=n_days)\n",
    "toilet_diarrhea = np.random.randint(2, size=n_days)"
   ]
  },
  {
   "cell_type": "code",
   "execution_count": 4,
   "id": "4d1be192",
   "metadata": {},
   "outputs": [],
   "source": [
    "# Create dataframe\n",
    "df_daily = pd.DataFrame({\n",
    "#     'Day': range(1, n_days + 1),\n",
    "    'Breakfast': breakfast_gluten,\n",
    "    'Morning_Tea': morning_tea_milk,\n",
    "    'Lunch': lunch_gluten,\n",
    "    'Afternoon_Tea': afternoon_tea_milk,\n",
    "    'Dinner': dinner_gluten,\n",
    "    'Toilet': toilet_diarrhea\n",
    "})"
   ]
  },
  {
   "cell_type": "code",
   "execution_count": 5,
   "id": "0b46cb08",
   "metadata": {},
   "outputs": [],
   "source": [
    "df_daily = df_daily.replace({True: 1, False: 0})\n"
   ]
  },
  {
   "cell_type": "code",
   "execution_count": 6,
   "id": "19271c41",
   "metadata": {},
   "outputs": [],
   "source": [
    "df_daily.at[0, 'Toilet'] = 0\n",
    "# Create a new column that is the sum of the other columns\n",
    "df_daily['sum'] = df_daily[['Breakfast', 'Morning_Tea', 'Lunch', 'Afternoon_Tea', 'Dinner']].sum(axis=1)\n",
    "\n",
    "# If 'sum' at row t is not 0, set 'Toilet' at row t+1 to 1\n",
    "df_daily['Toilet'] = (df_daily['sum'].shift(-1) != 0).astype(int)\n",
    "\n",
    "# Drop the 'sum' column as we don't need it anymore\n",
    "df_daily.drop('sum', axis=1, inplace=True)"
   ]
  },
  {
   "cell_type": "code",
   "execution_count": 7,
   "id": "5a5d2397",
   "metadata": {},
   "outputs": [
    {
     "data": {
      "text/plain": [
       "(43800, 6)"
      ]
     },
     "execution_count": 7,
     "metadata": {},
     "output_type": "execute_result"
    }
   ],
   "source": [
    "df_daily.shape"
   ]
  },
  {
   "cell_type": "code",
   "execution_count": 8,
   "id": "d3b74b95",
   "metadata": {},
   "outputs": [],
   "source": [
    "df_daily = df_daily.astype(int)"
   ]
  },
  {
   "cell_type": "code",
   "execution_count": 9,
   "id": "1d6a89b5",
   "metadata": {},
   "outputs": [
    {
     "data": {
      "text/html": [
       "<div>\n",
       "<style scoped>\n",
       "    .dataframe tbody tr th:only-of-type {\n",
       "        vertical-align: middle;\n",
       "    }\n",
       "\n",
       "    .dataframe tbody tr th {\n",
       "        vertical-align: top;\n",
       "    }\n",
       "\n",
       "    .dataframe thead th {\n",
       "        text-align: right;\n",
       "    }\n",
       "</style>\n",
       "<table border=\"1\" class=\"dataframe\">\n",
       "  <thead>\n",
       "    <tr style=\"text-align: right;\">\n",
       "      <th></th>\n",
       "      <th>Breakfast</th>\n",
       "      <th>Morning_Tea</th>\n",
       "      <th>Lunch</th>\n",
       "      <th>Afternoon_Tea</th>\n",
       "      <th>Dinner</th>\n",
       "      <th>Toilet</th>\n",
       "    </tr>\n",
       "  </thead>\n",
       "  <tbody>\n",
       "    <tr>\n",
       "      <th>0</th>\n",
       "      <td>1</td>\n",
       "      <td>1</td>\n",
       "      <td>1</td>\n",
       "      <td>1</td>\n",
       "      <td>0</td>\n",
       "      <td>1</td>\n",
       "    </tr>\n",
       "    <tr>\n",
       "      <th>1</th>\n",
       "      <td>0</td>\n",
       "      <td>1</td>\n",
       "      <td>1</td>\n",
       "      <td>1</td>\n",
       "      <td>1</td>\n",
       "      <td>1</td>\n",
       "    </tr>\n",
       "    <tr>\n",
       "      <th>2</th>\n",
       "      <td>1</td>\n",
       "      <td>1</td>\n",
       "      <td>1</td>\n",
       "      <td>0</td>\n",
       "      <td>0</td>\n",
       "      <td>1</td>\n",
       "    </tr>\n",
       "    <tr>\n",
       "      <th>3</th>\n",
       "      <td>0</td>\n",
       "      <td>0</td>\n",
       "      <td>1</td>\n",
       "      <td>1</td>\n",
       "      <td>0</td>\n",
       "      <td>1</td>\n",
       "    </tr>\n",
       "    <tr>\n",
       "      <th>4</th>\n",
       "      <td>1</td>\n",
       "      <td>1</td>\n",
       "      <td>1</td>\n",
       "      <td>0</td>\n",
       "      <td>1</td>\n",
       "      <td>1</td>\n",
       "    </tr>\n",
       "    <tr>\n",
       "      <th>5</th>\n",
       "      <td>1</td>\n",
       "      <td>1</td>\n",
       "      <td>1</td>\n",
       "      <td>1</td>\n",
       "      <td>1</td>\n",
       "      <td>1</td>\n",
       "    </tr>\n",
       "    <tr>\n",
       "      <th>6</th>\n",
       "      <td>1</td>\n",
       "      <td>1</td>\n",
       "      <td>0</td>\n",
       "      <td>0</td>\n",
       "      <td>1</td>\n",
       "      <td>1</td>\n",
       "    </tr>\n",
       "    <tr>\n",
       "      <th>7</th>\n",
       "      <td>1</td>\n",
       "      <td>1</td>\n",
       "      <td>0</td>\n",
       "      <td>0</td>\n",
       "      <td>1</td>\n",
       "      <td>1</td>\n",
       "    </tr>\n",
       "    <tr>\n",
       "      <th>8</th>\n",
       "      <td>0</td>\n",
       "      <td>1</td>\n",
       "      <td>0</td>\n",
       "      <td>0</td>\n",
       "      <td>1</td>\n",
       "      <td>1</td>\n",
       "    </tr>\n",
       "    <tr>\n",
       "      <th>9</th>\n",
       "      <td>1</td>\n",
       "      <td>0</td>\n",
       "      <td>1</td>\n",
       "      <td>0</td>\n",
       "      <td>1</td>\n",
       "      <td>1</td>\n",
       "    </tr>\n",
       "  </tbody>\n",
       "</table>\n",
       "</div>"
      ],
      "text/plain": [
       "   Breakfast  Morning_Tea  Lunch  Afternoon_Tea  Dinner  Toilet\n",
       "0          1            1      1              1       0       1\n",
       "1          0            1      1              1       1       1\n",
       "2          1            1      1              0       0       1\n",
       "3          0            0      1              1       0       1\n",
       "4          1            1      1              0       1       1\n",
       "5          1            1      1              1       1       1\n",
       "6          1            1      0              0       1       1\n",
       "7          1            1      0              0       1       1\n",
       "8          0            1      0              0       1       1\n",
       "9          1            0      1              0       1       1"
      ]
     },
     "execution_count": 9,
     "metadata": {},
     "output_type": "execute_result"
    }
   ],
   "source": [
    "df_daily.head(10)"
   ]
  },
  {
   "cell_type": "code",
   "execution_count": 10,
   "id": "2c59612c",
   "metadata": {},
   "outputs": [
    {
     "data": {
      "text/html": [
       "<div>\n",
       "<style scoped>\n",
       "    .dataframe tbody tr th:only-of-type {\n",
       "        vertical-align: middle;\n",
       "    }\n",
       "\n",
       "    .dataframe tbody tr th {\n",
       "        vertical-align: top;\n",
       "    }\n",
       "\n",
       "    .dataframe thead th {\n",
       "        text-align: right;\n",
       "    }\n",
       "</style>\n",
       "<table border=\"1\" class=\"dataframe\">\n",
       "  <thead>\n",
       "    <tr style=\"text-align: right;\">\n",
       "      <th></th>\n",
       "      <th>Breakfast</th>\n",
       "      <th>Morning_Tea</th>\n",
       "      <th>Lunch</th>\n",
       "      <th>Afternoon_Tea</th>\n",
       "      <th>Dinner</th>\n",
       "      <th>Toilet</th>\n",
       "    </tr>\n",
       "  </thead>\n",
       "  <tbody>\n",
       "    <tr>\n",
       "      <th>count</th>\n",
       "      <td>43800.000000</td>\n",
       "      <td>43800.000000</td>\n",
       "      <td>43800.000000</td>\n",
       "      <td>43800.000000</td>\n",
       "      <td>43800.000000</td>\n",
       "      <td>43800.000000</td>\n",
       "    </tr>\n",
       "    <tr>\n",
       "      <th>mean</th>\n",
       "      <td>0.498128</td>\n",
       "      <td>0.497626</td>\n",
       "      <td>0.496689</td>\n",
       "      <td>0.497283</td>\n",
       "      <td>0.501644</td>\n",
       "      <td>0.968447</td>\n",
       "    </tr>\n",
       "    <tr>\n",
       "      <th>std</th>\n",
       "      <td>0.500002</td>\n",
       "      <td>0.500000</td>\n",
       "      <td>0.499995</td>\n",
       "      <td>0.499998</td>\n",
       "      <td>0.500003</td>\n",
       "      <td>0.174807</td>\n",
       "    </tr>\n",
       "    <tr>\n",
       "      <th>min</th>\n",
       "      <td>0.000000</td>\n",
       "      <td>0.000000</td>\n",
       "      <td>0.000000</td>\n",
       "      <td>0.000000</td>\n",
       "      <td>0.000000</td>\n",
       "      <td>0.000000</td>\n",
       "    </tr>\n",
       "    <tr>\n",
       "      <th>25%</th>\n",
       "      <td>0.000000</td>\n",
       "      <td>0.000000</td>\n",
       "      <td>0.000000</td>\n",
       "      <td>0.000000</td>\n",
       "      <td>0.000000</td>\n",
       "      <td>1.000000</td>\n",
       "    </tr>\n",
       "    <tr>\n",
       "      <th>50%</th>\n",
       "      <td>0.000000</td>\n",
       "      <td>0.000000</td>\n",
       "      <td>0.000000</td>\n",
       "      <td>0.000000</td>\n",
       "      <td>1.000000</td>\n",
       "      <td>1.000000</td>\n",
       "    </tr>\n",
       "    <tr>\n",
       "      <th>75%</th>\n",
       "      <td>1.000000</td>\n",
       "      <td>1.000000</td>\n",
       "      <td>1.000000</td>\n",
       "      <td>1.000000</td>\n",
       "      <td>1.000000</td>\n",
       "      <td>1.000000</td>\n",
       "    </tr>\n",
       "    <tr>\n",
       "      <th>max</th>\n",
       "      <td>1.000000</td>\n",
       "      <td>1.000000</td>\n",
       "      <td>1.000000</td>\n",
       "      <td>1.000000</td>\n",
       "      <td>1.000000</td>\n",
       "      <td>1.000000</td>\n",
       "    </tr>\n",
       "  </tbody>\n",
       "</table>\n",
       "</div>"
      ],
      "text/plain": [
       "          Breakfast   Morning_Tea         Lunch  Afternoon_Tea        Dinner  \\\n",
       "count  43800.000000  43800.000000  43800.000000   43800.000000  43800.000000   \n",
       "mean       0.498128      0.497626      0.496689       0.497283      0.501644   \n",
       "std        0.500002      0.500000      0.499995       0.499998      0.500003   \n",
       "min        0.000000      0.000000      0.000000       0.000000      0.000000   \n",
       "25%        0.000000      0.000000      0.000000       0.000000      0.000000   \n",
       "50%        0.000000      0.000000      0.000000       0.000000      1.000000   \n",
       "75%        1.000000      1.000000      1.000000       1.000000      1.000000   \n",
       "max        1.000000      1.000000      1.000000       1.000000      1.000000   \n",
       "\n",
       "             Toilet  \n",
       "count  43800.000000  \n",
       "mean       0.968447  \n",
       "std        0.174807  \n",
       "min        0.000000  \n",
       "25%        1.000000  \n",
       "50%        1.000000  \n",
       "75%        1.000000  \n",
       "max        1.000000  "
      ]
     },
     "execution_count": 10,
     "metadata": {},
     "output_type": "execute_result"
    }
   ],
   "source": [
    "df_daily.describe()"
   ]
  },
  {
   "cell_type": "code",
   "execution_count": 11,
   "id": "bff22579",
   "metadata": {},
   "outputs": [
    {
     "data": {
      "text/plain": [
       "1    42418\n",
       "0     1382\n",
       "Name: Toilet, dtype: int64"
      ]
     },
     "execution_count": 11,
     "metadata": {},
     "output_type": "execute_result"
    }
   ],
   "source": [
    "df_daily['Toilet'].value_counts()"
   ]
  },
  {
   "cell_type": "code",
   "execution_count": null,
   "id": "a1f4c4bd",
   "metadata": {},
   "outputs": [],
   "source": []
  },
  {
   "cell_type": "code",
   "execution_count": null,
   "id": "9d1f8d69",
   "metadata": {},
   "outputs": [],
   "source": []
  },
  {
   "cell_type": "code",
   "execution_count": 12,
   "id": "a219607f",
   "metadata": {},
   "outputs": [
    {
     "data": {
      "text/plain": [
       "<AxesSubplot:xlabel='Toilet', ylabel='count'>"
      ]
     },
     "execution_count": 12,
     "metadata": {},
     "output_type": "execute_result"
    },
    {
     "data": {
      "image/png": "[encoded data removed]",
      "text/plain": [
       "<Figure size 432x288 with 1 Axes>"
      ]
     },
     "metadata": {
      "needs_background": "light"
     },
     "output_type": "display_data"
    }
   ],
   "source": [
    "sns.countplot(x = df_daily['Toilet'], palette=[\"#7fcdbb\", \"#edf8b1\"])"
   ]
  },
  {
   "cell_type": "code",
   "execution_count": 13,
   "id": "e42834b7",
   "metadata": {},
   "outputs": [],
   "source": [
    "# # Replace 0 with 'F' and 1 with 'T'\n",
    "# df_daily.replace({0: 'F', 1: 'T'}, inplace=True)"
   ]
  },
  {
   "cell_type": "code",
   "execution_count": 14,
   "id": "62e3aa7b",
   "metadata": {},
   "outputs": [],
   "source": [
    "import tensorflow as tf\n",
    "from tensorflow.keras.layers import LSTM, Dense, Input, Concatenate\n",
    "from tensorflow.keras.models import Model"
   ]
  },
  {
   "cell_type": "code",
   "execution_count": 15,
   "id": "32319afd",
   "metadata": {},
   "outputs": [],
   "source": [
    "# Split dataset into train and validation\n",
    "train = df_daily[:36500]\n",
    "val = df_daily[36500:36500+36500]"
   ]
  },
  {
   "cell_type": "code",
   "execution_count": 16,
   "id": "e0a6416a",
   "metadata": {},
   "outputs": [],
   "source": [
    "# Create a time-series dataset from the dataframes, make it reusable\n",
    "def timeseries_dataset(df, past, future):\n",
    "    # I think shuffle should be False, correct me if I am wrong\n",
    "    ds = tf.keras.preprocessing.timeseries_dataset_from_array(\n",
    "        data=np.array(df, dtype=np.float32),\n",
    "        targets=None,\n",
    "        sequence_length=past+future,\n",
    "        sequence_stride = 1,\n",
    "        shuffle = True,\n",
    "        batch_size = 32,\n",
    "    )\n",
    "\n",
    "    ds = ds.map(lambda batch: (batch[:, :past, :], batch[:, past:, -1]))\n",
    "\n",
    "    return ds"
   ]
  },
  {
   "cell_type": "code",
   "execution_count": 17,
   "id": "ffd2c398",
   "metadata": {},
   "outputs": [],
   "source": [
    "# Create training and validation datasets\n",
    "past = 5  # previous 5 days\n",
    "future = 3  # next 3 days"
   ]
  },
  {
   "cell_type": "code",
   "execution_count": 18,
   "id": "47ae9987",
   "metadata": {},
   "outputs": [
    {
     "name": "stdout",
     "output_type": "stream",
     "text": [
      "   Breakfast  Morning_Tea  Lunch  Afternoon_Tea  Dinner  Toilet\n",
      "0          0            0      0              0       0       0\n",
      "1          1            1      1              1       1       1\n",
      "2          2            2      2              2       2       2\n",
      "3          3            3      3              3       3       3\n",
      "4          4            4      4              4       4       4\n",
      "5          5            5      5              5       5       5\n",
      "6          6            6      6              6       6       6\n",
      "7          7            7      7              7       7       7\n",
      "8          8            8      8              8       8       8\n",
      "9          9            9      9              9       9       9\n"
     ]
    }
   ],
   "source": [
    "# Create a dictionary with column names as keys and empty lists as values\n",
    "data = {\n",
    "    'Breakfast': [],\n",
    "    'Morning_Tea': [],\n",
    "    'Lunch': [],\n",
    "    'Afternoon_Tea': [],\n",
    "    'Dinner': [],\n",
    "    'Toilet': []\n",
    "}\n",
    "\n",
    "# Define the number of rows for the dataframe\n",
    "num_rows = 10  # You can change this value to the desired number of rows\n",
    "\n",
    "# Populate the dictionary with index numbers for each column\n",
    "for i in range(num_rows):\n",
    "    for col in data:\n",
    "        data[col].append(i)\n",
    "\n",
    "# Create the dataframe using the populated dictionary\n",
    "df_temp = pd.DataFrame(data)\n",
    "\n",
    "# Print the dataframe\n",
    "print(df_temp)\n"
   ]
  },
  {
   "cell_type": "code",
   "execution_count": 19,
   "id": "e78b5b58",
   "metadata": {},
   "outputs": [],
   "source": [
    "train_temp = timeseries_dataset(df_temp, past, future)"
   ]
  },
  {
   "cell_type": "code",
   "execution_count": 20,
   "id": "1fdbe28c",
   "metadata": {},
   "outputs": [],
   "source": [
    "def print_dataset(ds):\n",
    "    for inputs, targets in ds:\n",
    "        print(\"---Batch---\")\n",
    "        print(\"Feature:\", inputs.numpy())\n",
    "        print(\"Label:\", targets.numpy())\n",
    "        print(\"\")"
   ]
  },
  {
   "cell_type": "code",
   "execution_count": 21,
   "id": "ca5fdd1e",
   "metadata": {},
   "outputs": [
    {
     "name": "stdout",
     "output_type": "stream",
     "text": [
      "---Batch---\n",
      "Feature: [[[2. 2. 2. 2. 2. 2.]\n",
      "  [3. 3. 3. 3. 3. 3.]\n",
      "  [4. 4. 4. 4. 4. 4.]\n",
      "  [5. 5. 5. 5. 5. 5.]\n",
      "  [6. 6. 6. 6. 6. 6.]]\n",
      "\n",
      " [[1. 1. 1. 1. 1. 1.]\n",
      "  [2. 2. 2. 2. 2. 2.]\n",
      "  [3. 3. 3. 3. 3. 3.]\n",
      "  [4. 4. 4. 4. 4. 4.]\n",
      "  [5. 5. 5. 5. 5. 5.]]\n",
      "\n",
      " [[0. 0. 0. 0. 0. 0.]\n",
      "  [1. 1. 1. 1. 1. 1.]\n",
      "  [2. 2. 2. 2. 2. 2.]\n",
      "  [3. 3. 3. 3. 3. 3.]\n",
      "  [4. 4. 4. 4. 4. 4.]]]\n",
      "Label: [[7. 8. 9.]\n",
      " [6. 7. 8.]\n",
      " [5. 6. 7.]]\n",
      "\n"
     ]
    }
   ],
   "source": [
    "print_dataset(train_temp)"
   ]
  },
  {
   "cell_type": "code",
   "execution_count": null,
   "id": "7515965c",
   "metadata": {},
   "outputs": [],
   "source": []
  },
  {
   "cell_type": "code",
   "execution_count": null,
   "id": "3ae6f842",
   "metadata": {},
   "outputs": [],
   "source": []
  },
  {
   "cell_type": "code",
   "execution_count": null,
   "id": "54fcb44b",
   "metadata": {},
   "outputs": [],
   "source": []
  },
  {
   "cell_type": "code",
   "execution_count": null,
   "id": "475007c4",
   "metadata": {},
   "outputs": [],
   "source": []
  },
  {
   "cell_type": "code",
   "execution_count": null,
   "id": "154b9ff8",
   "metadata": {},
   "outputs": [],
   "source": []
  },
  {
   "cell_type": "code",
   "execution_count": 22,
   "id": "5a977b1c",
   "metadata": {},
   "outputs": [],
   "source": [
    "train_ds = timeseries_dataset(train, past, future)\n",
    "val_ds = timeseries_dataset(val, past+2, future)"
   ]
  },
  {
   "cell_type": "code",
   "execution_count": null,
   "id": "8b1c8bfc",
   "metadata": {},
   "outputs": [],
   "source": []
  },
  {
   "cell_type": "code",
   "execution_count": 23,
   "id": "8643e243",
   "metadata": {},
   "outputs": [],
   "source": [
    "# Create subnetworks for gluten and lactose\n",
    "input_layer = Input(shape=(past, df_daily.shape[-1]))\n",
    "\n",
    "\n"
   ]
  },
  {
   "cell_type": "code",
   "execution_count": null,
   "id": "61ebe89f",
   "metadata": {},
   "outputs": [],
   "source": []
  },
  {
   "cell_type": "code",
   "execution_count": null,
   "id": "b449efb1",
   "metadata": {},
   "outputs": [],
   "source": []
  },
  {
   "cell_type": "code",
   "execution_count": 24,
   "id": "7b51e0c8",
   "metadata": {},
   "outputs": [
    {
     "name": "stdout",
     "output_type": "stream",
     "text": [
      "Model: \"model\"\n",
      "_________________________________________________________________\n",
      " Layer (type)                Output Shape              Param #   \n",
      "=================================================================\n",
      " input_2 (InputLayer)        [(None, 5, 6)]            0         \n",
      "                                                                 \n",
      "=================================================================\n",
      "Total params: 0\n",
      "Trainable params: 0\n",
      "Non-trainable params: 0\n",
      "_________________________________________________________________\n"
     ]
    }
   ],
   "source": [
    "from tensorflow.keras.layers import Input\n",
    "from tensorflow.keras.models import Model\n",
    "\n",
    "# Assuming you have defined the 'input_layer' as mentioned\n",
    "input_layer = Input(shape=(past, df_daily.shape[-1]))\n",
    "\n",
    "# Create a dummy model with only the 'input_layer'\n",
    "model222 = Model(inputs=input_layer, outputs=input_layer)\n",
    "\n",
    "# Print the summary of the model\n",
    "model222.summary()\n"
   ]
  },
  {
   "cell_type": "code",
   "execution_count": 25,
   "id": "e5d917af",
   "metadata": {},
   "outputs": [],
   "source": [
    "gluten_layer = LSTM(32)(input_layer[:, :, :3])\n",
    "lactose_layer = LSTM(32)(input_layer[:, :, 3:5])"
   ]
  },
  {
   "cell_type": "code",
   "execution_count": 26,
   "id": "1cfaec64",
   "metadata": {},
   "outputs": [],
   "source": [
    "# Concatenate the outputs of the two subnetworks\n",
    "concat_layer = Concatenate()([gluten_layer, lactose_layer])\n",
    "\n",
    "# Dense layer for prediction\n",
    "output_layer = Dense(1, activation='sigmoid')(concat_layer)"
   ]
  },
  {
   "cell_type": "code",
   "execution_count": 27,
   "id": "df39794c",
   "metadata": {},
   "outputs": [],
   "source": [
    "# Create and compile the model\n",
    "model = Model(inputs=input_layer, outputs=output_layer)\n",
    "model.compile(optimizer='adam', loss='binary_crossentropy', metrics=['accuracy'])"
   ]
  },
  {
   "cell_type": "code",
   "execution_count": 28,
   "id": "67de2ee5",
   "metadata": {},
   "outputs": [
    {
     "name": "stdout",
     "output_type": "stream",
     "text": [
      "Epoch 1/10\n",
      "1141/1141 [==============================] - 8s 4ms/step - loss: 0.1544 - accuracy: 0.9671 - val_loss: 0.1399 - val_accuracy: 0.9693\n",
      "Epoch 2/10\n",
      "1141/1141 [==============================] - 4s 4ms/step - loss: 0.1411 - accuracy: 0.9683 - val_loss: 0.1377 - val_accuracy: 0.9693\n",
      "Epoch 3/10\n",
      "1141/1141 [==============================] - 5s 4ms/step - loss: 0.1410 - accuracy: 0.9683 - val_loss: 0.1372 - val_accuracy: 0.9693\n",
      "Epoch 4/10\n",
      "1141/1141 [==============================] - 5s 4ms/step - loss: 0.1409 - accuracy: 0.9683 - val_loss: 0.1373 - val_accuracy: 0.9693\n",
      "Epoch 5/10\n",
      "1141/1141 [==============================] - 5s 4ms/step - loss: 0.1409 - accuracy: 0.9683 - val_loss: 0.1372 - val_accuracy: 0.9693\n",
      "Epoch 6/10\n",
      "1141/1141 [==============================] - 5s 4ms/step - loss: 0.1409 - accuracy: 0.9683 - val_loss: 0.1372 - val_accuracy: 0.9693\n",
      "Epoch 7/10\n",
      "1141/1141 [==============================] - 5s 4ms/step - loss: 0.1409 - accuracy: 0.9683 - val_loss: 0.1373 - val_accuracy: 0.9693\n",
      "Epoch 8/10\n",
      "1141/1141 [==============================] - 5s 4ms/step - loss: 0.1409 - accuracy: 0.9683 - val_loss: 0.1374 - val_accuracy: 0.9693\n",
      "Epoch 9/10\n",
      "1141/1141 [==============================] - 5s 4ms/step - loss: 0.1408 - accuracy: 0.9683 - val_loss: 0.1372 - val_accuracy: 0.9693\n",
      "Epoch 10/10\n",
      "1141/1141 [==============================] - 5s 4ms/step - loss: 0.1409 - accuracy: 0.9683 - val_loss: 0.1373 - val_accuracy: 0.9693\n"
     ]
    }
   ],
   "source": [
    "# Train the model\n",
    "history = model.fit(train_ds, epochs=10, validation_data=val_ds)"
   ]
  },
  {
   "cell_type": "code",
   "execution_count": 29,
   "id": "7ff2c646",
   "metadata": {},
   "outputs": [
    {
     "data": {
      "image/png": "[encoded data removed]",
      "text/plain": [
       "<Figure size 864x432 with 1 Axes>"
      ]
     },
     "metadata": {
      "needs_background": "light"
     },
     "output_type": "display_data"
    }
   ],
   "source": [
    "import matplotlib.pyplot as plt\n",
    "\n",
    "# Plot training & validation loss values\n",
    "plt.figure(figsize=(12, 6))\n",
    "plt.plot(history.history['loss'])\n",
    "plt.plot(history.history['val_loss'])\n",
    "plt.title('Model loss')\n",
    "plt.ylabel('Loss')\n",
    "plt.xlabel('Epoch')\n",
    "plt.legend(['Train', 'Validation'], loc='upper right')\n",
    "plt.show()"
   ]
  },
  {
   "cell_type": "code",
   "execution_count": 30,
   "id": "b8e73635",
   "metadata": {},
   "outputs": [
    {
     "name": "stdout",
     "output_type": "stream",
     "text": [
      "114/114 [==============================] - 0s 2ms/step - loss: 0.1447 - accuracy: 0.9671\n",
      "Test Loss: 0.14470259845256805\n",
      "Test Accuracy: 0.9670600295066833\n"
     ]
    }
   ],
   "source": [
    "# Prepare the test dataset\n",
    "test = df_daily[-3650:]\n",
    "test_ds = timeseries_dataset(test, past, future)\n",
    "\n",
    "# Evaluate the model\n",
    "test_loss, test_accuracy = model.evaluate(test_ds)\n",
    "print(f\"Test Loss: {test_loss}\")\n",
    "print(f\"Test Accuracy: {test_accuracy}\")"
   ]
  },
  {
   "cell_type": "code",
   "execution_count": 32,
   "id": "468deba7",
   "metadata": {},
   "outputs": [
    {
     "data": {
      "image/png": "[encoded data removed]",
      "text/plain": [
       "<Figure size 864x432 with 1 Axes>"
      ]
     },
     "metadata": {
      "needs_background": "light"
     },
     "output_type": "display_data"
    }
   ],
   "source": [
    "import matplotlib.pyplot as plt\n",
    "\n",
    "# Plot training & validation loss values\n",
    "plt.figure(figsize=(12, 6))\n",
    "plt.plot(history.history['accuracy'])\n",
    "plt.plot(history.history['val_accuracy'])\n",
    "plt.title('Model accuracy')\n",
    "plt.ylabel('Accuracy')\n",
    "plt.xlabel('Epoch')\n",
    "plt.legend(['Train', 'Validation'], loc='upper right')\n",
    "plt.show()"
   ]
  },
  {
   "cell_type": "code",
   "execution_count": null,
   "id": "dc2f43bc",
   "metadata": {},
   "outputs": [],
   "source": []
  },
  {
   "cell_type": "code",
   "execution_count": null,
   "id": "779600c6",
   "metadata": {},
   "outputs": [],
   "source": []
  },
  {
   "cell_type": "code",
   "execution_count": null,
   "id": "6a279566",
   "metadata": {},
   "outputs": [],
   "source": []
  }
 ],
 "metadata": {
  "kernelspec": {
   "display_name": "Python 3 (ipykernel)",
   "language": "python",
   "name": "python3"
  },
  "language_info": {
   "codemirror_mode": {
    "name": "ipython",
    "version": 3
   },
   "file_extension": ".py",
   "mimetype": "text/x-python",
   "name": "python",
   "nbconvert_exporter": "python",
   "pygments_lexer": "ipython3",
   "version": "3.8.15"
  }
 },
 "nbformat": 4,
 "nbformat_minor": 5
}
