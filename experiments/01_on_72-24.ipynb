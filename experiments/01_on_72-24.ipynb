{
 "cells": [
  {
   "cell_type": "markdown",
   "id": "26ecffac",
   "metadata": {
    "id": "26ecffac"
   },
   "source": [
    "# 1. Data Generation"
   ]
  },
  {
   "cell_type": "code",
   "execution_count": 1,
   "id": "759de002",
   "metadata": {
    "id": "759de002"
   },
   "outputs": [],
   "source": [
    "import os\n",
    "os.environ['TF_CPP_MIN_LOG_LEVEL'] = '3'\n",
    "import pandas as pd\n",
    "import numpy as np\n",
    "import pickle\n",
    "import ast\n",
    "\n",
    "# Plotting libraries\n",
    "import matplotlib.pyplot as plt\n",
    "import matplotlib.cm as cm\n",
    "import seaborn as sns\n",
    "%matplotlib inline"
   ]
  },
  {
   "cell_type": "code",
   "execution_count": 2,
   "id": "7fa82e06",
   "metadata": {
    "colab": {
     "base_uri": "https://localhost:8080/"
    },
    "id": "7fa82e06",
    "outputId": "2f897d66-54ea-4109-8245-29f505d09c55"
   },
   "outputs": [],
   "source": [
    "# Universial data folder\n",
    "# Inside, we have the CSV for each weather station, and the satellite imagery data\n",
    "# shall be generated and stored inside a sub-folder\n",
    "\n",
    "data_path = 'data_dir/'\n",
    "csv_path = 'combined_dataset/'"
   ]
  },
  {
   "cell_type": "code",
   "execution_count": 3,
   "id": "fe69ea11",
   "metadata": {
    "id": "fe69ea11"
   },
   "outputs": [],
   "source": [
    "# Get list of all CSV files\n",
    "all_files = os.listdir(data_path + csv_path)\n",
    "\n",
    "# Filter out the CSV files\n",
    "csv_files = [file for file in all_files if file.endswith('.csv')]\n",
    "\n",
    "# Now csv_files list contains all the names of csv files\n",
    "\n",
    "# To get the full path of these csv files\n",
    "csv_file_paths = [os.path.join(data_path, csv_path, file) for file in csv_files]"
   ]
  },
  {
   "cell_type": "code",
   "execution_count": 4,
   "id": "6d213d47",
   "metadata": {
    "colab": {
     "base_uri": "https://localhost:8080/"
    },
    "id": "6d213d47",
    "outputId": "b3bf6b21-81da-48bc-8e1b-f17ef2d9a8b0"
   },
   "outputs": [
    {
     "data": {
      "text/plain": [
       "5"
      ]
     },
     "execution_count": 4,
     "metadata": {},
     "output_type": "execute_result"
    }
   ],
   "source": [
    "# Inspection purpose\n",
    "len(csv_file_paths)"
   ]
  },
  {
   "cell_type": "code",
   "execution_count": 5,
   "id": "be783d82",
   "metadata": {
    "colab": {
     "base_uri": "https://localhost:8080/"
    },
    "id": "be783d82",
    "outputId": "bade8ad9-44fe-49d5-a1b4-0ebad00e6045"
   },
   "outputs": [
    {
     "data": {
      "text/plain": [
       "['data_dir/combined_dataset/Take_2_2006Fall_2017Spring_GOES_meteo_combined_14815.csv',\n",
       " 'data_dir/combined_dataset/Take_2_2006Fall_2017Spring_GOES_meteo_combined_14850.csv',\n",
       " 'data_dir/combined_dataset/Take_2_2006Fall_2017Spring_GOES_meteo_combined_14819.csv',\n",
       " 'data_dir/combined_dataset/Take_2_2006Fall_2017Spring_GOES_meteo_combined_04846.csv',\n",
       " 'data_dir/combined_dataset/Take_2_2006Fall_2017Spring_GOES_meteo_combined_14845.csv']"
      ]
     },
     "execution_count": 5,
     "metadata": {},
     "output_type": "execute_result"
    }
   ],
   "source": [
    "csv_file_paths"
   ]
  },
  {
   "cell_type": "markdown",
   "id": "5cb3f81d",
   "metadata": {
    "id": "5cb3f81d"
   },
   "source": [
    "### `TO-DO`:\n",
    "\n",
    "Change the index number for `csv_file_paths` to switch weather stations."
   ]
  },
  {
   "cell_type": "code",
   "execution_count": 6,
   "id": "cda4af53",
   "metadata": {
    "id": "cda4af53"
   },
   "outputs": [],
   "source": [
    "file_idx = 1"
   ]
  },
  {
   "cell_type": "code",
   "execution_count": 7,
   "id": "e967ab71",
   "metadata": {
    "id": "e967ab71"
   },
   "outputs": [],
   "source": [
    "df_single_station = pd.read_csv(csv_file_paths[file_idx])\n",
    "\n",
    "filename_curr = csv_file_paths[file_idx]\n",
    "station_code = filename_curr[-9:-4]"
   ]
  },
  {
   "cell_type": "code",
   "execution_count": 8,
   "id": "f37aa7d3",
   "metadata": {
    "colab": {
     "base_uri": "https://localhost:8080/",
     "height": 568
    },
    "id": "f37aa7d3",
    "outputId": "5904b617-4ab9-4154-f5ac-e723627d722b"
   },
   "outputs": [
    {
     "data": {
      "text/html": [
       "<div>\n",
       "<style scoped>\n",
       "    .dataframe tbody tr th:only-of-type {\n",
       "        vertical-align: middle;\n",
       "    }\n",
       "\n",
       "    .dataframe tbody tr th {\n",
       "        vertical-align: top;\n",
       "    }\n",
       "\n",
       "    .dataframe thead th {\n",
       "        text-align: right;\n",
       "    }\n",
       "</style>\n",
       "<table border=\"1\" class=\"dataframe\">\n",
       "  <thead>\n",
       "    <tr style=\"text-align: right;\">\n",
       "      <th></th>\n",
       "      <th>Date_UTC</th>\n",
       "      <th>Time_UTC</th>\n",
       "      <th>Date_CST</th>\n",
       "      <th>Time_CST</th>\n",
       "      <th>File_name_for_1D_lake</th>\n",
       "      <th>File_name_for_2D_lake</th>\n",
       "      <th>Lake_data_1D</th>\n",
       "      <th>data_usable</th>\n",
       "      <th>cloud_count</th>\n",
       "      <th>cloud_exist</th>\n",
       "      <th>...</th>\n",
       "      <th>Sea Lev Press (hPa)</th>\n",
       "      <th>Altimeter (hPa)</th>\n",
       "      <th>Precip (in)</th>\n",
       "      <th>Wind Chill (F)</th>\n",
       "      <th>Heat Index (F)</th>\n",
       "      <th>Unnamed: 18</th>\n",
       "      <th>precip_work_zone</th>\n",
       "      <th>is_snow_precip</th>\n",
       "      <th>is_precip</th>\n",
       "      <th>does_snow_24_120</th>\n",
       "    </tr>\n",
       "  </thead>\n",
       "  <tbody>\n",
       "    <tr>\n",
       "      <th>0</th>\n",
       "      <td>2006-10-01</td>\n",
       "      <td>00:00</td>\n",
       "      <td>2006-09-30</td>\n",
       "      <td>18:00</td>\n",
       "      <td>goes11.2006.10.01.0000.v01.nc-var1-t0.csv</td>\n",
       "      <td>T_goes11.2006.10.01.0000.v01.nc-var1-t0.csv.csv</td>\n",
       "      <td>[0.0075, 0.0025, 0.0, 0.005, 0.0, 0.005, 0.0, ...</td>\n",
       "      <td>False</td>\n",
       "      <td>0</td>\n",
       "      <td>False</td>\n",
       "      <td>...</td>\n",
       "      <td>1007.20</td>\n",
       "      <td>1007.10</td>\n",
       "      <td>0.00</td>\n",
       "      <td>NC</td>\n",
       "      <td>NC</td>\n",
       "      <td>NaN</td>\n",
       "      <td>0.00</td>\n",
       "      <td>False</td>\n",
       "      <td>False</td>\n",
       "      <td>False</td>\n",
       "    </tr>\n",
       "    <tr>\n",
       "      <th>1</th>\n",
       "      <td>2006-10-01</td>\n",
       "      <td>01:00</td>\n",
       "      <td>2006-09-30</td>\n",
       "      <td>19:00</td>\n",
       "      <td>goes11.2006.10.01.0100.v01.nc-var1-t0.csv</td>\n",
       "      <td>T_goes11.2006.10.01.0100.v01.nc-var1-t0.csv.csv</td>\n",
       "      <td>[0.0025, 0.0, 0.0025, 0.0025, 0.0, 0.0, 0.0, 0...</td>\n",
       "      <td>False</td>\n",
       "      <td>0</td>\n",
       "      <td>False</td>\n",
       "      <td>...</td>\n",
       "      <td>1007.80</td>\n",
       "      <td>1007.50</td>\n",
       "      <td>0.00</td>\n",
       "      <td>NC</td>\n",
       "      <td>NC</td>\n",
       "      <td>NaN</td>\n",
       "      <td>0.00</td>\n",
       "      <td>False</td>\n",
       "      <td>False</td>\n",
       "      <td>False</td>\n",
       "    </tr>\n",
       "    <tr>\n",
       "      <th>2</th>\n",
       "      <td>2006-10-01</td>\n",
       "      <td>02:00</td>\n",
       "      <td>2006-09-30</td>\n",
       "      <td>20:00</td>\n",
       "      <td>goes11.2006.10.01.0200.v01.nc-var1-t0.csv</td>\n",
       "      <td>T_goes11.2006.10.01.0200.v01.nc-var1-t0.csv.csv</td>\n",
       "      <td>[0.0, 0.0, 0.0075, 0.0, 0.0, 0.0025, 0.0, 0.0,...</td>\n",
       "      <td>False</td>\n",
       "      <td>0</td>\n",
       "      <td>False</td>\n",
       "      <td>...</td>\n",
       "      <td>1008.30</td>\n",
       "      <td>1008.10</td>\n",
       "      <td>0.00</td>\n",
       "      <td>NC</td>\n",
       "      <td>NC</td>\n",
       "      <td>NaN</td>\n",
       "      <td>0.00</td>\n",
       "      <td>False</td>\n",
       "      <td>False</td>\n",
       "      <td>False</td>\n",
       "    </tr>\n",
       "    <tr>\n",
       "      <th>3</th>\n",
       "      <td>2006-10-01</td>\n",
       "      <td>03:00</td>\n",
       "      <td>2006-09-30</td>\n",
       "      <td>21:00</td>\n",
       "      <td>goes11.2006.10.01.0300.v01.nc-var1-t0.csv</td>\n",
       "      <td>T_goes11.2006.10.01.0300.v01.nc-var1-t0.csv.csv</td>\n",
       "      <td>[0.0025, 0.0, 0.0025, 0.0, 0.0075, 0.0, 0.005,...</td>\n",
       "      <td>False</td>\n",
       "      <td>0</td>\n",
       "      <td>False</td>\n",
       "      <td>...</td>\n",
       "      <td>M</td>\n",
       "      <td>1008.80</td>\n",
       "      <td>0.02</td>\n",
       "      <td>NC</td>\n",
       "      <td>NC</td>\n",
       "      <td>NaN</td>\n",
       "      <td>0.02</td>\n",
       "      <td>False</td>\n",
       "      <td>True</td>\n",
       "      <td>False</td>\n",
       "    </tr>\n",
       "    <tr>\n",
       "      <th>4</th>\n",
       "      <td>2006-10-01</td>\n",
       "      <td>04:00</td>\n",
       "      <td>2006-09-30</td>\n",
       "      <td>22:00</td>\n",
       "      <td>goes11.2006.10.01.0400.v01.nc-var1-t0.csv</td>\n",
       "      <td>T_goes11.2006.10.01.0400.v01.nc-var1-t0.csv.csv</td>\n",
       "      <td>[0.0025, 0.0, 0.0, 0.0, 0.0075, 0.0, 0.0, 0.0,...</td>\n",
       "      <td>False</td>\n",
       "      <td>0</td>\n",
       "      <td>False</td>\n",
       "      <td>...</td>\n",
       "      <td>1009.50</td>\n",
       "      <td>1009.10</td>\n",
       "      <td>0.00</td>\n",
       "      <td>NC</td>\n",
       "      <td>NC</td>\n",
       "      <td>NaN</td>\n",
       "      <td>0.00</td>\n",
       "      <td>False</td>\n",
       "      <td>False</td>\n",
       "      <td>False</td>\n",
       "    </tr>\n",
       "  </tbody>\n",
       "</table>\n",
       "<p>5 rows × 31 columns</p>\n",
       "</div>"
      ],
      "text/plain": [
       "     Date_UTC Time_UTC    Date_CST Time_CST  \\\n",
       "0  2006-10-01    00:00  2006-09-30    18:00   \n",
       "1  2006-10-01    01:00  2006-09-30    19:00   \n",
       "2  2006-10-01    02:00  2006-09-30    20:00   \n",
       "3  2006-10-01    03:00  2006-09-30    21:00   \n",
       "4  2006-10-01    04:00  2006-09-30    22:00   \n",
       "\n",
       "                       File_name_for_1D_lake  \\\n",
       "0  goes11.2006.10.01.0000.v01.nc-var1-t0.csv   \n",
       "1  goes11.2006.10.01.0100.v01.nc-var1-t0.csv   \n",
       "2  goes11.2006.10.01.0200.v01.nc-var1-t0.csv   \n",
       "3  goes11.2006.10.01.0300.v01.nc-var1-t0.csv   \n",
       "4  goes11.2006.10.01.0400.v01.nc-var1-t0.csv   \n",
       "\n",
       "                             File_name_for_2D_lake  \\\n",
       "0  T_goes11.2006.10.01.0000.v01.nc-var1-t0.csv.csv   \n",
       "1  T_goes11.2006.10.01.0100.v01.nc-var1-t0.csv.csv   \n",
       "2  T_goes11.2006.10.01.0200.v01.nc-var1-t0.csv.csv   \n",
       "3  T_goes11.2006.10.01.0300.v01.nc-var1-t0.csv.csv   \n",
       "4  T_goes11.2006.10.01.0400.v01.nc-var1-t0.csv.csv   \n",
       "\n",
       "                                        Lake_data_1D  data_usable  \\\n",
       "0  [0.0075, 0.0025, 0.0, 0.005, 0.0, 0.005, 0.0, ...        False   \n",
       "1  [0.0025, 0.0, 0.0025, 0.0025, 0.0, 0.0, 0.0, 0...        False   \n",
       "2  [0.0, 0.0, 0.0075, 0.0, 0.0, 0.0025, 0.0, 0.0,...        False   \n",
       "3  [0.0025, 0.0, 0.0025, 0.0, 0.0075, 0.0, 0.005,...        False   \n",
       "4  [0.0025, 0.0, 0.0, 0.0, 0.0075, 0.0, 0.0, 0.0,...        False   \n",
       "\n",
       "   cloud_count  cloud_exist  ...  Sea Lev Press (hPa) Altimeter (hPa)  \\\n",
       "0            0        False  ...              1007.20         1007.10   \n",
       "1            0        False  ...              1007.80         1007.50   \n",
       "2            0        False  ...              1008.30         1008.10   \n",
       "3            0        False  ...                    M         1008.80   \n",
       "4            0        False  ...              1009.50         1009.10   \n",
       "\n",
       "  Precip (in) Wind Chill (F) Heat Index (F) Unnamed: 18 precip_work_zone  \\\n",
       "0        0.00             NC             NC         NaN             0.00   \n",
       "1        0.00             NC             NC         NaN             0.00   \n",
       "2        0.00             NC             NC         NaN             0.00   \n",
       "3        0.02             NC             NC         NaN             0.02   \n",
       "4        0.00             NC             NC         NaN             0.00   \n",
       "\n",
       "  is_snow_precip is_precip does_snow_24_120  \n",
       "0          False     False            False  \n",
       "1          False     False            False  \n",
       "2          False     False            False  \n",
       "3          False      True            False  \n",
       "4          False     False            False  \n",
       "\n",
       "[5 rows x 31 columns]"
      ]
     },
     "execution_count": 8,
     "metadata": {},
     "output_type": "execute_result"
    }
   ],
   "source": [
    "# Inspection purpose\n",
    "df_single_station.head(5)"
   ]
  },
  {
   "cell_type": "markdown",
   "id": "c8ae2b1b",
   "metadata": {
    "id": "c8ae2b1b"
   },
   "source": [
    "### Change column names for easier access."
   ]
  },
  {
   "cell_type": "code",
   "execution_count": 9,
   "id": "748acc99",
   "metadata": {
    "id": "748acc99"
   },
   "outputs": [],
   "source": [
    "# Check if 'Unnamed: 18' is in the DataFrame's columns\n",
    "if 'Unnamed: 18' in df_single_station.columns:\n",
    "    # Drop the column\n",
    "    df_single_station = df_single_station.drop(columns=['Unnamed: 18'])\n",
    "#     print('Dropped the empty column.')\n",
    "else:\n",
    "    print('Empty column does not exist.')\n",
    "\n",
    "# Check if 'does_snow_24_120' is in the DataFrame's columns\n",
    "if 'does_snow_24_120' in df_single_station.columns:\n",
    "    # Drop the column\n",
    "    df_single_station = df_single_station.drop(columns=['does_snow_24_120'])\n",
    "#     print('Dropped the <does_snow_24_120> column.')\n",
    "else:\n",
    "    print('The <does_snow_24_120> column does not exist.')\n",
    "\n",
    "# Check if 'precip_work_zone' is in the DataFrame's columns\n",
    "if 'precip_work_zone' in df_single_station.columns:\n",
    "    # Drop the column\n",
    "    df_single_station = df_single_station.drop(columns=['precip_work_zone'])\n",
    "#     print('Dropped the <precip_work_zone> column.')\n",
    "else:\n",
    "    print('The <precip_work_zone> column does not exist.')\n",
    "\n",
    "# Check if 'is_snow_precip' is in the DataFrame's columns\n",
    "if 'is_snow_precip' in df_single_station.columns:\n",
    "    # Drop the column\n",
    "    df_single_station = df_single_station.drop(columns=['is_snow_precip'])\n",
    "#     print('Dropped the <is_snow_precip> column.')\n",
    "else:\n",
    "    print('The <is_snow_precip> column does not exist.')\n",
    "\n",
    "# Check if 'is_precip' is in the DataFrame's columns\n",
    "if 'is_precip' in df_single_station.columns:\n",
    "    # Drop the column\n",
    "    df_single_station = df_single_station.drop(columns=['is_precip'])\n",
    "#     print('Dropped the <is_precip> column.')\n",
    "else:\n",
    "    print('The <is_precip> column does not exist.')\n",
    "\n",
    "# Check if 'Wind Chill (F)' is in the DataFrame's columns\n",
    "if 'Wind Chill (F)' in df_single_station.columns:\n",
    "    # Drop the column\n",
    "    df_single_station = df_single_station.drop(columns=['Wind Chill (F)'])\n",
    "#     print('Dropped the <Wind Chill (F)> column.')\n",
    "else:\n",
    "    print('The <Wind Chill (F)> column does not exist.')\n",
    "\n",
    "# Check if 'Heat Index (F)' is in the DataFrame's columns\n",
    "if 'Heat Index (F)' in df_single_station.columns:\n",
    "    # Drop the column\n",
    "    df_single_station = df_single_station.drop(columns=['Heat Index (F)'])\n",
    "#     print('Dropped the <Heat Index (F)> column.')\n",
    "else:\n",
    "    print('The <Heat Index (F)> column does not exist.')\n"
   ]
  },
  {
   "cell_type": "code",
   "execution_count": 10,
   "id": "905f4dc1",
   "metadata": {
    "id": "905f4dc1"
   },
   "outputs": [],
   "source": [
    "# Renaming\n",
    "df_single_station.rename(columns={ \"Temp (F)\": \"Temp_F\", \"RH (%)\": \"RH_pct\",\n",
    "                   \"Dewpt (F)\" : \"Dewpt_F\", \"Wind Spd (mph)\" : \"Wind_Spd_mph\",\n",
    "                   \"Wind Direction (deg)\" : \"Wind_Direction_deg\", \"Peak Wind Gust(mph)\" : \"Peak_Wind_Gust_mph\",\n",
    "                   \"Low Cloud Ht (ft)\" : \"Low_Cloud_Ht_ft\", \"Med Cloud Ht (ft)\" : \"Med_Cloud_Ht_ft\",\n",
    "                   \"High Cloud Ht (ft)\" : \"High_Cloud_Ht_ft\", \"Visibility (mi)\" : \"Visibility_mi\",\n",
    "                   \"Atm Press (hPa)\" : \"Atm_Press_hPa\", \"Sea Lev Press (hPa)\" : \"Sea_Lev_Press_hPa\",\n",
    "                   \"Altimeter (hPa)\" : \"Altimeter_hPa\", \"Precip (in)\" : \"Precip_in\",\n",
    "                   \"Wind Chill (F)\" : \"Wind_Chill_F\", \"Heat Index (F)\" : \"Heat_Index_F\",\n",
    "                   } , inplace = True)"
   ]
  },
  {
   "cell_type": "code",
   "execution_count": 11,
   "id": "afa7852a",
   "metadata": {
    "colab": {
     "base_uri": "https://localhost:8080/",
     "height": 802
    },
    "id": "afa7852a",
    "outputId": "28c6a307-3e58-4707-ca38-cc0d1dd55480"
   },
   "outputs": [
    {
     "data": {
      "text/html": [
       "<div>\n",
       "<style scoped>\n",
       "    .dataframe tbody tr th:only-of-type {\n",
       "        vertical-align: middle;\n",
       "    }\n",
       "\n",
       "    .dataframe tbody tr th {\n",
       "        vertical-align: top;\n",
       "    }\n",
       "\n",
       "    .dataframe thead th {\n",
       "        text-align: right;\n",
       "    }\n",
       "</style>\n",
       "<table border=\"1\" class=\"dataframe\">\n",
       "  <thead>\n",
       "    <tr style=\"text-align: right;\">\n",
       "      <th></th>\n",
       "      <th>Total Null</th>\n",
       "      <th>Percentage Null</th>\n",
       "    </tr>\n",
       "  </thead>\n",
       "  <tbody>\n",
       "    <tr>\n",
       "      <th>Date_UTC</th>\n",
       "      <td>0</td>\n",
       "      <td>0.000000</td>\n",
       "    </tr>\n",
       "    <tr>\n",
       "      <th>Time_UTC</th>\n",
       "      <td>0</td>\n",
       "      <td>0.000000</td>\n",
       "    </tr>\n",
       "    <tr>\n",
       "      <th>Date_CST</th>\n",
       "      <td>0</td>\n",
       "      <td>0.000000</td>\n",
       "    </tr>\n",
       "    <tr>\n",
       "      <th>Time_CST</th>\n",
       "      <td>0</td>\n",
       "      <td>0.000000</td>\n",
       "    </tr>\n",
       "    <tr>\n",
       "      <th>File_name_for_1D_lake</th>\n",
       "      <td>0</td>\n",
       "      <td>0.000000</td>\n",
       "    </tr>\n",
       "    <tr>\n",
       "      <th>File_name_for_2D_lake</th>\n",
       "      <td>0</td>\n",
       "      <td>0.000000</td>\n",
       "    </tr>\n",
       "    <tr>\n",
       "      <th>Lake_data_1D</th>\n",
       "      <td>0</td>\n",
       "      <td>0.000000</td>\n",
       "    </tr>\n",
       "    <tr>\n",
       "      <th>data_usable</th>\n",
       "      <td>0</td>\n",
       "      <td>0.000000</td>\n",
       "    </tr>\n",
       "    <tr>\n",
       "      <th>cloud_count</th>\n",
       "      <td>0</td>\n",
       "      <td>0.000000</td>\n",
       "    </tr>\n",
       "    <tr>\n",
       "      <th>cloud_exist</th>\n",
       "      <td>0</td>\n",
       "      <td>0.000000</td>\n",
       "    </tr>\n",
       "    <tr>\n",
       "      <th>Temp_F</th>\n",
       "      <td>239</td>\n",
       "      <td>0.004991</td>\n",
       "    </tr>\n",
       "    <tr>\n",
       "      <th>RH_pct</th>\n",
       "      <td>239</td>\n",
       "      <td>0.004991</td>\n",
       "    </tr>\n",
       "    <tr>\n",
       "      <th>Dewpt_F</th>\n",
       "      <td>239</td>\n",
       "      <td>0.004991</td>\n",
       "    </tr>\n",
       "    <tr>\n",
       "      <th>Wind_Spd_mph</th>\n",
       "      <td>239</td>\n",
       "      <td>0.004991</td>\n",
       "    </tr>\n",
       "    <tr>\n",
       "      <th>Wind_Direction_deg</th>\n",
       "      <td>239</td>\n",
       "      <td>0.004991</td>\n",
       "    </tr>\n",
       "    <tr>\n",
       "      <th>Peak_Wind_Gust_mph</th>\n",
       "      <td>239</td>\n",
       "      <td>0.004991</td>\n",
       "    </tr>\n",
       "    <tr>\n",
       "      <th>Low_Cloud_Ht_ft</th>\n",
       "      <td>239</td>\n",
       "      <td>0.004991</td>\n",
       "    </tr>\n",
       "    <tr>\n",
       "      <th>Med_Cloud_Ht_ft</th>\n",
       "      <td>239</td>\n",
       "      <td>0.004991</td>\n",
       "    </tr>\n",
       "    <tr>\n",
       "      <th>High_Cloud_Ht_ft</th>\n",
       "      <td>239</td>\n",
       "      <td>0.004991</td>\n",
       "    </tr>\n",
       "    <tr>\n",
       "      <th>Visibility_mi</th>\n",
       "      <td>239</td>\n",
       "      <td>0.004991</td>\n",
       "    </tr>\n",
       "    <tr>\n",
       "      <th>Atm_Press_hPa</th>\n",
       "      <td>239</td>\n",
       "      <td>0.004991</td>\n",
       "    </tr>\n",
       "    <tr>\n",
       "      <th>Sea_Lev_Press_hPa</th>\n",
       "      <td>239</td>\n",
       "      <td>0.004991</td>\n",
       "    </tr>\n",
       "    <tr>\n",
       "      <th>Altimeter_hPa</th>\n",
       "      <td>239</td>\n",
       "      <td>0.004991</td>\n",
       "    </tr>\n",
       "    <tr>\n",
       "      <th>Precip_in</th>\n",
       "      <td>239</td>\n",
       "      <td>0.004991</td>\n",
       "    </tr>\n",
       "  </tbody>\n",
       "</table>\n",
       "</div>"
      ],
      "text/plain": [
       "                       Total Null  Percentage Null\n",
       "Date_UTC                        0         0.000000\n",
       "Time_UTC                        0         0.000000\n",
       "Date_CST                        0         0.000000\n",
       "Time_CST                        0         0.000000\n",
       "File_name_for_1D_lake           0         0.000000\n",
       "File_name_for_2D_lake           0         0.000000\n",
       "Lake_data_1D                    0         0.000000\n",
       "data_usable                     0         0.000000\n",
       "cloud_count                     0         0.000000\n",
       "cloud_exist                     0         0.000000\n",
       "Temp_F                        239         0.004991\n",
       "RH_pct                        239         0.004991\n",
       "Dewpt_F                       239         0.004991\n",
       "Wind_Spd_mph                  239         0.004991\n",
       "Wind_Direction_deg            239         0.004991\n",
       "Peak_Wind_Gust_mph            239         0.004991\n",
       "Low_Cloud_Ht_ft               239         0.004991\n",
       "Med_Cloud_Ht_ft               239         0.004991\n",
       "High_Cloud_Ht_ft              239         0.004991\n",
       "Visibility_mi                 239         0.004991\n",
       "Atm_Press_hPa                 239         0.004991\n",
       "Sea_Lev_Press_hPa             239         0.004991\n",
       "Altimeter_hPa                 239         0.004991\n",
       "Precip_in                     239         0.004991"
      ]
     },
     "execution_count": 11,
     "metadata": {},
     "output_type": "execute_result"
    }
   ],
   "source": [
    "def missing_values(df):\n",
    "    total_null = df.isna().sum()\n",
    "    percent_null = total_null / df.count() # Total count of null values / Total count of values\n",
    "    missing_data = pd.concat([total_null, percent_null], axis = 1, keys = ['Total Null', 'Percentage Null'])\n",
    "    return missing_data\n",
    "\n",
    "missing_values_before = missing_values(df_single_station)\n",
    "missing_values_before"
   ]
  },
  {
   "cell_type": "code",
   "execution_count": 12,
   "id": "ad248d59",
   "metadata": {
    "id": "ad248d59"
   },
   "outputs": [],
   "source": [
    "# Replace any m, M values to nan (float type)\n",
    "df_single_station['Temp_F'] = df_single_station['Temp_F'].replace(['m', 'M'], float('nan'))\n",
    "\n",
    "# Then, replace those nan values with the last numerical value in the column\n",
    "df_single_station['Temp_F'] = df_single_station['Temp_F'].fillna(method='ffill').astype(float)\n"
   ]
  },
  {
   "cell_type": "code",
   "execution_count": 13,
   "id": "2d41ada6",
   "metadata": {
    "id": "2d41ada6"
   },
   "outputs": [],
   "source": [
    "# Replace any m, M values to nan (float type)\n",
    "df_single_station['RH_pct'] = df_single_station['RH_pct'].replace(['m', 'M'], float('nan'))\n",
    "\n",
    "# Then, replace those nan values with the last numerical value in the column\n",
    "df_single_station['RH_pct'] = df_single_station['RH_pct'].fillna(method='ffill').astype(float)\n"
   ]
  },
  {
   "cell_type": "code",
   "execution_count": 14,
   "id": "2b796bb7",
   "metadata": {
    "id": "2b796bb7"
   },
   "outputs": [],
   "source": [
    "# Replace any m, M values to nan (float type)\n",
    "df_single_station['Dewpt_F'] = df_single_station['Dewpt_F'].replace(['m', 'M'], float('nan'))\n",
    "\n",
    "# Then, replace those nan values with the last numerical value in the column\n",
    "df_single_station['Dewpt_F'] = df_single_station['Dewpt_F'].fillna(method='ffill').astype(float)\n"
   ]
  },
  {
   "cell_type": "code",
   "execution_count": 15,
   "id": "6d1e55a1",
   "metadata": {
    "id": "6d1e55a1"
   },
   "outputs": [],
   "source": [
    "# Replace any m, M values to nan (float type)\n",
    "df_single_station['Wind_Spd_mph'] = df_single_station['Wind_Spd_mph'].replace(['m', 'M'], float('nan'))\n",
    "\n",
    "# Then, replace those nan values with the last numerical value in the column\n",
    "df_single_station['Wind_Spd_mph'] = df_single_station['Wind_Spd_mph'].fillna(method='ffill').astype(float)\n"
   ]
  },
  {
   "cell_type": "code",
   "execution_count": 16,
   "id": "aa29b1d8",
   "metadata": {
    "id": "aa29b1d8"
   },
   "outputs": [],
   "source": [
    "# Replace any m, M values to nan (float type)\n",
    "df_single_station['Wind_Direction_deg'] = df_single_station['Wind_Direction_deg'].replace(['m', 'M'], float('nan'))\n",
    "\n",
    "# Then, replace those nan values with the last numerical value in the column\n",
    "df_single_station['Wind_Direction_deg'] = df_single_station['Wind_Direction_deg'].fillna(method='ffill').astype(float)\n"
   ]
  },
  {
   "cell_type": "markdown",
   "id": "6b8d4ff9",
   "metadata": {
    "id": "6b8d4ff9"
   },
   "source": [
    "> \"Peak Wind Gust\" refers to the highest instantaneous wind speed recorded during a specific period, typically over the course of a day. It represents the maximum force of wind experienced at a location and is usually caused by high-pressure systems or storms.\n",
    "\n",
    "Therefore, we further replace any of the `NaN` values in the column `Peak_Wind_Gust_mph` with the value that is in the column `Wind_Spd_mph`."
   ]
  },
  {
   "cell_type": "code",
   "execution_count": 17,
   "id": "4a3eb739",
   "metadata": {
    "id": "4a3eb739"
   },
   "outputs": [],
   "source": [
    "# Replace any m, M values to nan (float type)\n",
    "df_single_station['Peak_Wind_Gust_mph'] = df_single_station['Peak_Wind_Gust_mph'].replace(['m', 'M'], float('nan'))\n",
    "\n",
    "# Then, replace those nan values with the last numerical value in the column\n",
    "df_single_station['Peak_Wind_Gust_mph'] = df_single_station['Peak_Wind_Gust_mph'].fillna(method='ffill').astype(float)\n",
    "\n",
    "df_single_station['Peak_Wind_Gust_mph'] = df_single_station['Peak_Wind_Gust_mph'].fillna(df_single_station['Wind_Spd_mph'])\n"
   ]
  },
  {
   "cell_type": "code",
   "execution_count": 18,
   "id": "4ddfb1a0",
   "metadata": {
    "id": "4ddfb1a0"
   },
   "outputs": [],
   "source": [
    "# Replace any m, M values to nan (float type)\n",
    "df_single_station['Low_Cloud_Ht_ft'] = df_single_station['Low_Cloud_Ht_ft'].replace(['m', 'M'], float('nan'))\n",
    "\n",
    "# Then, replace those nan values with the last numerical value in the column\n",
    "df_single_station['Low_Cloud_Ht_ft'] = df_single_station['Low_Cloud_Ht_ft'].fillna(method='ffill').astype(float)\n"
   ]
  },
  {
   "cell_type": "code",
   "execution_count": 19,
   "id": "8e80aff2",
   "metadata": {
    "id": "8e80aff2"
   },
   "outputs": [],
   "source": [
    "# Replace any m, M values to nan (float type)\n",
    "df_single_station['Med_Cloud_Ht_ft'] = df_single_station['Med_Cloud_Ht_ft'].replace(['m', 'M'], float('nan'))\n",
    "\n",
    "# Then, replace those nan values with the last numerical value in the column\n",
    "df_single_station['Med_Cloud_Ht_ft'] = df_single_station['Med_Cloud_Ht_ft'].fillna(method='ffill').astype(float)\n",
    "\n",
    "df_single_station['Med_Cloud_Ht_ft'] = df_single_station['Med_Cloud_Ht_ft'].fillna(df_single_station['Low_Cloud_Ht_ft'])"
   ]
  },
  {
   "cell_type": "code",
   "execution_count": 20,
   "id": "ab9fac7d",
   "metadata": {
    "id": "ab9fac7d"
   },
   "outputs": [],
   "source": [
    "# Replace any m, M values to nan (float type)\n",
    "df_single_station['High_Cloud_Ht_ft'] = df_single_station['High_Cloud_Ht_ft'].replace(['m', 'M'], float('nan'))\n",
    "\n",
    "# Then, replace those nan values with the last numerical value in the column\n",
    "df_single_station['High_Cloud_Ht_ft'] = df_single_station['High_Cloud_Ht_ft'].fillna(method='ffill').astype(float)\n",
    "\n",
    "df_single_station['High_Cloud_Ht_ft'] = df_single_station['High_Cloud_Ht_ft'].fillna(df_single_station['Med_Cloud_Ht_ft'])\n"
   ]
  },
  {
   "cell_type": "code",
   "execution_count": 21,
   "id": "61947639",
   "metadata": {
    "id": "61947639"
   },
   "outputs": [],
   "source": [
    "# Replace any m, M values to nan (float type)\n",
    "df_single_station['Visibility_mi'] = df_single_station['Visibility_mi'].replace(['m', 'M'], float('nan'))\n",
    "\n",
    "# Then, replace those nan values with the last numerical value in the column\n",
    "df_single_station['Visibility_mi'] = df_single_station['Visibility_mi'].fillna(method='ffill').astype(float)\n"
   ]
  },
  {
   "cell_type": "code",
   "execution_count": 22,
   "id": "5dd1197f",
   "metadata": {
    "id": "5dd1197f"
   },
   "outputs": [],
   "source": [
    "# Replace any m, M values to nan (float type)\n",
    "df_single_station['Atm_Press_hPa'] = df_single_station['Atm_Press_hPa'].replace(['m', 'M'], float('nan'))\n",
    "\n",
    "# Then, replace those nan values with the last numerical value in the column\n",
    "df_single_station['Atm_Press_hPa'] = df_single_station['Atm_Press_hPa'].fillna(method='ffill').astype(float)\n"
   ]
  },
  {
   "cell_type": "code",
   "execution_count": 23,
   "id": "eaf20157",
   "metadata": {
    "id": "eaf20157"
   },
   "outputs": [],
   "source": [
    "# Replace any m, M values to nan (float type)\n",
    "df_single_station['Sea_Lev_Press_hPa'] = df_single_station['Sea_Lev_Press_hPa'].replace(['m', 'M'], float('nan'))\n",
    "\n",
    "# Then, replace those nan values with the last numerical value in the column\n",
    "df_single_station['Sea_Lev_Press_hPa'] = df_single_station['Sea_Lev_Press_hPa'].fillna(method='ffill').astype(float)\n"
   ]
  },
  {
   "cell_type": "code",
   "execution_count": 24,
   "id": "3b940a03",
   "metadata": {
    "id": "3b940a03"
   },
   "outputs": [],
   "source": [
    "# Replace any m, M values to nan (float type)\n",
    "df_single_station['Altimeter_hPa'] = df_single_station['Altimeter_hPa'].replace(['m', 'M'], float('nan'))\n",
    "\n",
    "# Then, replace those nan values with the last numerical value in the column\n",
    "df_single_station['Altimeter_hPa'] = df_single_station['Altimeter_hPa'].fillna(method='ffill').astype(float)\n"
   ]
  },
  {
   "cell_type": "code",
   "execution_count": 25,
   "id": "0a8f70a8",
   "metadata": {
    "id": "0a8f70a8"
   },
   "outputs": [],
   "source": [
    "# Replace any m, M values to nan (float type)\n",
    "df_single_station['Precip_in'] = df_single_station['Precip_in'].replace(['m', 'M'], float('nan'))\n",
    "\n",
    "# Then, replace those nan values with the last numerical value in the column\n",
    "df_single_station['Precip_in'].fillna(0.00, inplace = True)\n"
   ]
  },
  {
   "cell_type": "markdown",
   "id": "12f417c8",
   "metadata": {
    "id": "12f417c8"
   },
   "source": [
    "After all the patch work, let's see how the situation is now with missing values."
   ]
  },
  {
   "cell_type": "code",
   "execution_count": 26,
   "id": "538de73d",
   "metadata": {
    "colab": {
     "base_uri": "https://localhost:8080/",
     "height": 802
    },
    "id": "538de73d",
    "outputId": "2f4d7249-6a21-4fa9-e112-c8c54d357683"
   },
   "outputs": [
    {
     "data": {
      "text/html": [
       "<div>\n",
       "<style scoped>\n",
       "    .dataframe tbody tr th:only-of-type {\n",
       "        vertical-align: middle;\n",
       "    }\n",
       "\n",
       "    .dataframe tbody tr th {\n",
       "        vertical-align: top;\n",
       "    }\n",
       "\n",
       "    .dataframe thead th {\n",
       "        text-align: right;\n",
       "    }\n",
       "</style>\n",
       "<table border=\"1\" class=\"dataframe\">\n",
       "  <thead>\n",
       "    <tr style=\"text-align: right;\">\n",
       "      <th></th>\n",
       "      <th>Total Null</th>\n",
       "      <th>Percentage Null</th>\n",
       "    </tr>\n",
       "  </thead>\n",
       "  <tbody>\n",
       "    <tr>\n",
       "      <th>Date_UTC</th>\n",
       "      <td>0</td>\n",
       "      <td>0.0</td>\n",
       "    </tr>\n",
       "    <tr>\n",
       "      <th>Time_UTC</th>\n",
       "      <td>0</td>\n",
       "      <td>0.0</td>\n",
       "    </tr>\n",
       "    <tr>\n",
       "      <th>Date_CST</th>\n",
       "      <td>0</td>\n",
       "      <td>0.0</td>\n",
       "    </tr>\n",
       "    <tr>\n",
       "      <th>Time_CST</th>\n",
       "      <td>0</td>\n",
       "      <td>0.0</td>\n",
       "    </tr>\n",
       "    <tr>\n",
       "      <th>File_name_for_1D_lake</th>\n",
       "      <td>0</td>\n",
       "      <td>0.0</td>\n",
       "    </tr>\n",
       "    <tr>\n",
       "      <th>File_name_for_2D_lake</th>\n",
       "      <td>0</td>\n",
       "      <td>0.0</td>\n",
       "    </tr>\n",
       "    <tr>\n",
       "      <th>Lake_data_1D</th>\n",
       "      <td>0</td>\n",
       "      <td>0.0</td>\n",
       "    </tr>\n",
       "    <tr>\n",
       "      <th>data_usable</th>\n",
       "      <td>0</td>\n",
       "      <td>0.0</td>\n",
       "    </tr>\n",
       "    <tr>\n",
       "      <th>cloud_count</th>\n",
       "      <td>0</td>\n",
       "      <td>0.0</td>\n",
       "    </tr>\n",
       "    <tr>\n",
       "      <th>cloud_exist</th>\n",
       "      <td>0</td>\n",
       "      <td>0.0</td>\n",
       "    </tr>\n",
       "    <tr>\n",
       "      <th>Temp_F</th>\n",
       "      <td>0</td>\n",
       "      <td>0.0</td>\n",
       "    </tr>\n",
       "    <tr>\n",
       "      <th>RH_pct</th>\n",
       "      <td>0</td>\n",
       "      <td>0.0</td>\n",
       "    </tr>\n",
       "    <tr>\n",
       "      <th>Dewpt_F</th>\n",
       "      <td>0</td>\n",
       "      <td>0.0</td>\n",
       "    </tr>\n",
       "    <tr>\n",
       "      <th>Wind_Spd_mph</th>\n",
       "      <td>0</td>\n",
       "      <td>0.0</td>\n",
       "    </tr>\n",
       "    <tr>\n",
       "      <th>Wind_Direction_deg</th>\n",
       "      <td>0</td>\n",
       "      <td>0.0</td>\n",
       "    </tr>\n",
       "    <tr>\n",
       "      <th>Peak_Wind_Gust_mph</th>\n",
       "      <td>0</td>\n",
       "      <td>0.0</td>\n",
       "    </tr>\n",
       "    <tr>\n",
       "      <th>Low_Cloud_Ht_ft</th>\n",
       "      <td>0</td>\n",
       "      <td>0.0</td>\n",
       "    </tr>\n",
       "    <tr>\n",
       "      <th>Med_Cloud_Ht_ft</th>\n",
       "      <td>0</td>\n",
       "      <td>0.0</td>\n",
       "    </tr>\n",
       "    <tr>\n",
       "      <th>High_Cloud_Ht_ft</th>\n",
       "      <td>0</td>\n",
       "      <td>0.0</td>\n",
       "    </tr>\n",
       "    <tr>\n",
       "      <th>Visibility_mi</th>\n",
       "      <td>0</td>\n",
       "      <td>0.0</td>\n",
       "    </tr>\n",
       "    <tr>\n",
       "      <th>Atm_Press_hPa</th>\n",
       "      <td>0</td>\n",
       "      <td>0.0</td>\n",
       "    </tr>\n",
       "    <tr>\n",
       "      <th>Sea_Lev_Press_hPa</th>\n",
       "      <td>0</td>\n",
       "      <td>0.0</td>\n",
       "    </tr>\n",
       "    <tr>\n",
       "      <th>Altimeter_hPa</th>\n",
       "      <td>0</td>\n",
       "      <td>0.0</td>\n",
       "    </tr>\n",
       "    <tr>\n",
       "      <th>Precip_in</th>\n",
       "      <td>0</td>\n",
       "      <td>0.0</td>\n",
       "    </tr>\n",
       "  </tbody>\n",
       "</table>\n",
       "</div>"
      ],
      "text/plain": [
       "                       Total Null  Percentage Null\n",
       "Date_UTC                        0              0.0\n",
       "Time_UTC                        0              0.0\n",
       "Date_CST                        0              0.0\n",
       "Time_CST                        0              0.0\n",
       "File_name_for_1D_lake           0              0.0\n",
       "File_name_for_2D_lake           0              0.0\n",
       "Lake_data_1D                    0              0.0\n",
       "data_usable                     0              0.0\n",
       "cloud_count                     0              0.0\n",
       "cloud_exist                     0              0.0\n",
       "Temp_F                          0              0.0\n",
       "RH_pct                          0              0.0\n",
       "Dewpt_F                         0              0.0\n",
       "Wind_Spd_mph                    0              0.0\n",
       "Wind_Direction_deg              0              0.0\n",
       "Peak_Wind_Gust_mph              0              0.0\n",
       "Low_Cloud_Ht_ft                 0              0.0\n",
       "Med_Cloud_Ht_ft                 0              0.0\n",
       "High_Cloud_Ht_ft                0              0.0\n",
       "Visibility_mi                   0              0.0\n",
       "Atm_Press_hPa                   0              0.0\n",
       "Sea_Lev_Press_hPa               0              0.0\n",
       "Altimeter_hPa                   0              0.0\n",
       "Precip_in                       0              0.0"
      ]
     },
     "execution_count": 26,
     "metadata": {},
     "output_type": "execute_result"
    }
   ],
   "source": [
    "missing_values_after = missing_values(df_single_station)\n",
    "missing_values_after"
   ]
  },
  {
   "cell_type": "code",
   "execution_count": 27,
   "id": "481ef132",
   "metadata": {
    "id": "481ef132"
   },
   "outputs": [],
   "source": [
    "df_daytime_only = df_single_station.loc[(df_single_station['Time_UTC'] >= '14:00')\n",
    "                     & (df_single_station['Time_UTC'] <= '21:00')]\n",
    "df_daytime_only  = df_daytime_only .reset_index(drop=True)\n",
    "# df_daytime_only.head(10)"
   ]
  },
  {
   "cell_type": "markdown",
   "id": "fe7e0cfe",
   "metadata": {
    "id": "fe7e0cfe"
   },
   "source": [
    "---\n",
    "\n",
    "# 2. Cloud Image Generation\n",
    "\n",
    "We will try to generate the images based on the 1-D lake data."
   ]
  },
  {
   "cell_type": "code",
   "execution_count": 28,
   "id": "086a5c45",
   "metadata": {
    "colab": {
     "base_uri": "https://localhost:8080/",
     "height": 206
    },
    "id": "086a5c45",
    "outputId": "cf27ebe1-b5b1-4f11-da32-90b87b4d7879"
   },
   "outputs": [
    {
     "data": {
      "text/html": [
       "<div>\n",
       "<style scoped>\n",
       "    .dataframe tbody tr th:only-of-type {\n",
       "        vertical-align: middle;\n",
       "    }\n",
       "\n",
       "    .dataframe tbody tr th {\n",
       "        vertical-align: top;\n",
       "    }\n",
       "\n",
       "    .dataframe thead th {\n",
       "        text-align: right;\n",
       "    }\n",
       "</style>\n",
       "<table border=\"1\" class=\"dataframe\">\n",
       "  <thead>\n",
       "    <tr style=\"text-align: right;\">\n",
       "      <th></th>\n",
       "      <th>latitude</th>\n",
       "      <th>longitude</th>\n",
       "    </tr>\n",
       "  </thead>\n",
       "  <tbody>\n",
       "    <tr>\n",
       "      <th>0</th>\n",
       "      <td>41.78</td>\n",
       "      <td>-87.54</td>\n",
       "    </tr>\n",
       "    <tr>\n",
       "      <th>1</th>\n",
       "      <td>41.78</td>\n",
       "      <td>-87.50</td>\n",
       "    </tr>\n",
       "    <tr>\n",
       "      <th>2</th>\n",
       "      <td>41.78</td>\n",
       "      <td>-87.46</td>\n",
       "    </tr>\n",
       "    <tr>\n",
       "      <th>3</th>\n",
       "      <td>41.78</td>\n",
       "      <td>-87.42</td>\n",
       "    </tr>\n",
       "    <tr>\n",
       "      <th>4</th>\n",
       "      <td>41.78</td>\n",
       "      <td>-87.38</td>\n",
       "    </tr>\n",
       "  </tbody>\n",
       "</table>\n",
       "</div>"
      ],
      "text/plain": [
       "   latitude  longitude\n",
       "0     41.78     -87.54\n",
       "1     41.78     -87.50\n",
       "2     41.78     -87.46\n",
       "3     41.78     -87.42\n",
       "4     41.78     -87.38"
      ]
     },
     "execution_count": 28,
     "metadata": {},
     "output_type": "execute_result"
    }
   ],
   "source": [
    "df_lat_lon = pd.read_csv('data_dir/lat_long_1D_labels_for_plotting.csv')\n",
    "df_lat_lon.head(5)"
   ]
  },
  {
   "cell_type": "code",
   "execution_count": 29,
   "id": "cb3c0ac5",
   "metadata": {
    "id": "cb3c0ac5"
   },
   "outputs": [],
   "source": [
    "lat_lst = df_lat_lon['latitude'].to_list()\n",
    "lon_lst = df_lat_lon['longitude'].to_list()"
   ]
  },
  {
   "cell_type": "markdown",
   "id": "34a2292e",
   "metadata": {
    "id": "34a2292e"
   },
   "source": [
    "### 1-D Lake Imagery Data Conversion"
   ]
  },
  {
   "cell_type": "code",
   "execution_count": 30,
   "id": "915819d2",
   "metadata": {
    "id": "915819d2"
   },
   "outputs": [],
   "source": [
    "def rectify(crap_string):\n",
    "    return [0.0 if el == 'nan' else float(el) for el in crap_string.strip('][').split(', ')]"
   ]
  },
  {
   "cell_type": "markdown",
   "id": "5a5fd835",
   "metadata": {
    "id": "5a5fd835"
   },
   "source": [
    "# 3. Feature Engineering for Snowfall Events\n",
    "\n",
    "The fundamental criteria are the temperature to be below 32 F in the local area, and the precipitation larger than 0.01 inch."
   ]
  },
  {
   "cell_type": "code",
   "execution_count": 31,
   "id": "02ebe54c",
   "metadata": {
    "id": "02ebe54c"
   },
   "outputs": [],
   "source": [
    "df_daytime_only.loc[(df_daytime_only['Temp_F'] <= 32) & (df_daytime_only['Precip_in'] > 0), 'LES_Snowfall'] = 1\n",
    "df_daytime_only.loc[(df_daytime_only['Temp_F'] > 32) | (df_daytime_only['Precip_in'] <= 0), 'LES_Snowfall'] = 0\n",
    "# df_daytime_only.head(5)"
   ]
  },
  {
   "cell_type": "code",
   "execution_count": 32,
   "id": "d6ffa6e0",
   "metadata": {
    "id": "d6ffa6e0"
   },
   "outputs": [],
   "source": [
    "df_daytime_only = df_daytime_only.drop(['Date_UTC', 'Time_UTC', 'Date_CST', 'Time_CST'], axis=1)\n",
    "df_daytime_only = df_daytime_only.reset_index(drop=True)\n",
    "# df_daytime_only.head()"
   ]
  },
  {
   "cell_type": "code",
   "execution_count": 33,
   "id": "2d38bd81",
   "metadata": {
    "id": "2d38bd81"
   },
   "outputs": [],
   "source": [
    "df_daytime_only = df_daytime_only.drop(['data_usable', 'cloud_count', 'cloud_exist'], axis=1)\n",
    "df_daytime_only = df_daytime_only.reset_index(drop=True)"
   ]
  },
  {
   "cell_type": "code",
   "execution_count": 34,
   "id": "dbaed659",
   "metadata": {
    "colab": {
     "base_uri": "https://localhost:8080/",
     "height": 320
    },
    "id": "dbaed659",
    "outputId": "b33531c5-0a87-4f86-d97e-4c1c88ed978b"
   },
   "outputs": [
    {
     "data": {
      "text/html": [
       "<div>\n",
       "<style scoped>\n",
       "    .dataframe tbody tr th:only-of-type {\n",
       "        vertical-align: middle;\n",
       "    }\n",
       "\n",
       "    .dataframe tbody tr th {\n",
       "        vertical-align: top;\n",
       "    }\n",
       "\n",
       "    .dataframe thead th {\n",
       "        text-align: right;\n",
       "    }\n",
       "</style>\n",
       "<table border=\"1\" class=\"dataframe\">\n",
       "  <thead>\n",
       "    <tr style=\"text-align: right;\">\n",
       "      <th></th>\n",
       "      <th>Temp_F</th>\n",
       "      <th>RH_pct</th>\n",
       "      <th>Dewpt_F</th>\n",
       "      <th>Wind_Spd_mph</th>\n",
       "      <th>Wind_Direction_deg</th>\n",
       "      <th>Peak_Wind_Gust_mph</th>\n",
       "      <th>Low_Cloud_Ht_ft</th>\n",
       "      <th>Med_Cloud_Ht_ft</th>\n",
       "      <th>High_Cloud_Ht_ft</th>\n",
       "      <th>Visibility_mi</th>\n",
       "      <th>Atm_Press_hPa</th>\n",
       "      <th>Sea_Lev_Press_hPa</th>\n",
       "      <th>Altimeter_hPa</th>\n",
       "      <th>Precip_in</th>\n",
       "      <th>LES_Snowfall</th>\n",
       "    </tr>\n",
       "  </thead>\n",
       "  <tbody>\n",
       "    <tr>\n",
       "      <th>count</th>\n",
       "      <td>16040.000000</td>\n",
       "      <td>16040.000000</td>\n",
       "      <td>16040.000000</td>\n",
       "      <td>16040.000000</td>\n",
       "      <td>16040.000000</td>\n",
       "      <td>16040.000000</td>\n",
       "      <td>16040.000000</td>\n",
       "      <td>16040.000000</td>\n",
       "      <td>16040.000000</td>\n",
       "      <td>16040.000000</td>\n",
       "      <td>16040.000000</td>\n",
       "      <td>16040.000000</td>\n",
       "      <td>16040.000000</td>\n",
       "      <td>16040.000000</td>\n",
       "      <td>16040.000000</td>\n",
       "    </tr>\n",
       "    <tr>\n",
       "      <th>mean</th>\n",
       "      <td>35.412594</td>\n",
       "      <td>68.103491</td>\n",
       "      <td>25.379988</td>\n",
       "      <td>8.313529</td>\n",
       "      <td>183.465087</td>\n",
       "      <td>20.610411</td>\n",
       "      <td>4533.266209</td>\n",
       "      <td>7831.145262</td>\n",
       "      <td>8623.438279</td>\n",
       "      <td>7.931796</td>\n",
       "      <td>992.852431</td>\n",
       "      <td>1016.450274</td>\n",
       "      <td>1015.765779</td>\n",
       "      <td>0.002198</td>\n",
       "      <td>0.021446</td>\n",
       "    </tr>\n",
       "    <tr>\n",
       "      <th>std</th>\n",
       "      <td>14.920630</td>\n",
       "      <td>15.099017</td>\n",
       "      <td>13.649343</td>\n",
       "      <td>4.870364</td>\n",
       "      <td>113.074909</td>\n",
       "      <td>3.973998</td>\n",
       "      <td>5661.230940</td>\n",
       "      <td>7455.823206</td>\n",
       "      <td>7134.171909</td>\n",
       "      <td>3.089631</td>\n",
       "      <td>8.968014</td>\n",
       "      <td>9.293042</td>\n",
       "      <td>9.136192</td>\n",
       "      <td>0.015550</td>\n",
       "      <td>0.144871</td>\n",
       "    </tr>\n",
       "    <tr>\n",
       "      <th>min</th>\n",
       "      <td>-13.000000</td>\n",
       "      <td>10.000000</td>\n",
       "      <td>-20.000000</td>\n",
       "      <td>0.000000</td>\n",
       "      <td>0.000000</td>\n",
       "      <td>0.000000</td>\n",
       "      <td>0.000000</td>\n",
       "      <td>500.000000</td>\n",
       "      <td>1200.000000</td>\n",
       "      <td>0.000000</td>\n",
       "      <td>954.100000</td>\n",
       "      <td>976.800000</td>\n",
       "      <td>976.300000</td>\n",
       "      <td>0.000000</td>\n",
       "      <td>0.000000</td>\n",
       "    </tr>\n",
       "    <tr>\n",
       "      <th>25%</th>\n",
       "      <td>25.000000</td>\n",
       "      <td>58.000000</td>\n",
       "      <td>16.000000</td>\n",
       "      <td>5.000000</td>\n",
       "      <td>80.000000</td>\n",
       "      <td>18.000000</td>\n",
       "      <td>1600.000000</td>\n",
       "      <td>2900.000000</td>\n",
       "      <td>3600.000000</td>\n",
       "      <td>6.000000</td>\n",
       "      <td>987.000000</td>\n",
       "      <td>1010.500000</td>\n",
       "      <td>1009.800000</td>\n",
       "      <td>0.000000</td>\n",
       "      <td>0.000000</td>\n",
       "    </tr>\n",
       "    <tr>\n",
       "      <th>50%</th>\n",
       "      <td>34.000000</td>\n",
       "      <td>70.000000</td>\n",
       "      <td>25.000000</td>\n",
       "      <td>8.000000</td>\n",
       "      <td>210.000000</td>\n",
       "      <td>20.000000</td>\n",
       "      <td>2500.000000</td>\n",
       "      <td>4200.000000</td>\n",
       "      <td>5500.000000</td>\n",
       "      <td>10.000000</td>\n",
       "      <td>993.300000</td>\n",
       "      <td>1017.000000</td>\n",
       "      <td>1016.300000</td>\n",
       "      <td>0.000000</td>\n",
       "      <td>0.000000</td>\n",
       "    </tr>\n",
       "    <tr>\n",
       "      <th>75%</th>\n",
       "      <td>45.000000</td>\n",
       "      <td>79.000000</td>\n",
       "      <td>34.000000</td>\n",
       "      <td>11.000000</td>\n",
       "      <td>270.000000</td>\n",
       "      <td>23.000000</td>\n",
       "      <td>4100.000000</td>\n",
       "      <td>10000.000000</td>\n",
       "      <td>11000.000000</td>\n",
       "      <td>10.000000</td>\n",
       "      <td>999.300000</td>\n",
       "      <td>1023.100000</td>\n",
       "      <td>1022.400000</td>\n",
       "      <td>0.000000</td>\n",
       "      <td>0.000000</td>\n",
       "    </tr>\n",
       "    <tr>\n",
       "      <th>max</th>\n",
       "      <td>88.000000</td>\n",
       "      <td>100.000000</td>\n",
       "      <td>67.000000</td>\n",
       "      <td>32.000000</td>\n",
       "      <td>360.000000</td>\n",
       "      <td>56.000000</td>\n",
       "      <td>28000.000000</td>\n",
       "      <td>25000.000000</td>\n",
       "      <td>26000.000000</td>\n",
       "      <td>10.000000</td>\n",
       "      <td>1019.300000</td>\n",
       "      <td>1044.500000</td>\n",
       "      <td>1042.700000</td>\n",
       "      <td>0.860000</td>\n",
       "      <td>1.000000</td>\n",
       "    </tr>\n",
       "  </tbody>\n",
       "</table>\n",
       "</div>"
      ],
      "text/plain": [
       "             Temp_F        RH_pct       Dewpt_F  Wind_Spd_mph  \\\n",
       "count  16040.000000  16040.000000  16040.000000  16040.000000   \n",
       "mean      35.412594     68.103491     25.379988      8.313529   \n",
       "std       14.920630     15.099017     13.649343      4.870364   \n",
       "min      -13.000000     10.000000    -20.000000      0.000000   \n",
       "25%       25.000000     58.000000     16.000000      5.000000   \n",
       "50%       34.000000     70.000000     25.000000      8.000000   \n",
       "75%       45.000000     79.000000     34.000000     11.000000   \n",
       "max       88.000000    100.000000     67.000000     32.000000   \n",
       "\n",
       "       Wind_Direction_deg  Peak_Wind_Gust_mph  Low_Cloud_Ht_ft  \\\n",
       "count        16040.000000        16040.000000     16040.000000   \n",
       "mean           183.465087           20.610411      4533.266209   \n",
       "std            113.074909            3.973998      5661.230940   \n",
       "min              0.000000            0.000000         0.000000   \n",
       "25%             80.000000           18.000000      1600.000000   \n",
       "50%            210.000000           20.000000      2500.000000   \n",
       "75%            270.000000           23.000000      4100.000000   \n",
       "max            360.000000           56.000000     28000.000000   \n",
       "\n",
       "       Med_Cloud_Ht_ft  High_Cloud_Ht_ft  Visibility_mi  Atm_Press_hPa  \\\n",
       "count     16040.000000      16040.000000   16040.000000   16040.000000   \n",
       "mean       7831.145262       8623.438279       7.931796     992.852431   \n",
       "std        7455.823206       7134.171909       3.089631       8.968014   \n",
       "min         500.000000       1200.000000       0.000000     954.100000   \n",
       "25%        2900.000000       3600.000000       6.000000     987.000000   \n",
       "50%        4200.000000       5500.000000      10.000000     993.300000   \n",
       "75%       10000.000000      11000.000000      10.000000     999.300000   \n",
       "max       25000.000000      26000.000000      10.000000    1019.300000   \n",
       "\n",
       "       Sea_Lev_Press_hPa  Altimeter_hPa     Precip_in  LES_Snowfall  \n",
       "count       16040.000000   16040.000000  16040.000000  16040.000000  \n",
       "mean         1016.450274    1015.765779      0.002198      0.021446  \n",
       "std             9.293042       9.136192      0.015550      0.144871  \n",
       "min           976.800000     976.300000      0.000000      0.000000  \n",
       "25%          1010.500000    1009.800000      0.000000      0.000000  \n",
       "50%          1017.000000    1016.300000      0.000000      0.000000  \n",
       "75%          1023.100000    1022.400000      0.000000      0.000000  \n",
       "max          1044.500000    1042.700000      0.860000      1.000000  "
      ]
     },
     "execution_count": 34,
     "metadata": {},
     "output_type": "execute_result"
    }
   ],
   "source": [
    "# Summary\n",
    "df_daytime_only.describe()"
   ]
  },
  {
   "cell_type": "code",
   "execution_count": 35,
   "id": "510d8ac7",
   "metadata": {
    "colab": {
     "base_uri": "https://localhost:8080/"
    },
    "id": "510d8ac7",
    "outputId": "426cae61-639e-4eea-a80d-b76ab62966f6"
   },
   "outputs": [
    {
     "data": {
      "text/plain": [
       "0.0    15696\n",
       "1.0      344\n",
       "Name: LES_Snowfall, dtype: int64"
      ]
     },
     "execution_count": 35,
     "metadata": {},
     "output_type": "execute_result"
    }
   ],
   "source": [
    "df_daytime_only.LES_Snowfall.value_counts()"
   ]
  },
  {
   "cell_type": "markdown",
   "id": "0b8dc798",
   "metadata": {
    "id": "0b8dc798"
   },
   "source": [
    "I reckon it looks alright? We can then work on checking the correlations between the features.\n",
    "\n",
    "---\n",
    "\n",
    "# 4. Correlations Between Features"
   ]
  },
  {
   "cell_type": "code",
   "execution_count": 36,
   "id": "4c4853b9",
   "metadata": {
    "colab": {
     "base_uri": "https://localhost:8080/",
     "height": 788
    },
    "id": "4c4853b9",
    "outputId": "c67c074d-9bfb-4ba0-f14f-92b704eeed68"
   },
   "outputs": [
    {
     "name": "stderr",
     "output_type": "stream",
     "text": [
      "/tmp/ipykernel_7582/3056942574.py:2: FutureWarning: The default value of numeric_only in DataFrame.corr is deprecated. In a future version, it will default to False. Select only valid columns or specify the value of numeric_only to silence this warning.\n",
      "  correlation_matrix = df_daytime_only.corr(method = 'pearson')\n"
     ]
    },
    {
     "data": {
      "text/plain": [
       "Text(0.5, 1.0, 'Correlation Matrix')"
      ]
     },
     "execution_count": 36,
     "metadata": {},
     "output_type": "execute_result"
    },
    {
     "data": {
      "image/png": "[encoded data removed]",
      "text/plain": [
       "<Figure size 1080x864 with 2 Axes>"
      ]
     },
     "metadata": {
      "needs_background": "light"
     },
     "output_type": "display_data"
    }
   ],
   "source": [
    "# Correlation\n",
    "correlation_matrix = df_daytime_only.corr(method = 'pearson')\n",
    "plt.subplots(figsize=(15,12))\n",
    "\n",
    "# Heatmap\n",
    "sns.heatmap(correlation_matrix, annot = True, cmap = \"YlGnBu\")\n",
    "plt.title(\"Correlation Matrix\", size = 12, weight = 'bold')"
   ]
  },
  {
   "cell_type": "markdown",
   "id": "63b511e1",
   "metadata": {
    "id": "63b511e1"
   },
   "source": [
    "**Observations from the above correlation plots:**\n",
    "- Few features are very heavily correated with each other (score >= 0.50)\n",
    "    - **Temp_F** is highly correlated with **Dewpt_F**\n",
    "    - **Wind_Spd_mph** is highly correlated with **Wind_Direction_deg**\n",
    "    - **Atm_Press_hPa**, **Sea_Lev_Press_hPa**, and **Altimeter_hPa** are highly correlated to each other\n",
    "- We also note some strong `negative correlation`, but all of them are greater than -0.5, hence we do not drop those features\n",
    "\n",
    "We can drop the above columns since they imply to the same information, and keeping them as features will increase the model size.\n",
    "\n",
    "But before doing this, let's work on **Atm_Press_hPa**, **Sea_Lev_Press_hPa**, and **Altimeter_hPa**, to see what is actually going on."
   ]
  },
  {
   "cell_type": "markdown",
   "id": "3c0dc695",
   "metadata": {
    "id": "3c0dc695"
   },
   "source": [
    "They are not identical to each other, but by nature, we know that they should be highly correlated. So, we are going to drop:\n",
    "\n",
    "- **Dewpt_F**\n",
    "- **Sea_Lev_Press_hPa** and **Altimeter_hPa**\n",
    "    \n",
    "We are being a little bit conservative here at the moment. The threshold for what constitutes \"high\" correlation can depend on the specific context and the dataset, but a common rule of thumb is to consider variables with a correlation coefficient above 0.8 or 0.9 to be highly correlated. However, there's no hard and fast rule, and the specific requirements of your project might necessitate a different threshold."
   ]
  },
  {
   "cell_type": "code",
   "execution_count": 37,
   "id": "5a8c525e",
   "metadata": {
    "colab": {
     "base_uri": "https://localhost:8080/",
     "height": 522
    },
    "id": "5a8c525e",
    "outputId": "12407adc-8259-474b-f862-09e25e46789c"
   },
   "outputs": [
    {
     "name": "stdout",
     "output_type": "stream",
     "text": [
      "Total observations:  16040\n",
      "Total number of features:  15\n"
     ]
    },
    {
     "data": {
      "text/html": [
       "<div>\n",
       "<style scoped>\n",
       "    .dataframe tbody tr th:only-of-type {\n",
       "        vertical-align: middle;\n",
       "    }\n",
       "\n",
       "    .dataframe tbody tr th {\n",
       "        vertical-align: top;\n",
       "    }\n",
       "\n",
       "    .dataframe thead th {\n",
       "        text-align: right;\n",
       "    }\n",
       "</style>\n",
       "<table border=\"1\" class=\"dataframe\">\n",
       "  <thead>\n",
       "    <tr style=\"text-align: right;\">\n",
       "      <th></th>\n",
       "      <th>File_name_for_1D_lake</th>\n",
       "      <th>File_name_for_2D_lake</th>\n",
       "      <th>Lake_data_1D</th>\n",
       "      <th>Temp_F</th>\n",
       "      <th>RH_pct</th>\n",
       "      <th>Wind_Spd_mph</th>\n",
       "      <th>Wind_Direction_deg</th>\n",
       "      <th>Peak_Wind_Gust_mph</th>\n",
       "      <th>Low_Cloud_Ht_ft</th>\n",
       "      <th>Med_Cloud_Ht_ft</th>\n",
       "      <th>High_Cloud_Ht_ft</th>\n",
       "      <th>Visibility_mi</th>\n",
       "      <th>Atm_Press_hPa</th>\n",
       "      <th>Precip_in</th>\n",
       "      <th>LES_Snowfall</th>\n",
       "    </tr>\n",
       "  </thead>\n",
       "  <tbody>\n",
       "    <tr>\n",
       "      <th>0</th>\n",
       "      <td>goes11.2006.10.01.1400.v01.nc-var1-t0.csv</td>\n",
       "      <td>T_goes11.2006.10.01.1400.v01.nc-var1-t0.csv.csv</td>\n",
       "      <td>[0.067499995, 0.07, 0.0625, 0.06, 0.0725, 0.06...</td>\n",
       "      <td>48.0</td>\n",
       "      <td>92.0</td>\n",
       "      <td>0.0</td>\n",
       "      <td>0.0</td>\n",
       "      <td>0.0</td>\n",
       "      <td>3600.0</td>\n",
       "      <td>6500.0</td>\n",
       "      <td>6500.0</td>\n",
       "      <td>10.0</td>\n",
       "      <td>993.0</td>\n",
       "      <td>0.0</td>\n",
       "      <td>0.0</td>\n",
       "    </tr>\n",
       "    <tr>\n",
       "      <th>1</th>\n",
       "      <td>goes11.2006.10.01.1500.v01.nc-var1-t0.csv</td>\n",
       "      <td>T_goes11.2006.10.01.1500.v01.nc-var1-t0.csv.csv</td>\n",
       "      <td>[0.067499995, 0.067499995, 0.06, 0.06, 0.05749...</td>\n",
       "      <td>55.0</td>\n",
       "      <td>59.0</td>\n",
       "      <td>11.0</td>\n",
       "      <td>300.0</td>\n",
       "      <td>11.0</td>\n",
       "      <td>3600.0</td>\n",
       "      <td>6500.0</td>\n",
       "      <td>6500.0</td>\n",
       "      <td>10.0</td>\n",
       "      <td>993.7</td>\n",
       "      <td>0.0</td>\n",
       "      <td>0.0</td>\n",
       "    </tr>\n",
       "    <tr>\n",
       "      <th>2</th>\n",
       "      <td>goes11.2006.10.01.1600.v01.nc-var1-t0.csv</td>\n",
       "      <td>T_goes11.2006.10.01.1600.v01.nc-var1-t0.csv.csv</td>\n",
       "      <td>[0.0725, 0.067499995, 0.07, 0.07, 0.067499995,...</td>\n",
       "      <td>55.0</td>\n",
       "      <td>61.0</td>\n",
       "      <td>10.0</td>\n",
       "      <td>300.0</td>\n",
       "      <td>10.0</td>\n",
       "      <td>3600.0</td>\n",
       "      <td>6500.0</td>\n",
       "      <td>6500.0</td>\n",
       "      <td>10.0</td>\n",
       "      <td>994.3</td>\n",
       "      <td>0.0</td>\n",
       "      <td>0.0</td>\n",
       "    </tr>\n",
       "    <tr>\n",
       "      <th>3</th>\n",
       "      <td>goes11.2006.10.01.1700.v01.nc-var1-t0.csv</td>\n",
       "      <td>T_goes11.2006.10.01.1700.v01.nc-var1-t0.csv.csv</td>\n",
       "      <td>[0.067499995, 0.067499995, 0.067499995, 0.07, ...</td>\n",
       "      <td>58.0</td>\n",
       "      <td>55.0</td>\n",
       "      <td>8.0</td>\n",
       "      <td>290.0</td>\n",
       "      <td>8.0</td>\n",
       "      <td>3600.0</td>\n",
       "      <td>6500.0</td>\n",
       "      <td>6500.0</td>\n",
       "      <td>10.0</td>\n",
       "      <td>995.0</td>\n",
       "      <td>0.0</td>\n",
       "      <td>0.0</td>\n",
       "    </tr>\n",
       "    <tr>\n",
       "      <th>4</th>\n",
       "      <td>goes11.2006.10.01.1800.v01.nc-var1-t0.csv</td>\n",
       "      <td>T_goes11.2006.10.01.1800.v01.nc-var1-t0.csv.csv</td>\n",
       "      <td>[0.085, 0.085, 0.0875, 0.0725, 0.0775, 0.0775,...</td>\n",
       "      <td>56.0</td>\n",
       "      <td>59.0</td>\n",
       "      <td>10.0</td>\n",
       "      <td>260.0</td>\n",
       "      <td>10.0</td>\n",
       "      <td>3600.0</td>\n",
       "      <td>6500.0</td>\n",
       "      <td>6500.0</td>\n",
       "      <td>10.0</td>\n",
       "      <td>995.0</td>\n",
       "      <td>0.0</td>\n",
       "      <td>0.0</td>\n",
       "    </tr>\n",
       "  </tbody>\n",
       "</table>\n",
       "</div>"
      ],
      "text/plain": [
       "                       File_name_for_1D_lake  \\\n",
       "0  goes11.2006.10.01.1400.v01.nc-var1-t0.csv   \n",
       "1  goes11.2006.10.01.1500.v01.nc-var1-t0.csv   \n",
       "2  goes11.2006.10.01.1600.v01.nc-var1-t0.csv   \n",
       "3  goes11.2006.10.01.1700.v01.nc-var1-t0.csv   \n",
       "4  goes11.2006.10.01.1800.v01.nc-var1-t0.csv   \n",
       "\n",
       "                             File_name_for_2D_lake  \\\n",
       "0  T_goes11.2006.10.01.1400.v01.nc-var1-t0.csv.csv   \n",
       "1  T_goes11.2006.10.01.1500.v01.nc-var1-t0.csv.csv   \n",
       "2  T_goes11.2006.10.01.1600.v01.nc-var1-t0.csv.csv   \n",
       "3  T_goes11.2006.10.01.1700.v01.nc-var1-t0.csv.csv   \n",
       "4  T_goes11.2006.10.01.1800.v01.nc-var1-t0.csv.csv   \n",
       "\n",
       "                                        Lake_data_1D  Temp_F  RH_pct  \\\n",
       "0  [0.067499995, 0.07, 0.0625, 0.06, 0.0725, 0.06...    48.0    92.0   \n",
       "1  [0.067499995, 0.067499995, 0.06, 0.06, 0.05749...    55.0    59.0   \n",
       "2  [0.0725, 0.067499995, 0.07, 0.07, 0.067499995,...    55.0    61.0   \n",
       "3  [0.067499995, 0.067499995, 0.067499995, 0.07, ...    58.0    55.0   \n",
       "4  [0.085, 0.085, 0.0875, 0.0725, 0.0775, 0.0775,...    56.0    59.0   \n",
       "\n",
       "   Wind_Spd_mph  Wind_Direction_deg  Peak_Wind_Gust_mph  Low_Cloud_Ht_ft  \\\n",
       "0           0.0                 0.0                 0.0           3600.0   \n",
       "1          11.0               300.0                11.0           3600.0   \n",
       "2          10.0               300.0                10.0           3600.0   \n",
       "3           8.0               290.0                 8.0           3600.0   \n",
       "4          10.0               260.0                10.0           3600.0   \n",
       "\n",
       "   Med_Cloud_Ht_ft  High_Cloud_Ht_ft  Visibility_mi  Atm_Press_hPa  Precip_in  \\\n",
       "0           6500.0            6500.0           10.0          993.0        0.0   \n",
       "1           6500.0            6500.0           10.0          993.7        0.0   \n",
       "2           6500.0            6500.0           10.0          994.3        0.0   \n",
       "3           6500.0            6500.0           10.0          995.0        0.0   \n",
       "4           6500.0            6500.0           10.0          995.0        0.0   \n",
       "\n",
       "   LES_Snowfall  \n",
       "0           0.0  \n",
       "1           0.0  \n",
       "2           0.0  \n",
       "3           0.0  \n",
       "4           0.0  "
      ]
     },
     "execution_count": 37,
     "metadata": {},
     "output_type": "execute_result"
    }
   ],
   "source": [
    "df_daytime_only = df_daytime_only.drop(['Dewpt_F', 'Sea_Lev_Press_hPa', 'Altimeter_hPa'], axis=1)\n",
    "df_daytime_only = df_daytime_only.reset_index(drop=True)\n",
    "\n",
    "# Information about dataset shape\n",
    "print('Total observations: ', df_daytime_only.shape[0])\n",
    "print('Total number of features: ', df_daytime_only.shape[1])\n",
    "df_daytime_only.head()"
   ]
  },
  {
   "cell_type": "code",
   "execution_count": 38,
   "id": "9820cca4",
   "metadata": {
    "colab": {
     "base_uri": "https://localhost:8080/"
    },
    "id": "9820cca4",
    "outputId": "44c3f432-24bb-4aec-8f3f-10260c175c16"
   },
   "outputs": [
    {
     "data": {
      "text/plain": [
       "0.0    15696\n",
       "1.0      344\n",
       "Name: LES_Snowfall, dtype: int64"
      ]
     },
     "execution_count": 38,
     "metadata": {},
     "output_type": "execute_result"
    }
   ],
   "source": [
    "df_daytime_only['LES_Snowfall'].value_counts()"
   ]
  },
  {
   "cell_type": "code",
   "execution_count": 39,
   "id": "3fb256f9",
   "metadata": {
    "colab": {
     "base_uri": "https://localhost:8080/",
     "height": 468
    },
    "id": "3fb256f9",
    "outputId": "dd46fb3e-fd80-4ed9-d254-dd87647b4d81"
   },
   "outputs": [
    {
     "data": {
      "text/plain": [
       "<Axes: xlabel='LES_Snowfall', ylabel='count'>"
      ]
     },
     "execution_count": 39,
     "metadata": {},
     "output_type": "execute_result"
    },
    {
     "data": {
      "image/png": "[encoded data removed]",
      "text/plain": [
       "<Figure size 432x288 with 1 Axes>"
      ]
     },
     "metadata": {
      "needs_background": "light"
     },
     "output_type": "display_data"
    }
   ],
   "source": [
    "sns.countplot(x = df_daytime_only['LES_Snowfall'], palette=[\"#7fcdbb\", \"#edf8b1\"])"
   ]
  },
  {
   "cell_type": "markdown",
   "id": "c9cba7ba",
   "metadata": {
    "id": "c9cba7ba"
   },
   "source": [
    "---\n",
    "\n",
    "# 5. Feature Engineering: Precipitation"
   ]
  },
  {
   "cell_type": "markdown",
   "id": "3d166602",
   "metadata": {
    "id": "3d166602"
   },
   "source": [
    "### Adding a New Column For Precipitation\n",
    "\n",
    "There is no fancy masking being applied yet. We will do that in another experiment."
   ]
  },
  {
   "cell_type": "code",
   "execution_count": 40,
   "id": "53c654ae",
   "metadata": {
    "id": "53c654ae"
   },
   "outputs": [],
   "source": [
    "df_daytime_only.loc[df_daytime_only['Precip_in'] > 0, 'LES_Precipitation'] = 1\n",
    "df_daytime_only.loc[df_daytime_only['Precip_in'] <= 0, 'LES_Precipitation'] = 0\n",
    "# df_daytime_only"
   ]
  },
  {
   "cell_type": "code",
   "execution_count": 41,
   "id": "c51e3686",
   "metadata": {
    "colab": {
     "base_uri": "https://localhost:8080/",
     "height": 468
    },
    "id": "c51e3686",
    "outputId": "948b926d-b126-481f-8a35-cc27431a3f46"
   },
   "outputs": [
    {
     "data": {
      "text/plain": [
       "<Axes: xlabel='LES_Precipitation', ylabel='count'>"
      ]
     },
     "execution_count": 41,
     "metadata": {},
     "output_type": "execute_result"
    },
    {
     "data": {
      "image/png": "[encoded data removed]",
      "text/plain": [
       "<Figure size 432x288 with 1 Axes>"
      ]
     },
     "metadata": {
      "needs_background": "light"
     },
     "output_type": "display_data"
    }
   ],
   "source": [
    "sns.countplot(x = df_daytime_only['LES_Precipitation'], palette=[\"#7fcdbb\", \"#edf8b1\"])"
   ]
  },
  {
   "cell_type": "code",
   "execution_count": 42,
   "id": "066f3b00",
   "metadata": {
    "id": "066f3b00"
   },
   "outputs": [],
   "source": [
    "import tensorflow as tf\n",
    "from tensorflow import keras\n",
    "from tensorflow.keras import layers\n",
    "\n",
    "import io\n",
    "import imageio\n",
    "from IPython.display import Image, display\n",
    "from ipywidgets import widgets, Layout, HBox"
   ]
  },
  {
   "cell_type": "code",
   "execution_count": 43,
   "id": "25e1e219",
   "metadata": {
    "colab": {
     "base_uri": "https://localhost:8080/"
    },
    "id": "25e1e219",
    "outputId": "d6a31753-b9e2-4266-e5ae-49f9eb182427"
   },
   "outputs": [
    {
     "name": "stderr",
     "output_type": "stream",
     "text": [
      "100%|██████████| 16040/16040 [00:00<00:00, 18119.56it/s]\n"
     ]
    }
   ],
   "source": [
    "from tqdm import tqdm\n",
    "import cv2\n",
    "\n",
    "images = []\n",
    "for idx in tqdm(range(df_daytime_only.shape[0])):\n",
    "# for idx in tqdm(range(7)):\n",
    "    # im shape -> (64, 64)\n",
    "    im = cv2.imread('data_dir/lake-michigan-images-64/' + str(idx) + '.png')\n",
    "    # im = cv2.imread('/content/lake-michigan-images-64/' + str(idx) + '.png')\n",
    "    # Storing 1 channel, since the images are grayscale, and cropping\n",
    "    images.append(im[8:-8,8:-8,0])\n",
    "    # images shape -> (35, 64, 64)"
   ]
  },
  {
   "cell_type": "markdown",
   "id": "0eac4228",
   "metadata": {
    "id": "0eac4228"
   },
   "source": [
    "# 6. Predicting rain from past imagery *and* meteo\n",
    "\n",
    "In this section, we will build the network with ConvLSTM2D for meteorological imagery data,"
   ]
  },
  {
   "cell_type": "code",
   "execution_count": 44,
   "id": "6c587cf7",
   "metadata": {
    "id": "6c587cf7"
   },
   "outputs": [],
   "source": [
    "meteo_les = df_single_station.drop(\n",
    "    [ 'Date_UTC', 'Time_UTC', 'Date_CST', 'Time_CST', 'File_name_for_1D_lake', 'File_name_for_2D_lake',\n",
    "     'Lake_data_1D', 'Dewpt_F', 'Sea_Lev_Press_hPa', 'Altimeter_hPa', 'data_usable', 'cloud_count',\n",
    "       'cloud_exist' ], axis=1)"
   ]
  },
  {
   "cell_type": "code",
   "execution_count": 45,
   "id": "0e4536ad",
   "metadata": {
    "colab": {
     "base_uri": "https://localhost:8080/",
     "height": 226
    },
    "id": "0e4536ad",
    "outputId": "15ae811a-a40e-4cad-a1d6-5e49cab217f0"
   },
   "outputs": [
    {
     "data": {
      "text/html": [
       "<div>\n",
       "<style scoped>\n",
       "    .dataframe tbody tr th:only-of-type {\n",
       "        vertical-align: middle;\n",
       "    }\n",
       "\n",
       "    .dataframe tbody tr th {\n",
       "        vertical-align: top;\n",
       "    }\n",
       "\n",
       "    .dataframe thead th {\n",
       "        text-align: right;\n",
       "    }\n",
       "</style>\n",
       "<table border=\"1\" class=\"dataframe\">\n",
       "  <thead>\n",
       "    <tr style=\"text-align: right;\">\n",
       "      <th></th>\n",
       "      <th>Temp_F</th>\n",
       "      <th>RH_pct</th>\n",
       "      <th>Wind_Spd_mph</th>\n",
       "      <th>Wind_Direction_deg</th>\n",
       "      <th>Peak_Wind_Gust_mph</th>\n",
       "      <th>Low_Cloud_Ht_ft</th>\n",
       "      <th>Med_Cloud_Ht_ft</th>\n",
       "      <th>High_Cloud_Ht_ft</th>\n",
       "      <th>Visibility_mi</th>\n",
       "      <th>Atm_Press_hPa</th>\n",
       "      <th>Precip_in</th>\n",
       "    </tr>\n",
       "  </thead>\n",
       "  <tbody>\n",
       "    <tr>\n",
       "      <th>0</th>\n",
       "      <td>51.0</td>\n",
       "      <td>92.0</td>\n",
       "      <td>0.0</td>\n",
       "      <td>0.0</td>\n",
       "      <td>0.0</td>\n",
       "      <td>3700.0</td>\n",
       "      <td>3700.0</td>\n",
       "      <td>3700.0</td>\n",
       "      <td>10.0</td>\n",
       "      <td>984.4</td>\n",
       "      <td>0.00</td>\n",
       "    </tr>\n",
       "    <tr>\n",
       "      <th>1</th>\n",
       "      <td>48.0</td>\n",
       "      <td>96.0</td>\n",
       "      <td>0.0</td>\n",
       "      <td>0.0</td>\n",
       "      <td>0.0</td>\n",
       "      <td>3700.0</td>\n",
       "      <td>3700.0</td>\n",
       "      <td>3700.0</td>\n",
       "      <td>10.0</td>\n",
       "      <td>984.7</td>\n",
       "      <td>0.00</td>\n",
       "    </tr>\n",
       "    <tr>\n",
       "      <th>2</th>\n",
       "      <td>49.0</td>\n",
       "      <td>92.0</td>\n",
       "      <td>3.0</td>\n",
       "      <td>220.0</td>\n",
       "      <td>3.0</td>\n",
       "      <td>3700.0</td>\n",
       "      <td>3700.0</td>\n",
       "      <td>3700.0</td>\n",
       "      <td>10.0</td>\n",
       "      <td>985.4</td>\n",
       "      <td>0.00</td>\n",
       "    </tr>\n",
       "    <tr>\n",
       "      <th>3</th>\n",
       "      <td>48.0</td>\n",
       "      <td>100.0</td>\n",
       "      <td>0.0</td>\n",
       "      <td>0.0</td>\n",
       "      <td>0.0</td>\n",
       "      <td>2500.0</td>\n",
       "      <td>6500.0</td>\n",
       "      <td>6500.0</td>\n",
       "      <td>6.0</td>\n",
       "      <td>986.0</td>\n",
       "      <td>0.02</td>\n",
       "    </tr>\n",
       "    <tr>\n",
       "      <th>4</th>\n",
       "      <td>50.0</td>\n",
       "      <td>92.0</td>\n",
       "      <td>3.0</td>\n",
       "      <td>180.0</td>\n",
       "      <td>3.0</td>\n",
       "      <td>7000.0</td>\n",
       "      <td>6500.0</td>\n",
       "      <td>6500.0</td>\n",
       "      <td>8.0</td>\n",
       "      <td>986.4</td>\n",
       "      <td>0.00</td>\n",
       "    </tr>\n",
       "  </tbody>\n",
       "</table>\n",
       "</div>"
      ],
      "text/plain": [
       "   Temp_F  RH_pct  Wind_Spd_mph  Wind_Direction_deg  Peak_Wind_Gust_mph  \\\n",
       "0    51.0    92.0           0.0                 0.0                 0.0   \n",
       "1    48.0    96.0           0.0                 0.0                 0.0   \n",
       "2    49.0    92.0           3.0               220.0                 3.0   \n",
       "3    48.0   100.0           0.0                 0.0                 0.0   \n",
       "4    50.0    92.0           3.0               180.0                 3.0   \n",
       "\n",
       "   Low_Cloud_Ht_ft  Med_Cloud_Ht_ft  High_Cloud_Ht_ft  Visibility_mi  \\\n",
       "0           3700.0           3700.0            3700.0           10.0   \n",
       "1           3700.0           3700.0            3700.0           10.0   \n",
       "2           3700.0           3700.0            3700.0           10.0   \n",
       "3           2500.0           6500.0            6500.0            6.0   \n",
       "4           7000.0           6500.0            6500.0            8.0   \n",
       "\n",
       "   Atm_Press_hPa  Precip_in  \n",
       "0          984.4       0.00  \n",
       "1          984.7       0.00  \n",
       "2          985.4       0.00  \n",
       "3          986.0       0.02  \n",
       "4          986.4       0.00  "
      ]
     },
     "execution_count": 45,
     "metadata": {},
     "output_type": "execute_result"
    }
   ],
   "source": [
    "meteo_les.head()"
   ]
  },
  {
   "cell_type": "code",
   "execution_count": 46,
   "id": "16b6c4ea",
   "metadata": {
    "colab": {
     "base_uri": "https://localhost:8080/"
    },
    "id": "16b6c4ea",
    "outputId": "fab3eac5-f36a-4f42-80bd-6dc86aaa0538"
   },
   "outputs": [
    {
     "data": {
      "text/plain": [
       "48121"
      ]
     },
     "execution_count": 46,
     "metadata": {},
     "output_type": "execute_result"
    }
   ],
   "source": [
    "len(meteo_les)"
   ]
  },
  {
   "cell_type": "code",
   "execution_count": 47,
   "id": "23c714be",
   "metadata": {
    "id": "23c714be"
   },
   "outputs": [],
   "source": [
    "meteo_train_batched = tf.keras.preprocessing.timeseries_dataset_from_array(meteo_les[0:40500], None, sequence_length = 72, sequence_stride=24,\n",
    "                                                                   sampling_rate=1, batch_size=40500)"
   ]
  },
  {
   "cell_type": "code",
   "execution_count": 48,
   "id": "284dfc54",
   "metadata": {
    "colab": {
     "base_uri": "https://localhost:8080/"
    },
    "id": "284dfc54",
    "outputId": "4d2d4182-3af1-4cba-e23c-8f4d22508b60"
   },
   "outputs": [
    {
     "name": "stdout",
     "output_type": "stream",
     "text": [
      "(1685, 72, 11)\n",
      "--\n"
     ]
    }
   ],
   "source": [
    "\n",
    "for batch in meteo_train_batched:\n",
    "    meteo_train = batch\n",
    "    print(meteo_train.shape)\n",
    "    print('--')"
   ]
  },
  {
   "cell_type": "markdown",
   "id": "c89d79dd",
   "metadata": {
    "id": "c89d79dd"
   },
   "source": [
    "Next, we load the validation portion."
   ]
  },
  {
   "cell_type": "code",
   "execution_count": 49,
   "id": "2f391b75",
   "metadata": {
    "id": "2f391b75"
   },
   "outputs": [],
   "source": [
    "meteo_val_batched = tf.keras.preprocessing.timeseries_dataset_from_array(meteo_les[40500:48000], None, sequence_length = 72, sequence_stride=24,\n",
    "                                                                   sampling_rate=1, batch_size=7500)"
   ]
  },
  {
   "cell_type": "code",
   "execution_count": 50,
   "id": "84d87e59",
   "metadata": {
    "colab": {
     "base_uri": "https://localhost:8080/"
    },
    "id": "84d87e59",
    "outputId": "0968c2ce-1a5c-4d46-816b-120dec132318"
   },
   "outputs": [
    {
     "name": "stdout",
     "output_type": "stream",
     "text": [
      "(310, 72, 11)\n",
      "--\n"
     ]
    }
   ],
   "source": [
    "meteo_val = None\n",
    "for batch in meteo_val_batched:\n",
    "    meteo_val = batch\n",
    "    print(meteo_val.shape)\n",
    "    print('--')"
   ]
  },
  {
   "cell_type": "markdown",
   "id": "6d8097d8-24d7-45c2-bb17-acba1d2831f3",
   "metadata": {
    "id": "6d8097d8-24d7-45c2-bb17-acba1d2831f3"
   },
   "source": [
    "For the imagery data, $ 8 \\times 3 \\ = \\ 24$ images per input sequence, and time step is 8 images."
   ]
  },
  {
   "cell_type": "code",
   "execution_count": 51,
   "id": "2d2dcd0c",
   "metadata": {
    "id": "2d2dcd0c"
   },
   "outputs": [],
   "source": [
    "cloud_train_batched = tf.keras.preprocessing.timeseries_dataset_from_array(images[:13500], None, 24, sequence_stride=8,\n",
    "                                                                           sampling_rate=1, batch_size=13500)"
   ]
  },
  {
   "cell_type": "code",
   "execution_count": 52,
   "id": "20b8f476",
   "metadata": {
    "colab": {
     "base_uri": "https://localhost:8080/"
    },
    "id": "20b8f476",
    "outputId": "3be3b727-3ab1-4ab1-9b9a-78b9322411b6"
   },
   "outputs": [
    {
     "name": "stdout",
     "output_type": "stream",
     "text": [
      "(1685, 24, 48, 48, 1)\n",
      "--\n"
     ]
    }
   ],
   "source": [
    "cloud_train = None\n",
    "for batch in cloud_train_batched:\n",
    "    cloud_train = batch\n",
    "    cloud_train = np.expand_dims(cloud_train, axis=-1)\n",
    "    print(cloud_train.shape)\n",
    "    cloud_train = cloud_train / 255\n",
    "    print('--')"
   ]
  },
  {
   "cell_type": "markdown",
   "id": "9f529d25",
   "metadata": {
    "id": "9f529d25"
   },
   "source": [
    "And test data:"
   ]
  },
  {
   "cell_type": "code",
   "execution_count": 53,
   "id": "e25e26b5",
   "metadata": {
    "id": "e25e26b5"
   },
   "outputs": [],
   "source": [
    "cloud_val_batched = tf.keras.preprocessing.timeseries_dataset_from_array(images[13500:16000], None, 24, sequence_stride=8,\n",
    "                                                                         sampling_rate=1, batch_size=2500)"
   ]
  },
  {
   "cell_type": "code",
   "execution_count": 54,
   "id": "4ee05870",
   "metadata": {
    "colab": {
     "base_uri": "https://localhost:8080/"
    },
    "id": "4ee05870",
    "outputId": "93143276-733d-4e62-861e-36104e4e7635"
   },
   "outputs": [
    {
     "name": "stdout",
     "output_type": "stream",
     "text": [
      "(310, 24, 48, 48, 1)\n",
      "--\n"
     ]
    }
   ],
   "source": [
    "cloud_val = None\n",
    "for batch in cloud_val_batched:\n",
    "    cloud_val = batch\n",
    "    cloud_val = np.expand_dims(cloud_val, axis=-1)\n",
    "    print(cloud_val.shape)\n",
    "    cloud_val = cloud_val / 255\n",
    "    print('--')"
   ]
  },
  {
   "cell_type": "markdown",
   "id": "5e155bd2",
   "metadata": {
    "id": "5e155bd2"
   },
   "source": [
    "### Final rain classification label\n",
    "Finally, let's create our label:"
   ]
  },
  {
   "cell_type": "markdown",
   "id": "45d434b8",
   "metadata": {
    "id": "45d434b8"
   },
   "source": [
    "This is how much precipitation in $72$ hours:"
   ]
  },
  {
   "cell_type": "code",
   "execution_count": 55,
   "id": "4abc8e81",
   "metadata": {
    "colab": {
     "base_uri": "https://localhost:8080/"
    },
    "id": "4abc8e81",
    "outputId": "d01aad61-01f7-4a52-d201-eebe75b7d332"
   },
   "outputs": [
    {
     "data": {
      "text/plain": [
       "1685"
      ]
     },
     "execution_count": 55,
     "metadata": {},
     "output_type": "execute_result"
    }
   ],
   "source": [
    "rain_train = []\n",
    "for batch in meteo_train:\n",
    "    batch =batch\n",
    "    batch = np.expand_dims(batch, axis=0)\n",
    "    for i in range(batch.shape[0]):\n",
    "        rain_train.append(sum(batch[i,0:23,-1]))\n",
    "#                rain_train.append(sum(batch[i,:,-1].numpy()))\n",
    "\n",
    "\n",
    "len(rain_train)"
   ]
  },
  {
   "cell_type": "markdown",
   "id": "25248987",
   "metadata": {
    "id": "25248987"
   },
   "source": [
    "We use $0.10 \\ inch$ over the span of 24 hours as the criteria."
   ]
  },
  {
   "cell_type": "code",
   "execution_count": 56,
   "id": "0c0614e2",
   "metadata": {
    "id": "0c0614e2"
   },
   "outputs": [],
   "source": [
    "rain_train_b = [1 if 0.10 <= r else 0 for r in rain_train]"
   ]
  },
  {
   "cell_type": "code",
   "execution_count": 57,
   "id": "d8ee509b",
   "metadata": {
    "colab": {
     "base_uri": "https://localhost:8080/"
    },
    "id": "d8ee509b",
    "outputId": "4994c703-82f7-4551-ef08-f5eaa5da63b1"
   },
   "outputs": [
    {
     "data": {
      "text/plain": [
       "(1685,)"
      ]
     },
     "execution_count": 57,
     "metadata": {},
     "output_type": "execute_result"
    }
   ],
   "source": [
    "rain_train_c = np.array(rain_train_b)\n",
    "rain_train_c.shape"
   ]
  },
  {
   "cell_type": "code",
   "execution_count": 58,
   "id": "17a8d6be",
   "metadata": {
    "colab": {
     "base_uri": "https://localhost:8080/"
    },
    "id": "17a8d6be",
    "outputId": "47843cbe-1e60-4339-8111-9c9125587408"
   },
   "outputs": [
    {
     "data": {
      "text/plain": [
       "310"
      ]
     },
     "execution_count": 58,
     "metadata": {},
     "output_type": "execute_result"
    }
   ],
   "source": [
    "rain_val = []\n",
    "for batch in meteo_val:\n",
    "    batch = np.expand_dims(batch, axis=0)\n",
    "    for i in range(batch.shape[0]):\n",
    "        rain_val.append(sum(batch[i,0:23,-1]))\n",
    "\n",
    "\n",
    "len(rain_val)"
   ]
  },
  {
   "cell_type": "code",
   "execution_count": 59,
   "id": "772397fd",
   "metadata": {
    "id": "772397fd"
   },
   "outputs": [],
   "source": [
    "rain_val_b = [1 if 0.10 <= r else 0 for r in rain_val]"
   ]
  },
  {
   "cell_type": "code",
   "execution_count": 60,
   "id": "19b28d05",
   "metadata": {
    "colab": {
     "base_uri": "https://localhost:8080/"
    },
    "id": "19b28d05",
    "outputId": "37cb865d-a04d-4500-8d84-e47440e888ed"
   },
   "outputs": [
    {
     "data": {
      "text/plain": [
       "(310,)"
      ]
     },
     "execution_count": 60,
     "metadata": {},
     "output_type": "execute_result"
    }
   ],
   "source": [
    "rain_val_c = np.array(rain_val_b)\n",
    "rain_val_c.shape"
   ]
  },
  {
   "cell_type": "markdown",
   "id": "f26be378",
   "metadata": {
    "id": "f26be378"
   },
   "source": [
    "## Network\n",
    "### Imagery Network"
   ]
  },
  {
   "cell_type": "code",
   "execution_count": 61,
   "id": "1098903a",
   "metadata": {
    "colab": {
     "base_uri": "https://localhost:8080/"
    },
    "id": "1098903a",
    "outputId": "208d0781-ce38-41d9-dae1-e0a7f217f209"
   },
   "outputs": [
    {
     "data": {
      "text/plain": [
       "((1685, 24, 48, 48, 1), (1685,), (310, 24, 48, 48, 1), (310,))"
      ]
     },
     "execution_count": 61,
     "metadata": {},
     "output_type": "execute_result"
    }
   ],
   "source": [
    "cloud_train.shape, rain_train_c.shape, cloud_val.shape, rain_val_c.shape"
   ]
  },
  {
   "cell_type": "code",
   "execution_count": 62,
   "id": "565e5b86",
   "metadata": {
    "colab": {
     "base_uri": "https://localhost:8080/"
    },
    "id": "565e5b86",
    "outputId": "f0348bd1-ae95-45d6-9a6a-dc92a7d0535e"
   },
   "outputs": [
    {
     "data": {
      "text/plain": [
       "(48, 48, 1)"
      ]
     },
     "execution_count": 62,
     "metadata": {},
     "output_type": "execute_result"
    }
   ],
   "source": [
    "cloud_train.shape[2:]"
   ]
  },
  {
   "cell_type": "markdown",
   "id": "09054dfa",
   "metadata": {
    "id": "09054dfa"
   },
   "source": [
    "In our network, we will add the custom squeeze-excitation blocks."
   ]
  },
  {
   "cell_type": "code",
   "execution_count": 63,
   "id": "4b1d7ba6-c9d0-4c7f-8cb3-c030e3fb0a4d",
   "metadata": {
    "id": "4b1d7ba6-c9d0-4c7f-8cb3-c030e3fb0a4d"
   },
   "outputs": [],
   "source": [
    "# from tensorflow.keras.layers import GlobalAveragePooling2D, Reshape, Dense, Multiply\n",
    "\n",
    "# def se_block(input_tensor, ratio=16):\n",
    "#     channels = int(input_tensor.shape[-1])\n",
    "\n",
    "#     # Squeeze step\n",
    "#     se_tensor = GlobalAveragePooling2D()(input_tensor)\n",
    "#     se_tensor = Reshape((1, 1, channels))(se_tensor)\n",
    "\n",
    "#     # Excitation step\n",
    "#     se_tensor = Dense(channels // ratio, activation='relu')(se_tensor)\n",
    "#     se_tensor = Dense(channels, activation='sigmoid')(se_tensor)\n",
    "\n",
    "#     return Multiply()([input_tensor, se_tensor])\n",
    "\n",
    "from tensorflow.keras.layers import GlobalAveragePooling2D, Reshape, Dense, Multiply, TimeDistributed, Lambda\n",
    "\n",
    "# def se_block(input_tensor, ratio=16):\n",
    "#     channels = int(input_tensor.shape[-1])\n",
    "\n",
    "#     # Squeeze step\n",
    "#     se_tensor = TimeDistributed(GlobalAveragePooling2D())(input_tensor)\n",
    "#     se_tensor = Reshape((1, 1, channels))(se_tensor)\n",
    "\n",
    "#     # Excitation step\n",
    "#     se_tensor = TimeDistributed(Dense(channels // ratio, activation='relu'))(se_tensor)\n",
    "#     se_tensor = TimeDistributed(Dense(channels, activation='sigmoid'))(se_tensor)\n",
    "\n",
    "#     return Multiply()([input_tensor, se_tensor])\n",
    "\n",
    "# from tensorflow.keras import backend as K\n",
    "# from tensorflow.keras.layers import GlobalAveragePooling2D, Reshape, Multiply\n",
    "\n",
    "# def se_block(input_tensor, ratio=16):\n",
    "#     input_shape = input_tensor.shape\n",
    "#     timesteps, height, width, channels = input_shape[1:]\n",
    "\n",
    "#     # Break the input tensor into a list of timesteps tensors\n",
    "#     inputs_per_timestep = [Lambda(lambda x: x[:, i])(input_tensor) for i in range(timesteps)]\n",
    "\n",
    "#     outputs_per_timestep = []\n",
    "#     for input_per_timestep in inputs_per_timestep:\n",
    "#         # Squeeze\n",
    "#         se_tensor = GlobalAveragePooling2D()(input_per_timestep)\n",
    "#         se_tensor = Dense(channels // ratio, activation='relu')(se_tensor)\n",
    "#         se_tensor = Dense(channels, activation='sigmoid')(se_tensor)\n",
    "#         se_tensor = Reshape([1, 1, channels])(se_tensor)\n",
    "\n",
    "#         # Excite\n",
    "#         se_tensor = Multiply()([input_per_timestep, se_tensor])\n",
    "\n",
    "#         outputs_per_timestep.append(se_tensor)\n",
    "\n",
    "#     # Concatenate the list of timesteps tensors back into a 5D tensor\n",
    "#     output_tensor = Lambda(lambda x: K.stack(x, axis=1))(outputs_per_timestep)\n",
    "\n",
    "#     return output_tensor\n",
    "\n",
    "from tensorflow.keras.layers import Layer, GlobalAveragePooling2D, Dense, Reshape, Multiply\n",
    "import tensorflow as tf\n",
    "\n",
    "class SEBlock(Layer):\n",
    "    def __init__(self, ratio=16, **kwargs):\n",
    "        self.ratio = ratio\n",
    "        super(SEBlock, self).__init__(**kwargs)\n",
    "\n",
    "    def build(self, input_shape):\n",
    "        self.channels = input_shape[-1]\n",
    "        self.dense1 = self.add_weight(name='dense1', shape=(self.channels, self.channels // self.ratio),\n",
    "                                      initializer='uniform', trainable=True)\n",
    "        self.dense2 = self.add_weight(name='dense2', shape=(self.channels // self.ratio, self.channels),\n",
    "                                      initializer='uniform', trainable=True)\n",
    "        super(SEBlock, self).build(input_shape)\n",
    "\n",
    "    def call(self, inputs):\n",
    "        # Get the shape of the input\n",
    "        shape_tensor = tf.shape(inputs)\n",
    "        timesteps = shape_tensor[1]\n",
    "        height = shape_tensor[2]\n",
    "        width = shape_tensor[3]\n",
    "        channels = shape_tensor[4]\n",
    "\n",
    "        # Reshape the input tensor into (batch_size * timesteps, height, width, channels)\n",
    "        reshaped_inputs = tf.reshape(inputs, (-1, height, width, channels))\n",
    "\n",
    "        # Squeeze\n",
    "        se_tensor = GlobalAveragePooling2D()(reshaped_inputs)\n",
    "        se_tensor = tf.matmul(se_tensor, self.dense1)\n",
    "        se_tensor = tf.nn.relu(se_tensor)\n",
    "        se_tensor = tf.matmul(se_tensor, self.dense2)\n",
    "        se_tensor = tf.nn.sigmoid(se_tensor)\n",
    "        se_tensor = Reshape((1, 1, self.channels))(se_tensor)\n",
    "\n",
    "        # Excite\n",
    "        excited_reshaped_inputs = Multiply()([reshaped_inputs, se_tensor])\n",
    "\n",
    "        # Reshape back to original shape\n",
    "        output_tensor = tf.reshape(excited_reshaped_inputs, (-1, timesteps, height, width, channels))\n",
    "        return output_tensor\n",
    "\n"
   ]
  },
  {
   "cell_type": "markdown",
   "id": "2163e785-8936-4dc8-80a5-25262319a1b7",
   "metadata": {
    "id": "2163e785-8936-4dc8-80a5-25262319a1b7"
   },
   "source": [
    "This code defines a Squeeze-and-Excitation (SE) block, which is a component that can be added to convolutional neural networks (CNNs) to adaptively recalibrate channel-wise feature responses. The SE block is designed to allow the network to pay more selective attention to informative features during training.\n",
    "\n",
    "The code includes the following steps:\n",
    "\n",
    "1. Initialization (__init__ method):\n",
    "\n",
    "ratio: A hyperparameter that controls the reduction dimension in the channel-wise squeeze operation.\n",
    "The constructor initializes the ratio attribute and calls the parent class constructor.\n",
    "\n",
    "2. Building the Block (build method):\n",
    "\n",
    "It defines the structure of the SE block by adding trainable weights.\n",
    "self.channels retrieves the number of channels from the input shape.\n",
    "Two dense weight matrices self.dense1 and self.dense2 are created, representing two fully connected (dense) layers.\n",
    "Calling the Block (call method): This method describes the forward computation of the block and includes the following steps:\n",
    "\n",
    "    a. Extracting Dimensions:\n",
    "\n",
    "    Extracts the shape of the input tensor, including timesteps, height, width, and channels.\n",
    "\n",
    "    b. Reshaping the Input:\n",
    "\n",
    "    Reshapes the input tensor to treat each time step as a separate example, forming a new tensor with shape (batch_size * timesteps, height, width, channels).\n",
    "\n",
    "    c. Squeeze Operation:\n",
    "\n",
    "    * Applies a Global Average Pooling layer to the reshaped inputs, reducing the spatial dimensions.\n",
    "    * Multiplies the resulting tensor by the self.dense1 weights and applies a ReLU activation function.\n",
    "    * Multiplies the resulting tensor by the self.dense2 weights and applies a sigmoid activation function.\n",
    "    * Reshapes the tensor to have dimensions (1, 1, channels), preparing it for the excitation step.\n",
    "\n",
    "    d. Excite Operation:\n",
    "\n",
    "    Multiplies the reshaped inputs (from the squeeze operation) with the se_tensor (from the squeeze step), scaling the channels based on the information captured by the squeeze operation.\n",
    "\n",
    "    e. Reshaping Back to Original Shape:\n",
    "\n",
    "    Finally, the excited tensor is reshaped back to the original shape (batch_size, timesteps, height, width, channels).\n",
    "\n",
    "\n",
    "Therefore, the SE block takes an input tensor and applies a \"squeeze\" operation to capture global information about each channel and then an \"excitation\" operation to re-weight the channels. It's particularly useful for enhancing the representational power of a CNN by allowing it to emphasize the most informative channels for a given task. The code provided is a modified version to work with sequences of 2D images (as might be used with ConvLSTM2D layers), extending the typical SE block to handle this additional time dimension."
   ]
  },
  {
   "cell_type": "code",
   "execution_count": 64,
   "id": "ebdc8659",
   "metadata": {
    "colab": {
     "base_uri": "https://localhost:8080/"
    },
    "id": "ebdc8659",
    "outputId": "cd065ad7-11c8-4cf7-9a1c-e12b5b5f1251"
   },
   "outputs": [
    {
     "name": "stdout",
     "output_type": "stream",
     "text": [
      "layers.Input(shape= (None, None, 48, 48, 1)\n",
      "ConvLSTM2D filters=64, kernel_size=(5, 5), return_sequences=True (None, None, 48, 48, 64)\n",
      "BatchNormalization (None, None, 48, 48, 64)\n",
      "ConvLSTM2D filters=64, kernel_size=(3, 3), return_sequences=True (None, None, 12, 12, 32)\n",
      "BatchNormalization (None, None, 12, 12, 32)\n",
      "ConvLSTM2D filters=64, kernel_size=(1, 1), return_sequences=True (None, None, 6, 6, 32)\n",
      "Conv3D kernel_size=(3, 3, 3) (None, None, 6, 6, 24)\n",
      "ConvLSTM2D filters=1, kernel_size=(1, 1), return_sequences=False (None, 3, 3, 24)\n",
      "BatchNormalization (None, 3, 3, 24)\n",
      "GlobalAveragePooling2D (None, 24)\n"
     ]
    }
   ],
   "source": [
    "# Construct the input layer with no definite frame size (None below could be replaced by 8)\n",
    "\n",
    "from tensorflow.keras.layers import MultiHeadAttention\n",
    "inp = layers.Input(shape=(None, *cloud_train.shape[2:]))\n",
    "print(\"layers.Input(shape=\", inp.shape)\n",
    "\n",
    "# x = layers.ConvLSTM2D(\n",
    "#     filters=64,\n",
    "#     kernel_size=(5, 5),\n",
    "#     strides=(2, 2),\n",
    "#     padding=\"same\",\n",
    "#     return_sequences=True,\n",
    "#     activation=\"relu\",\n",
    "# )(inp)\n",
    "x = layers.ConvLSTM2D(\n",
    "    filters=96,\n",
    "    kernel_size=(9, 9),\n",
    "    strides=(1, 1),\n",
    "    padding=\"same\",\n",
    "    return_sequences=True,\n",
    "    activation=\"relu\",\n",
    ")(inp)\n",
    "# x = layers.Dropout(0.3)(x)\n",
    "x = layers.BatchNormalization()(x)\n",
    "# x = layers.ConvLSTM2D(\n",
    "#     filters=64,\n",
    "#     kernel_size=(7, 7),\n",
    "#     strides=(1, 1),\n",
    "#     padding=\"same\",\n",
    "#     return_sequences=True,\n",
    "#     activation=\"relu\",\n",
    "# # )(inp)\n",
    "# )(x)\n",
    "# Add the SE block here\n",
    "# x = se_block(x)\n",
    "x = SEBlock()(x)\n",
    "# x = layers.SqueezeAndExciteBlock(64)(x)\n",
    "# x = layers.Dropout(0.3)(x)\n",
    "# x = layers.BatchNormalization()(x)\n",
    "x = layers.ConvLSTM2D(\n",
    "    filters=64,\n",
    "    kernel_size=(7, 7),\n",
    "    strides=(1, 1),\n",
    "    padding=\"same\",\n",
    "    return_sequences=True,\n",
    "    activation=\"relu\",\n",
    "# )(inp)\n",
    ")(x)\n",
    "print(\"ConvLSTM2D filters=64, kernel_size=(5, 5), return_sequences=True\", x.shape)\n",
    "\n",
    "# x = layers.Dropout(0.3)(x)\n",
    "x = layers.BatchNormalization()(x)\n",
    "\n",
    "print(\"BatchNormalization\", x.shape)\n",
    "\n",
    "# Save the shape before attention\n",
    "shape_before_attention = tf.shape(x)\n",
    "time_steps = shape_before_attention[1]\n",
    "height_width_channels = shape_before_attention[2] * shape_before_attention[3] * shape_before_attention[4]\n",
    "\n",
    "# Reshape for attention (flattening spatial dimensions)\n",
    "x_flattened = tf.reshape(x, (-1, time_steps, height_width_channels))\n",
    "\n",
    "# Apply MultiHeadAttention\n",
    "attention = MultiHeadAttention(num_heads=2, key_dim=64)\n",
    "x_attention = attention(x_flattened, x_flattened)\n",
    "\n",
    "# Reshape back to original shape\n",
    "x_after_attention = tf.reshape(x_attention, shape_before_attention)\n",
    "x = layers.ConvLSTM2D(\n",
    "    filters=64,\n",
    "    kernel_size=(5, 5),\n",
    "    strides=(2, 2),\n",
    "    padding=\"same\",\n",
    "    return_sequences=True,\n",
    "    activation=\"relu\",\n",
    ")(x)\n",
    "x = layers.BatchNormalization()(x)\n",
    "x = SEBlock()(x)\n",
    "\n",
    "x = layers.ConvLSTM2D(\n",
    "    filters=64,\n",
    "    kernel_size=(5, 5),\n",
    "    strides=(1, 1),\n",
    "    padding=\"same\",\n",
    "    return_sequences=True,\n",
    "    activation=\"relu\",\n",
    ")(x)\n",
    "\n",
    "# Save the shape before attention\n",
    "shape_before_attention = tf.shape(x)\n",
    "time_steps = shape_before_attention[1]\n",
    "height_width_channels = shape_before_attention[2] * shape_before_attention[3] * shape_before_attention[4]\n",
    "\n",
    "# Reshape for attention (flattening spatial dimensions)\n",
    "x_flattened = tf.reshape(x, (-1, time_steps, height_width_channels))\n",
    "\n",
    "# Apply MultiHeadAttention\n",
    "attention = MultiHeadAttention(num_heads=2, key_dim=64)\n",
    "x_attention = attention(x_flattened, x_flattened)\n",
    "\n",
    "# Reshape back to original shape\n",
    "x_after_attention = tf.reshape(x_attention, shape_before_attention)\n",
    "\n",
    "x = layers.ConvLSTM2D(\n",
    "    filters=64,\n",
    "    kernel_size=(3, 3),\n",
    "    strides=(2, 2),\n",
    "    padding=\"same\",\n",
    "    return_sequences=True,\n",
    "    activation=\"relu\",\n",
    ")(x)\n",
    "# x = layers.Dropout(0.3)(x)\n",
    "x = layers.BatchNormalization()(x)\n",
    "x = SEBlock()(x)\n",
    "x = layers.ConvLSTM2D(\n",
    "    filters=32,\n",
    "    kernel_size=(3, 3),\n",
    "    strides=(1, 1),\n",
    "    padding=\"same\",\n",
    "    return_sequences=True,\n",
    "    activation=\"relu\",\n",
    ")(x)\n",
    "x = SEBlock()(x)\n",
    "# x = squeeze_excite_block(32,x)\n",
    "print(\"ConvLSTM2D filters=64, kernel_size=(3, 3), return_sequences=True\", x.shape)\n",
    "x = layers.BatchNormalization()(x)\n",
    "print(\"BatchNormalization\", x.shape)\n",
    "\n",
    "# Save the shape before attention\n",
    "shape_before_attention = tf.shape(x)\n",
    "time_steps = shape_before_attention[1]\n",
    "height_width_channels = shape_before_attention[2] * shape_before_attention[3] * shape_before_attention[4]\n",
    "\n",
    "# Reshape for attention (flattening spatial dimensions)\n",
    "x_flattened = tf.reshape(x, (-1, time_steps, height_width_channels))\n",
    "\n",
    "# Apply MultiHeadAttention\n",
    "attention = MultiHeadAttention(num_heads=2, key_dim=64)\n",
    "x_attention = attention(x_flattened, x_flattened)\n",
    "\n",
    "# Reshape back to original shape\n",
    "x_after_attention = tf.reshape(x_attention, shape_before_attention)\n",
    "x = layers.ConvLSTM2D(\n",
    "    filters=32,\n",
    "    kernel_size=(1, 1),\n",
    "    strides=(2, 2),\n",
    "    padding=\"same\",\n",
    "    return_sequences=True,\n",
    "    activation=\"relu\",\n",
    ")(x)\n",
    "print(\"ConvLSTM2D filters=64, kernel_size=(1, 1), return_sequences=True\", x.shape)\n",
    "x = layers.Conv3D(\n",
    "    filters=24, kernel_size=(3, 3, 3), activation=\"sigmoid\", padding=\"same\"\n",
    ")(x)\n",
    "\n",
    "print(\"Conv3D kernel_size=(3, 3, 3)\", x.shape)\n",
    "x = layers.ConvLSTM2D(\n",
    "    filters=24,\n",
    "    kernel_size=(1, 1),\n",
    "    strides=(2, 2),\n",
    "    padding=\"same\",\n",
    "    return_sequences=False,\n",
    "    activation=\"relu\",\n",
    ")(x)\n",
    "# x = layers.Dropout(0.3)(x)\n",
    "print(\"ConvLSTM2D filters=1, kernel_size=(1, 1), return_sequences=False\", x.shape)\n",
    "x = layers.BatchNormalization()(x)\n",
    "print(\"BatchNormalization\", x.shape)\n",
    "\n",
    "#x = layers.Dense(1)(x)\n",
    "#print(\"Dense\", x.shape)\n",
    "x = GlobalAveragePooling2D()(x)\n",
    "print(\"GlobalAveragePooling2D\", x.shape)"
   ]
  },
  {
   "cell_type": "markdown",
   "id": "e4bc6422",
   "metadata": {
    "id": "e4bc6422"
   },
   "source": [
    "### Meteo network"
   ]
  },
  {
   "cell_type": "code",
   "execution_count": 65,
   "id": "a2e4ccd2",
   "metadata": {
    "colab": {
     "base_uri": "https://localhost:8080/"
    },
    "id": "a2e4ccd2",
    "outputId": "457f0e70-2d6d-42eb-9dab-ade31467c5a2"
   },
   "outputs": [
    {
     "data": {
      "text/plain": [
       "(TensorShape([1685, 72, 11]), (1685,), TensorShape([310, 72, 11]), (310,))"
      ]
     },
     "execution_count": 65,
     "metadata": {},
     "output_type": "execute_result"
    }
   ],
   "source": [
    "meteo_train.shape, rain_train_c.shape, meteo_val.shape, rain_val_c.shape"
   ]
  },
  {
   "cell_type": "code",
   "execution_count": 66,
   "id": "130675f3",
   "metadata": {
    "colab": {
     "base_uri": "https://localhost:8080/"
    },
    "id": "130675f3",
    "outputId": "0860d480-3f61-4c33-f2ab-77c9fcd08066"
   },
   "outputs": [
    {
     "data": {
      "text/plain": [
       "TensorShape([72, 11])"
      ]
     },
     "execution_count": 66,
     "metadata": {},
     "output_type": "execute_result"
    }
   ],
   "source": [
    "meteo_train.shape[1:]"
   ]
  },
  {
   "cell_type": "code",
   "execution_count": 67,
   "id": "bff485d4",
   "metadata": {
    "id": "bff485d4"
   },
   "outputs": [],
   "source": [
    "# RNN = layers.LSTM\n",
    "# hidden_size = 8\n",
    "# data_shape = (24, 11)\n",
    "# data = layers.Input(shape= data_shape)\n",
    "# meteo_inp = layers.Input(shape=(None, *meteo_train.shape[1:]))\n",
    "# print(\"layers.Input(shape=\", meteo_inp.shape)\n",
    "# lstm1 = RNN(hidden_size, input_shape=(24, data_shape[1]), return_sequences= True)(data)\n",
    "# lstm2 = RNN(hidden_size, input_shape=(24, hidden_size), return_sequences= False)(lstm1)\n",
    "# lstm2.shape"
   ]
  },
  {
   "cell_type": "code",
   "execution_count": 68,
   "id": "b1afe422",
   "metadata": {
    "id": "b1afe422"
   },
   "outputs": [],
   "source": [
    "# RNN = layers.LSTM\n",
    "# hidden_size = 24\n",
    "# data_shape = (72, 11)\n",
    "# data = layers.Input(shape= data_shape)\n",
    "# meteo_inp = layers.Input(shape=(None, *meteo_train.shape[1:]))\n",
    "# print(\"layers.Input(shape=\", meteo_inp.shape)\n",
    "# print(data_shape[1])\n",
    "# lstm1 = RNN(hidden_size, input_shape=(48, data_shape[1]), return_sequences= True)(data)\n",
    "# lstm2 = RNN(hidden_size, input_shape=(48, hidden_size), return_sequences= False)(lstm1)\n",
    "# lstm2.shape"
   ]
  },
  {
   "cell_type": "code",
   "execution_count": 69,
   "id": "uilp0-HSDiLS",
   "metadata": {
    "colab": {
     "base_uri": "https://localhost:8080/"
    },
    "id": "uilp0-HSDiLS",
    "outputId": "d5800f5e-eb6b-49cd-e743-f19a8453d971"
   },
   "outputs": [
    {
     "name": "stdout",
     "output_type": "stream",
     "text": [
      "layers.Input(shape= (None, None, 72, 11)\n"
     ]
    }
   ],
   "source": [
    "from tensorflow.keras.layers import Add\n",
    "\n",
    "from tensorflow.keras.layers import Bidirectional\n",
    "from tensorflow.keras.layers import Dropout, BatchNormalization\n",
    "\n",
    "# from tensorflow.keras.layers import Add\n",
    "\n",
    "RNN = layers.LSTM\n",
    "hidden_size = 24\n",
    "data_shape = (72, 11)\n",
    "\n",
    "data = layers.Input(shape=data_shape)\n",
    "meteo_inp = layers.Input(shape=(None, *meteo_train.shape[1:]))\n",
    "print(\"layers.Input(shape=\", meteo_inp.shape)\n",
    "\n",
    "lstm1 = Bidirectional(RNN(hidden_size, return_sequences=True))(data)\n",
    "\n",
    "lstm2 = Bidirectional(RNN(hidden_size, return_sequences=True))(lstm1)\n",
    "lstm2 = Add()([lstm1, lstm2]) # Residual connection\n",
    "\n",
    "lstm3 = Bidirectional(RNN(hidden_size, return_sequences=True))(lstm2)\n",
    "lstm3 = Add()([lstm2, lstm3]) # Residual connection\n",
    "\n",
    "lstm4 = Bidirectional(RNN(hidden_size, return_sequences=True))(lstm3)\n",
    "lstm4 = Add()([lstm3, lstm4]) # Residual connection\n",
    "\n",
    "lstm5 = Bidirectional(RNN(hidden_size, return_sequences=False))(lstm4)\n",
    "\n",
    "# Continue to build the rest of your model\n"
   ]
  },
  {
   "cell_type": "markdown",
   "id": "cbc0c228",
   "metadata": {
    "id": "cbc0c228"
   },
   "source": [
    "### Imagery + meteo\n",
    "Our final classification into rain or no rain, based on a balanced amount of information from both imagery and meteo:"
   ]
  },
  {
   "cell_type": "code",
   "execution_count": 70,
   "id": "f861a615",
   "metadata": {
    "colab": {
     "base_uri": "https://localhost:8080/"
    },
    "id": "f861a615",
    "outputId": "621b694c-7cfd-4337-c0a1-00f305abd907"
   },
   "outputs": [
    {
     "name": "stdout",
     "output_type": "stream",
     "text": [
      "layers.Concatenate(axis=1)([lstm5, x]) (None, 72)\n",
      "layers.Dense(1) (None, 1)\n"
     ]
    }
   ],
   "source": [
    "# Flatten the output of CNN\n",
    "#flattened = layers.Flatten()(conv6)\n",
    "\n",
    "# Connect the CNN output and RNN output to a dense layer with 1 neuron for final 0/1 outputs\n",
    "final = layers.Concatenate(axis=1)([lstm5, x])\n",
    "print(\"layers.Concatenate(axis=1)([lstm5, x])\", final.shape)\n",
    "out = layers.Dense(1, activation='sigmoid')(final)\n",
    "print(\"layers.Dense(1)\", out.shape)"
   ]
  },
  {
   "cell_type": "code",
   "execution_count": 71,
   "id": "ebe1b2ce",
   "metadata": {
    "colab": {
     "base_uri": "https://localhost:8080/"
    },
    "id": "ebe1b2ce",
    "outputId": "ddf3194d-f62a-4c4c-a4e8-32c895e51cf2"
   },
   "outputs": [
    {
     "name": "stdout",
     "output_type": "stream",
     "text": [
      "Model: \"model\"\n",
      "__________________________________________________________________________________________________\n",
      " Layer (type)                   Output Shape         Param #     Connected to                     \n",
      "==================================================================================================\n",
      " input_1 (InputLayer)           [(None, None, 48, 4  0           []                               \n",
      "                                8, 1)]                                                            \n",
      "                                                                                                  \n",
      " conv_lstm2d (ConvLSTM2D)       (None, None, 48, 48  3017472     ['input_1[0][0]']                \n",
      "                                , 96)                                                             \n",
      "                                                                                                  \n",
      " batch_normalization (BatchNorm  (None, None, 48, 48  384        ['conv_lstm2d[0][0]']            \n",
      " alization)                     , 96)                                                             \n",
      "                                                                                                  \n",
      " se_block (SEBlock)             (None, None, 48, 48  1152        ['batch_normalization[0][0]']    \n",
      "                                , 96)                                                             \n",
      "                                                                                                  \n",
      " conv_lstm2d_1 (ConvLSTM2D)     (None, None, 48, 48  2007296     ['se_block[0][0]']               \n",
      "                                , 64)                                                             \n",
      "                                                                                                  \n",
      " batch_normalization_1 (BatchNo  (None, None, 48, 48  256        ['conv_lstm2d_1[0][0]']          \n",
      " rmalization)                   , 64)                                                             \n",
      "                                                                                                  \n",
      " conv_lstm2d_2 (ConvLSTM2D)     (None, None, 24, 24  819456      ['batch_normalization_1[0][0]']  \n",
      "                                , 64)                                                             \n",
      "                                                                                                  \n",
      " batch_normalization_2 (BatchNo  (None, None, 24, 24  256        ['conv_lstm2d_2[0][0]']          \n",
      " rmalization)                   , 64)                                                             \n",
      "                                                                                                  \n",
      " se_block_1 (SEBlock)           (None, None, 24, 24  512         ['batch_normalization_2[0][0]']  \n",
      "                                , 64)                                                             \n",
      "                                                                                                  \n",
      " conv_lstm2d_3 (ConvLSTM2D)     (None, None, 24, 24  819456      ['se_block_1[0][0]']             \n",
      "                                , 64)                                                             \n",
      "                                                                                                  \n",
      " conv_lstm2d_4 (ConvLSTM2D)     (None, None, 12, 12  295168      ['conv_lstm2d_3[0][0]']          \n",
      "                                , 64)                                                             \n",
      "                                                                                                  \n",
      " batch_normalization_3 (BatchNo  (None, None, 12, 12  256        ['conv_lstm2d_4[0][0]']          \n",
      " rmalization)                   , 64)                                                             \n",
      "                                                                                                  \n",
      " input_2 (InputLayer)           [(None, 72, 11)]     0           []                               \n",
      "                                                                                                  \n",
      " se_block_2 (SEBlock)           (None, None, 12, 12  512         ['batch_normalization_3[0][0]']  \n",
      "                                , 64)                                                             \n",
      "                                                                                                  \n",
      " bidirectional (Bidirectional)  (None, 72, 48)       6912        ['input_2[0][0]']                \n",
      "                                                                                                  \n",
      " conv_lstm2d_5 (ConvLSTM2D)     (None, None, 12, 12  110720      ['se_block_2[0][0]']             \n",
      "                                , 32)                                                             \n",
      "                                                                                                  \n",
      " bidirectional_1 (Bidirectional  (None, 72, 48)      14016       ['bidirectional[0][0]']          \n",
      " )                                                                                                \n",
      "                                                                                                  \n",
      " se_block_3 (SEBlock)           (None, None, 12, 12  128         ['conv_lstm2d_5[0][0]']          \n",
      "                                , 32)                                                             \n",
      "                                                                                                  \n",
      " add (Add)                      (None, 72, 48)       0           ['bidirectional[0][0]',          \n",
      "                                                                  'bidirectional_1[0][0]']        \n",
      "                                                                                                  \n",
      " batch_normalization_4 (BatchNo  (None, None, 12, 12  128        ['se_block_3[0][0]']             \n",
      " rmalization)                   , 32)                                                             \n",
      "                                                                                                  \n",
      " bidirectional_2 (Bidirectional  (None, 72, 48)      14016       ['add[0][0]']                    \n",
      " )                                                                                                \n",
      "                                                                                                  \n",
      " conv_lstm2d_6 (ConvLSTM2D)     (None, None, 6, 6,   8320        ['batch_normalization_4[0][0]']  \n",
      "                                32)                                                               \n",
      "                                                                                                  \n",
      " add_1 (Add)                    (None, 72, 48)       0           ['add[0][0]',                    \n",
      "                                                                  'bidirectional_2[0][0]']        \n",
      "                                                                                                  \n",
      " conv3d (Conv3D)                (None, None, 6, 6,   20760       ['conv_lstm2d_6[0][0]']          \n",
      "                                24)                                                               \n",
      "                                                                                                  \n",
      " bidirectional_3 (Bidirectional  (None, 72, 48)      14016       ['add_1[0][0]']                  \n",
      " )                                                                                                \n",
      "                                                                                                  \n",
      " conv_lstm2d_7 (ConvLSTM2D)     (None, 3, 3, 24)     4704        ['conv3d[0][0]']                 \n",
      "                                                                                                  \n",
      " add_2 (Add)                    (None, 72, 48)       0           ['add_1[0][0]',                  \n",
      "                                                                  'bidirectional_3[0][0]']        \n",
      "                                                                                                  \n",
      " batch_normalization_5 (BatchNo  (None, 3, 3, 24)    96          ['conv_lstm2d_7[0][0]']          \n",
      " rmalization)                                                                                     \n",
      "                                                                                                  \n",
      " bidirectional_4 (Bidirectional  (None, 48)          14016       ['add_2[0][0]']                  \n",
      " )                                                                                                \n",
      "                                                                                                  \n",
      " global_average_pooling2d (Glob  (None, 24)          0           ['batch_normalization_5[0][0]']  \n",
      " alAveragePooling2D)                                                                              \n",
      "                                                                                                  \n",
      " concatenate (Concatenate)      (None, 72)           0           ['bidirectional_4[0][0]',        \n",
      "                                                                  'global_average_pooling2d[0][0]'\n",
      "                                                                 ]                                \n",
      "                                                                                                  \n",
      " dense (Dense)                  (None, 1)            73          ['concatenate[0][0]']            \n",
      "                                                                                                  \n",
      "==================================================================================================\n",
      "Total params: 7,170,081\n",
      "Trainable params: 7,169,393\n",
      "Non-trainable params: 688\n",
      "__________________________________________________________________________________________________\n"
     ]
    }
   ],
   "source": [
    "# Using both, images and numerical data as input\n",
    "#inp = layers.Input(shape=(None, *cloud_train.shape[2:]))\n",
    "#data = layers.Input(shape= (24, 11))\n",
    "model = keras.models.Model([inp, data], out)\n",
    "#model = keras.models.Model(inp, x)\n",
    "\n",
    "# Build model\n",
    "model.compile(loss=keras.losses.binary_crossentropy, optimizer=keras.optimizers.Adam(), metrics=['accuracy'])\n",
    "model.summary()"
   ]
  },
  {
   "cell_type": "markdown",
   "id": "ddf6269c",
   "metadata": {
    "id": "ddf6269c"
   },
   "source": [
    "## Training"
   ]
  },
  {
   "cell_type": "code",
   "execution_count": 72,
   "id": "5dddd333",
   "metadata": {
    "colab": {
     "base_uri": "https://localhost:8080/"
    },
    "id": "5dddd333",
    "outputId": "3e77e119-9fe7-41c5-b8af-9bd7d958607d"
   },
   "outputs": [
    {
     "data": {
      "text/plain": [
       "((1685, 24, 48, 48, 1), TensorShape([1685, 72, 11]))"
      ]
     },
     "execution_count": 72,
     "metadata": {},
     "output_type": "execute_result"
    }
   ],
   "source": [
    "cloud_train.shape, meteo_train.shape"
   ]
  },
  {
   "cell_type": "code",
   "execution_count": 72,
   "id": "bc5a84ae-4cc0-4d42-9a2e-97ed7181a592",
   "metadata": {
    "id": "bc5a84ae-4cc0-4d42-9a2e-97ed7181a592"
   },
   "outputs": [],
   "source": []
  },
  {
   "cell_type": "code",
   "execution_count": 72,
   "id": "05d8c500-c517-49b6-8d88-8fe23085850c",
   "metadata": {
    "id": "05d8c500-c517-49b6-8d88-8fe23085850c"
   },
   "outputs": [],
   "source": []
  },
  {
   "cell_type": "code",
   "execution_count": 72,
   "id": "2a51e341-5539-4bf4-b7ed-7a6ee2ee8038",
   "metadata": {
    "id": "2a51e341-5539-4bf4-b7ed-7a6ee2ee8038"
   },
   "outputs": [],
   "source": []
  },
  {
   "cell_type": "code",
   "execution_count": 72,
   "id": "f5ff38e0-c8de-410b-ad3b-937075a30461",
   "metadata": {
    "id": "f5ff38e0-c8de-410b-ad3b-937075a30461"
   },
   "outputs": [],
   "source": []
  },
  {
   "cell_type": "code",
   "execution_count": 72,
   "id": "3f740794-615a-4754-a073-1d60574f86ef",
   "metadata": {
    "id": "3f740794-615a-4754-a073-1d60574f86ef"
   },
   "outputs": [],
   "source": []
  },
  {
   "cell_type": "code",
   "execution_count": 72,
   "id": "fa91175a-19bc-4b15-821f-d9a4569cde50",
   "metadata": {
    "id": "fa91175a-19bc-4b15-821f-d9a4569cde50"
   },
   "outputs": [],
   "source": []
  },
  {
   "cell_type": "code",
   "execution_count": 72,
   "id": "fc65be7e-9084-45f2-bc19-0eed52c61f7a",
   "metadata": {
    "id": "fc65be7e-9084-45f2-bc19-0eed52c61f7a"
   },
   "outputs": [],
   "source": []
  },
  {
   "cell_type": "code",
   "execution_count": 72,
   "id": "0695dacd-a59f-429c-833f-377904b2fea9",
   "metadata": {
    "id": "0695dacd-a59f-429c-833f-377904b2fea9"
   },
   "outputs": [],
   "source": []
  },
  {
   "cell_type": "code",
   "execution_count": 74,
   "id": "c137a132",
   "metadata": {
    "colab": {
     "base_uri": "https://localhost:8080/",
     "height": 1000
    },
    "id": "c137a132",
    "outputId": "96b6d4ce-16a9-489c-c718-31107ae930f9",
    "scrolled": false
   },
   "outputs": [
    {
     "name": "stdout",
     "output_type": "stream",
     "text": [
      "\n",
      "Started training at 20:24:51\n",
      "Epoch 1/60\n",
      "106/106 [==============================] - 175s 1s/step - loss: 0.3995 - accuracy: 0.8593 - val_loss: 0.4190 - val_accuracy: 0.8452 - lr: 0.0010\n",
      "Epoch 2/60\n",
      "106/106 [==============================] - 122s 1s/step - loss: 0.3618 - accuracy: 0.8742 - val_loss: 0.4020 - val_accuracy: 0.8452 - lr: 0.0010\n",
      "Epoch 3/60\n",
      "106/106 [==============================] - 123s 1s/step - loss: 0.3517 - accuracy: 0.8742 - val_loss: 0.3756 - val_accuracy: 0.8452 - lr: 0.0010\n",
      "Epoch 4/60\n",
      "106/106 [==============================] - 123s 1s/step - loss: 0.3397 - accuracy: 0.8742 - val_loss: 0.3702 - val_accuracy: 0.8452 - lr: 0.0010\n",
      "Epoch 5/60\n",
      "106/106 [==============================] - 122s 1s/step - loss: 0.3349 - accuracy: 0.8748 - val_loss: 0.3614 - val_accuracy: 0.8452 - lr: 0.0010\n",
      "Epoch 6/60\n",
      "106/106 [==============================] - 123s 1s/step - loss: 0.3247 - accuracy: 0.8754 - val_loss: 0.3733 - val_accuracy: 0.8452 - lr: 0.0010\n",
      "Epoch 7/60\n",
      "106/106 [==============================] - 123s 1s/step - loss: 0.3146 - accuracy: 0.8754 - val_loss: 0.3507 - val_accuracy: 0.8548 - lr: 0.0010\n",
      "Epoch 8/60\n",
      "106/106 [==============================] - 123s 1s/step - loss: 0.3108 - accuracy: 0.8789 - val_loss: 0.3670 - val_accuracy: 0.8581 - lr: 0.0010\n",
      "Epoch 9/60\n",
      "106/106 [==============================] - 122s 1s/step - loss: 0.3072 - accuracy: 0.8783 - val_loss: 0.3828 - val_accuracy: 0.8387 - lr: 0.0010\n",
      "Epoch 10/60\n",
      "106/106 [==============================] - 123s 1s/step - loss: 0.2957 - accuracy: 0.8813 - val_loss: 0.3478 - val_accuracy: 0.8677 - lr: 0.0010\n",
      "Epoch 11/60\n",
      "106/106 [==============================] - 123s 1s/step - loss: 0.2909 - accuracy: 0.8801 - val_loss: 0.4382 - val_accuracy: 0.8452 - lr: 0.0010\n",
      "Epoch 12/60\n",
      "106/106 [==============================] - 123s 1s/step - loss: 0.3002 - accuracy: 0.8825 - val_loss: 0.3535 - val_accuracy: 0.8484 - lr: 0.0010\n",
      "Epoch 13/60\n",
      "106/106 [==============================] - 123s 1s/step - loss: 0.2859 - accuracy: 0.8813 - val_loss: 0.3438 - val_accuracy: 0.8516 - lr: 0.0010\n",
      "Epoch 14/60\n",
      "106/106 [==============================] - 123s 1s/step - loss: 0.3063 - accuracy: 0.8742 - val_loss: 0.3337 - val_accuracy: 0.8516 - lr: 0.0010\n",
      "Epoch 15/60\n",
      "106/106 [==============================] - 123s 1s/step - loss: 0.2800 - accuracy: 0.8878 - val_loss: 0.4764 - val_accuracy: 0.8452 - lr: 0.0010\n",
      "Epoch 16/60\n",
      "106/106 [==============================] - 123s 1s/step - loss: 0.2775 - accuracy: 0.8872 - val_loss: 0.4257 - val_accuracy: 0.8452 - lr: 0.0010\n",
      "Epoch 17/60\n",
      "106/106 [==============================] - 123s 1s/step - loss: 0.2874 - accuracy: 0.8849 - val_loss: 0.3959 - val_accuracy: 0.8419 - lr: 0.0010\n",
      "Epoch 18/60\n",
      "106/106 [==============================] - 122s 1s/step - loss: 0.2835 - accuracy: 0.8825 - val_loss: 0.4051 - val_accuracy: 0.8452 - lr: 0.0010\n",
      "Epoch 19/60\n",
      "106/106 [==============================] - 123s 1s/step - loss: 0.2968 - accuracy: 0.8718 - val_loss: 0.3456 - val_accuracy: 0.8516 - lr: 0.0010\n",
      "Epoch 20/60\n",
      "106/106 [==============================] - 122s 1s/step - loss: 0.2848 - accuracy: 0.8807 - val_loss: 0.3428 - val_accuracy: 0.8548 - lr: 0.0010\n",
      "Epoch 21/60\n",
      "106/106 [==============================] - 123s 1s/step - loss: 0.2662 - accuracy: 0.8908 - val_loss: 0.3709 - val_accuracy: 0.8645 - lr: 0.0010\n",
      "Epoch 22/60\n",
      "106/106 [==============================] - 123s 1s/step - loss: 0.2811 - accuracy: 0.8849 - val_loss: 0.3590 - val_accuracy: 0.8548 - lr: 0.0010\n",
      "Epoch 23/60\n",
      "106/106 [==============================] - 123s 1s/step - loss: 0.2812 - accuracy: 0.8813 - val_loss: 0.3347 - val_accuracy: 0.8645 - lr: 0.0010\n",
      "Epoch 24/60\n",
      "106/106 [==============================] - 123s 1s/step - loss: 0.2615 - accuracy: 0.8866 - val_loss: 0.3272 - val_accuracy: 0.8742 - lr: 0.0010\n",
      "Epoch 25/60\n",
      "106/106 [==============================] - 122s 1s/step - loss: 0.2714 - accuracy: 0.8866 - val_loss: 0.3781 - val_accuracy: 0.8484 - lr: 0.0010\n",
      "Epoch 26/60\n",
      "106/106 [==============================] - 123s 1s/step - loss: 0.2692 - accuracy: 0.8896 - val_loss: 0.3485 - val_accuracy: 0.8613 - lr: 0.0010\n",
      "Epoch 27/60\n",
      "106/106 [==============================] - 123s 1s/step - loss: 0.2731 - accuracy: 0.8878 - val_loss: 0.3452 - val_accuracy: 0.8484 - lr: 0.0010\n",
      "Epoch 28/60\n",
      "106/106 [==============================] - 122s 1s/step - loss: 0.2460 - accuracy: 0.8944 - val_loss: 0.3417 - val_accuracy: 0.8516 - lr: 0.0010\n",
      "Epoch 29/60\n",
      "106/106 [==============================] - 123s 1s/step - loss: 0.2628 - accuracy: 0.8902 - val_loss: 0.3529 - val_accuracy: 0.8548 - lr: 0.0010\n",
      "Epoch 30/60\n",
      "106/106 [==============================] - 123s 1s/step - loss: 0.2557 - accuracy: 0.8950 - val_loss: 0.3352 - val_accuracy: 0.8613 - lr: 0.0010\n",
      "Epoch 31/60\n",
      "106/106 [==============================] - 123s 1s/step - loss: 0.2538 - accuracy: 0.8979 - val_loss: 0.3513 - val_accuracy: 0.8613 - lr: 0.0010\n",
      "Epoch 32/60\n",
      "106/106 [==============================] - 123s 1s/step - loss: 0.2429 - accuracy: 0.9033 - val_loss: 0.3803 - val_accuracy: 0.8452 - lr: 0.0010\n",
      "Epoch 33/60\n",
      "106/106 [==============================] - 122s 1s/step - loss: 0.2567 - accuracy: 0.8955 - val_loss: 0.3302 - val_accuracy: 0.8613 - lr: 0.0010\n",
      "Epoch 34/60\n",
      "106/106 [==============================] - 123s 1s/step - loss: 0.2338 - accuracy: 0.9033 - val_loss: 0.3502 - val_accuracy: 0.8419 - lr: 0.0010\n",
      "Epoch 35/60\n",
      "106/106 [==============================] - 123s 1s/step - loss: 0.2315 - accuracy: 0.9033 - val_loss: 0.3750 - val_accuracy: 0.8742 - lr: 0.0010\n",
      "Epoch 36/60\n",
      "106/106 [==============================] - 123s 1s/step - loss: 0.2600 - accuracy: 0.8920 - val_loss: 0.3512 - val_accuracy: 0.8516 - lr: 0.0010\n",
      "Epoch 37/60\n",
      "106/106 [==============================] - 123s 1s/step - loss: 0.2325 - accuracy: 0.9098 - val_loss: 0.3931 - val_accuracy: 0.8419 - lr: 0.0010\n",
      "Epoch 38/60\n",
      "106/106 [==============================] - 123s 1s/step - loss: 0.2554 - accuracy: 0.8914 - val_loss: 0.3452 - val_accuracy: 0.8677 - lr: 0.0010\n",
      "Epoch 39/60\n",
      "106/106 [==============================] - 123s 1s/step - loss: 0.2316 - accuracy: 0.8991 - val_loss: 0.3678 - val_accuracy: 0.8548 - lr: 0.0010\n",
      "Epoch 40/60\n",
      "106/106 [==============================] - 123s 1s/step - loss: 0.2005 - accuracy: 0.9139 - val_loss: 0.3704 - val_accuracy: 0.8581 - lr: 0.0001\n",
      "Epoch 41/60\n",
      "106/106 [==============================] - 123s 1s/step - loss: 0.1897 - accuracy: 0.9175 - val_loss: 0.3707 - val_accuracy: 0.8581 - lr: 0.0001\n",
      "Epoch 42/60\n",
      "106/106 [==============================] - 123s 1s/step - loss: 0.1830 - accuracy: 0.9217 - val_loss: 0.3657 - val_accuracy: 0.8613 - lr: 0.0001\n",
      "Epoch 43/60\n",
      "106/106 [==============================] - 123s 1s/step - loss: 0.1768 - accuracy: 0.9270 - val_loss: 0.3657 - val_accuracy: 0.8548 - lr: 0.0001\n",
      "Epoch 44/60\n",
      "106/106 [==============================] - 123s 1s/step - loss: 0.1702 - accuracy: 0.9306 - val_loss: 0.3623 - val_accuracy: 0.8548 - lr: 0.0001\n",
      "Epoch 45/60\n",
      "106/106 [==============================] - 123s 1s/step - loss: 0.1655 - accuracy: 0.9282 - val_loss: 0.3723 - val_accuracy: 0.8581 - lr: 0.0001\n",
      "Epoch 46/60\n",
      "106/106 [==============================] - 122s 1s/step - loss: 0.1580 - accuracy: 0.9353 - val_loss: 0.3750 - val_accuracy: 0.8452 - lr: 0.0001\n",
      "Epoch 47/60\n",
      "106/106 [==============================] - 123s 1s/step - loss: 0.1543 - accuracy: 0.9365 - val_loss: 0.3709 - val_accuracy: 0.8419 - lr: 0.0001\n",
      "Epoch 48/60\n",
      "106/106 [==============================] - 122s 1s/step - loss: 0.1510 - accuracy: 0.9407 - val_loss: 0.3719 - val_accuracy: 0.8516 - lr: 0.0001\n",
      "Epoch 49/60\n",
      "106/106 [==============================] - 123s 1s/step - loss: 0.1457 - accuracy: 0.9401 - val_loss: 0.3772 - val_accuracy: 0.8452 - lr: 0.0001\n",
      "Epoch 50/60\n",
      "106/106 [==============================] - 123s 1s/step - loss: 0.1416 - accuracy: 0.9442 - val_loss: 0.3888 - val_accuracy: 0.8548 - lr: 0.0001\n",
      "Epoch 51/60\n",
      "106/106 [==============================] - 123s 1s/step - loss: 0.1376 - accuracy: 0.9466 - val_loss: 0.3896 - val_accuracy: 0.8452 - lr: 0.0001\n",
      "Epoch 52/60\n",
      "106/106 [==============================] - 123s 1s/step - loss: 0.1320 - accuracy: 0.9478 - val_loss: 0.3909 - val_accuracy: 0.8484 - lr: 0.0001\n",
      "Epoch 53/60\n",
      "106/106 [==============================] - 123s 1s/step - loss: 0.1279 - accuracy: 0.9472 - val_loss: 0.3977 - val_accuracy: 0.8452 - lr: 0.0001\n",
      "Epoch 54/60\n",
      "106/106 [==============================] - 123s 1s/step - loss: 0.1253 - accuracy: 0.9531 - val_loss: 0.3853 - val_accuracy: 0.8548 - lr: 0.0001\n",
      "Epoch 55/60\n",
      "106/106 [==============================] - 123s 1s/step - loss: 0.1204 - accuracy: 0.9561 - val_loss: 0.3876 - val_accuracy: 0.8516 - lr: 1.0000e-05\n",
      "Epoch 56/60\n",
      "106/106 [==============================] - 123s 1s/step - loss: 0.1182 - accuracy: 0.9573 - val_loss: 0.3889 - val_accuracy: 0.8516 - lr: 1.0000e-05\n",
      "Epoch 57/60\n",
      "106/106 [==============================] - 123s 1s/step - loss: 0.1166 - accuracy: 0.9555 - val_loss: 0.3904 - val_accuracy: 0.8516 - lr: 1.0000e-05\n",
      "Epoch 58/60\n",
      "106/106 [==============================] - 122s 1s/step - loss: 0.1156 - accuracy: 0.9561 - val_loss: 0.3919 - val_accuracy: 0.8548 - lr: 1.0000e-05\n",
      "Epoch 59/60\n",
      "106/106 [==============================] - 123s 1s/step - loss: 0.1155 - accuracy: 0.9579 - val_loss: 0.3922 - val_accuracy: 0.8548 - lr: 1.0000e-05\n",
      "Epoch 60/60\n",
      "106/106 [==============================] - 123s 1s/step - loss: 0.1147 - accuracy: 0.9585 - val_loss: 0.3929 - val_accuracy: 0.8484 - lr: 1.0000e-05\n",
      "\n"
     ]
    }
   ],
   "source": [
    "# Define some callbacks to improve training\n",
    "# early_stopping = keras.callbacks.EarlyStopping(monitor=\"val_loss\", patience=20)\n",
    "reduce_lr = keras.callbacks.ReduceLROnPlateau(monitor=\"val_loss\", patience=15)\n",
    "\n",
    "# Define modifiable training hyperparameters\n",
    "epochs = 60\n",
    "batch_size = 16\n",
    "\n",
    "from datetime import datetime\n",
    "now = datetime.now()\n",
    "current_time = now.strftime(\"%H:%M:%S\")\n",
    "print(\"Started training at\", current_time)\n",
    "\n",
    "# Fit the model to the training data\n",
    "history = model.fit(\n",
    "    [cloud_train, meteo_train],\n",
    "    rain_train_c,\n",
    "    batch_size=batch_size,\n",
    "    epochs=epochs,\n",
    "    validation_data=([cloud_val, meteo_val], rain_val_c),\n",
    "    # callbacks=[early_stopping, reduce_lr],\n",
    "    callbacks=[reduce_lr],\n",
    ")"
   ]
  },
  {
   "cell_type": "markdown",
   "id": "4b325e5b",
   "metadata": {
    "id": "4b325e5b"
   },
   "source": [
    "That looks pretty good :-) It looks like I can keep on training, too! The first couple epoch took too long since I was running out of memory (forgot to close other notebooks), so the memory overflew into the RAM off from the GPU.\n",
    "\n",
    "This is running on an A100. ;)\n",
    "\n",
    "Let's look at accuracy:"
   ]
  },
  {
   "cell_type": "code",
   "execution_count": 75,
   "id": "d7abe1b4",
   "metadata": {
    "colab": {
     "base_uri": "https://localhost:8080/"
    },
    "id": "d7abe1b4",
    "outputId": "ad124104-b5b0-48a0-ba96-20305bc8a578"
   },
   "outputs": [
    {
     "data": {
      "text/plain": [
       "((310, 24, 48, 48, 1),\n",
       " TensorShape([310, 24, 48, 48, 1]),\n",
       " TensorShape([310, 72, 11]))"
      ]
     },
     "execution_count": 75,
     "metadata": {},
     "output_type": "execute_result"
    }
   ],
   "source": [
    "cloud_val.shape, tf.convert_to_tensor(cloud_val).shape, meteo_val.shape"
   ]
  },
  {
   "cell_type": "code",
   "execution_count": 76,
   "id": "1fe34a43",
   "metadata": {
    "colab": {
     "base_uri": "https://localhost:8080/"
    },
    "id": "1fe34a43",
    "outputId": "6e89a9d1-7e8c-4dc6-8b15-7da5177e38c0"
   },
   "outputs": [
    {
     "name": "stdout",
     "output_type": "stream",
     "text": [
      "Picked index 291 from validation dataset.\n"
     ]
    }
   ],
   "source": [
    "# Select a random example from the cloud imagery validation dataset\n",
    "# This approach didn't work initially\n",
    "example_index = np.random.choice(range(len(cloud_val)), size=1)[0]\n",
    "print(\"Picked index\", example_index,\"from validation dataset.\")\n",
    "example_clouds = tf.convert_to_tensor(cloud_val[example_index]) # all 8 frames from the example\n",
    "\n",
    "# Select the same example from the meteo validation dataset\n",
    "example_meteo = meteo_val[example_index]\n",
    "\n",
    "# input\n",
    "#np.expand_dims([example_clouds, example_meteo], axis=0)\n",
    "# [example_clouds, example_meteo]"
   ]
  },
  {
   "cell_type": "code",
   "execution_count": 77,
   "id": "7d1a30c0",
   "metadata": {
    "id": "7d1a30c0"
   },
   "outputs": [],
   "source": [
    "# pred_input_combo = np.expand_dims([example_clouds, example_meteo], axis = 0)"
   ]
  },
  {
   "cell_type": "code",
   "execution_count": 78,
   "id": "9b962c3c",
   "metadata": {
    "id": "9b962c3c"
   },
   "outputs": [],
   "source": [
    "# pred_input_combo = np.array(pred_input_combo, dtype=object)"
   ]
  },
  {
   "cell_type": "code",
   "execution_count": 79,
   "id": "aaba1aa7",
   "metadata": {
    "id": "aaba1aa7"
   },
   "outputs": [],
   "source": [
    "# tf.convert_to_tensor(pred_input_combo, dtype=tf.float32)"
   ]
  },
  {
   "cell_type": "code",
   "execution_count": 80,
   "id": "2322c77c",
   "metadata": {
    "id": "2322c77c"
   },
   "outputs": [],
   "source": [
    "# model.predict(pred_input_combo)"
   ]
  },
  {
   "cell_type": "code",
   "execution_count": null,
   "id": "6c2e911c",
   "metadata": {
    "id": "6c2e911c"
   },
   "outputs": [],
   "source": []
  },
  {
   "cell_type": "code",
   "execution_count": 81,
   "id": "47c20455",
   "metadata": {
    "id": "47c20455"
   },
   "outputs": [],
   "source": [
    "pred = model([cloud_val, meteo_val])\n",
    "\n",
    "# Convert to array\n",
    "pred = np.array(pred)\n",
    "\n",
    "# Assigning class based on prediction\n",
    "pred[pred >= 0.5] = 1\n",
    "pred[pred < 0.5] = 0\n",
    "#pred[pred != 1] = 0\n",
    "\n",
    "# Class-wise accuracy\n",
    "classwise1 = ((np.array(pred)[:,0] == np.array(rain_val_c))*(rain_val_c==1)).sum()/(rain_val_c==1).sum()\n",
    "classwise0 = ((np.array(pred)[:,0] == np.array(rain_val_c))*(rain_val_c==0)).sum()/(rain_val_c==0).sum()"
   ]
  },
  {
   "cell_type": "code",
   "execution_count": 82,
   "id": "1f47e277-3db7-412e-aef9-b662e204c71d",
   "metadata": {},
   "outputs": [
    {
     "name": "stdout",
     "output_type": "stream",
     "text": [
      "\n",
      "0    262\n",
      "1     48\n",
      "dtype: int64\n",
      "\n"
     ]
    }
   ],
   "source": [
    "print('')\n",
    "rain_val_series = pd.Series(rain_val_c)\n",
    "value_counts = rain_val_series.value_counts()\n",
    "value_counts\n",
    "print('')"
   ]
  },
  {
   "cell_type": "code",
   "execution_count": 83,
   "id": "0c9431d6-02fa-4fe2-b90e-a99e3987f3f2",
   "metadata": {},
   "outputs": [],
   "source": [
    "# Plot"
   ]
  },
  {
   "cell_type": "code",
   "execution_count": null,
   "id": "8e5f6a50-8351-4f98-af31-6c6067c93df5",
   "metadata": {},
   "outputs": [],
   "source": []
  },
  {
   "cell_type": "code",
   "execution_count": 85,
   "id": "414b71fc",
   "metadata": {
    "colab": {
     "base_uri": "https://localhost:8080/"
    },
    "id": "414b71fc",
    "outputId": "1e48431d-9362-44e5-f2a5-8dd0eaf85f5e"
   },
   "outputs": [
    {
     "name": "stdout",
     "output_type": "stream",
     "text": [
      "Total Accuracy: \t 84.839\n",
      "------------------------------\n",
      "--Class wise Accuracy of Test--\n",
      "------------------------------\n",
      "Class 0: \t 90.458\n",
      "Class 1: \t 54.167\n"
     ]
    }
   ],
   "source": [
    "print(f'Total Accuracy: \\t {((np.array(pred)[:,0] == np.array(rain_val_c)).sum()/len(pred))*100:.3f}')\n",
    "print('-'*30)\n",
    "print('--Class wise Accuracy of Test--')\n",
    "print('-'*30)\n",
    "print(f'Class 0: \\t {classwise0*100:.3f}')\n",
    "print(f'Class 1: \\t {classwise1*100:.3f}')\n",
    "\n",
    "######################################\n",
    "\n",
    "#Note: Class 0: Non-LES Precip\n",
    "#    Class 1: LES Precip"
   ]
  },
  {
   "cell_type": "code",
   "execution_count": 90,
   "id": "ae66ad71",
   "metadata": {
    "id": "ae66ad71"
   },
   "outputs": [
    {
     "data": {
      "image/png": "[encoded data removed]",
      "text/plain": [
       "<Figure size 720x360 with 1 Axes>"
      ]
     },
     "metadata": {
      "needs_background": "light"
     },
     "output_type": "display_data"
    }
   ],
   "source": [
    "import matplotlib.pyplot as plt\n",
    "%matplotlib inline\n",
    "plt.figure(figsize=(10, 5))\n",
    "plt.plot(history.history['val_loss'], label='Validation')\n",
    "plt.plot(history.history['loss'], label='Train')\n",
    "plt.legend()\n",
    "plt.xlabel('Epochs')\n",
    "plt.ylabel('Binary Cross Entropy')\n",
    "plt.title('Loss for Imagery + Meteo network for LES rain prediction')\n"
   ]
  },
  {
   "cell_type": "code",
   "execution_count": 93,
   "id": "037ef1dd",
   "metadata": {
    "id": "037ef1dd"
   },
   "outputs": [
    {
     "data": {
      "image/png": "[encoded data removed]",
      "text/plain": [
       "<Figure size 720x360 with 1 Axes>"
      ]
     },
     "metadata": {
      "needs_background": "light"
     },
     "output_type": "display_data"
    }
   ],
   "source": [
    "import matplotlib.pyplot as plt\n",
    "%matplotlib inline\n",
    "plt.figure(figsize=(10, 5))\n",
    "plt.plot(history.history['val_accuracy'], label='Validation')\n",
    "plt.plot(history.history['accuracy'], label='Train')\n",
    "plt.legend()\n",
    "plt.xlabel('Epochs')\n",
    "plt.ylabel('Binary Cross Entropy')\n",
    "plt.title('Loss for Imagery + Meteo network for LES rain prediction')\n"
   ]
  },
  {
   "cell_type": "code",
   "execution_count": null,
   "id": "d6f08b68",
   "metadata": {
    "id": "d6f08b68"
   },
   "outputs": [],
   "source": []
  },
  {
   "cell_type": "code",
   "execution_count": null,
   "id": "02612e26",
   "metadata": {
    "id": "02612e26"
   },
   "outputs": [],
   "source": []
  },
  {
   "cell_type": "code",
   "execution_count": null,
   "id": "32492dc8",
   "metadata": {
    "id": "32492dc8"
   },
   "outputs": [],
   "source": []
  },
  {
   "cell_type": "code",
   "execution_count": null,
   "id": "8b99ee8a",
   "metadata": {
    "id": "8b99ee8a"
   },
   "outputs": [],
   "source": []
  },
  {
   "cell_type": "code",
   "execution_count": null,
   "id": "99b0a300",
   "metadata": {
    "id": "99b0a300"
   },
   "outputs": [],
   "source": []
  },
  {
   "cell_type": "code",
   "execution_count": null,
   "id": "60be952a",
   "metadata": {
    "id": "60be952a"
   },
   "outputs": [],
   "source": []
  },
  {
   "cell_type": "code",
   "execution_count": null,
   "id": "7a344da6",
   "metadata": {
    "id": "7a344da6"
   },
   "outputs": [],
   "source": []
  },
  {
   "cell_type": "code",
   "execution_count": null,
   "id": "d708b2a1",
   "metadata": {
    "id": "d708b2a1"
   },
   "outputs": [],
   "source": []
  },
  {
   "cell_type": "code",
   "execution_count": null,
   "id": "b03c4297",
   "metadata": {
    "id": "b03c4297"
   },
   "outputs": [],
   "source": []
  },
  {
   "cell_type": "code",
   "execution_count": null,
   "id": "1b02c8bc",
   "metadata": {
    "id": "1b02c8bc"
   },
   "outputs": [],
   "source": []
  },
  {
   "cell_type": "code",
   "execution_count": null,
   "id": "8db1e39d",
   "metadata": {
    "id": "8db1e39d"
   },
   "outputs": [],
   "source": []
  }
 ],
 "metadata": {
  "accelerator": "GPU",
  "colab": {
   "gpuType": "A100",
   "machine_shape": "hm",
   "provenance": []
  },
  "kernelspec": {
   "display_name": "Python 3 (ipykernel)",
   "language": "python",
   "name": "python3"
  },
  "language_info": {
   "codemirror_mode": {
    "name": "ipython",
    "version": 3
   },
   "file_extension": ".py",
   "mimetype": "text/x-python",
   "name": "python",
   "nbconvert_exporter": "python",
   "pygments_lexer": "ipython3",
   "version": "3.8.12"
  }
 },
 "nbformat": 4,
 "nbformat_minor": 5
}
