{
 "cells": [
  {
   "cell_type": "markdown",
   "id": "69b1264b",
   "metadata": {},
   "source": [
    "## Abstract"
   ]
  },
  {
   "cell_type": "markdown",
   "id": "71d658c2",
   "metadata": {},
   "source": [
    "Lake-effect snow\n",
    "\n",
    "1. Introduction: What is LES?\n",
    "2. State of the art of ML meteorology\n",
    "3. How I got all the data: Ground stations and satellite data\n",
    "4. Image processing the satellite data\n",
    "5. First experiments: Conv1D\n",
    "6. A better Conv2D network and the hardware I used to implement ir\n",
    "7. Using 3 days historical to predict 24 hrs into the future\n",
    "8. Using 3 days historical to predict 48 hrs into the future \n",
    "9. Using 3 days historical to predict 72 hrs into the future\n",
    "10. Conclusion and plan for paper publication "
   ]
  },
  {
   "cell_type": "code",
   "execution_count": null,
   "id": "139a47da",
   "metadata": {},
   "outputs": [],
   "source": []
  }
 ],
 "metadata": {
  "kernelspec": {
   "display_name": "Python 3 (ipykernel)",
   "language": "python",
   "name": "python3"
  },
  "language_info": {
   "codemirror_mode": {
    "name": "ipython",
    "version": 3
   },
   "file_extension": ".py",
   "mimetype": "text/x-python",
   "name": "python",
   "nbconvert_exporter": "python",
   "pygments_lexer": "ipython3",
   "version": "3.8.12"
  }
 },
 "nbformat": 4,
 "nbformat_minor": 5
}
