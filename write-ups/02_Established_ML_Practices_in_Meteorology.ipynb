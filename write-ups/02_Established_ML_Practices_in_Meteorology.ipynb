{
 "cells": [
  {
   "cell_type": "markdown",
   "id": "a4ded9b6",
   "metadata": {},
   "source": [
    "## 2. State-of-the-Art Practices in Meteorology"
   ]
  },
  {
   "cell_type": "markdown",
   "id": "ea60e7a5",
   "metadata": {},
   "source": [
    "The field of meteorology, which can be traced back to ancient civilizations such as Mesopotamia, China, and Greece, has undergone substantial advancements from its early stages. The science of meteorology originated from the study of astrological patterns and fundamental literature such as Aristotle's \"Meteorologica.\" Throughout the Medieval Ages, advancements in observational apparatus in the Arab world and the methodical documenting of weather in European monasteries contributed to the expansion of this field [5]. The Renaissance era saw a significant period of scientific advancements, exemplified by the introduction of Torricelli's barometer and Fahrenheit's thermometer, which enabled the systematic measurement and analysis of meteorological phenomena. The 19th century was a significant era characterized by notable advancements, particularly with the advent of the telegraph. This technological innovation played a pivotal role in enabling the development of synthetic weather maps and the subsequent realization of organized weather predictions [2].\n",
    "\n",
    "Incorporating technology has accelerated meteorology's development during the 20th and 21st centuries. The utilization of radiosondes facilitated the collection of data pertaining to the upper atmosphere, while the integration of mathematical models with sophisticated computing systems revolutionized the field of weather forecasting [3]. In recent times, there has been a notable adoption of high-resolution atmospheric modeling in meteorological investigations, with a particular focus on localized forecasts. The increasing convergence between climatology and the incorporation of machine learning and AI techniques into conventional forecasting approaches underscores the field's forward-looking direction and its persistent pursuit of enhancing comprehension of atmospheric phenomena, mostly motivated by apprehensions over global climate change.\n"
   ]
  },
  {
   "cell_type": "markdown",
   "id": "905df83d",
   "metadata": {},
   "source": [
    "### 2.1 Numerical Weather Prediction (NWP) Models\n",
    "\n",
    "The advent of the 20th century marked a pivotal transformation in the domain of computational capabilities. As the world stepped into the computer age, the magnitude of calculations that could be performed underwent a profound metamorphosis. What once took an arduous span of days to compute was now seamlessly executed in mere hours. This eruption of computational prowess unlocked the potential to analyze and interpret massive datasets related to the Earth's atmosphere at an unprecedented pace, laying the foundational stones for Numerical Weather Prediction (NWP).\n",
    "\n",
    "NWP represented a radical departure from erstwhile forecasting methodologies which were primarily anchored in direct observations. Instead of being constricted to the confines of empirical data, NWP wove together observational datasets with sophisticated mathematical representations of atmospheric dynamics. This symbiotic amalgamation furnished forecasts of a distinctly objective nature, providing intricate details about myriad atmospheric variables. Where traditional techniques might offer generalized predictions, NWP delves into the granularity, bestowing meteorologists with the capacity to foretell specific metrics such as the exact volumes of impending precipitation, pinpoint wind velocities, or definitive temperature oscillations. This granular clarity conferred by NWP has been instrumental in revolutionizing multiple industries, spanning from the agricultural fields to the bustling corridors of aviation.\n",
    "\n",
    "As we delve into the mechanics of NWP, we discern that these models commence by crafting a mathematical simulacrum of atmospheric and climatic patterns on a planetary scale. Over the decades, a multitude of these models has been meticulously refined, each designed to prognosticate distinct atmospheric states and climatic variables. The zenith of this modeling evolution is exemplified by formidable global NWP frameworks like the Integrated Forecast System, championed by the European Centre. This system boasts of rendering weather predictions on a vast grid canvas, each cell spanning approximately 10,000 square kilometers, situated around 5,500 meters above terrestrial or oceanic expanses, corresponding to a barometric pressure benchmark of 500 hPa. However, when the objective pivots towards more intricate, localized forecasts – delineating conditions on a minuscule 1 to 5 square kilometer grid scale hovering just 2 meters above terrestrial or marine surfaces, where the ambient temperature is benchmarked at 850 hPa – meteorologists employ specialized limited-area models. These models are contingent on the vast reservoir of data curated by their global counterparts to demarcate conditions at their peripheries. Such delineated boundary conditions are not mere ornamental add-ons; they are the linchpin ensuring the precision and veracity of the forecasts dispensed by these limited-area models.\n",
    "\n",
    "#### 2.1.1 Foundations of NWP Models\n",
    "\n",
    "Numerical Weather Prediction (NWP) stands on the foundational bedrock of a set of governing atmospheric equations, with the Navier-Stokes equations taking center stage [1]. These pivotal equations provide an intricate mathematical portrayal of fluid dynamics and are deeply rooted in the core principles of conserving momentum, mass, energy, and various states of water.\n",
    "\n",
    "1. **Continuity Equation**: Acting as the bastion for the principle of mass conservation, this equation delineates how mass is neither spontaneously created nor annihilated in the atmosphere.\n",
    "2. **Momentum Equations**: As the guardians of momentum conservation, these equations meticulously define the conservation and propagation of momentum across three spatial dimensions.\n",
    "3. **Thermodynamic Energy Equation**: Embodied within this equation is the sacrosanct principle of energy conservation, showcasing how energy transitions between different forms but remains conserved in totality.\n",
    "4. **Water Substance Equations**: These equations serve as the sentinels for the conservation of water, detailing its intricate phase transitions among vapor, liquid, and solid (ice) states.\n",
    "\n",
    "The tangible implementation of NWP necessitates compartmentalizing the expansive atmospheric canvas into a structured three-dimensional lattice or grid. The granularity of these individual grid cells is indicative of the model's resolution. Global Models, in their quest to canvas the entirety of our blue planet, inherently adopt a coarser resolution. However, when the forecasting lens narrows down to capture phenomena at a smaller scale, the baton is passed to Regional or Mesoscale Models. These models, with their heightened resolution, are adept at encapsulating and predicting localized atmospheric intricacies.\n",
    "\n",
    "Embarking on a simulation voyage with NWP models mandates the infusion of accurate initial conditions, serving as the starting point for any forecast. These conditions are not conjured from thin air; they are meticulously distilled from a melange of observational data. This alchemy, known as data assimilation, synergizes the essence of prior model forecasts with fresh observational inputs, ultimately crystallizing into the most accurate representation of the current atmospheric tableau.\n",
    "\n",
    "Navigating deeper into the NWP paradigm, we encounter two distinct model types. Firstly, there are the deterministic models, which present a singular, definitive forecast for each meteorological parameter. These models are the stalwarts of short to medium-term weather predictions. In stark contrast, we have the ensemble prediction system (EPS) models. Eschewing the path of singular forecasts, EPS ventures into the realm of probabilities. By introducing minute variations in initial conditions or toggling with model physics, EPS germinates a bouquet of forecasts, often termed as ensemble members. This multitude of forecasts proffers a spectrum of potential atmospheric evolutions, bestowing meteorologists with a tool to gauge the inherent uncertainties lurking within their predictions.\n",
    "\n",
    "#### 2.1.2 Challenges and Limitations of NWP Models\n",
    "\n",
    "The proficiency of Numerical Weather Prediction (NWP) models, be it global or limited-area, is unequivocally acknowledged in the meteorological realm. Their prowess in churning out forecasts with commendable accuracy is a testament to the intricate mathematical and physical underpinnings these models are built upon. However, this prowess isn't a monolithic entity; it's malleable, influenced and often swayed by a myriad of factors [7].\n",
    "\n",
    "1. **Forecast Horizon**: The adage, \"The devil is in the details,\" encapsulates the challenges faced by NWP models, particularly the acclaimed Integrated Forecast System, when peering deeper into the future. Their clairvoyance, while potent in the short-term forecast window (1-3 days ahead, boasting an impressive 75% accuracy ballpark), starts to wane as they tread into the realms of medium-range (3-10 days, averaging around a 60% accuracy) and extended-range forecasts. It's a manifestation of the inherent chaotic nature of the atmosphere, where minuscule perturbations can spawn significant variations over extended periods.\n",
    "\n",
    "2. **Weather Parameter**: NWP models, while holistic in approach, often exhibit variable competencies when predicting distinct climatic parameters. The terrain of accuracy isn't uniform. For instance, the tapestry of factors influencing temperature may render its predictions more precise compared to the intricate dance of variables governing precipitation, especially under certain regional or atmospheric contexts.\n",
    "\n",
    "3. **Geographical Region**: The planet's topography isn't a uniform expanse, and these geographical undulations often throw unique challenges to NWP models. Predictive tasks in areas adorned with complex terrains, be it the rugged mountains or the dynamic coastal zones, present a higher degree of intricacy compared to their counterparts set in flatter landscapes. The intertwining of local wind patterns, temperature inversions, and microclimates in these terrains often puts the model's prowess to a stringent test.\n",
    "\n",
    "4. **Seasonality**: Just as a musician's performance might vary with the composition, NWP models too exhibit seasonal oscillations in their forecasting acumen [8]. The atmosphere's intrinsic predictability isn't a constant entity; it ebbs and flows with the seasons. Certain atmospheric configurations in specific seasons may either enhance the model's foresight or cloak the future in layers of uncertainty.\n",
    "\n"
   ]
  },
  {
   "cell_type": "markdown",
   "id": "4287ca0f",
   "metadata": {},
   "source": [
    "### 2.2 Machine Learning Methods\n",
    "\n",
    "In contemporary meteorological research and applications, Numerical Weather Prediction (NWP) models have stood out as the cornerstone. Rooted in the foundational principles of physics and continually augmented by the leaps in computational capabilities, these models present a state-of-the-art approach to understanding and predicting the dynamics of the atmosphere. Their prowess in simulating the temporal evolution of the atmospheric state is unmatched, although they are not without their set of challenges and limitations [3].\n",
    "\n",
    "In recent years, the meteorological realm has witnessed an unprecedented influx of data, stemming from advanced observational instruments, satellites, and ground-based sensors. Coupled with significant computational advancements, this data avalanche has paved the way for the emergence and adoption of machine learning (ML) models. These models, characterized by their ability to sift through vast datasets and discern patterns, promise heightened forecast accuracy and a streamlined efficiency in weather prediction endeavors.\n",
    "\n",
    "Diving deeper into the machine learning applications tailored for meteorological predictions, two paradigms prominently surface: regression and classification [10]. Regression models, encompassing methodologies such as linear regression, support vector regression, and decision trees, are fine-tuned to predict continuous variables. These models excel in tasks like forecasting nuanced temperature gradients or dissecting the patterns of precipitation intensities. In juxtaposition, classification models utilize a suite of algorithms, notably logistic regression, random forests, and neural networks, aiming to predict discrete outcomes. They are particularly adept at identifying and categorizing distinct weather phenomena or events.\n",
    "\n",
    "However, a critical assessment reveals that many conventional models, despite their methodological soundness, occasionally grapple with achieving the desired forecast accuracy. A contributing factor to this limitation is the inherent simplicity of some models, which may not fully encapsulate the multi-layered complexities and interactions within the atmospheric system. Another challenge lies in their constrained ability to seamlessly integrate diverse measurements from a myriad of data sources populating the atmospheric landscape.\n",
    "\n",
    "Notably, the frontier of modern ML in meteorology has been invigorated by methodologies originally sculpted for the realm of Computer Vision. Deep learning architectures, with their multi-layered neural networks, and reinforcement learning paradigms, where models iteratively learn from their past actions, are being repurposed and fine-tuned for meteorological applications, ushering in an era of enhanced predictive capabilities and novel insights.\n",
    "\n",
    "#### 2.2.1 Foundations of ML Models \n",
    "\n",
    "Around the commencement of the 2010s, an era marked by the ascendancy of graphic processing unit (GPU)-driven computations, the fields of deep learning and reinforcement learning began to conspicuously mark their footprints in the domain of meteorological research [6]. This was not merely a dalliance with new methodologies but an evolution driven by the intrinsic benefits of these techniques. With deep learning, for instance, came the unparalleled ability to scale the number of trainable parameters and to holistically encompass diverse data streams within the neural network architectures. Such advantages precipitated a perceptible shift in the research paradigm, with a growing cohort of scientists ardently embedding deep learning methodologies into their investigative pursuits.\n",
    "\n",
    "In this milieu, Convolutional Neural Networks (CNNs) emerged as potent tools, especially when trained on satellite and radar images. Their prowess in discerning intricate patterns made them especially suited for tasks such as identifying telltale signs associated with phenomena like lake-effect snow. On the other hand, Recurrent Neural Networks (RNNs) and their sophisticated counterparts, Long Short-Term Memory (LSTM) networks, with their design tailored to capture the ebb and flow of temporal sequences, became invaluable in predicting the chronology of events like snowfall evolution.\n",
    "\n",
    "Indeed, machine learning thrives in environments awash with data, and meteorology, with its myriad data sources, serves as a veritable playground for these techniques. Satellite imagery, with its panoramic vantage, offers continuous snapshots of cloud morphologies and sea surface temperatures. In tandem, terrestrial weather stations serve as meticulous chroniclers, documenting a suite of atmospheric metrics ranging from temperature and humidity to wind dynamics. Radar installations, with their keen focus, paint a detailed tableau of precipitation – its genesis, intensity, and trajectory. Ascending higher, weather balloons, like sentinels of the skies, offer a stratified glimpse into atmospheric conditions, capturing vertical nuances often overlooked by other instruments [11].\n",
    "\n",
    "In the mosaic of deep learning applications tailored for meteorological pursuits, two research trajectories have gained prominence. The first orbits around leveraging cutting-edge deep learning architectures for remote sensing applications. Venerable models such as TITAN and NEXRAD, with their radar-centric focus, have pioneered video analytic techniques, particularly for identifying and tracing the tempestuous dance of thunderstorms. TITAN [4], for instance, stands out as a beacon in this space, consistently showcasing its mettle in storm cell detection and monitoring. It's worth noting that the precision of such tools is tethered to the fidelity and granularity of the radar data they assimilate. Given high-resolution radar feeds, TITAN manifests a commendable consistency in storm detection, tracking their trajectories and evolution in real-time. Predictive radar imaging, a byproduct of these models, offers forecasts on cloud drifts. While the prediction accuracy remains sterling for immediate short-term windows (spanning 1-2 hours), it wanes as the forecasting horizon extends [13]. In a similar vein, the Rapid Refresh model, with its focus on short-term predictions, has mirrored comparable accuracy metrics, underscoring the dynamism and potential of deep learning in reshaping the meteorological landscape.\n",
    "\n",
    "#### 2.2.2 Challenges and Limitations of ML Models\n",
    "\n",
    "In the vast expanse of meteorological data that today's technology provides, it is somewhat paradoxical to observe that the majority of Deep Learning (DL) frameworks largely tether their predictions to short-term horizons, typically spanning no more than 24 hours. Furthermore, these systems, despite the plethora of available data, often draw upon only a modest subset of this reservoir, arguably not maximizing their predictive potential.\n",
    "\n",
    "Nowcasting [9], a significant facet of these DL models, primarily focuses on foretelling the imminent trajectories and dynamism of storm cells. A characteristic feature of nowcasting, akin to most predictive systems, is its inversely proportional relationship between forecasting duration and accuracy. For instance, a tool like TITAN [4] or RainNet [2] exhibits commendable precision when tasked with predictions on an imminent scale, say, for the upcoming 30 minutes to an hour. Yet, when the model ventures to predict meteorological patterns 2-3 hours into the future, its accuracy exhibits a discernible decline. This attenuation in predictive power can be attributed to the inherent capriciousness of thunderstorms, which often resist deterministic predictions over such brief time scales.\n",
    "\n",
    "A notable lacuna in the current modeling landscape is the limited emphasis on adaptability [11]. Few, if any, models have ventured into the realm of designing frameworks that can seamlessly transfer knowledge from one region to another. Such \"transfer learning\" capabilities would allow a model trained in one geographic region to be repurposed for another, potentially reducing computational costs and expediting deployment. \n",
    "\n",
    "Moreover, while the models excel in general forecasting, there's a marked dearth of specialized tools that cater to particular meteorological phenomena [12]. For instance, events like lake-effect snows, which can have profound climatic and societal implications, often do not find prominent representation in most DL models. This underscores a broader need to diversify and specialize our modeling arsenal to cater to the myriad complexities that our atmosphere presents."
   ]
  },
  {
   "cell_type": "markdown",
   "id": "c8d74120",
   "metadata": {},
   "source": [
    "## References:\n",
    "\n",
    "[1] Al-Yahyai, S., Charabi, Y., & Gastli, A. (2010). Review of the use of Numerical Weather Prediction (NWP) models for wind energy assessment. Renewable and Sustainable Energy Reviews, 14(9), 3192–3198. https://doi.org/10.1016/j.rser.2010.07.001 \n",
    "\n",
    "[2] Ayzel, G., Scheffer, T., & Heistermann, M. (2020). RainNet v1.0: A Convolutional Neural Network for radar-based precipitation nowcasting. Geoscientific Model Development, 13(6), 2631–2644. https://doi.org/10.5194/gmd-13-2631-2020 \n",
    "Bauer, P., Thorpe, A., & Brunet, G. (2015). The Quiet Revolution of Numerical Weather Prediction. Nature, 525(7567), 47–55. https://doi.org/10.1038/nature14956 \n",
    "\n",
    "[3] Bulletin. (2017, November 27). Innovations and new technology for improved weather services. World Meteorological Organization. https://public.wmo.int/en/bulletin/innovations-and-new-technology-improved-weather-services \n",
    "\n",
    "[4] Dixon, M., & Wiener, G. (1993). Titan: Thunderstorm identification, tracking, analysis, and nowcasting—A radar-based methodology. Journal of Atmospheric and Oceanic Technology, 10(6), 785–797. https://doi.org/10.1175/1520-0426(1993)010<0785:ttitaa>2.0.co;2 \n",
    "\n",
    "[5] Feistel, R., Naush, G., & Wasmund, N. (2008). State and evolution of the Baltic Sea, 1952-2005: A detailed 50-year survey of Meteorology and climate, physics, Chemistry, Biology, and Marine Environment. Wiley-Interscience. \n",
    "\n",
    "[6] Geer, A. J., Baordo, F., Bormann, N., Chambon, P., English, S. J., Kazumori, M., Lawrence, H., Lean, P., Lonitz, K., & Lupu, C. (2017). The growing impact of satellite observations sensitive to humidity, cloud and precipitation. \n",
    "\n",
    "[7] Quarterly Journal of the Royal Meteorological Society, 143(709), 3189–3206. https://doi.org/10.1002/qj.3172 \n",
    "Ide, K. (2010). Multi-Model Ensemble Approaches to Data Assimilation Using the 4D-Local Ensemble Transform Kalman Filter. https://doi.org/10.21236/ada542670 \n",
    "\n",
    "[8] Johannsen, F., Dutra, E., & Magnusson, L. (2020). Evaluation of Systematic Biases and Skill of Summer Subseasonal Forecasts in the ECMWF System. https://doi.org/10.5194/egusphere-egu2020-21676 \n",
    "\n",
    "[9] Meyer, V. K., Höller, H., & Betz, H. D. (2013). The temporal evolution of three-dimensional lightning parameters and their suitability for thunderstorm tracking and nowcasting. Atmospheric Chemistry and Physics, 13(10), 5151–5161. https://doi.org/10.5194/acp-13-5151-2013 \n",
    "\n",
    "[10] Schultz, M. G., Betancourt, C., Gong, B., Kleinert, F., Langguth, M., Leufen, L. H., Mozaffari, A., & Stadtler, S. (2021). Can deep learning beat numerical weather prediction? Philosophical Transactions of the Royal Society A: Mathematical, Physical and Engineering Sciences, 379(2194), 20200097. https://doi.org/10.1098/rsta.2020.0097 \n",
    "\n",
    "[11] Song, L., Schicker, I., Papazek, P., Kann, A., Bica, B., Wang, Y., & Chen, M. (2020). Machine learning approach to summer precipitation nowcasting over the eastern alps. Meteorologische Zeitschrift, 29(4), 289–305. https://doi.org/10.1127/metz/2019/0977 \n",
    "\n",
    "[12] Vandal, T., Kodra, E., & Ganguly, A. R. (2018). Intercomparison of Machine Learning Methods for statistical downscaling: The case of daily and extreme precipitation. Theoretical and Applied Climatology, 137(1–2), 557–570. https://doi.org/10.1007/s00704-018-2613-3 \n",
    "\n",
    "[13] Xu, Z., Du, J., Wang, J., Jiang, C., & Ren, Y. (2019). Satellite image prediction relying on gan and LSTM Neural Networks. ICC 2019 - 2019 IEEE International Conference on Communications (ICC). https://doi.org/10.1109/icc.2019.8761462 "
   ]
  }
 ],
 "metadata": {
  "kernelspec": {
   "display_name": "Python 3 (ipykernel)",
   "language": "python",
   "name": "python3"
  },
  "language_info": {
   "codemirror_mode": {
    "name": "ipython",
    "version": 3
   },
   "file_extension": ".py",
   "mimetype": "text/x-python",
   "name": "python",
   "nbconvert_exporter": "python",
   "pygments_lexer": "ipython3",
   "version": "3.8.12"
  }
 },
 "nbformat": 4,
 "nbformat_minor": 5
}
