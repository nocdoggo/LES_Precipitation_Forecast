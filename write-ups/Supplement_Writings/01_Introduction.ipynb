{
 "cells": [
  {
   "cell_type": "markdown",
   "id": "d89e1b1e",
   "metadata": {},
   "source": [
    "## 1. Introduction "
   ]
  },
  {
   "cell_type": "markdown",
   "id": "ee42c092",
   "metadata": {},
   "source": [
    "Lake-effect snow constitutes a meteorological phenomenon of marked singularity that is typified by intense snowstorms. This occurrence bears immense relevance for the geographical locales encompassed by North America's Great Lakes. The term \"lake-effect snow\" is specifically attributed to the snowfall precipitated by atmospheric systems in transit across expanses of relatively warm water. During this process, the weather systems acquire heat and moisture, which subsequently materialize into snowfall on the leeward side. This phenomenon first received comprehensive academic scrutiny through the seminal research conducted by Niziol in 1987, who emphasized the profound hazards associated with these climatic events in the pertinent regions. The considerable ferocity of lake-effect snowstorms holds the capacity to introduce considerable disruption across a wide range of socio-economic activities. Such disturbances inherently engender a profound impact upon the life quality and daily operations of the inhabitants residing within the areas subjected to these weather phenomena.\n",
    "\n",
    "<img src=\"https://wires.onlinelibrary.wiley.com/cms/asset/7615c1be-e636-45c3-b372-5ffc1e74720d/wat21594-toc-0001-m.jpg\" alt=\"partition\" width=\"750\"/>\n",
    "\n",
    "**<center>Figure 1. Lake Effect Snow Satellite Image</center>**"
   ]
  },
  {
   "cell_type": "markdown",
   "id": "83d9035c",
   "metadata": {},
   "source": [
    "Building on Niziol's pioneering research, subsequent studies have solidified the understanding of the severe impacts of lake-effect snowstorms (Kristovich et al., 2003; Ayon, 2017). These events, while deeply rooted in meteorological phenomena, carry profound socio-economic implications. The repercussions are felt distinctly by communities living near the Great Lakes, as these severe weather occurrences can disrupt normal life and economic activities, thus reinforcing the importance of ongoing research and effective management of lake-effect snowstorms."
   ]
  },
  {
   "cell_type": "markdown",
   "id": "8ef06969",
   "metadata": {},
   "source": [
    "Numerical Weather Prediction (NWP) models are widely utilized for the forecasting of lake-effect snow. These sophisticated tools incorporate various atmospheric parameters such as temperature, humidity, wind velocity and direction, as well as atmospheric pressure. Through manipulating the initial conditions of these models, meteorologists can make estimations about the likely occurrence and location of lake-effect snow.\n",
    "\n",
    "Nevertheless, the specific nature of lake-effect snow generation - the phenomenon of cold air interacting with warmer lake surfaces - implies that conventional meteorological data collected from land-based weather stations are not fully equipped to offer critical insights into the cloud formation processes. Indeed, the conditions over large bodies of water that engender lake-effect snowfall fundamentally differ from those over land, thereby making the task of identifying and characterizing lake-effect snow events considerably challenging using terrestrial weather station data alone.\n",
    "\n",
    "This underlines the necessity for more specialized approaches to capture the unique environmental interplay at the heart of lake-effect snow, and to enable more precise prediction and characterization of these impactful meteorological events."
   ]
  },
  {
   "cell_type": "markdown",
   "id": "d14fc41a",
   "metadata": {},
   "source": [
    "This research endeavor aims to augment our understanding of the lake-effect snow phenomenon by supplementively extending the current corpus of scholarly literature. An in-depth comprehension of lake-effect snow, its underlying mechanisms, and wider implications is vitally important in order to devise robust strategies to alleviate the problems instigated by such weather events.\n",
    "\n",
    "Furthermore, this enhanced understanding could act as a catalyst in the development of a hybrid model that possesses the capability to detect and forecast lake-effect snow events. The efficacy of such a model would provide not only meteorological insights but also potentially serve to lessen the socio-economic impact on the communities residing in the proximity of the Great Lakes region. Hence, this research not only contributes to the existing scientific dialogue concerning lake-effect snow, but also paves the way for more innovative, interdisciplinary approaches to weather forecasting and climate change adaptation."
   ]
  }
 ],
 "metadata": {
  "kernelspec": {
   "display_name": "Python 3 (ipykernel)",
   "language": "python",
   "name": "python3"
  },
  "language_info": {
   "codemirror_mode": {
    "name": "ipython",
    "version": 3
   },
   "file_extension": ".py",
   "mimetype": "text/x-python",
   "name": "python",
   "nbconvert_exporter": "python",
   "pygments_lexer": "ipython3",
   "version": "3.8.12"
  }
 },
 "nbformat": 4,
 "nbformat_minor": 5
}
