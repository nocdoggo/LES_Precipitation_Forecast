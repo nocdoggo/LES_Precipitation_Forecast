{
 "cells": [
  {
   "cell_type": "markdown",
   "id": "14be0e37",
   "metadata": {},
   "source": [
    "## 3. Dataset\n",
    "\n",
    "In the pursuit of deciphering the complexities associated with lake-effect snow, it becomes paramount to possess a detailed understanding of the prevailing meteorological conditions over and around the lake region [1]. Historically, researchers have leaned heavily on satellite imagery of the Great Lakes coupled with comprehensive meteorological data gleaned from locations ranging from the immediate lake shores to regions as far as 150 miles inland. Such an expansive data range is justified by the realization that peak snowfall, as a result of the lake-effect, predominantly manifests within approximately 10 to 40 miles (16 to 64 km) from the shoreline [2]. Yet, the true extent of this phenomenon is malleable, often influenced by the vastness of the lake in question and the direction and intensity of the winds at play.\n",
    "\n",
    "For instance, vast water bodies like Lake Superior and Lake Michigan possess the ability to generate lake-effect snow bands which then travel and exert influence over remarkably distant inland areas. To provide perspective, specific atmospheric conditions can empower snow bands originating from Lake Superior to extend their influence over areas situated more than 100 miles (160 km) inland [3].\n",
    "\n",
    "Instrumental in this research journey are satellites such as the Geostationary Operational Environmental Satellite (GOES) [4]. These sophisticated celestial observers proffer high-definition imagery pivotal in identifying and studying the morphologies of cloud configurations specifically linked to lake-effect snow. Ground-truthing these satellite observations is an ensemble of data sources: airports that register snowfall metrics, meticulously placed weather stations capturing a gamut of climatic conditions, and astute observations from trained meteorological spotters who document snowfall intensities and patterns. All these data, in tandem, equip researchers with the tools and insights necessary to unravel the phenomenon of lake-effect snow.\n",
    "\n",
    "### 3.1 Geostationary Operational Environmental Satellite (GOES) Imagery Data\n",
    "\n",
    "The Geostationary Operational Environmental Satellite (GOES) service, an initiative championed by the National Oceanic and Atmospheric Administration (NOAA) [5], serves as a beacon in this endeavor. This pioneering satellite platform has been instrumental in casting a detailed gaze over continental climates, archiving a decade's worth of precise atmospheric data that is generously available for public consumption.\n",
    "\n",
    "At the heart of our computational methodology is the raw meteorological imagery curated by the NOAA GOES Weather Toolkit [6]. This state-of-the-art toolkit is not just a mere repository of weather data; it stands as a holistic suite equipped to render rich background maps, facilitate intricate animations, and conduct surgical filtering across selected spectral bands, thereby empowering researchers with the tools to derive actionable insights.\n",
    "\n",
    "The workflow necessitates an initial stage of data procurement post toolkit extraction. Users are mandated to tap into the vast databanks housed on NOAA's FTP server. It's crucial to appreciate the depth and breadth of this data - the GOES weather satellite, armed with an array of sophisticated camera sensor modules, continuously surveils Earth's atmosphere. Depending on the specific operational timeline, users will find a palette of either 13 or 16 distinct spectral bands at their disposal. This spectrum spans two visible channels, four that operate in the near-infrared spectrum, and a robust set of ten infrared channels. Each of these channels plays a pivotal role in piecing together the holistic climate tableau, paving the way for a nuanced understanding of phenomena like lake-effect snow.\n",
    "\n",
    "Here is a quick reference on all the available bands for selections [7].\n",
    "\n",
    "| ABI Band Number | Central Wavelength (µm) |               Notation               | Band Type | Available Year |\n",
    "|:---------------:|:-----------------------:|:------------------------------------:|:---------:|:--------------:|\n",
    "|        1        |           0.47          |                 Blue                 |  Visible  |      2007      |\n",
    "|        2        |           0.64          |                  Red                 |  Visible  |      2007      |\n",
    "|        3        |           0.86          |                Veggie                |  Near-IR  |      2007      |\n",
    "|        4        |           1.37          |                Cirrus                |  Near-IR  |      2007      |\n",
    "|        5        |           1.6           |               Snow/Ice               |  Near-IR  |      2007      |\n",
    "|        6        |           2.2           |            Cloud Particle            |  Near-IR  |      2007      |\n",
    "|        7        |           3.9           |           Shortwave Window           |     IR    |      2007      |\n",
    "|        8        |           6.2           | Upper-Level Tropospheric Water Vapor |     IR    |      2007      |\n",
    "|        9        |           6.9           |  Mid-Level Tropospheric Water Vapor  |     IR    |      2007      |\n",
    "|        10       |           7.3           |        Lower-level WaterVapor        |     IR    |      2007      |\n",
    "|        11       |           8.4           |            Cloud-Top Phase           |     IR    |      2007      |\n",
    "|        12       |           9.6           |                 Ozone                |     IR    |      2007      |\n",
    "|        13       |           10.3          |      \"Clean\" IR Longwave Window      |     IR    |      2013      |\n",
    "|        14       |           11.2          |          IR Longwave Window          |     IR    |      2013      |\n",
    "|        15       |           12.3          |        \"Dirty\" Longwave Window       |     IR    |      2013      |\n",
    "|        16       |           13.3          |        \"CO<sub>2</sub>\" longwave infrared       |     IR    |      2013      |\n",
    "\n",
    "In the development of our project, meticulous emphasis was placed on leveraging data derived from the Band 1 sensor. This strategic decision emanated from extensive academic investigations undertaken by distinguished scholars across various reputable universities. Band 1 sensor stands out due to its unique characteristic of possessing the lowest central wavelength. Such a feature empowers it with the capability to continuously monitor and register a diverse array of atmospheric components, from intricate cloud formations right down to minuscule dust particles.\n",
    "\n",
    "One of the quintessential features of the Band 1 sensor is its encompassing spectral coverage of all naturally occurring visible true colors – encapsulating the Red, Green, and Blue spectrum. Owing to this comprehensive spectral range, the Band 1 sensor showcases exemplary performance during daylight hours, capturing vivid and detailed imagery that proves invaluable for our analytical processes. This band's ability to vividly represent these true colors ensures that the data acquired is both accurate and meaningful, making it an ideal choice for our project's objectives [8]."
   ]
  },
  {
   "cell_type": "markdown",
   "id": "62b3ce58",
   "metadata": {},
   "source": [
    "### 3.2 National Weather Service (NWS) Meteorological Data\n",
    "\n",
    "In our research endeavor, we have profoundly depended on meteorological datasets assiduously gathered by federal weather stations, operating under the esteemed umbrella of the National Weather Service network [1]. With data recorded at hourly junctures, these collections are emblematic of a vast spectrum of parameters. Each of these meticulously documented parameters offers a profound window into the intricate meteorological intricacies that play a pivotal role in the genesis and dynamics of lake-effect snow.\n",
    "\n",
    "The roster of directly procured parameters [9] is exhaustive and includes: \n",
    "- **Temperature**: Articulated in Fahrenheit, this gives insights into the ambient atmospheric conditions.\n",
    "- **Relative Humidity**: Expressed as a percentage, it gauges the moisture content in the atmosphere.\n",
    "- **Dew Point Temperature**: Also articulated in Fahrenheit, this signifies the temperature at which the air becomes saturated.\n",
    "- **Wind Speed and Gust**: Denoted in miles per hour, they offer a perspective on the force and occasional surges of wind.\n",
    "- **Wind Direction**: Measured in degrees and recorded at ten-degree intervals, it provides information about the orientation of prevailing winds.\n",
    "- **Cloud Heights**: Denoted in feet, it provides an understanding of the vertical distribution of clouds.\n",
    "- **Visibility**: Tracked in miles, it gauges the clarity of the atmosphere.\n",
    "- **Atmospheric, Altimeter, and Sea Level Pressure**: All expressed in hecto-Pascals, these parameters provide invaluable information about atmospheric conditions at different altitudes and pressures.\n",
    "- **Precipitation**: Quantified in inches, it records the amount of moisture deposition, be it in the form of rain, sleet, or snow.\n",
    "\n",
    "To further bolster our analytical depth, two derivative metrics have been incorporated into our dataset:\n",
    "- **Wind Chill**: Articulated in Fahrenheit, it encapsulates the perceived temperature drop induced by wind effects.\n",
    "- **Heat Index**: Also expressed in Fahrenheit, this metric amalgamates actual temperature readings with relative humidity levels to project the perceived warmth.\n",
    "\n",
    "The depth and precision of this meteorological data treasure trove provide us with a granular lens to dissect the environmental tapestry enveloping Lake Michigan. This, in turn, fortifies our comprehension of the lake-effect snow mechanisms and their multifarious manifestations."
   ]
  },
  {
   "cell_type": "markdown",
   "id": "57778c72",
   "metadata": {},
   "source": [
    "## Reference:\n",
    "\n",
    "[1] Milani, L., Kulie, M. S., Casella, D., Kirstetter, P. E., Panegrossi, G., Petkovic, V., Ringerud, S. E., Rysman, J.-F., Sanò, P., Wang, N.-Y., You, Y., &amp; Skofronick-Jackson, G. (2021). Extreme lake-effect snow from a GPM microwave imager perspective: Observational analysis and precipitation retrieval evaluation. Journal of Atmospheric and Oceanic Technology, 38(2), 293–311. https://doi.org/10.1175/jtech-d-20-0064.1 \n",
    "\n",
    "[2] Scott, R. W., &amp; Huff, F. A. (1996). Impacts of the Great Lakes on regional climate conditions. Journal of Great Lakes Research, 22(4), 845–863. https://doi.org/10.1016/s0380-1330(96)71006-7 \n",
    "\n",
    "[3] Wiley, J., &amp; Mercer, A. (2020). An updated synoptic climatology of Lake Erie and Lake Ontario Heavy Lake-effect snow events. Atmosphere, 11(8), 872. https://doi.org/10.3390/atmos11080872 \n",
    "\n",
    "[4] Nostrand, V. (2006). Geostationary Operational Environmental Satellite (GOES). Van Nostrand’s Scientific Encyclopedia. https://doi.org/10.1002/0471743984.vse8611 \n",
    "\n",
    "[5] Geostationary satellites. National Environmental Satellite, Data, and Information Service. (n.d.). https://www.nesdis.noaa.gov/current-satellite-missions/currently-flying/geostationary-satellites \n",
    "\n",
    "[6] Ansari, S. (n.d.). Introduction. NOAA’s Weather and Climate Toolkit (Viewer and Data Exporter). https://www.ncdc.noaa.gov/wct/ \n",
    "\n",
    "[7] Abi bands quick information guides. ABI Bands Quick Information Guides. (n.d.). https://www.goes-r.gov/mission/ABI-bands-quick-info.html \n",
    "\n",
    "[8] Kim, Y., &amp; Hong, S. (2019). Deep learning-generated nighttime reflectance and daytime radiance of the Midwave Infrared Band of a geostationary satellite. Remote Sensing, 11(22), 2713. https://doi.org/10.3390/rs11222713\n",
    "\n",
    "[9] Data types. MRCC. (n.d.). https://mrcc.purdue.edu/data_serv/dataTypes "
   ]
  }
 ],
 "metadata": {
  "kernelspec": {
   "display_name": "Python 3 (ipykernel)",
   "language": "python",
   "name": "python3"
  },
  "language_info": {
   "codemirror_mode": {
    "name": "ipython",
    "version": 3
   },
   "file_extension": ".py",
   "mimetype": "text/x-python",
   "name": "python",
   "nbconvert_exporter": "python",
   "pygments_lexer": "ipython3",
   "version": "3.8.12"
  }
 },
 "nbformat": 4,
 "nbformat_minor": 5
}
