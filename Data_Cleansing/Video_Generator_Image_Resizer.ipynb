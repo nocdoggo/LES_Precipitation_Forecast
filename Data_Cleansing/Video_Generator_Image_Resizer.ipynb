{
 "cells": [
  {
   "cell_type": "code",
   "execution_count": 1,
   "id": "c7de4abb",
   "metadata": {},
   "outputs": [],
   "source": [
    "import cv2\n",
    "import os\n",
    "import pathlib"
   ]
  },
  {
   "cell_type": "code",
   "execution_count": 2,
   "id": "3f77ff81",
   "metadata": {},
   "outputs": [],
   "source": [
    "file_dir = '/home/jupyter-doggo/scratch/NOAA/02-05-2023/sample_img/'"
   ]
  },
  {
   "cell_type": "code",
   "execution_count": 3,
   "id": "89d4d8e8",
   "metadata": {},
   "outputs": [],
   "source": [
    "# def image_resizer(file_dir, perc_reduction):"
   ]
  },
  {
   "cell_type": "code",
   "execution_count": 4,
   "id": "2c80f507",
   "metadata": {},
   "outputs": [],
   "source": [
    "def vid_generator(file_dir, start_frame_name, end_frame_name):\n",
    "    # Get all the possible files in the directory\n",
    "    filename = os.listdir(file_dir)\n",
    "    \n",
    "    if len(filename) == 0:\n",
    "        return -3\n",
    "    \n",
    "    # Sorting the filename list is crucial on linux\n",
    "    filename.sort()\n",
    "    \n",
    "    # Get the start and end frame index\n",
    "    try:\n",
    "        start_idx = filename.index(start_frame_name + '.png')\n",
    "    except:\n",
    "        # The start file is not found.\n",
    "        return -2\n",
    "    \n",
    "    try:\n",
    "        end_idx = filename.index(end_frame_name + '.png')\n",
    "    except:\n",
    "        return -1\n",
    "    \n",
    "    # Roll the image list array since the start and end are already found\n",
    "    images = filename[start_idx:end_idx + 1]\n",
    "    \n",
    "    # Define frame based on the first image, we assume that the size \n",
    "    # of the image stays the same during the export process\n",
    "    frame = cv2.imread(os.path.join(file_dir, images[0]))\n",
    "    \n",
    "    # Acquire the dimension and number of layers in the image\n",
    "    height, width, layers = frame.shape\n",
    "    \n",
    "    # Construct name of the video\n",
    "    video_name = start_frame_name + '_to_' + end_frame_name + '.avi'\n",
    "    \n",
    "    # Start video writer\n",
    "    video = cv2.VideoWriter(video_name, 0, 0.25, (width, height))\n",
    "#     video = cv2.VideoWriter(video_name, 0, 1, (width, height))\n",
    "    \n",
    "    for image in images:\n",
    "        video.write(cv2.imread(os.path.join(file_dir, image)))\n",
    "\n",
    "    cv2.destroyAllWindows()\n",
    "    video.release()\n",
    "    return 0"
   ]
  },
  {
   "cell_type": "code",
   "execution_count": 5,
   "id": "baac276e",
   "metadata": {},
   "outputs": [
    {
     "data": {
      "text/plain": [
       "0"
      ]
     },
     "execution_count": 5,
     "metadata": {},
     "output_type": "execute_result"
    }
   ],
   "source": [
    "# Testing purpose\n",
    "\n",
    "return_code = vid_generator(file_dir, '2012.10.06.1300', '2016.10.05.1800')\n",
    "return_code"
   ]
  },
  {
   "cell_type": "code",
   "execution_count": 6,
   "id": "d0d851bd",
   "metadata": {},
   "outputs": [
    {
     "name": "stdout",
     "output_type": "stream",
     "text": [
      "The timestamps align properly:  True\n"
     ]
    }
   ],
   "source": [
    "## TO-DO:\n",
    "start_idx_arr = [] # This needs to come from a csv file\n",
    "end_idx_arr = [] # This also needs to come from a csv file\n",
    "\n",
    "# Only execute when the numbers of timestamps match perfectly\n",
    "print('The timestamps align properly: ', len(start_idx_arr) == len(end_idx_arr))"
   ]
  },
  {
   "cell_type": "code",
   "execution_count": null,
   "id": "17af4b5b",
   "metadata": {},
   "outputs": [],
   "source": []
  },
  {
   "cell_type": "code",
   "execution_count": null,
   "id": "50efc8c5",
   "metadata": {},
   "outputs": [],
   "source": []
  },
  {
   "cell_type": "code",
   "execution_count": null,
   "id": "0bd585dc",
   "metadata": {},
   "outputs": [],
   "source": []
  }
 ],
 "metadata": {
  "kernelspec": {
   "display_name": "Python 3 (ipykernel)",
   "language": "python",
   "name": "python3"
  },
  "language_info": {
   "codemirror_mode": {
    "name": "ipython",
    "version": 3
   },
   "file_extension": ".py",
   "mimetype": "text/x-python",
   "name": "python",
   "nbconvert_exporter": "python",
   "pygments_lexer": "ipython3",
   "version": "3.9.9"
  }
 },
 "nbformat": 4,
 "nbformat_minor": 5
}
