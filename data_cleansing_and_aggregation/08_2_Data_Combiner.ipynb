{
 "cells": [
  {
   "cell_type": "code",
   "execution_count": 1,
   "id": "9a8b9e7d",
   "metadata": {},
   "outputs": [
    {
     "data": {
      "text/plain": [
       "['output/Hourly_Combined_CSV/2006Fall_2007Spring_GOES_meteo_combined_94871.csv',\n",
       " 'output/Hourly_Combined_CSV/2007Fall_2008Spring_GOES_meteo_combined_94871.csv',\n",
       " 'output/Hourly_Combined_CSV/2008Fall_2009Spring_GOES_meteo_combined_94871.csv',\n",
       " 'output/Hourly_Combined_CSV/2009Fall_2010Spring_GOES_meteo_combined_94871.csv',\n",
       " 'output/Hourly_Combined_CSV/2010Fall_2011Spring_GOES_meteo_combined_94871.csv',\n",
       " 'output/Hourly_Combined_CSV/2011Fall_2012Spring_GOES_meteo_combined_94871.csv',\n",
       " 'output/Hourly_Combined_CSV/2012Fall_2013Spring_GOES_meteo_combined_94871.csv',\n",
       " 'output/Hourly_Combined_CSV/2013Fall_2014Spring_GOES_meteo_combined_94871.csv',\n",
       " 'output/Hourly_Combined_CSV/2014Fall_2015Spring_GOES_meteo_combined_94871.csv',\n",
       " 'output/Hourly_Combined_CSV/2015Fall_2016Spring_GOES_meteo_combined_94871.csv',\n",
       " 'output/Hourly_Combined_CSV/2016Fall_2017Spring_GOES_meteo_combined_94871.csv']"
      ]
     },
     "execution_count": 1,
     "metadata": {},
     "output_type": "execute_result"
    }
   ],
   "source": [
    "import glob\n",
    "import pandas as pd\n",
    "import os\n",
    "\n",
    "# Set the path to the folder containing the CSV files\n",
    "folder_path = 'output/Hourly_Combined_CSV'\n",
    "# folder_path = 'output/exp2'\n",
    "\n",
    "# Get a list of all CSV files in the folder\n",
    "csv_files = glob.glob(folder_path + \"/*.csv\")\n",
    "csv_files.sort()\n",
    "\n",
    "csv_files\n"
   ]
  },
  {
   "cell_type": "code",
   "execution_count": 2,
   "id": "7b8d17e7",
   "metadata": {},
   "outputs": [],
   "source": [
    "# Read each CSV file and concatenate them into a single dataframe\n",
    "df = pd.concat((pd.read_csv(f) for f in csv_files), ignore_index=True)"
   ]
  },
  {
   "cell_type": "code",
   "execution_count": 3,
   "id": "a6bc2b09",
   "metadata": {},
   "outputs": [],
   "source": [
    "output_dir = 'output/'\n",
    "output_csv_name = 'Take_2_'+str(2006)+'Fall_'+str(2017)+'Spring_GOES_meteo_combined_94871.csv'\n",
    "# output_csv_name = str(2006)+'Fall_'+str(2017)+'Spring_GOES_meteo_combined.csv'\n",
    "\n",
    "output_file_path = os.path.join(output_dir, output_csv_name)\n",
    "\n",
    "df.to_csv(output_file_path, index=False)"
   ]
  },
  {
   "cell_type": "code",
   "execution_count": null,
   "id": "45dd7d6e",
   "metadata": {},
   "outputs": [],
   "source": []
  }
 ],
 "metadata": {
  "kernelspec": {
   "display_name": "Python 3 (ipykernel)",
   "language": "python",
   "name": "python3"
  },
  "language_info": {
   "codemirror_mode": {
    "name": "ipython",
    "version": 3
   },
   "file_extension": ".py",
   "mimetype": "text/x-python",
   "name": "python",
   "nbconvert_exporter": "python",
   "pygments_lexer": "ipython3",
   "version": "3.8.16"
  }
 },
 "nbformat": 4,
 "nbformat_minor": 5
}
