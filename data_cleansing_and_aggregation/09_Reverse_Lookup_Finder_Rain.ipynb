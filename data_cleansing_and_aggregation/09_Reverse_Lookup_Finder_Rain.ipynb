{
 "cells": [
  {
   "cell_type": "code",
   "execution_count": 1,
   "id": "1944822e",
   "metadata": {},
   "outputs": [],
   "source": [
    "import pandas as pd\n",
    "import numpy as np\n",
    "import os\n",
    "from tqdm import tqdm"
   ]
  },
  {
   "cell_type": "code",
   "execution_count": 2,
   "id": "d3c778fd",
   "metadata": {},
   "outputs": [
    {
     "data": {
      "text/plain": [
       "['Take_2_2006Fall_2017Spring_GOES_meteo_combined_04839.csv',\n",
       " 'Take_2_2006Fall_2017Spring_GOES_meteo_combined_04846.csv',\n",
       " 'Take_2_2006Fall_2017Spring_GOES_meteo_combined_04877.csv',\n",
       " 'Take_2_2006Fall_2017Spring_GOES_meteo_combined_04892.csv',\n",
       " 'Take_2_2006Fall_2017Spring_GOES_meteo_combined_14815.csv',\n",
       " 'Take_2_2006Fall_2017Spring_GOES_meteo_combined_14819.csv',\n",
       " 'Take_2_2006Fall_2017Spring_GOES_meteo_combined_14829.csv',\n",
       " 'Take_2_2006Fall_2017Spring_GOES_meteo_combined_14836.csv',\n",
       " 'Take_2_2006Fall_2017Spring_GOES_meteo_combined_14840.csv',\n",
       " 'Take_2_2006Fall_2017Spring_GOES_meteo_combined_14841.csv',\n",
       " 'Take_2_2006Fall_2017Spring_GOES_meteo_combined_14845.csv',\n",
       " 'Take_2_2006Fall_2017Spring_GOES_meteo_combined_14848.csv',\n",
       " 'Take_2_2006Fall_2017Spring_GOES_meteo_combined_14850.csv',\n",
       " 'Take_2_2006Fall_2017Spring_GOES_meteo_combined_94814.csv',\n",
       " 'Take_2_2006Fall_2017Spring_GOES_meteo_combined_94815.csv',\n",
       " 'Take_2_2006Fall_2017Spring_GOES_meteo_combined_94860.csv',\n",
       " 'Take_2_2006Fall_2017Spring_GOES_meteo_combined_94871.csv',\n",
       " 'Take_2_2008Fall_2015Spring_GOES_meteo_combined_04883.csv',\n",
       " 'Take_2_2008Fall_2017Spring_GOES_meteo_combined_94833.csv']"
      ]
     },
     "execution_count": 2,
     "metadata": {},
     "output_type": "execute_result"
    }
   ],
   "source": [
    "folder_path = 'output/'\n",
    "# list all files in the directory\n",
    "files = os.listdir(folder_path)\n",
    "\n",
    "# filter files that start with 'Take_2' and end with '.csv'\n",
    "filtered_files = [file for file in files if file.startswith('Take_2') and file.endswith('.csv')]\n",
    "filtered_files.sort()\n",
    "# print the list of filtered files\n",
    "filtered_files"
   ]
  },
  {
   "cell_type": "code",
   "execution_count": 3,
   "id": "e8f33fef",
   "metadata": {},
   "outputs": [
    {
     "data": {
      "text/plain": [
       "19"
      ]
     },
     "execution_count": 3,
     "metadata": {},
     "output_type": "execute_result"
    }
   ],
   "source": [
    "len(filtered_files)"
   ]
  },
  {
   "cell_type": "code",
   "execution_count": 4,
   "id": "5ab15a42",
   "metadata": {},
   "outputs": [
    {
     "data": {
      "text/html": [
       "<div>\n",
       "<style scoped>\n",
       "    .dataframe tbody tr th:only-of-type {\n",
       "        vertical-align: middle;\n",
       "    }\n",
       "\n",
       "    .dataframe tbody tr th {\n",
       "        vertical-align: top;\n",
       "    }\n",
       "\n",
       "    .dataframe thead th {\n",
       "        text-align: right;\n",
       "    }\n",
       "</style>\n",
       "<table border=\"1\" class=\"dataframe\">\n",
       "  <thead>\n",
       "    <tr style=\"text-align: right;\">\n",
       "      <th></th>\n",
       "      <th>Date_UTC</th>\n",
       "      <th>Time_UTC</th>\n",
       "      <th>Date_CST</th>\n",
       "      <th>Time_CST</th>\n",
       "      <th>File_name_for_1D_lake</th>\n",
       "      <th>File_name_for_2D_lake</th>\n",
       "      <th>Lake_data_1D</th>\n",
       "      <th>data_usable</th>\n",
       "      <th>cloud_count</th>\n",
       "      <th>cloud_exist</th>\n",
       "      <th>...</th>\n",
       "      <th>Atm Press (hPa)</th>\n",
       "      <th>Sea Lev Press (hPa)</th>\n",
       "      <th>Altimeter (hPa)</th>\n",
       "      <th>Precip (in)</th>\n",
       "      <th>Wind Chill (F)</th>\n",
       "      <th>Heat Index (F)</th>\n",
       "      <th>Unnamed: 18</th>\n",
       "      <th>is_snow_precip</th>\n",
       "      <th>is_precip</th>\n",
       "      <th>does_snow_24_120</th>\n",
       "    </tr>\n",
       "  </thead>\n",
       "  <tbody>\n",
       "    <tr>\n",
       "      <th>0</th>\n",
       "      <td>2006-10-01</td>\n",
       "      <td>00:00</td>\n",
       "      <td>2006-09-30</td>\n",
       "      <td>18:00</td>\n",
       "      <td>goes11.2006.10.01.0000.v01.nc-var1-t0.csv</td>\n",
       "      <td>T_goes11.2006.10.01.0000.v01.nc-var1-t0.csv.csv</td>\n",
       "      <td>[0.0075, 0.0025, 0.0, 0.005, 0.0, 0.005, nan, ...</td>\n",
       "      <td>False</td>\n",
       "      <td>0</td>\n",
       "      <td>False</td>\n",
       "      <td>...</td>\n",
       "      <td>984.40</td>\n",
       "      <td>1007.20</td>\n",
       "      <td>1007.10</td>\n",
       "      <td>0.00</td>\n",
       "      <td>NC</td>\n",
       "      <td>NC</td>\n",
       "      <td>NaN</td>\n",
       "      <td>False</td>\n",
       "      <td>False</td>\n",
       "      <td>False</td>\n",
       "    </tr>\n",
       "    <tr>\n",
       "      <th>1</th>\n",
       "      <td>2006-10-01</td>\n",
       "      <td>01:00</td>\n",
       "      <td>2006-09-30</td>\n",
       "      <td>19:00</td>\n",
       "      <td>goes11.2006.10.01.0100.v01.nc-var1-t0.csv</td>\n",
       "      <td>T_goes11.2006.10.01.0100.v01.nc-var1-t0.csv.csv</td>\n",
       "      <td>[0.0025, nan, 0.0025, 0.0025, nan, 0.0, nan, 0...</td>\n",
       "      <td>False</td>\n",
       "      <td>0</td>\n",
       "      <td>False</td>\n",
       "      <td>...</td>\n",
       "      <td>984.70</td>\n",
       "      <td>1007.80</td>\n",
       "      <td>1007.50</td>\n",
       "      <td>0.00</td>\n",
       "      <td>NC</td>\n",
       "      <td>NC</td>\n",
       "      <td>NaN</td>\n",
       "      <td>False</td>\n",
       "      <td>False</td>\n",
       "      <td>False</td>\n",
       "    </tr>\n",
       "    <tr>\n",
       "      <th>2</th>\n",
       "      <td>2006-10-01</td>\n",
       "      <td>02:00</td>\n",
       "      <td>2006-09-30</td>\n",
       "      <td>20:00</td>\n",
       "      <td>goes11.2006.10.01.0200.v01.nc-var1-t0.csv</td>\n",
       "      <td>T_goes11.2006.10.01.0200.v01.nc-var1-t0.csv.csv</td>\n",
       "      <td>[0.0, nan, 0.0075, nan, nan, 0.0025, nan, nan,...</td>\n",
       "      <td>False</td>\n",
       "      <td>0</td>\n",
       "      <td>False</td>\n",
       "      <td>...</td>\n",
       "      <td>985.40</td>\n",
       "      <td>1008.30</td>\n",
       "      <td>1008.10</td>\n",
       "      <td>0.00</td>\n",
       "      <td>NC</td>\n",
       "      <td>NC</td>\n",
       "      <td>NaN</td>\n",
       "      <td>False</td>\n",
       "      <td>False</td>\n",
       "      <td>False</td>\n",
       "    </tr>\n",
       "    <tr>\n",
       "      <th>3</th>\n",
       "      <td>2006-10-01</td>\n",
       "      <td>03:00</td>\n",
       "      <td>2006-09-30</td>\n",
       "      <td>21:00</td>\n",
       "      <td>goes11.2006.10.01.0300.v01.nc-var1-t0.csv</td>\n",
       "      <td>T_goes11.2006.10.01.0300.v01.nc-var1-t0.csv.csv</td>\n",
       "      <td>[0.0025, nan, 0.0025, 0.0, 0.0075, nan, 0.005,...</td>\n",
       "      <td>False</td>\n",
       "      <td>0</td>\n",
       "      <td>False</td>\n",
       "      <td>...</td>\n",
       "      <td>986.00</td>\n",
       "      <td>M</td>\n",
       "      <td>1008.80</td>\n",
       "      <td>0.02</td>\n",
       "      <td>NC</td>\n",
       "      <td>NC</td>\n",
       "      <td>NaN</td>\n",
       "      <td>False</td>\n",
       "      <td>True</td>\n",
       "      <td>False</td>\n",
       "    </tr>\n",
       "    <tr>\n",
       "      <th>4</th>\n",
       "      <td>2006-10-01</td>\n",
       "      <td>04:00</td>\n",
       "      <td>2006-09-30</td>\n",
       "      <td>22:00</td>\n",
       "      <td>goes11.2006.10.01.0400.v01.nc-var1-t0.csv</td>\n",
       "      <td>T_goes11.2006.10.01.0400.v01.nc-var1-t0.csv.csv</td>\n",
       "      <td>[0.0025, nan, 0.0, nan, 0.0075, 0.0, nan, nan,...</td>\n",
       "      <td>False</td>\n",
       "      <td>0</td>\n",
       "      <td>False</td>\n",
       "      <td>...</td>\n",
       "      <td>986.40</td>\n",
       "      <td>1009.50</td>\n",
       "      <td>1009.10</td>\n",
       "      <td>0.00</td>\n",
       "      <td>NC</td>\n",
       "      <td>NC</td>\n",
       "      <td>NaN</td>\n",
       "      <td>False</td>\n",
       "      <td>False</td>\n",
       "      <td>False</td>\n",
       "    </tr>\n",
       "  </tbody>\n",
       "</table>\n",
       "<p>5 rows × 30 columns</p>\n",
       "</div>"
      ],
      "text/plain": [
       "     Date_UTC Time_UTC    Date_CST Time_CST  \\\n",
       "0  2006-10-01    00:00  2006-09-30    18:00   \n",
       "1  2006-10-01    01:00  2006-09-30    19:00   \n",
       "2  2006-10-01    02:00  2006-09-30    20:00   \n",
       "3  2006-10-01    03:00  2006-09-30    21:00   \n",
       "4  2006-10-01    04:00  2006-09-30    22:00   \n",
       "\n",
       "                       File_name_for_1D_lake  \\\n",
       "0  goes11.2006.10.01.0000.v01.nc-var1-t0.csv   \n",
       "1  goes11.2006.10.01.0100.v01.nc-var1-t0.csv   \n",
       "2  goes11.2006.10.01.0200.v01.nc-var1-t0.csv   \n",
       "3  goes11.2006.10.01.0300.v01.nc-var1-t0.csv   \n",
       "4  goes11.2006.10.01.0400.v01.nc-var1-t0.csv   \n",
       "\n",
       "                             File_name_for_2D_lake  \\\n",
       "0  T_goes11.2006.10.01.0000.v01.nc-var1-t0.csv.csv   \n",
       "1  T_goes11.2006.10.01.0100.v01.nc-var1-t0.csv.csv   \n",
       "2  T_goes11.2006.10.01.0200.v01.nc-var1-t0.csv.csv   \n",
       "3  T_goes11.2006.10.01.0300.v01.nc-var1-t0.csv.csv   \n",
       "4  T_goes11.2006.10.01.0400.v01.nc-var1-t0.csv.csv   \n",
       "\n",
       "                                        Lake_data_1D  data_usable  \\\n",
       "0  [0.0075, 0.0025, 0.0, 0.005, 0.0, 0.005, nan, ...        False   \n",
       "1  [0.0025, nan, 0.0025, 0.0025, nan, 0.0, nan, 0...        False   \n",
       "2  [0.0, nan, 0.0075, nan, nan, 0.0025, nan, nan,...        False   \n",
       "3  [0.0025, nan, 0.0025, 0.0, 0.0075, nan, 0.005,...        False   \n",
       "4  [0.0025, nan, 0.0, nan, 0.0075, 0.0, nan, nan,...        False   \n",
       "\n",
       "   cloud_count  cloud_exist  ...  Atm Press (hPa) Sea Lev Press (hPa)  \\\n",
       "0            0        False  ...           984.40             1007.20   \n",
       "1            0        False  ...           984.70             1007.80   \n",
       "2            0        False  ...           985.40             1008.30   \n",
       "3            0        False  ...           986.00                   M   \n",
       "4            0        False  ...           986.40             1009.50   \n",
       "\n",
       "  Altimeter (hPa) Precip (in) Wind Chill (F) Heat Index (F) Unnamed: 18  \\\n",
       "0         1007.10        0.00             NC             NC         NaN   \n",
       "1         1007.50        0.00             NC             NC         NaN   \n",
       "2         1008.10        0.00             NC             NC         NaN   \n",
       "3         1008.80        0.02             NC             NC         NaN   \n",
       "4         1009.10        0.00             NC             NC         NaN   \n",
       "\n",
       "  is_snow_precip is_precip does_snow_24_120  \n",
       "0          False     False            False  \n",
       "1          False     False            False  \n",
       "2          False     False            False  \n",
       "3          False      True            False  \n",
       "4          False     False            False  \n",
       "\n",
       "[5 rows x 30 columns]"
      ]
     },
     "execution_count": 4,
     "metadata": {},
     "output_type": "execute_result"
    }
   ],
   "source": [
    "filename = filtered_files[12]\n",
    "\n",
    "file_path = 'output/'\n",
    "\n",
    "df_temp_table = pd.read_csv(file_path+filename)\n",
    "\n",
    "df_temp_table.head(5)"
   ]
  },
  {
   "cell_type": "code",
   "execution_count": 5,
   "id": "a20a433c",
   "metadata": {},
   "outputs": [
    {
     "name": "stdout",
     "output_type": "stream",
     "text": [
      "14850\n"
     ]
    }
   ],
   "source": [
    "\n",
    "station_ID_num = filename.split('_')[-1].split('.')[0]\n",
    "print(station_ID_num)\n"
   ]
  },
  {
   "cell_type": "code",
   "execution_count": 6,
   "id": "e5902485",
   "metadata": {},
   "outputs": [
    {
     "data": {
      "text/html": [
       "<div>\n",
       "<style scoped>\n",
       "    .dataframe tbody tr th:only-of-type {\n",
       "        vertical-align: middle;\n",
       "    }\n",
       "\n",
       "    .dataframe tbody tr th {\n",
       "        vertical-align: top;\n",
       "    }\n",
       "\n",
       "    .dataframe thead th {\n",
       "        text-align: right;\n",
       "    }\n",
       "</style>\n",
       "<table border=\"1\" class=\"dataframe\">\n",
       "  <thead>\n",
       "    <tr style=\"text-align: right;\">\n",
       "      <th></th>\n",
       "      <th>Date_UTC</th>\n",
       "      <th>Time_UTC</th>\n",
       "      <th>Date_CST</th>\n",
       "      <th>Time_CST</th>\n",
       "      <th>File_name_for_1D_lake</th>\n",
       "      <th>File_name_for_2D_lake</th>\n",
       "      <th>Lake_data_1D</th>\n",
       "      <th>data_usable</th>\n",
       "      <th>cloud_count</th>\n",
       "      <th>cloud_exist</th>\n",
       "      <th>...</th>\n",
       "      <th>Atm Press (hPa)</th>\n",
       "      <th>Sea Lev Press (hPa)</th>\n",
       "      <th>Altimeter (hPa)</th>\n",
       "      <th>Precip (in)</th>\n",
       "      <th>Wind Chill (F)</th>\n",
       "      <th>Heat Index (F)</th>\n",
       "      <th>Unnamed: 18</th>\n",
       "      <th>is_snow_precip</th>\n",
       "      <th>is_precip</th>\n",
       "      <th>does_snow_24_120</th>\n",
       "    </tr>\n",
       "  </thead>\n",
       "  <tbody>\n",
       "    <tr>\n",
       "      <th>0</th>\n",
       "      <td>2006-10-01</td>\n",
       "      <td>00:00</td>\n",
       "      <td>2006-09-30</td>\n",
       "      <td>18:00</td>\n",
       "      <td>goes11.2006.10.01.0000.v01.nc-var1-t0.csv</td>\n",
       "      <td>T_goes11.2006.10.01.0000.v01.nc-var1-t0.csv.csv</td>\n",
       "      <td>[0.0075, 0.0025, 0.0, 0.005, 0.0, 0.005, nan, ...</td>\n",
       "      <td>False</td>\n",
       "      <td>0</td>\n",
       "      <td>False</td>\n",
       "      <td>...</td>\n",
       "      <td>984.40</td>\n",
       "      <td>1007.20</td>\n",
       "      <td>1007.10</td>\n",
       "      <td>0.00</td>\n",
       "      <td>NC</td>\n",
       "      <td>NC</td>\n",
       "      <td>NaN</td>\n",
       "      <td>False</td>\n",
       "      <td>False</td>\n",
       "      <td>False</td>\n",
       "    </tr>\n",
       "    <tr>\n",
       "      <th>1</th>\n",
       "      <td>2006-10-01</td>\n",
       "      <td>01:00</td>\n",
       "      <td>2006-09-30</td>\n",
       "      <td>19:00</td>\n",
       "      <td>goes11.2006.10.01.0100.v01.nc-var1-t0.csv</td>\n",
       "      <td>T_goes11.2006.10.01.0100.v01.nc-var1-t0.csv.csv</td>\n",
       "      <td>[0.0025, nan, 0.0025, 0.0025, nan, 0.0, nan, 0...</td>\n",
       "      <td>False</td>\n",
       "      <td>0</td>\n",
       "      <td>False</td>\n",
       "      <td>...</td>\n",
       "      <td>984.70</td>\n",
       "      <td>1007.80</td>\n",
       "      <td>1007.50</td>\n",
       "      <td>0.00</td>\n",
       "      <td>NC</td>\n",
       "      <td>NC</td>\n",
       "      <td>NaN</td>\n",
       "      <td>False</td>\n",
       "      <td>False</td>\n",
       "      <td>False</td>\n",
       "    </tr>\n",
       "    <tr>\n",
       "      <th>2</th>\n",
       "      <td>2006-10-01</td>\n",
       "      <td>02:00</td>\n",
       "      <td>2006-09-30</td>\n",
       "      <td>20:00</td>\n",
       "      <td>goes11.2006.10.01.0200.v01.nc-var1-t0.csv</td>\n",
       "      <td>T_goes11.2006.10.01.0200.v01.nc-var1-t0.csv.csv</td>\n",
       "      <td>[0.0, nan, 0.0075, nan, nan, 0.0025, nan, nan,...</td>\n",
       "      <td>False</td>\n",
       "      <td>0</td>\n",
       "      <td>False</td>\n",
       "      <td>...</td>\n",
       "      <td>985.40</td>\n",
       "      <td>1008.30</td>\n",
       "      <td>1008.10</td>\n",
       "      <td>0.00</td>\n",
       "      <td>NC</td>\n",
       "      <td>NC</td>\n",
       "      <td>NaN</td>\n",
       "      <td>False</td>\n",
       "      <td>False</td>\n",
       "      <td>False</td>\n",
       "    </tr>\n",
       "    <tr>\n",
       "      <th>3</th>\n",
       "      <td>2006-10-01</td>\n",
       "      <td>03:00</td>\n",
       "      <td>2006-09-30</td>\n",
       "      <td>21:00</td>\n",
       "      <td>goes11.2006.10.01.0300.v01.nc-var1-t0.csv</td>\n",
       "      <td>T_goes11.2006.10.01.0300.v01.nc-var1-t0.csv.csv</td>\n",
       "      <td>[0.0025, nan, 0.0025, 0.0, 0.0075, nan, 0.005,...</td>\n",
       "      <td>False</td>\n",
       "      <td>0</td>\n",
       "      <td>False</td>\n",
       "      <td>...</td>\n",
       "      <td>986.00</td>\n",
       "      <td>M</td>\n",
       "      <td>1008.80</td>\n",
       "      <td>0.02</td>\n",
       "      <td>NC</td>\n",
       "      <td>NC</td>\n",
       "      <td>NaN</td>\n",
       "      <td>False</td>\n",
       "      <td>True</td>\n",
       "      <td>False</td>\n",
       "    </tr>\n",
       "    <tr>\n",
       "      <th>4</th>\n",
       "      <td>2006-10-01</td>\n",
       "      <td>04:00</td>\n",
       "      <td>2006-09-30</td>\n",
       "      <td>22:00</td>\n",
       "      <td>goes11.2006.10.01.0400.v01.nc-var1-t0.csv</td>\n",
       "      <td>T_goes11.2006.10.01.0400.v01.nc-var1-t0.csv.csv</td>\n",
       "      <td>[0.0025, nan, 0.0, nan, 0.0075, 0.0, nan, nan,...</td>\n",
       "      <td>False</td>\n",
       "      <td>0</td>\n",
       "      <td>False</td>\n",
       "      <td>...</td>\n",
       "      <td>986.40</td>\n",
       "      <td>1009.50</td>\n",
       "      <td>1009.10</td>\n",
       "      <td>0.00</td>\n",
       "      <td>NC</td>\n",
       "      <td>NC</td>\n",
       "      <td>NaN</td>\n",
       "      <td>False</td>\n",
       "      <td>False</td>\n",
       "      <td>False</td>\n",
       "    </tr>\n",
       "    <tr>\n",
       "      <th>5</th>\n",
       "      <td>2006-10-01</td>\n",
       "      <td>05:00</td>\n",
       "      <td>2006-09-30</td>\n",
       "      <td>23:00</td>\n",
       "      <td>goes11.2006.10.01.0500.v01.nc-var1-t0.csv</td>\n",
       "      <td>T_goes11.2006.10.01.0500.v01.nc-var1-t0.csv.csv</td>\n",
       "      <td>[nan, nan, 0.0075, nan, nan, 0.0025, 0.0025, 0...</td>\n",
       "      <td>False</td>\n",
       "      <td>0</td>\n",
       "      <td>False</td>\n",
       "      <td>...</td>\n",
       "      <td>986.70</td>\n",
       "      <td>1009.80</td>\n",
       "      <td>1009.50</td>\n",
       "      <td>0.00</td>\n",
       "      <td>NC</td>\n",
       "      <td>NC</td>\n",
       "      <td>NaN</td>\n",
       "      <td>False</td>\n",
       "      <td>False</td>\n",
       "      <td>False</td>\n",
       "    </tr>\n",
       "    <tr>\n",
       "      <th>6</th>\n",
       "      <td>2006-10-01</td>\n",
       "      <td>06:00</td>\n",
       "      <td>2006-10-01</td>\n",
       "      <td>00:00</td>\n",
       "      <td>goes11.2006.10.01.0600.v01.nc-var1-t0.csv</td>\n",
       "      <td>T_goes11.2006.10.01.0600.v01.nc-var1-t0.csv.csv</td>\n",
       "      <td>[nan, 0.0, 0.0075, 0.005, 0.0025, 0.005, 0.005...</td>\n",
       "      <td>False</td>\n",
       "      <td>0</td>\n",
       "      <td>False</td>\n",
       "      <td>...</td>\n",
       "      <td>987.30</td>\n",
       "      <td>1010.20</td>\n",
       "      <td>1010.20</td>\n",
       "      <td>0.01</td>\n",
       "      <td>NC</td>\n",
       "      <td>NC</td>\n",
       "      <td>NaN</td>\n",
       "      <td>False</td>\n",
       "      <td>True</td>\n",
       "      <td>False</td>\n",
       "    </tr>\n",
       "    <tr>\n",
       "      <th>7</th>\n",
       "      <td>2006-10-01</td>\n",
       "      <td>07:00</td>\n",
       "      <td>2006-10-01</td>\n",
       "      <td>01:00</td>\n",
       "      <td>goes11.2006.10.01.0700.v01.nc-var1-t0.csv</td>\n",
       "      <td>T_goes11.2006.10.01.0700.v01.nc-var1-t0.csv.csv</td>\n",
       "      <td>[nan, 0.0025, 0.005, 0.0025, nan, nan, nan, 0....</td>\n",
       "      <td>False</td>\n",
       "      <td>0</td>\n",
       "      <td>False</td>\n",
       "      <td>...</td>\n",
       "      <td>988.00</td>\n",
       "      <td>1010.80</td>\n",
       "      <td>1010.80</td>\n",
       "      <td>0.00</td>\n",
       "      <td>NC</td>\n",
       "      <td>NC</td>\n",
       "      <td>NaN</td>\n",
       "      <td>False</td>\n",
       "      <td>False</td>\n",
       "      <td>False</td>\n",
       "    </tr>\n",
       "    <tr>\n",
       "      <th>8</th>\n",
       "      <td>2006-10-01</td>\n",
       "      <td>08:00</td>\n",
       "      <td>2006-10-01</td>\n",
       "      <td>02:00</td>\n",
       "      <td>None</td>\n",
       "      <td>None</td>\n",
       "      <td>[0. 0. 0. ... 0. 0. 0.]</td>\n",
       "      <td>False</td>\n",
       "      <td>0</td>\n",
       "      <td>False</td>\n",
       "      <td>...</td>\n",
       "      <td>988.30</td>\n",
       "      <td>M</td>\n",
       "      <td>1011.20</td>\n",
       "      <td>0.00</td>\n",
       "      <td>NC</td>\n",
       "      <td>NC</td>\n",
       "      <td>NaN</td>\n",
       "      <td>False</td>\n",
       "      <td>False</td>\n",
       "      <td>False</td>\n",
       "    </tr>\n",
       "    <tr>\n",
       "      <th>9</th>\n",
       "      <td>2006-10-01</td>\n",
       "      <td>09:00</td>\n",
       "      <td>2006-10-01</td>\n",
       "      <td>03:00</td>\n",
       "      <td>None</td>\n",
       "      <td>None</td>\n",
       "      <td>[0. 0. 0. ... 0. 0. 0.]</td>\n",
       "      <td>False</td>\n",
       "      <td>0</td>\n",
       "      <td>False</td>\n",
       "      <td>...</td>\n",
       "      <td>989.00</td>\n",
       "      <td>M</td>\n",
       "      <td>1011.90</td>\n",
       "      <td>0.00</td>\n",
       "      <td>NC</td>\n",
       "      <td>NC</td>\n",
       "      <td>NaN</td>\n",
       "      <td>False</td>\n",
       "      <td>False</td>\n",
       "      <td>False</td>\n",
       "    </tr>\n",
       "    <tr>\n",
       "      <th>10</th>\n",
       "      <td>2006-10-01</td>\n",
       "      <td>10:00</td>\n",
       "      <td>2006-10-01</td>\n",
       "      <td>04:00</td>\n",
       "      <td>goes11.2006.10.01.1000.v01.nc-var1-t0.csv</td>\n",
       "      <td>T_goes11.2006.10.01.1000.v01.nc-var1-t0.csv.csv</td>\n",
       "      <td>[0.012499999, 0.0075, 0.0175, 0.0175, 0.012499...</td>\n",
       "      <td>False</td>\n",
       "      <td>0</td>\n",
       "      <td>False</td>\n",
       "      <td>...</td>\n",
       "      <td>989.70</td>\n",
       "      <td>1012.80</td>\n",
       "      <td>1012.50</td>\n",
       "      <td>0.00</td>\n",
       "      <td>NC</td>\n",
       "      <td>NC</td>\n",
       "      <td>NaN</td>\n",
       "      <td>False</td>\n",
       "      <td>False</td>\n",
       "      <td>False</td>\n",
       "    </tr>\n",
       "    <tr>\n",
       "      <th>11</th>\n",
       "      <td>2006-10-01</td>\n",
       "      <td>11:00</td>\n",
       "      <td>2006-10-01</td>\n",
       "      <td>05:00</td>\n",
       "      <td>goes11.2006.10.01.1100.v01.nc-var1-t0.csv</td>\n",
       "      <td>T_goes11.2006.10.01.1100.v01.nc-var1-t0.csv.csv</td>\n",
       "      <td>[0.0025, 0.005, nan, 0.0025, nan, 0.0075, nan,...</td>\n",
       "      <td>False</td>\n",
       "      <td>0</td>\n",
       "      <td>False</td>\n",
       "      <td>...</td>\n",
       "      <td>990.70</td>\n",
       "      <td>1013.60</td>\n",
       "      <td>1013.50</td>\n",
       "      <td>0.00</td>\n",
       "      <td>NC</td>\n",
       "      <td>NC</td>\n",
       "      <td>NaN</td>\n",
       "      <td>False</td>\n",
       "      <td>False</td>\n",
       "      <td>False</td>\n",
       "    </tr>\n",
       "    <tr>\n",
       "      <th>12</th>\n",
       "      <td>2006-10-01</td>\n",
       "      <td>12:00</td>\n",
       "      <td>2006-10-01</td>\n",
       "      <td>06:00</td>\n",
       "      <td>goes11.2006.10.01.1200.v01.nc-var1-t0.csv</td>\n",
       "      <td>T_goes11.2006.10.01.1200.v01.nc-var1-t0.csv.csv</td>\n",
       "      <td>[0.035, 0.04, 0.044999998, 0.049999997, 0.0425...</td>\n",
       "      <td>True</td>\n",
       "      <td>0</td>\n",
       "      <td>False</td>\n",
       "      <td>...</td>\n",
       "      <td>991.70</td>\n",
       "      <td>1014.80</td>\n",
       "      <td>1014.60</td>\n",
       "      <td>0.00</td>\n",
       "      <td>NC</td>\n",
       "      <td>NC</td>\n",
       "      <td>NaN</td>\n",
       "      <td>False</td>\n",
       "      <td>False</td>\n",
       "      <td>False</td>\n",
       "    </tr>\n",
       "    <tr>\n",
       "      <th>13</th>\n",
       "      <td>2006-10-01</td>\n",
       "      <td>13:00</td>\n",
       "      <td>2006-10-01</td>\n",
       "      <td>07:00</td>\n",
       "      <td>goes11.2006.10.01.1300.v01.nc-var1-t0.csv</td>\n",
       "      <td>T_goes11.2006.10.01.1300.v01.nc-var1-t0.csv.csv</td>\n",
       "      <td>[0.074999996, 0.0725, 0.07, 0.07, 0.0775, 0.06...</td>\n",
       "      <td>True</td>\n",
       "      <td>0</td>\n",
       "      <td>False</td>\n",
       "      <td>...</td>\n",
       "      <td>992.30</td>\n",
       "      <td>1015.60</td>\n",
       "      <td>1015.20</td>\n",
       "      <td>0.00</td>\n",
       "      <td>NC</td>\n",
       "      <td>NC</td>\n",
       "      <td>NaN</td>\n",
       "      <td>False</td>\n",
       "      <td>False</td>\n",
       "      <td>False</td>\n",
       "    </tr>\n",
       "    <tr>\n",
       "      <th>14</th>\n",
       "      <td>2006-10-01</td>\n",
       "      <td>14:00</td>\n",
       "      <td>2006-10-01</td>\n",
       "      <td>08:00</td>\n",
       "      <td>goes11.2006.10.01.1400.v01.nc-var1-t0.csv</td>\n",
       "      <td>T_goes11.2006.10.01.1400.v01.nc-var1-t0.csv.csv</td>\n",
       "      <td>[0.067499995, 0.07, 0.0625, 0.06, 0.0725, 0.06...</td>\n",
       "      <td>True</td>\n",
       "      <td>391</td>\n",
       "      <td>False</td>\n",
       "      <td>...</td>\n",
       "      <td>993.00</td>\n",
       "      <td>1016.30</td>\n",
       "      <td>1015.90</td>\n",
       "      <td>0.00</td>\n",
       "      <td>NC</td>\n",
       "      <td>NC</td>\n",
       "      <td>NaN</td>\n",
       "      <td>False</td>\n",
       "      <td>False</td>\n",
       "      <td>False</td>\n",
       "    </tr>\n",
       "    <tr>\n",
       "      <th>15</th>\n",
       "      <td>2006-10-01</td>\n",
       "      <td>15:00</td>\n",
       "      <td>2006-10-01</td>\n",
       "      <td>09:00</td>\n",
       "      <td>goes11.2006.10.01.1500.v01.nc-var1-t0.csv</td>\n",
       "      <td>T_goes11.2006.10.01.1500.v01.nc-var1-t0.csv.csv</td>\n",
       "      <td>[0.067499995, 0.067499995, 0.06, 0.06, 0.05749...</td>\n",
       "      <td>True</td>\n",
       "      <td>246</td>\n",
       "      <td>False</td>\n",
       "      <td>...</td>\n",
       "      <td>993.70</td>\n",
       "      <td>1016.90</td>\n",
       "      <td>1016.60</td>\n",
       "      <td>0.00</td>\n",
       "      <td>NC</td>\n",
       "      <td>NC</td>\n",
       "      <td>NaN</td>\n",
       "      <td>False</td>\n",
       "      <td>False</td>\n",
       "      <td>False</td>\n",
       "    </tr>\n",
       "    <tr>\n",
       "      <th>16</th>\n",
       "      <td>2006-10-01</td>\n",
       "      <td>16:00</td>\n",
       "      <td>2006-10-01</td>\n",
       "      <td>10:00</td>\n",
       "      <td>goes11.2006.10.01.1600.v01.nc-var1-t0.csv</td>\n",
       "      <td>T_goes11.2006.10.01.1600.v01.nc-var1-t0.csv.csv</td>\n",
       "      <td>[0.0725, 0.067499995, 0.07, 0.07, 0.067499995,...</td>\n",
       "      <td>True</td>\n",
       "      <td>195</td>\n",
       "      <td>False</td>\n",
       "      <td>...</td>\n",
       "      <td>994.30</td>\n",
       "      <td>1017.50</td>\n",
       "      <td>1017.30</td>\n",
       "      <td>0.00</td>\n",
       "      <td>NC</td>\n",
       "      <td>NC</td>\n",
       "      <td>NaN</td>\n",
       "      <td>False</td>\n",
       "      <td>False</td>\n",
       "      <td>False</td>\n",
       "    </tr>\n",
       "    <tr>\n",
       "      <th>17</th>\n",
       "      <td>2006-10-01</td>\n",
       "      <td>17:00</td>\n",
       "      <td>2006-10-01</td>\n",
       "      <td>11:00</td>\n",
       "      <td>goes11.2006.10.01.1700.v01.nc-var1-t0.csv</td>\n",
       "      <td>T_goes11.2006.10.01.1700.v01.nc-var1-t0.csv.csv</td>\n",
       "      <td>[0.067499995, 0.067499995, 0.067499995, 0.07, ...</td>\n",
       "      <td>True</td>\n",
       "      <td>277</td>\n",
       "      <td>False</td>\n",
       "      <td>...</td>\n",
       "      <td>995.00</td>\n",
       "      <td>1018.00</td>\n",
       "      <td>1017.90</td>\n",
       "      <td>0.00</td>\n",
       "      <td>NC</td>\n",
       "      <td>NC</td>\n",
       "      <td>NaN</td>\n",
       "      <td>False</td>\n",
       "      <td>False</td>\n",
       "      <td>False</td>\n",
       "    </tr>\n",
       "    <tr>\n",
       "      <th>18</th>\n",
       "      <td>2006-10-01</td>\n",
       "      <td>18:00</td>\n",
       "      <td>2006-10-01</td>\n",
       "      <td>12:00</td>\n",
       "      <td>goes11.2006.10.01.1800.v01.nc-var1-t0.csv</td>\n",
       "      <td>T_goes11.2006.10.01.1800.v01.nc-var1-t0.csv.csv</td>\n",
       "      <td>[0.085, 0.085, 0.0875, 0.0725, 0.0775, 0.0775,...</td>\n",
       "      <td>True</td>\n",
       "      <td>265</td>\n",
       "      <td>False</td>\n",
       "      <td>...</td>\n",
       "      <td>995.00</td>\n",
       "      <td>1018.10</td>\n",
       "      <td>1017.90</td>\n",
       "      <td>0.00</td>\n",
       "      <td>NC</td>\n",
       "      <td>NC</td>\n",
       "      <td>NaN</td>\n",
       "      <td>False</td>\n",
       "      <td>False</td>\n",
       "      <td>False</td>\n",
       "    </tr>\n",
       "    <tr>\n",
       "      <th>19</th>\n",
       "      <td>2006-10-01</td>\n",
       "      <td>19:00</td>\n",
       "      <td>2006-10-01</td>\n",
       "      <td>13:00</td>\n",
       "      <td>goes11.2006.10.01.1900.v01.nc-var1-t0.csv</td>\n",
       "      <td>T_goes11.2006.10.01.1900.v01.nc-var1-t0.csv.csv</td>\n",
       "      <td>[0.0925, 0.095, 0.0925, 0.074999996, 0.0875, 0...</td>\n",
       "      <td>True</td>\n",
       "      <td>371</td>\n",
       "      <td>False</td>\n",
       "      <td>...</td>\n",
       "      <td>994.70</td>\n",
       "      <td>1017.90</td>\n",
       "      <td>1017.60</td>\n",
       "      <td>0.00</td>\n",
       "      <td>NC</td>\n",
       "      <td>NC</td>\n",
       "      <td>NaN</td>\n",
       "      <td>False</td>\n",
       "      <td>False</td>\n",
       "      <td>False</td>\n",
       "    </tr>\n",
       "    <tr>\n",
       "      <th>20</th>\n",
       "      <td>2006-10-01</td>\n",
       "      <td>20:00</td>\n",
       "      <td>2006-10-01</td>\n",
       "      <td>14:00</td>\n",
       "      <td>goes11.2006.10.01.2000.v01.nc-var1-t0.csv</td>\n",
       "      <td>T_goes11.2006.10.01.2000.v01.nc-var1-t0.csv.csv</td>\n",
       "      <td>[0.099999994, 0.095, 0.0975, 0.099999994, 0.11...</td>\n",
       "      <td>True</td>\n",
       "      <td>873</td>\n",
       "      <td>True</td>\n",
       "      <td>...</td>\n",
       "      <td>994.70</td>\n",
       "      <td>1017.80</td>\n",
       "      <td>1017.60</td>\n",
       "      <td>0.00</td>\n",
       "      <td>NC</td>\n",
       "      <td>NC</td>\n",
       "      <td>NaN</td>\n",
       "      <td>False</td>\n",
       "      <td>False</td>\n",
       "      <td>False</td>\n",
       "    </tr>\n",
       "    <tr>\n",
       "      <th>21</th>\n",
       "      <td>2006-10-01</td>\n",
       "      <td>21:00</td>\n",
       "      <td>2006-10-01</td>\n",
       "      <td>15:00</td>\n",
       "      <td>goes11.2006.10.01.2100.v01.nc-var1-t0.csv</td>\n",
       "      <td>T_goes11.2006.10.01.2100.v01.nc-var1-t0.csv.csv</td>\n",
       "      <td>[0.11, 0.105, 0.0975, 0.107499994, 0.099999994...</td>\n",
       "      <td>True</td>\n",
       "      <td>873</td>\n",
       "      <td>True</td>\n",
       "      <td>...</td>\n",
       "      <td>994.70</td>\n",
       "      <td>1017.70</td>\n",
       "      <td>1017.60</td>\n",
       "      <td>0.00</td>\n",
       "      <td>NC</td>\n",
       "      <td>NC</td>\n",
       "      <td>NaN</td>\n",
       "      <td>False</td>\n",
       "      <td>False</td>\n",
       "      <td>False</td>\n",
       "    </tr>\n",
       "    <tr>\n",
       "      <th>22</th>\n",
       "      <td>2006-10-01</td>\n",
       "      <td>22:00</td>\n",
       "      <td>2006-10-01</td>\n",
       "      <td>16:00</td>\n",
       "      <td>goes11.2006.10.01.2200.v01.nc-var1-t0.csv</td>\n",
       "      <td>T_goes11.2006.10.01.2200.v01.nc-var1-t0.csv.csv</td>\n",
       "      <td>[0.089999996, 0.082499996, 0.0875, 0.0775, 0.0...</td>\n",
       "      <td>True</td>\n",
       "      <td>873</td>\n",
       "      <td>False</td>\n",
       "      <td>...</td>\n",
       "      <td>994.70</td>\n",
       "      <td>1017.80</td>\n",
       "      <td>1017.60</td>\n",
       "      <td>0.00</td>\n",
       "      <td>NC</td>\n",
       "      <td>NC</td>\n",
       "      <td>NaN</td>\n",
       "      <td>False</td>\n",
       "      <td>False</td>\n",
       "      <td>False</td>\n",
       "    </tr>\n",
       "    <tr>\n",
       "      <th>23</th>\n",
       "      <td>2006-10-01</td>\n",
       "      <td>23:00</td>\n",
       "      <td>2006-10-01</td>\n",
       "      <td>17:00</td>\n",
       "      <td>goes11.2006.10.01.2300.v01.nc-var1-t0.csv</td>\n",
       "      <td>T_goes11.2006.10.01.2300.v01.nc-var1-t0.csv.csv</td>\n",
       "      <td>[0.04, 0.0425, 0.044999998, 0.04, 0.04, 0.0475...</td>\n",
       "      <td>True</td>\n",
       "      <td>873</td>\n",
       "      <td>False</td>\n",
       "      <td>...</td>\n",
       "      <td>994.70</td>\n",
       "      <td>1017.80</td>\n",
       "      <td>1017.60</td>\n",
       "      <td>0.00</td>\n",
       "      <td>NC</td>\n",
       "      <td>NC</td>\n",
       "      <td>NaN</td>\n",
       "      <td>False</td>\n",
       "      <td>False</td>\n",
       "      <td>False</td>\n",
       "    </tr>\n",
       "  </tbody>\n",
       "</table>\n",
       "<p>24 rows × 30 columns</p>\n",
       "</div>"
      ],
      "text/plain": [
       "      Date_UTC Time_UTC    Date_CST Time_CST  \\\n",
       "0   2006-10-01    00:00  2006-09-30    18:00   \n",
       "1   2006-10-01    01:00  2006-09-30    19:00   \n",
       "2   2006-10-01    02:00  2006-09-30    20:00   \n",
       "3   2006-10-01    03:00  2006-09-30    21:00   \n",
       "4   2006-10-01    04:00  2006-09-30    22:00   \n",
       "5   2006-10-01    05:00  2006-09-30    23:00   \n",
       "6   2006-10-01    06:00  2006-10-01    00:00   \n",
       "7   2006-10-01    07:00  2006-10-01    01:00   \n",
       "8   2006-10-01    08:00  2006-10-01    02:00   \n",
       "9   2006-10-01    09:00  2006-10-01    03:00   \n",
       "10  2006-10-01    10:00  2006-10-01    04:00   \n",
       "11  2006-10-01    11:00  2006-10-01    05:00   \n",
       "12  2006-10-01    12:00  2006-10-01    06:00   \n",
       "13  2006-10-01    13:00  2006-10-01    07:00   \n",
       "14  2006-10-01    14:00  2006-10-01    08:00   \n",
       "15  2006-10-01    15:00  2006-10-01    09:00   \n",
       "16  2006-10-01    16:00  2006-10-01    10:00   \n",
       "17  2006-10-01    17:00  2006-10-01    11:00   \n",
       "18  2006-10-01    18:00  2006-10-01    12:00   \n",
       "19  2006-10-01    19:00  2006-10-01    13:00   \n",
       "20  2006-10-01    20:00  2006-10-01    14:00   \n",
       "21  2006-10-01    21:00  2006-10-01    15:00   \n",
       "22  2006-10-01    22:00  2006-10-01    16:00   \n",
       "23  2006-10-01    23:00  2006-10-01    17:00   \n",
       "\n",
       "                        File_name_for_1D_lake  \\\n",
       "0   goes11.2006.10.01.0000.v01.nc-var1-t0.csv   \n",
       "1   goes11.2006.10.01.0100.v01.nc-var1-t0.csv   \n",
       "2   goes11.2006.10.01.0200.v01.nc-var1-t0.csv   \n",
       "3   goes11.2006.10.01.0300.v01.nc-var1-t0.csv   \n",
       "4   goes11.2006.10.01.0400.v01.nc-var1-t0.csv   \n",
       "5   goes11.2006.10.01.0500.v01.nc-var1-t0.csv   \n",
       "6   goes11.2006.10.01.0600.v01.nc-var1-t0.csv   \n",
       "7   goes11.2006.10.01.0700.v01.nc-var1-t0.csv   \n",
       "8                                        None   \n",
       "9                                        None   \n",
       "10  goes11.2006.10.01.1000.v01.nc-var1-t0.csv   \n",
       "11  goes11.2006.10.01.1100.v01.nc-var1-t0.csv   \n",
       "12  goes11.2006.10.01.1200.v01.nc-var1-t0.csv   \n",
       "13  goes11.2006.10.01.1300.v01.nc-var1-t0.csv   \n",
       "14  goes11.2006.10.01.1400.v01.nc-var1-t0.csv   \n",
       "15  goes11.2006.10.01.1500.v01.nc-var1-t0.csv   \n",
       "16  goes11.2006.10.01.1600.v01.nc-var1-t0.csv   \n",
       "17  goes11.2006.10.01.1700.v01.nc-var1-t0.csv   \n",
       "18  goes11.2006.10.01.1800.v01.nc-var1-t0.csv   \n",
       "19  goes11.2006.10.01.1900.v01.nc-var1-t0.csv   \n",
       "20  goes11.2006.10.01.2000.v01.nc-var1-t0.csv   \n",
       "21  goes11.2006.10.01.2100.v01.nc-var1-t0.csv   \n",
       "22  goes11.2006.10.01.2200.v01.nc-var1-t0.csv   \n",
       "23  goes11.2006.10.01.2300.v01.nc-var1-t0.csv   \n",
       "\n",
       "                              File_name_for_2D_lake  \\\n",
       "0   T_goes11.2006.10.01.0000.v01.nc-var1-t0.csv.csv   \n",
       "1   T_goes11.2006.10.01.0100.v01.nc-var1-t0.csv.csv   \n",
       "2   T_goes11.2006.10.01.0200.v01.nc-var1-t0.csv.csv   \n",
       "3   T_goes11.2006.10.01.0300.v01.nc-var1-t0.csv.csv   \n",
       "4   T_goes11.2006.10.01.0400.v01.nc-var1-t0.csv.csv   \n",
       "5   T_goes11.2006.10.01.0500.v01.nc-var1-t0.csv.csv   \n",
       "6   T_goes11.2006.10.01.0600.v01.nc-var1-t0.csv.csv   \n",
       "7   T_goes11.2006.10.01.0700.v01.nc-var1-t0.csv.csv   \n",
       "8                                              None   \n",
       "9                                              None   \n",
       "10  T_goes11.2006.10.01.1000.v01.nc-var1-t0.csv.csv   \n",
       "11  T_goes11.2006.10.01.1100.v01.nc-var1-t0.csv.csv   \n",
       "12  T_goes11.2006.10.01.1200.v01.nc-var1-t0.csv.csv   \n",
       "13  T_goes11.2006.10.01.1300.v01.nc-var1-t0.csv.csv   \n",
       "14  T_goes11.2006.10.01.1400.v01.nc-var1-t0.csv.csv   \n",
       "15  T_goes11.2006.10.01.1500.v01.nc-var1-t0.csv.csv   \n",
       "16  T_goes11.2006.10.01.1600.v01.nc-var1-t0.csv.csv   \n",
       "17  T_goes11.2006.10.01.1700.v01.nc-var1-t0.csv.csv   \n",
       "18  T_goes11.2006.10.01.1800.v01.nc-var1-t0.csv.csv   \n",
       "19  T_goes11.2006.10.01.1900.v01.nc-var1-t0.csv.csv   \n",
       "20  T_goes11.2006.10.01.2000.v01.nc-var1-t0.csv.csv   \n",
       "21  T_goes11.2006.10.01.2100.v01.nc-var1-t0.csv.csv   \n",
       "22  T_goes11.2006.10.01.2200.v01.nc-var1-t0.csv.csv   \n",
       "23  T_goes11.2006.10.01.2300.v01.nc-var1-t0.csv.csv   \n",
       "\n",
       "                                         Lake_data_1D  data_usable  \\\n",
       "0   [0.0075, 0.0025, 0.0, 0.005, 0.0, 0.005, nan, ...        False   \n",
       "1   [0.0025, nan, 0.0025, 0.0025, nan, 0.0, nan, 0...        False   \n",
       "2   [0.0, nan, 0.0075, nan, nan, 0.0025, nan, nan,...        False   \n",
       "3   [0.0025, nan, 0.0025, 0.0, 0.0075, nan, 0.005,...        False   \n",
       "4   [0.0025, nan, 0.0, nan, 0.0075, 0.0, nan, nan,...        False   \n",
       "5   [nan, nan, 0.0075, nan, nan, 0.0025, 0.0025, 0...        False   \n",
       "6   [nan, 0.0, 0.0075, 0.005, 0.0025, 0.005, 0.005...        False   \n",
       "7   [nan, 0.0025, 0.005, 0.0025, nan, nan, nan, 0....        False   \n",
       "8                             [0. 0. 0. ... 0. 0. 0.]        False   \n",
       "9                             [0. 0. 0. ... 0. 0. 0.]        False   \n",
       "10  [0.012499999, 0.0075, 0.0175, 0.0175, 0.012499...        False   \n",
       "11  [0.0025, 0.005, nan, 0.0025, nan, 0.0075, nan,...        False   \n",
       "12  [0.035, 0.04, 0.044999998, 0.049999997, 0.0425...         True   \n",
       "13  [0.074999996, 0.0725, 0.07, 0.07, 0.0775, 0.06...         True   \n",
       "14  [0.067499995, 0.07, 0.0625, 0.06, 0.0725, 0.06...         True   \n",
       "15  [0.067499995, 0.067499995, 0.06, 0.06, 0.05749...         True   \n",
       "16  [0.0725, 0.067499995, 0.07, 0.07, 0.067499995,...         True   \n",
       "17  [0.067499995, 0.067499995, 0.067499995, 0.07, ...         True   \n",
       "18  [0.085, 0.085, 0.0875, 0.0725, 0.0775, 0.0775,...         True   \n",
       "19  [0.0925, 0.095, 0.0925, 0.074999996, 0.0875, 0...         True   \n",
       "20  [0.099999994, 0.095, 0.0975, 0.099999994, 0.11...         True   \n",
       "21  [0.11, 0.105, 0.0975, 0.107499994, 0.099999994...         True   \n",
       "22  [0.089999996, 0.082499996, 0.0875, 0.0775, 0.0...         True   \n",
       "23  [0.04, 0.0425, 0.044999998, 0.04, 0.04, 0.0475...         True   \n",
       "\n",
       "    cloud_count  cloud_exist  ...  Atm Press (hPa) Sea Lev Press (hPa)  \\\n",
       "0             0        False  ...           984.40             1007.20   \n",
       "1             0        False  ...           984.70             1007.80   \n",
       "2             0        False  ...           985.40             1008.30   \n",
       "3             0        False  ...           986.00                   M   \n",
       "4             0        False  ...           986.40             1009.50   \n",
       "5             0        False  ...           986.70             1009.80   \n",
       "6             0        False  ...           987.30             1010.20   \n",
       "7             0        False  ...           988.00             1010.80   \n",
       "8             0        False  ...           988.30                   M   \n",
       "9             0        False  ...           989.00                   M   \n",
       "10            0        False  ...           989.70             1012.80   \n",
       "11            0        False  ...           990.70             1013.60   \n",
       "12            0        False  ...           991.70             1014.80   \n",
       "13            0        False  ...           992.30             1015.60   \n",
       "14          391        False  ...           993.00             1016.30   \n",
       "15          246        False  ...           993.70             1016.90   \n",
       "16          195        False  ...           994.30             1017.50   \n",
       "17          277        False  ...           995.00             1018.00   \n",
       "18          265        False  ...           995.00             1018.10   \n",
       "19          371        False  ...           994.70             1017.90   \n",
       "20          873         True  ...           994.70             1017.80   \n",
       "21          873         True  ...           994.70             1017.70   \n",
       "22          873        False  ...           994.70             1017.80   \n",
       "23          873        False  ...           994.70             1017.80   \n",
       "\n",
       "   Altimeter (hPa) Precip (in) Wind Chill (F) Heat Index (F) Unnamed: 18  \\\n",
       "0          1007.10        0.00             NC             NC         NaN   \n",
       "1          1007.50        0.00             NC             NC         NaN   \n",
       "2          1008.10        0.00             NC             NC         NaN   \n",
       "3          1008.80        0.02             NC             NC         NaN   \n",
       "4          1009.10        0.00             NC             NC         NaN   \n",
       "5          1009.50        0.00             NC             NC         NaN   \n",
       "6          1010.20        0.01             NC             NC         NaN   \n",
       "7          1010.80        0.00             NC             NC         NaN   \n",
       "8          1011.20        0.00             NC             NC         NaN   \n",
       "9          1011.90        0.00             NC             NC         NaN   \n",
       "10         1012.50        0.00             NC             NC         NaN   \n",
       "11         1013.50        0.00             NC             NC         NaN   \n",
       "12         1014.60        0.00             NC             NC         NaN   \n",
       "13         1015.20        0.00             NC             NC         NaN   \n",
       "14         1015.90        0.00             NC             NC         NaN   \n",
       "15         1016.60        0.00             NC             NC         NaN   \n",
       "16         1017.30        0.00             NC             NC         NaN   \n",
       "17         1017.90        0.00             NC             NC         NaN   \n",
       "18         1017.90        0.00             NC             NC         NaN   \n",
       "19         1017.60        0.00             NC             NC         NaN   \n",
       "20         1017.60        0.00             NC             NC         NaN   \n",
       "21         1017.60        0.00             NC             NC         NaN   \n",
       "22         1017.60        0.00             NC             NC         NaN   \n",
       "23         1017.60        0.00             NC             NC         NaN   \n",
       "\n",
       "   is_snow_precip is_precip does_snow_24_120  \n",
       "0           False     False            False  \n",
       "1           False     False            False  \n",
       "2           False     False            False  \n",
       "3           False      True            False  \n",
       "4           False     False            False  \n",
       "5           False     False            False  \n",
       "6           False      True            False  \n",
       "7           False     False            False  \n",
       "8           False     False            False  \n",
       "9           False     False            False  \n",
       "10          False     False            False  \n",
       "11          False     False            False  \n",
       "12          False     False            False  \n",
       "13          False     False            False  \n",
       "14          False     False            False  \n",
       "15          False     False            False  \n",
       "16          False     False            False  \n",
       "17          False     False            False  \n",
       "18          False     False            False  \n",
       "19          False     False            False  \n",
       "20          False     False            False  \n",
       "21          False     False            False  \n",
       "22          False     False            False  \n",
       "23          False     False            False  \n",
       "\n",
       "[24 rows x 30 columns]"
      ]
     },
     "execution_count": 6,
     "metadata": {},
     "output_type": "execute_result"
    }
   ],
   "source": [
    "\n",
    "# df_usable_data = df_temp_table[df_temp_table['data_usable'] == True]\n",
    "df_usable_data = df_temp_table.copy()\n",
    "\n",
    "df_usable_data.head(24)\n"
   ]
  },
  {
   "cell_type": "code",
   "execution_count": 7,
   "id": "5b0aeaa3",
   "metadata": {},
   "outputs": [
    {
     "name": "stdout",
     "output_type": "stream",
     "text": [
      "The size of `df_usable_data` is: (48121, 30)\n",
      "The size of `df_temp_table` is: (48121, 30)\n"
     ]
    }
   ],
   "source": [
    "# Print the size of `df_usable_data`\n",
    "print(\"The size of `df_usable_data` is:\", df_usable_data.shape)\n",
    "print(\"The size of `df_temp_table` is:\", df_temp_table.shape)"
   ]
  },
  {
   "cell_type": "code",
   "execution_count": 8,
   "id": "60023aa0",
   "metadata": {},
   "outputs": [],
   "source": [
    "# # This just shows every starting index of snow precip\n",
    "# is_snow_precip = df_usable_data['is_snow_precip']\n",
    "\n",
    "# # Find the starting row index number of each continuous set of True values in the 'is_snow_precip' column\n",
    "# start_idx_single_lib = is_snow_precip[is_snow_precip.diff() == True].index.tolist()\n",
    "\n",
    "# # Print the starting row index number of each continuous set of True values\n",
    "# print(\"The starting row index number of each continuous set of True values is:\", start_idx_single_lib)\n"
   ]
  },
  {
   "cell_type": "code",
   "execution_count": 9,
   "id": "8d57d139",
   "metadata": {},
   "outputs": [],
   "source": [
    "# # This is the true way to go, min of 3 hours of snow\n",
    "# is_snow_precip = df_usable_data['is_snow_precip']\n",
    "\n",
    "# # Find continuous sets of at least three True values in the 'is_snow_precip' column\n",
    "# sets = []\n",
    "# set_start = None\n",
    "# for idx, value in is_snow_precip.items():\n",
    "#     if value:\n",
    "#         if set_start is None:\n",
    "#             set_start = idx\n",
    "#         if idx == len(is_snow_precip) - 1:\n",
    "#             sets.append((set_start, idx))\n",
    "#     else:\n",
    "#         if set_start is not None:\n",
    "#             sets.append((set_start, idx - 1))\n",
    "#             set_start = None\n",
    "\n",
    "# # Filter out sets with less than three True values and store the starting row index number of each set in an array called 'start_idx_lib'\n",
    "# start_idx_lib = [s[0] for s in sets if s[1] - s[0] >= 2]\n",
    "\n",
    "# # Print the starting row index number of each continuous set of at least three True values\n",
    "# print(\"The starting row index number of each continuous set of at least three True values is:\", start_idx_lib)\n"
   ]
  },
  {
   "cell_type": "code",
   "execution_count": 10,
   "id": "6ac69b5d",
   "metadata": {},
   "outputs": [
    {
     "name": "stdout",
     "output_type": "stream",
     "text": [
      "Starting indices: [76, 245, 252, 258, 293, 311, 389, 432, 447, 504, 657, 664, 985, 1051, 1182, 1189, 1402, 1436, 1441, 1479, 1610, 1747, 1814, 1972, 1981, 1997, 2127, 2202, 2209, 2218, 2384, 2550, 2571, 3299, 3466, 3544, 3558, 3649, 3676, 3768, 3898, 4064, 4128, 4600, 4710, 4741, 4784, 4790, 4813, 4897, 5007, 5227, 5238, 5262, 5458, 5559, 5593, 5618, 5626, 5818, 5854, 5877, 6372, 6501, 6590, 6624, 6737, 6758, 6821, 6850, 6883, 6900, 6905, 7415, 7611, 7646, 7652, 7717, 7788, 8004, 8077, 8601, 8617, 8756, 8768, 8772, 8788, 8935, 9113, 9348, 9382, 9400, 9794, 9801, 9819, 9867, 9898, 9910, 9994, 10070, 10222, 10228, 10239, 10284, 10363, 10420, 10431, 10546, 10563, 10613, 10669, 10711, 10793, 10834, 10853, 10860, 10869, 10880, 10942, 11121, 11260, 11934, 11976, 11982, 11992, 12004, 12128, 12133, 12210, 12337, 12574, 12611, 13063, 13166, 13218, 13227, 13257, 13264, 13270, 13278, 13620, 13627, 13639, 13665, 13738, 13745, 13749, 13833, 13845, 13864, 13915, 14456, 14478, 14648, 14726, 14790, 14795, 14925, 15170, 15186, 15359, 15585, 16438, 16597, 16632, 16703, 17022, 17524, 17985, 18042, 18058, 18111, 18333, 18579, 18738, 18943, 18951, 19227, 19498, 19909, 20049, 20111, 20383, 20482, 20595, 20715, 20929, 21058, 21072, 21206, 21224, 21327, 21655, 21663, 21667, 22178, 22191, 22199, 22298, 22320, 22325, 22336, 22455, 22466, 22594, 22648, 22653, 22792, 22811, 22828, 23066, 23229, 23237, 23348, 23391, 23395, 23407, 23414, 23655, 23671, 23683, 23859, 24019, 24087, 24358, 24472, 24609, 24732, 25063, 25229, 25382, 25498, 25513, 25558, 25684, 25789, 26054, 26063, 26224, 26336, 26472, 26509, 26557, 26580, 26596, 26603, 26669, 26678, 26859, 26969, 26980, 27001, 27060, 27230, 27268, 27466, 27746, 27754, 27796, 27933, 28081, 28105, 28190, 28711, 28757, 28920, 29020, 29112, 29125, 29162, 29173, 29178, 29191, 29374, 29448, 29455, 29468, 29535, 29541, 29645, 29752, 29758, 30099, 30108, 30121, 30143, 30311, 30604, 30692, 30746, 30780, 30982, 31001, 31028, 31055, 31061, 31104, 31142, 31152, 31188, 31205, 31229, 31359, 31365, 31496, 31570, 31616, 31756, 31774, 31917, 31959, 32162, 32185, 32284, 32458, 32554, 32559, 32603, 33075, 33083, 33166, 33293, 33361, 33410, 33550, 33986, 34059, 34585, 34693, 34759, 35030, 35047, 35085, 35305, 35320, 35334, 35396, 35400, 35720, 35817, 35857, 35867, 35908, 35913, 35919, 35941, 35968, 36104, 36120, 36146, 36289, 36308, 36642, 36830, 36988, 36996, 37027, 37098, 37391, 37883, 38271, 38512, 38681, 39004, 39205, 39312, 39546, 39552, 39651, 39661, 39720, 39750, 39934, 40017, 40027, 40040, 40092, 40098, 40231, 40374, 40381, 40396, 40400, 40409, 40514, 40725, 40827, 40839, 41068, 41124, 41138, 41168, 41172, 41180, 41204, 41323, 41384, 41447, 41495, 41638, 41645, 41763, 41786, 41841, 41969, 42174, 42229, 42307, 42358, 42377, 42610, 43027, 43212, 43320, 43336, 43377, 43386, 43562, 43570, 43585, 43654, 43662, 43733, 43748, 43779, 43783, 43804, 44035, 44118, 44150, 44311, 44371, 44379, 44453, 45094, 45156, 45170, 45285, 45311, 45425, 45489, 45602, 45623, 45771, 45821, 45943, 46183, 46189, 46225, 46350, 46560, 46567, 46661, 46701, 46867, 47264, 47366, 47382, 47528, 47949, 47999]\n",
      "Number of True values in each sequence: [4, 5, 3, 11, 12, 8, 14, 5, 5, 18, 6, 4, 5, 3, 6, 6, 3, 3, 5, 8, 4, 7, 5, 3, 9, 11, 3, 3, 3, 6, 4, 8, 3, 3, 3, 6, 9, 4, 4, 4, 3, 6, 13, 3, 7, 10, 3, 4, 10, 4, 6, 8, 12, 5, 7, 3, 5, 5, 3, 4, 11, 6, 3, 8, 3, 3, 8, 18, 4, 3, 5, 3, 6, 3, 3, 5, 6, 11, 3, 5, 6, 10, 3, 5, 3, 3, 3, 5, 3, 3, 6, 4, 3, 3, 10, 5, 4, 3, 3, 17, 4, 9, 3, 14, 3, 9, 6, 3, 5, 4, 7, 6, 6, 3, 4, 3, 7, 9, 10, 5, 7, 3, 5, 3, 3, 3, 3, 5, 8, 7, 10, 5, 10, 6, 5, 3, 5, 3, 6, 4, 3, 6, 3, 14, 5, 3, 8, 8, 6, 3, 11, 6, 20, 3, 4, 4, 11, 3, 4, 6, 4, 5, 5, 3, 3, 5, 4, 6, 6, 7, 5, 7, 3, 3, 3, 6, 3, 8, 5, 3, 4, 4, 5, 4, 4, 4, 3, 3, 5, 7, 4, 6, 7, 3, 4, 8, 4, 17, 3, 3, 8, 9, 10, 3, 3, 3, 9, 9, 11, 3, 5, 6, 9, 7, 3, 5, 6, 4, 4, 8, 7, 3, 3, 4, 19, 6, 6, 4, 3, 4, 4, 8, 6, 12, 7, 3, 8, 3, 4, 5, 7, 7, 17, 9, 3, 6, 3, 4, 4, 10, 8, 3, 3, 3, 3, 3, 5, 4, 3, 5, 3, 3, 24, 4, 7, 3, 3, 8, 5, 10, 4, 6, 3, 9, 6, 7, 4, 3, 5, 6, 3, 3, 4, 8, 8, 5, 3, 5, 3, 5, 4, 3, 4, 3, 5, 6, 6, 4, 6, 3, 3, 4, 4, 18, 15, 3, 11, 3, 9, 5, 4, 6, 3, 5, 4, 3, 6, 10, 5, 3, 8, 3, 3, 7, 6, 3, 3, 6, 5, 234, 6, 13, 6, 6, 7, 4, 3, 7, 6, 7, 9, 9, 4, 3, 6, 12, 4, 3, 3, 6, 13, 10, 8, 3, 6, 4, 6, 6, 7, 4, 3, 3, 5, 3, 5, 4, 3, 4, 4, 3, 3, 3, 3, 9, 5, 5, 4, 7, 7, 4, 3, 3, 8, 4, 4, 19, 3, 5, 4, 12, 28, 3, 4, 3, 4, 5, 3, 3, 13, 6, 3, 5, 9, 4, 10, 8, 5, 9, 7, 4, 3, 4, 6, 7, 4, 6, 5, 6, 13, 4, 6, 6, 8, 3, 3, 3, 6, 8, 3, 3, 3, 6, 8, 3, 5, 4, 9, 3, 7, 4, 4, 11, 7, 4, 4, 4, 3, 15, 6, 4, 6, 5, 8, 3, 5, 10, 3, 22, 4, 10, 4]\n"
     ]
    }
   ],
   "source": [
    "\n",
    "start_idx_lib = []\n",
    "num_T_lib = []\n",
    "\n",
    "prev_value = False\n",
    "counter = 0\n",
    "start_idx = -1\n",
    "\n",
    "for idx, row in df_usable_data.iterrows():\n",
    "    if row['is_precip']:\n",
    "        counter += 1\n",
    "        if not prev_value:\n",
    "            start_idx = idx\n",
    "    else:\n",
    "        if counter >= 3:\n",
    "            start_idx_lib.append(start_idx)\n",
    "            num_T_lib.append(counter)\n",
    "        counter = 0\n",
    "    prev_value = row['is_precip']\n",
    "\n",
    "# Check if the loop ended with a valid sequence of True values\n",
    "if counter >= 3:\n",
    "    start_idx_lib.append(start_idx)\n",
    "    num_T_lib.append(counter)\n",
    "\n",
    "print(\"Starting indices:\", start_idx_lib)\n",
    "print(\"Number of True values in each sequence:\", num_T_lib)\n"
   ]
  },
  {
   "cell_type": "code",
   "execution_count": 46,
   "id": "fa49a95b",
   "metadata": {
    "scrolled": false
   },
   "outputs": [
    {
     "data": {
      "text/plain": [
       "(1765, 30)"
      ]
     },
     "execution_count": 46,
     "metadata": {},
     "output_type": "execute_result"
    }
   ],
   "source": [
    "df_usable_data[df_usable_data['Precip (in)']==0.01].shape"
   ]
  },
  {
   "cell_type": "code",
   "execution_count": 52,
   "id": "3c7ae95c",
   "metadata": {},
   "outputs": [
    {
     "data": {
      "text/plain": [
       "0.00    44043\n",
       "0.01     1765\n",
       "0.02      692\n",
       "0.03      431\n",
       "0.04      223\n",
       "0.05      173\n",
       "0.06      136\n",
       "0.07       87\n",
       "0.08       65\n",
       "0.09       59\n",
       "0.10       35\n",
       "0.12       29\n",
       "0.11       27\n",
       "0.13       19\n",
       "0.14       18\n",
       "0.15       11\n",
       "0.16       11\n",
       "0.18       11\n",
       "0.19        7\n",
       "0.17        5\n",
       "0.32        4\n",
       "0.20        4\n",
       "0.21        4\n",
       "0.26        3\n",
       "0.22        3\n",
       "0.28        2\n",
       "0.25        2\n",
       "0.24        2\n",
       "0.36        1\n",
       "0.61        1\n",
       "1.40        1\n",
       "0.27        1\n",
       "0.31        1\n",
       "0.86        1\n",
       "0.34        1\n",
       "0.66        1\n",
       "0.30        1\n",
       "0.74        1\n",
       "0.45        1\n",
       "Name: Precip (in), dtype: int64"
      ]
     },
     "execution_count": 52,
     "metadata": {},
     "output_type": "execute_result"
    }
   ],
   "source": [
    "df_usable_data['Precip (in)'].value_counts()"
   ]
  },
  {
   "cell_type": "code",
   "execution_count": 11,
   "id": "1da04c96",
   "metadata": {},
   "outputs": [
    {
     "name": "stdout",
     "output_type": "stream",
     "text": [
      "461\n"
     ]
    }
   ],
   "source": [
    "print(len(start_idx_lib))"
   ]
  },
  {
   "cell_type": "code",
   "execution_count": 12,
   "id": "862c4252",
   "metadata": {},
   "outputs": [],
   "source": [
    "i = 0\n",
    "while i < len(num_T_lib):\n",
    "    if num_T_lib[i] > 48:\n",
    "        del start_idx_lib[i]\n",
    "        del num_T_lib[i]\n",
    "    else:\n",
    "        i += 1\n"
   ]
  },
  {
   "cell_type": "code",
   "execution_count": 13,
   "id": "0d09a98e",
   "metadata": {},
   "outputs": [
    {
     "name": "stdout",
     "output_type": "stream",
     "text": [
      "460\n"
     ]
    }
   ],
   "source": [
    "print(len(start_idx_lib))"
   ]
  },
  {
   "cell_type": "code",
   "execution_count": 14,
   "id": "1a673386",
   "metadata": {},
   "outputs": [
    {
     "name": "stdout",
     "output_type": "stream",
     "text": [
      "Index(['Date_UTC', 'Time_UTC', 'Date_CST', 'Time_CST', 'File_name_for_1D_lake',\n",
      "       'File_name_for_2D_lake', 'Lake_data_1D', 'data_usable', 'cloud_count',\n",
      "       'cloud_exist', 'Temp (F)', 'RH (%)', 'Dewpt (F)', 'Wind Spd (mph)',\n",
      "       'Wind Direction (deg)', 'Peak Wind Gust(mph)', 'Low Cloud Ht (ft)',\n",
      "       'Med Cloud Ht (ft)', 'High Cloud Ht (ft)', 'Visibility (mi)',\n",
      "       'Atm Press (hPa)', 'Sea Lev Press (hPa)', 'Altimeter (hPa)',\n",
      "       'Precip (in)', 'Wind Chill (F)', 'Heat Index (F)', 'Unnamed: 18',\n",
      "       'is_snow_precip', 'is_precip', 'does_snow_24_120'],\n",
      "      dtype='object')\n"
     ]
    }
   ],
   "source": [
    "print(df_usable_data.columns)\n"
   ]
  },
  {
   "cell_type": "code",
   "execution_count": 15,
   "id": "0777c94a",
   "metadata": {},
   "outputs": [
    {
     "name": "stdout",
     "output_type": "stream",
     "text": [
      "The starting row index number of each continuous set of at least 3 values larger than 720 is: [20, 140, 354, 594, 691, 954, 1263, 1287, 1311, 1503, 1647, 1695, 1719, 1839, 1887, 1935, 2035, 2055, 2103, 2175, 2247, 2271, 2295, 2319, 2343, 2368, 2391, 2415, 2439, 2463, 2610, 4051, 4099, 4146, 4382, 4436, 4460, 4578, 4844, 4865, 4913, 4982, 5033, 5130, 5151, 5178, 5439, 5967, 6207, 6255, 6543, 6615, 6639, 6663, 6783, 6999, 7167, 8707, 8775, 8973, 9020, 9184, 9499, 9595, 9666, 10816, 10888, 10912, 10936, 10960, 11008, 11032, 11080, 11104, 11152, 11344, 11948, 13143, 14036, 14128, 14395, 14848, 14872, 15280, 15376, 15400, 15472, 15520, 15544, 15568, 15640, 15736, 16532, 16843, 16869, 17157, 17276, 17300, 17498, 21866, 26271, 26298, 26442, 26465, 30639, 32992, 33040, 35007, 35586, 35610, 37240, 39375, 39618, 39953, 40170, 40290, 40314, 40432, 40457, 40914, 40960, 41704, 43767, 44587, 44610, 44659, 44732, 44803, 45736, 45904, 45979, 46312, 47011, 47132, 47152, 47540, 47755]\n"
     ]
    }
   ],
   "source": [
    "\n",
    "cloud_count = df_usable_data['cloud_count']\n",
    "\n",
    "# Find continuous sets of at least two values larger than 720 in the 'cloud_count' column\n",
    "cloud_sets = []\n",
    "cloud_set_start = None\n",
    "for idx, value in cloud_count.items():\n",
    "    if value > 720:\n",
    "        if cloud_set_start is None:\n",
    "            cloud_set_start = idx\n",
    "        if idx == len(cloud_count) - 1:\n",
    "            cloud_sets.append((cloud_set_start, idx))\n",
    "    else:\n",
    "        if cloud_set_start is not None:\n",
    "            cloud_sets.append((cloud_set_start, idx - 1))\n",
    "            cloud_set_start = None\n",
    "\n",
    "# Filter out sets with less than two values larger than 720 and store the starting row index number of each set in an array called 'cloud_start_idx_lib'\n",
    "cloud_start_idx_lib = [s[0] for s in cloud_sets if s[1] - s[0] >= 3]\n",
    "\n",
    "# Print the starting row index number of each continuous set of at least 3 values larger than 720\n",
    "print(\"The starting row index number of each continuous set of at least 3 values larger than 720 is:\", cloud_start_idx_lib)\n"
   ]
  },
  {
   "cell_type": "code",
   "execution_count": 16,
   "id": "1ac80e96",
   "metadata": {},
   "outputs": [
    {
     "name": "stdout",
     "output_type": "stream",
     "text": [
      "cloud_start_lst: [20, 140, 140, 140, 140, 140, 354, 354, 354, 354, 594, 594, 954, 954, 954, 954, 1311, 1311, 1311, 1311, 1503, 1719, 1719, 1935, 1935, 1935, 2103, 2175, 2175, 2175, 2368, 2463, 2463, 2610, 2610, 2610, 2610, 2610, 2610, 2610, 2610, 4051, 4099, 4578, 4578, 4578, 4578, 4578, 4578, 4865, 4982, 5178, 5178, 5178, 5439, 5439, 5439, 5439, 5439, 5439, 5439, 5439, 6255, 6255, 6543, 6615, 6663, 6663, 6783, 6783, 6783, 6783, 6783, 7167, 7167, 7167, 7167, 7167, 7167, 7167, 7167, 7167, 7167, 8707, 8707, 8707, 8775, 8775, 9020, 9184, 9184, 9184, 9666, 9666, 9666, 9666, 9666, 9666, 9666, 9666, 9666, 9666, 9666, 9666, 9666, 9666, 9666, 9666, 9666, 9666, 9666, 9666, 9666, 10816, 10816, 10816, 10816, 10816, 10936, 11104, 11152, 11344, 11948, 11948, 11948, 11948, 11948, 11948, 11948, 11948, 11948, 11948, 11948, 13143, 13143, 13143, 13143, 13143, 13143, 13143, 13143, 13143, 13143, 13143, 13143, 13143, 13143, 13143, 13143, 13143, 13143, 14395, 14395, 14395, 14395, 14395, 14395, 14872, 14872, 14872, 15280, 15568, 15736, 16532, 16532, 16532, 16869, 17498, 17498, 17498, 17498, 17498, 17498, 17498, 17498, 17498, 17498, 17498, 17498, 17498, 17498, 17498, 17498, 17498, 17498, 17498, 17498, 17498, 17498, 17498, 17498, 17498, 17498, 17498, 17498, 21866, 21866, 21866, 21866, 21866, 21866, 21866, 21866, 21866, 21866, 21866, 21866, 21866, 21866, 21866, 21866, 21866, 21866, 21866, 21866, 21866, 21866, 21866, 21866, 21866, 21866, 21866, 21866, 21866, 21866, 21866, 21866, 21866, 21866, 21866, 21866, 21866, 21866, 21866, 21866, 21866, 21866, 21866, 21866, 26298, 26465, 26465, 26465, 26465, 26465, 26465, 26465, 26465, 26465, 26465, 26465, 26465, 26465, 26465, 26465, 26465, 26465, 26465, 26465, 26465, 26465, 26465, 26465, 26465, 26465, 26465, 26465, 26465, 26465, 26465, 26465, 26465, 26465, 26465, 26465, 26465, 26465, 26465, 26465, 26465, 26465, 26465, 26465, 26465, 26465, 26465, 26465, 26465, 30639, 30639, 30639, 30639, 30639, 30639, 30639, 30639, 30639, 30639, 30639, 30639, 30639, 30639, 30639, 30639, 30639, 30639, 30639, 30639, 30639, 30639, 30639, 30639, 30639, 30639, 30639, 30639, 30639, 30639, 33040, 33040, 33040, 33040, 33040, 33040, 33040, 33040, 33040, 33040, 33040, 35007, 35007, 35007, 35007, 35007, 35007, 35007, 35007, 35610, 35610, 35610, 35610, 35610, 35610, 35610, 35610, 35610, 35610, 35610, 35610, 35610, 35610, 35610, 35610, 35610, 35610, 35610, 35610, 37240, 37240, 37240, 37240, 37240, 37240, 37240, 37240, 39375, 39375, 39618, 39618, 39618, 39618, 39618, 39953, 39953, 39953, 39953, 39953, 40170, 40314, 40314, 40314, 40314, 40314, 40457, 40457, 40457, 40457, 40960, 40960, 40960, 40960, 40960, 40960, 40960, 40960, 40960, 40960, 40960, 40960, 40960, 41704, 41704, 41704, 41704, 41704, 41704, 41704, 41704, 41704, 41704, 41704, 41704, 41704, 41704, 41704, 41704, 41704, 41704, 41704, 41704, 41704, 41704, 41704, 43767, 43767, 43767, 43767, 43767, 43767, 43767, 43767, 43767, 43767, 44803, 44803, 44803, 44803, 44803, 44803, 44803, 44803, 44803, 45736, 45736, 45904, 45979, 45979, 45979, 46312, 46312, 46312, 46312, 46312, 46312, 47152, 47152, 47152, 47152, 47755, 47755]\n",
      "precip_start_lst: [76, 245, 252, 258, 293, 311, 389, 432, 447, 504, 657, 664, 985, 1051, 1182, 1189, 1402, 1436, 1441, 1479, 1610, 1747, 1814, 1972, 1981, 1997, 2127, 2202, 2209, 2218, 2384, 2550, 2571, 3299, 3466, 3544, 3558, 3649, 3676, 3768, 3898, 4064, 4128, 4600, 4710, 4741, 4784, 4790, 4813, 4897, 5007, 5227, 5238, 5262, 5458, 5559, 5593, 5618, 5626, 5818, 5854, 5877, 6372, 6501, 6590, 6624, 6737, 6758, 6821, 6850, 6883, 6900, 6905, 7415, 7611, 7646, 7652, 7717, 7788, 8004, 8077, 8601, 8617, 8756, 8768, 8772, 8788, 8935, 9113, 9348, 9382, 9400, 9794, 9801, 9819, 9867, 9898, 9910, 9994, 10070, 10222, 10228, 10239, 10284, 10363, 10420, 10431, 10546, 10563, 10613, 10669, 10711, 10793, 10834, 10853, 10860, 10869, 10880, 10942, 11121, 11260, 11934, 11976, 11982, 11992, 12004, 12128, 12133, 12210, 12337, 12574, 12611, 13063, 13166, 13218, 13227, 13257, 13264, 13270, 13278, 13620, 13627, 13639, 13665, 13738, 13745, 13749, 13833, 13845, 13864, 13915, 14456, 14478, 14648, 14726, 14790, 14795, 14925, 15170, 15186, 15359, 15585, 16438, 16597, 16632, 16703, 17022, 17524, 17985, 18042, 18058, 18111, 18333, 18579, 18738, 18943, 18951, 19227, 19498, 19909, 20049, 20111, 20383, 20482, 20595, 20715, 20929, 21058, 21072, 21206, 21224, 21327, 21655, 21663, 21667, 22178, 22191, 22199, 22298, 22320, 22325, 22336, 22455, 22466, 22594, 22648, 22653, 22792, 22811, 22828, 23066, 23229, 23237, 23348, 23391, 23395, 23407, 23414, 23655, 23671, 23683, 23859, 24019, 24087, 24358, 24472, 24609, 24732, 25063, 25229, 25382, 25498, 25513, 25558, 25684, 25789, 26054, 26063, 26224, 26336, 26472, 26509, 26557, 26580, 26596, 26603, 26669, 26678, 26859, 26969, 26980, 27001, 27060, 27230, 27268, 27466, 27746, 27754, 27796, 27933, 28081, 28105, 28190, 28711, 28757, 28920, 29020, 29112, 29125, 29162, 29173, 29178, 29191, 29374, 29448, 29455, 29468, 29535, 29541, 29645, 29752, 29758, 30099, 30108, 30121, 30143, 30311, 30604, 30692, 30746, 30780, 30982, 31001, 31028, 31055, 31061, 31104, 31142, 31152, 31188, 31205, 31229, 31359, 31365, 31496, 31570, 31616, 31756, 31774, 31917, 31959, 32162, 32185, 32284, 32458, 32554, 32559, 32603, 33075, 33083, 33166, 33293, 33361, 33410, 33550, 33986, 34059, 34585, 34693, 35030, 35047, 35085, 35305, 35320, 35334, 35396, 35400, 35720, 35817, 35857, 35867, 35908, 35913, 35919, 35941, 35968, 36104, 36120, 36146, 36289, 36308, 36642, 36830, 36988, 36996, 37027, 37098, 37391, 37883, 38271, 38512, 38681, 39004, 39205, 39312, 39546, 39552, 39651, 39661, 39720, 39750, 39934, 40017, 40027, 40040, 40092, 40098, 40231, 40374, 40381, 40396, 40400, 40409, 40514, 40725, 40827, 40839, 41068, 41124, 41138, 41168, 41172, 41180, 41204, 41323, 41384, 41447, 41495, 41638, 41645, 41763, 41786, 41841, 41969, 42174, 42229, 42307, 42358, 42377, 42610, 43027, 43212, 43320, 43336, 43377, 43386, 43562, 43570, 43585, 43654, 43662, 43733, 43748, 43779, 43783, 43804, 44035, 44118, 44150, 44311, 44371, 44379, 44453, 45094, 45156, 45170, 45285, 45311, 45425, 45489, 45602, 45623, 45771, 45821, 45943, 46183, 46189, 46225, 46350, 46560, 46567, 46661, 46701, 46867, 47264, 47366, 47382, 47528, 47949, 47999]\n"
     ]
    }
   ],
   "source": [
    "\n",
    "cloud_start_lst = []\n",
    "precip_start_lst = []\n",
    "\n",
    "for precip_idx in start_idx_lib:\n",
    "    cloud_idx = None\n",
    "    for idx in range(len(cloud_start_idx_lib)):\n",
    "        if cloud_start_idx_lib[idx] >= precip_idx:\n",
    "            break\n",
    "        cloud_idx = cloud_start_idx_lib[idx]\n",
    "    cloud_start_lst.append(cloud_idx)\n",
    "    precip_start_lst.append(precip_idx)\n",
    "\n",
    "# Print the corresponding cloud_start_idx and precip_start_idx values\n",
    "print(\"cloud_start_lst:\", cloud_start_lst)\n",
    "print(\"precip_start_lst:\", precip_start_lst)\n"
   ]
  },
  {
   "cell_type": "code",
   "execution_count": 17,
   "id": "3a30db5b",
   "metadata": {
    "scrolled": false
   },
   "outputs": [
    {
     "data": {
      "text/html": [
       "<div>\n",
       "<style scoped>\n",
       "    .dataframe tbody tr th:only-of-type {\n",
       "        vertical-align: middle;\n",
       "    }\n",
       "\n",
       "    .dataframe tbody tr th {\n",
       "        vertical-align: top;\n",
       "    }\n",
       "\n",
       "    .dataframe thead th {\n",
       "        text-align: right;\n",
       "    }\n",
       "</style>\n",
       "<table border=\"1\" class=\"dataframe\">\n",
       "  <thead>\n",
       "    <tr style=\"text-align: right;\">\n",
       "      <th></th>\n",
       "      <th>Date_UTC</th>\n",
       "      <th>Time_UTC</th>\n",
       "      <th>Date_CST</th>\n",
       "      <th>Time_CST</th>\n",
       "      <th>File_name_for_1D_lake</th>\n",
       "      <th>File_name_for_2D_lake</th>\n",
       "      <th>Lake_data_1D</th>\n",
       "      <th>data_usable</th>\n",
       "      <th>cloud_count</th>\n",
       "      <th>cloud_exist</th>\n",
       "      <th>...</th>\n",
       "      <th>Atm Press (hPa)</th>\n",
       "      <th>Sea Lev Press (hPa)</th>\n",
       "      <th>Altimeter (hPa)</th>\n",
       "      <th>Precip (in)</th>\n",
       "      <th>Wind Chill (F)</th>\n",
       "      <th>Heat Index (F)</th>\n",
       "      <th>Unnamed: 18</th>\n",
       "      <th>is_snow_precip</th>\n",
       "      <th>is_precip</th>\n",
       "      <th>does_snow_24_120</th>\n",
       "    </tr>\n",
       "  </thead>\n",
       "  <tbody>\n",
       "    <tr>\n",
       "      <th>1460</th>\n",
       "      <td>2006-11-30</td>\n",
       "      <td>20:00</td>\n",
       "      <td>2006-11-30</td>\n",
       "      <td>14:00</td>\n",
       "      <td>goes11.2006.11.30.2000.v01.nc-var1-t0.csv</td>\n",
       "      <td>T_goes11.2006.11.30.2000.v01.nc-var1-t0.csv.csv</td>\n",
       "      <td>[0.34, 0.3475, 0.35, 0.3225, 0.3375, 0.345, 0....</td>\n",
       "      <td>True</td>\n",
       "      <td>3521</td>\n",
       "      <td>True</td>\n",
       "      <td>...</td>\n",
       "      <td>996.30</td>\n",
       "      <td>1019.80</td>\n",
       "      <td>1019.30</td>\n",
       "      <td>0.00</td>\n",
       "      <td>20</td>\n",
       "      <td>NC</td>\n",
       "      <td>NaN</td>\n",
       "      <td>False</td>\n",
       "      <td>False</td>\n",
       "      <td>True</td>\n",
       "    </tr>\n",
       "    <tr>\n",
       "      <th>1461</th>\n",
       "      <td>2006-11-30</td>\n",
       "      <td>21:00</td>\n",
       "      <td>2006-11-30</td>\n",
       "      <td>15:00</td>\n",
       "      <td>goes11.2006.11.30.2100.v01.nc-var1-t0.csv</td>\n",
       "      <td>T_goes11.2006.11.30.2100.v01.nc-var1-t0.csv.csv</td>\n",
       "      <td>[0.195, 0.21249999, 0.21249999, 0.19999999, 0....</td>\n",
       "      <td>True</td>\n",
       "      <td>3521</td>\n",
       "      <td>True</td>\n",
       "      <td>...</td>\n",
       "      <td>995.70</td>\n",
       "      <td>1019.40</td>\n",
       "      <td>1018.60</td>\n",
       "      <td>0.00</td>\n",
       "      <td>17</td>\n",
       "      <td>NC</td>\n",
       "      <td>NaN</td>\n",
       "      <td>False</td>\n",
       "      <td>False</td>\n",
       "      <td>True</td>\n",
       "    </tr>\n",
       "    <tr>\n",
       "      <th>1462</th>\n",
       "      <td>2006-11-30</td>\n",
       "      <td>22:00</td>\n",
       "      <td>2006-11-30</td>\n",
       "      <td>16:00</td>\n",
       "      <td>goes11.2006.11.30.2200.v01.nc-var1-t0.csv</td>\n",
       "      <td>T_goes11.2006.11.30.2200.v01.nc-var1-t0.csv.csv</td>\n",
       "      <td>[0.035, 0.035, 0.0525, 0.0425, 0.0425, 0.0425,...</td>\n",
       "      <td>True</td>\n",
       "      <td>3521</td>\n",
       "      <td>False</td>\n",
       "      <td>...</td>\n",
       "      <td>996.70</td>\n",
       "      <td>M</td>\n",
       "      <td>1019.60</td>\n",
       "      <td>0.00</td>\n",
       "      <td>19</td>\n",
       "      <td>NC</td>\n",
       "      <td>NaN</td>\n",
       "      <td>False</td>\n",
       "      <td>False</td>\n",
       "      <td>True</td>\n",
       "    </tr>\n",
       "    <tr>\n",
       "      <th>1463</th>\n",
       "      <td>2006-11-30</td>\n",
       "      <td>23:00</td>\n",
       "      <td>2006-11-30</td>\n",
       "      <td>17:00</td>\n",
       "      <td>goes11.2006.11.30.2300.v01.nc-var1-t0.csv</td>\n",
       "      <td>T_goes11.2006.11.30.2300.v01.nc-var1-t0.csv.csv</td>\n",
       "      <td>[nan, nan, 0.0, 0.0075, nan, 0.0025, 0.0, 0.00...</td>\n",
       "      <td>False</td>\n",
       "      <td>3521</td>\n",
       "      <td>False</td>\n",
       "      <td>...</td>\n",
       "      <td>996.70</td>\n",
       "      <td>1020.20</td>\n",
       "      <td>1019.60</td>\n",
       "      <td>0.00</td>\n",
       "      <td>22</td>\n",
       "      <td>NC</td>\n",
       "      <td>NaN</td>\n",
       "      <td>False</td>\n",
       "      <td>False</td>\n",
       "      <td>True</td>\n",
       "    </tr>\n",
       "    <tr>\n",
       "      <th>1464</th>\n",
       "      <td>2006-12-01</td>\n",
       "      <td>00:00</td>\n",
       "      <td>2006-11-30</td>\n",
       "      <td>18:00</td>\n",
       "      <td>goes11.2006.12.01.0000.v01.nc-var1-t0.csv</td>\n",
       "      <td>T_goes11.2006.12.01.0000.v01.nc-var1-t0.csv.csv</td>\n",
       "      <td>[0.0025, nan, 0.0025, 0.0, 0.005, 0.0, 0.0075,...</td>\n",
       "      <td>False</td>\n",
       "      <td>3521</td>\n",
       "      <td>False</td>\n",
       "      <td>...</td>\n",
       "      <td>996.70</td>\n",
       "      <td>1020.50</td>\n",
       "      <td>1019.60</td>\n",
       "      <td>0.00</td>\n",
       "      <td>20</td>\n",
       "      <td>NC</td>\n",
       "      <td>NaN</td>\n",
       "      <td>False</td>\n",
       "      <td>False</td>\n",
       "      <td>True</td>\n",
       "    </tr>\n",
       "    <tr>\n",
       "      <th>1465</th>\n",
       "      <td>2006-12-01</td>\n",
       "      <td>01:00</td>\n",
       "      <td>2006-11-30</td>\n",
       "      <td>19:00</td>\n",
       "      <td>goes11.2006.12.01.0100.v01.nc-var1-t0.csv</td>\n",
       "      <td>T_goes11.2006.12.01.0100.v01.nc-var1-t0.csv.csv</td>\n",
       "      <td>[0.0, nan, 0.005, 0.0025, 0.0075, 0.0025, 0.00...</td>\n",
       "      <td>False</td>\n",
       "      <td>3521</td>\n",
       "      <td>False</td>\n",
       "      <td>...</td>\n",
       "      <td>996.70</td>\n",
       "      <td>1020.50</td>\n",
       "      <td>1019.60</td>\n",
       "      <td>0.00</td>\n",
       "      <td>19</td>\n",
       "      <td>NC</td>\n",
       "      <td>NaN</td>\n",
       "      <td>False</td>\n",
       "      <td>False</td>\n",
       "      <td>True</td>\n",
       "    </tr>\n",
       "    <tr>\n",
       "      <th>1466</th>\n",
       "      <td>2006-12-01</td>\n",
       "      <td>02:00</td>\n",
       "      <td>2006-11-30</td>\n",
       "      <td>20:00</td>\n",
       "      <td>goes11.2006.12.01.0200.v01.nc-var1-t0.csv</td>\n",
       "      <td>T_goes11.2006.12.01.0200.v01.nc-var1-t0.csv.csv</td>\n",
       "      <td>[0.0025, 0.005, nan, 0.0025, nan, 0.0025, nan,...</td>\n",
       "      <td>False</td>\n",
       "      <td>3521</td>\n",
       "      <td>False</td>\n",
       "      <td>...</td>\n",
       "      <td>996.30</td>\n",
       "      <td>1020.00</td>\n",
       "      <td>1019.30</td>\n",
       "      <td>0.00</td>\n",
       "      <td>18</td>\n",
       "      <td>NC</td>\n",
       "      <td>NaN</td>\n",
       "      <td>False</td>\n",
       "      <td>False</td>\n",
       "      <td>True</td>\n",
       "    </tr>\n",
       "    <tr>\n",
       "      <th>1467</th>\n",
       "      <td>2006-12-01</td>\n",
       "      <td>03:00</td>\n",
       "      <td>2006-11-30</td>\n",
       "      <td>21:00</td>\n",
       "      <td>goes11.2006.12.01.0300.v01.nc-var1-t0.csv</td>\n",
       "      <td>T_goes11.2006.12.01.0300.v01.nc-var1-t0.csv.csv</td>\n",
       "      <td>[nan, 0.0025, nan, nan, nan, 0.0025, 0.0, 0.0,...</td>\n",
       "      <td>False</td>\n",
       "      <td>3521</td>\n",
       "      <td>False</td>\n",
       "      <td>...</td>\n",
       "      <td>995.70</td>\n",
       "      <td>1019.60</td>\n",
       "      <td>1018.60</td>\n",
       "      <td>0.00</td>\n",
       "      <td>17</td>\n",
       "      <td>NC</td>\n",
       "      <td>NaN</td>\n",
       "      <td>False</td>\n",
       "      <td>False</td>\n",
       "      <td>True</td>\n",
       "    </tr>\n",
       "    <tr>\n",
       "      <th>1468</th>\n",
       "      <td>2006-12-01</td>\n",
       "      <td>04:00</td>\n",
       "      <td>2006-11-30</td>\n",
       "      <td>22:00</td>\n",
       "      <td>goes11.2006.12.01.0400.v01.nc-var1-t0.csv</td>\n",
       "      <td>T_goes11.2006.12.01.0400.v01.nc-var1-t0.csv.csv</td>\n",
       "      <td>[nan, 0.0025, 0.005, 0.0025, nan, nan, 0.0, 0....</td>\n",
       "      <td>False</td>\n",
       "      <td>3521</td>\n",
       "      <td>False</td>\n",
       "      <td>...</td>\n",
       "      <td>995.70</td>\n",
       "      <td>M</td>\n",
       "      <td>1018.60</td>\n",
       "      <td>0.00</td>\n",
       "      <td>19</td>\n",
       "      <td>NC</td>\n",
       "      <td>NaN</td>\n",
       "      <td>False</td>\n",
       "      <td>False</td>\n",
       "      <td>True</td>\n",
       "    </tr>\n",
       "    <tr>\n",
       "      <th>1469</th>\n",
       "      <td>2006-12-01</td>\n",
       "      <td>05:00</td>\n",
       "      <td>2006-11-30</td>\n",
       "      <td>23:00</td>\n",
       "      <td>goes11.2006.12.01.0500.v01.nc-var1-t0.csv</td>\n",
       "      <td>T_goes11.2006.12.01.0500.v01.nc-var1-t0.csv.csv</td>\n",
       "      <td>[nan, nan, nan, nan, nan, nan, 0.0025, 0.0, 0....</td>\n",
       "      <td>False</td>\n",
       "      <td>3521</td>\n",
       "      <td>False</td>\n",
       "      <td>...</td>\n",
       "      <td>995.30</td>\n",
       "      <td>1019.00</td>\n",
       "      <td>1018.30</td>\n",
       "      <td>0.00</td>\n",
       "      <td>18</td>\n",
       "      <td>NC</td>\n",
       "      <td>NaN</td>\n",
       "      <td>False</td>\n",
       "      <td>False</td>\n",
       "      <td>True</td>\n",
       "    </tr>\n",
       "    <tr>\n",
       "      <th>1470</th>\n",
       "      <td>2006-12-01</td>\n",
       "      <td>06:00</td>\n",
       "      <td>2006-12-01</td>\n",
       "      <td>00:00</td>\n",
       "      <td>goes11.2006.12.01.0600.v01.nc-var1-t0.csv</td>\n",
       "      <td>T_goes11.2006.12.01.0600.v01.nc-var1-t0.csv.csv</td>\n",
       "      <td>[nan, nan, 0.0025, nan, nan, 0.0, nan, 0.0025,...</td>\n",
       "      <td>False</td>\n",
       "      <td>3521</td>\n",
       "      <td>False</td>\n",
       "      <td>...</td>\n",
       "      <td>994.70</td>\n",
       "      <td>1018.30</td>\n",
       "      <td>1017.60</td>\n",
       "      <td>0.00</td>\n",
       "      <td>18</td>\n",
       "      <td>NC</td>\n",
       "      <td>NaN</td>\n",
       "      <td>False</td>\n",
       "      <td>False</td>\n",
       "      <td>True</td>\n",
       "    </tr>\n",
       "    <tr>\n",
       "      <th>1471</th>\n",
       "      <td>2006-12-01</td>\n",
       "      <td>07:00</td>\n",
       "      <td>2006-12-01</td>\n",
       "      <td>01:00</td>\n",
       "      <td>goes11.2006.12.01.0700.v01.nc-var1-t0.csv</td>\n",
       "      <td>T_goes11.2006.12.01.0700.v01.nc-var1-t0.csv.csv</td>\n",
       "      <td>[0.0, nan, 0.005, 0.0025, nan, 0.0025, 0.0025,...</td>\n",
       "      <td>False</td>\n",
       "      <td>3521</td>\n",
       "      <td>False</td>\n",
       "      <td>...</td>\n",
       "      <td>993.30</td>\n",
       "      <td>M</td>\n",
       "      <td>1016.30</td>\n",
       "      <td>0.00</td>\n",
       "      <td>18</td>\n",
       "      <td>NC</td>\n",
       "      <td>NaN</td>\n",
       "      <td>False</td>\n",
       "      <td>False</td>\n",
       "      <td>True</td>\n",
       "    </tr>\n",
       "    <tr>\n",
       "      <th>1472</th>\n",
       "      <td>2006-12-01</td>\n",
       "      <td>08:00</td>\n",
       "      <td>2006-12-01</td>\n",
       "      <td>02:00</td>\n",
       "      <td>goes11.2006.12.01.0800.v01.nc-var1-t0.csv</td>\n",
       "      <td>T_goes11.2006.12.01.0800.v01.nc-var1-t0.csv.csv</td>\n",
       "      <td>[0.0025, nan, 0.01, nan, 0.0075, 0.0, 0.0075, ...</td>\n",
       "      <td>False</td>\n",
       "      <td>3521</td>\n",
       "      <td>False</td>\n",
       "      <td>...</td>\n",
       "      <td>991.70</td>\n",
       "      <td>1015.40</td>\n",
       "      <td>1014.60</td>\n",
       "      <td>0.00</td>\n",
       "      <td>16</td>\n",
       "      <td>NC</td>\n",
       "      <td>NaN</td>\n",
       "      <td>False</td>\n",
       "      <td>False</td>\n",
       "      <td>True</td>\n",
       "    </tr>\n",
       "    <tr>\n",
       "      <th>1473</th>\n",
       "      <td>2006-12-01</td>\n",
       "      <td>09:00</td>\n",
       "      <td>2006-12-01</td>\n",
       "      <td>03:00</td>\n",
       "      <td>goes11.2006.12.01.0900.v01.nc-var1-t0.csv</td>\n",
       "      <td>T_goes11.2006.12.01.0900.v01.nc-var1-t0.csv.csv</td>\n",
       "      <td>[0.0, 0.0075, 0.0, 0.0025, nan, nan, 0.0, nan,...</td>\n",
       "      <td>False</td>\n",
       "      <td>3521</td>\n",
       "      <td>False</td>\n",
       "      <td>...</td>\n",
       "      <td>990.00</td>\n",
       "      <td>M</td>\n",
       "      <td>1012.90</td>\n",
       "      <td>0.00</td>\n",
       "      <td>16</td>\n",
       "      <td>NC</td>\n",
       "      <td>NaN</td>\n",
       "      <td>False</td>\n",
       "      <td>False</td>\n",
       "      <td>True</td>\n",
       "    </tr>\n",
       "    <tr>\n",
       "      <th>1474</th>\n",
       "      <td>2006-12-01</td>\n",
       "      <td>10:00</td>\n",
       "      <td>2006-12-01</td>\n",
       "      <td>04:00</td>\n",
       "      <td>goes11.2006.12.01.1000.v01.nc-var1-t0.csv</td>\n",
       "      <td>T_goes11.2006.12.01.1000.v01.nc-var1-t0.csv.csv</td>\n",
       "      <td>[0.0025, 0.0025, 0.005, nan, 0.0025, nan, nan,...</td>\n",
       "      <td>False</td>\n",
       "      <td>3521</td>\n",
       "      <td>False</td>\n",
       "      <td>...</td>\n",
       "      <td>988.00</td>\n",
       "      <td>1011.70</td>\n",
       "      <td>1010.80</td>\n",
       "      <td>0.00</td>\n",
       "      <td>14</td>\n",
       "      <td>NC</td>\n",
       "      <td>NaN</td>\n",
       "      <td>False</td>\n",
       "      <td>False</td>\n",
       "      <td>True</td>\n",
       "    </tr>\n",
       "    <tr>\n",
       "      <th>1475</th>\n",
       "      <td>2006-12-01</td>\n",
       "      <td>11:00</td>\n",
       "      <td>2006-12-01</td>\n",
       "      <td>05:00</td>\n",
       "      <td>goes11.2006.12.01.1100.v01.nc-var1-t0.csv</td>\n",
       "      <td>T_goes11.2006.12.01.1100.v01.nc-var1-t0.csv.csv</td>\n",
       "      <td>[nan, 0.0025, 0.005, nan, 0.0, 0.0, nan, nan, ...</td>\n",
       "      <td>False</td>\n",
       "      <td>3521</td>\n",
       "      <td>False</td>\n",
       "      <td>...</td>\n",
       "      <td>986.70</td>\n",
       "      <td>1010.40</td>\n",
       "      <td>1009.50</td>\n",
       "      <td>0.00</td>\n",
       "      <td>16</td>\n",
       "      <td>NC</td>\n",
       "      <td>NaN</td>\n",
       "      <td>False</td>\n",
       "      <td>False</td>\n",
       "      <td>True</td>\n",
       "    </tr>\n",
       "    <tr>\n",
       "      <th>1476</th>\n",
       "      <td>2006-12-01</td>\n",
       "      <td>12:00</td>\n",
       "      <td>2006-12-01</td>\n",
       "      <td>06:00</td>\n",
       "      <td>goes11.2006.12.01.1200.v01.nc-var1-t0.csv</td>\n",
       "      <td>T_goes11.2006.12.01.1200.v01.nc-var1-t0.csv.csv</td>\n",
       "      <td>[0.0025, nan, 0.0025, nan, 0.0025, nan, 0.0025...</td>\n",
       "      <td>False</td>\n",
       "      <td>3521</td>\n",
       "      <td>False</td>\n",
       "      <td>...</td>\n",
       "      <td>985.40</td>\n",
       "      <td>1008.80</td>\n",
       "      <td>1008.10</td>\n",
       "      <td>0.00</td>\n",
       "      <td>16</td>\n",
       "      <td>NC</td>\n",
       "      <td>NaN</td>\n",
       "      <td>False</td>\n",
       "      <td>False</td>\n",
       "      <td>True</td>\n",
       "    </tr>\n",
       "    <tr>\n",
       "      <th>1477</th>\n",
       "      <td>2006-12-01</td>\n",
       "      <td>13:00</td>\n",
       "      <td>2006-12-01</td>\n",
       "      <td>07:00</td>\n",
       "      <td>goes11.2006.12.01.1300.v01.nc-var1-t0.csv</td>\n",
       "      <td>T_goes11.2006.12.01.1300.v01.nc-var1-t0.csv.csv</td>\n",
       "      <td>[0.02, 0.03, 0.0325, 0.015, 0.03, 0.02, 0.03, ...</td>\n",
       "      <td>False</td>\n",
       "      <td>3521</td>\n",
       "      <td>False</td>\n",
       "      <td>...</td>\n",
       "      <td>985.00</td>\n",
       "      <td>1008.50</td>\n",
       "      <td>1007.80</td>\n",
       "      <td>0.00</td>\n",
       "      <td>16</td>\n",
       "      <td>NC</td>\n",
       "      <td>NaN</td>\n",
       "      <td>False</td>\n",
       "      <td>False</td>\n",
       "      <td>True</td>\n",
       "    </tr>\n",
       "    <tr>\n",
       "      <th>1478</th>\n",
       "      <td>2006-12-01</td>\n",
       "      <td>14:00</td>\n",
       "      <td>2006-12-01</td>\n",
       "      <td>08:00</td>\n",
       "      <td>goes11.2006.12.01.1400.v01.nc-var1-t0.csv</td>\n",
       "      <td>T_goes11.2006.12.01.1400.v01.nc-var1-t0.csv.csv</td>\n",
       "      <td>[0.235, 0.19749999, 0.1475, 0.185, 0.195, 0.16...</td>\n",
       "      <td>True</td>\n",
       "      <td>3504</td>\n",
       "      <td>True</td>\n",
       "      <td>...</td>\n",
       "      <td>981.00</td>\n",
       "      <td>1004.60</td>\n",
       "      <td>1003.70</td>\n",
       "      <td>0.00</td>\n",
       "      <td>16</td>\n",
       "      <td>NC</td>\n",
       "      <td>NaN</td>\n",
       "      <td>False</td>\n",
       "      <td>False</td>\n",
       "      <td>True</td>\n",
       "    </tr>\n",
       "    <tr>\n",
       "      <th>1479</th>\n",
       "      <td>2006-12-01</td>\n",
       "      <td>15:00</td>\n",
       "      <td>2006-12-01</td>\n",
       "      <td>09:00</td>\n",
       "      <td>goes11.2006.12.01.1500.v01.nc-var1-t0.csv</td>\n",
       "      <td>T_goes11.2006.12.01.1500.v01.nc-var1-t0.csv.csv</td>\n",
       "      <td>[0.21, 0.1775, 0.17999999, 0.26999998, 0.28, 0...</td>\n",
       "      <td>True</td>\n",
       "      <td>3599</td>\n",
       "      <td>True</td>\n",
       "      <td>...</td>\n",
       "      <td>978.70</td>\n",
       "      <td>1002.20</td>\n",
       "      <td>1001.40</td>\n",
       "      <td>0.01</td>\n",
       "      <td>15</td>\n",
       "      <td>NC</td>\n",
       "      <td>NaN</td>\n",
       "      <td>True</td>\n",
       "      <td>True</td>\n",
       "      <td>True</td>\n",
       "    </tr>\n",
       "    <tr>\n",
       "      <th>1480</th>\n",
       "      <td>2006-12-01</td>\n",
       "      <td>16:00</td>\n",
       "      <td>2006-12-01</td>\n",
       "      <td>10:00</td>\n",
       "      <td>goes11.2006.12.01.1600.v01.nc-var1-t0.csv</td>\n",
       "      <td>T_goes11.2006.12.01.1600.v01.nc-var1-t0.csv.csv</td>\n",
       "      <td>[0.39999998, 0.39, 0.39749998, 0.42, 0.42, 0.4...</td>\n",
       "      <td>True</td>\n",
       "      <td>3599</td>\n",
       "      <td>True</td>\n",
       "      <td>...</td>\n",
       "      <td>979.70</td>\n",
       "      <td>1003.00</td>\n",
       "      <td>1002.40</td>\n",
       "      <td>0.04</td>\n",
       "      <td>16</td>\n",
       "      <td>NC</td>\n",
       "      <td>NaN</td>\n",
       "      <td>True</td>\n",
       "      <td>True</td>\n",
       "      <td>True</td>\n",
       "    </tr>\n",
       "    <tr>\n",
       "      <th>1481</th>\n",
       "      <td>2006-12-01</td>\n",
       "      <td>17:00</td>\n",
       "      <td>2006-12-01</td>\n",
       "      <td>11:00</td>\n",
       "      <td>goes11.2006.12.01.1700.v01.nc-var1-t0.csv</td>\n",
       "      <td>T_goes11.2006.12.01.1700.v01.nc-var1-t0.csv.csv</td>\n",
       "      <td>[0.37, 0.36249998, 0.3725, 0.4025, 0.415, 0.43...</td>\n",
       "      <td>True</td>\n",
       "      <td>3599</td>\n",
       "      <td>True</td>\n",
       "      <td>...</td>\n",
       "      <td>979.00</td>\n",
       "      <td>1002.40</td>\n",
       "      <td>1001.70</td>\n",
       "      <td>0.11</td>\n",
       "      <td>M</td>\n",
       "      <td>NC</td>\n",
       "      <td>NaN</td>\n",
       "      <td>True</td>\n",
       "      <td>True</td>\n",
       "      <td>True</td>\n",
       "    </tr>\n",
       "    <tr>\n",
       "      <th>1482</th>\n",
       "      <td>2006-12-01</td>\n",
       "      <td>18:00</td>\n",
       "      <td>2006-12-01</td>\n",
       "      <td>12:00</td>\n",
       "      <td>goes11.2006.12.01.1800.v01.nc-var1-t0.csv</td>\n",
       "      <td>T_goes11.2006.12.01.1800.v01.nc-var1-t0.csv.csv</td>\n",
       "      <td>[0.3175, 0.32999998, 0.3275, 0.36499998, 0.367...</td>\n",
       "      <td>True</td>\n",
       "      <td>3599</td>\n",
       "      <td>True</td>\n",
       "      <td>...</td>\n",
       "      <td>979.00</td>\n",
       "      <td>1002.50</td>\n",
       "      <td>1001.70</td>\n",
       "      <td>0.15</td>\n",
       "      <td>15</td>\n",
       "      <td>NC</td>\n",
       "      <td>NaN</td>\n",
       "      <td>True</td>\n",
       "      <td>True</td>\n",
       "      <td>True</td>\n",
       "    </tr>\n",
       "    <tr>\n",
       "      <th>1483</th>\n",
       "      <td>2006-12-01</td>\n",
       "      <td>19:00</td>\n",
       "      <td>2006-12-01</td>\n",
       "      <td>13:00</td>\n",
       "      <td>goes11.2006.12.01.1900.v01.nc-var1-t0.csv</td>\n",
       "      <td>T_goes11.2006.12.01.1900.v01.nc-var1-t0.csv.csv</td>\n",
       "      <td>[0.265, 0.255, 0.305, 0.31, 0.305, 0.28, 0.352...</td>\n",
       "      <td>True</td>\n",
       "      <td>3599</td>\n",
       "      <td>True</td>\n",
       "      <td>...</td>\n",
       "      <td>978.70</td>\n",
       "      <td>1002.20</td>\n",
       "      <td>1001.40</td>\n",
       "      <td>0.16</td>\n",
       "      <td>16</td>\n",
       "      <td>NC</td>\n",
       "      <td>NaN</td>\n",
       "      <td>True</td>\n",
       "      <td>True</td>\n",
       "      <td>True</td>\n",
       "    </tr>\n",
       "    <tr>\n",
       "      <th>1484</th>\n",
       "      <td>2006-12-01</td>\n",
       "      <td>20:00</td>\n",
       "      <td>2006-12-01</td>\n",
       "      <td>14:00</td>\n",
       "      <td>goes11.2006.12.01.2000.v01.nc-var1-t0.csv</td>\n",
       "      <td>T_goes11.2006.12.01.2000.v01.nc-var1-t0.csv.csv</td>\n",
       "      <td>[0.355, 0.34, 0.31, 0.32999998, 0.32, 0.3125, ...</td>\n",
       "      <td>True</td>\n",
       "      <td>3599</td>\n",
       "      <td>True</td>\n",
       "      <td>...</td>\n",
       "      <td>979.70</td>\n",
       "      <td>1003.00</td>\n",
       "      <td>1002.40</td>\n",
       "      <td>0.05</td>\n",
       "      <td>16</td>\n",
       "      <td>NC</td>\n",
       "      <td>NaN</td>\n",
       "      <td>True</td>\n",
       "      <td>True</td>\n",
       "      <td>True</td>\n",
       "    </tr>\n",
       "  </tbody>\n",
       "</table>\n",
       "<p>25 rows × 30 columns</p>\n",
       "</div>"
      ],
      "text/plain": [
       "        Date_UTC Time_UTC    Date_CST Time_CST  \\\n",
       "1460  2006-11-30    20:00  2006-11-30    14:00   \n",
       "1461  2006-11-30    21:00  2006-11-30    15:00   \n",
       "1462  2006-11-30    22:00  2006-11-30    16:00   \n",
       "1463  2006-11-30    23:00  2006-11-30    17:00   \n",
       "1464  2006-12-01    00:00  2006-11-30    18:00   \n",
       "1465  2006-12-01    01:00  2006-11-30    19:00   \n",
       "1466  2006-12-01    02:00  2006-11-30    20:00   \n",
       "1467  2006-12-01    03:00  2006-11-30    21:00   \n",
       "1468  2006-12-01    04:00  2006-11-30    22:00   \n",
       "1469  2006-12-01    05:00  2006-11-30    23:00   \n",
       "1470  2006-12-01    06:00  2006-12-01    00:00   \n",
       "1471  2006-12-01    07:00  2006-12-01    01:00   \n",
       "1472  2006-12-01    08:00  2006-12-01    02:00   \n",
       "1473  2006-12-01    09:00  2006-12-01    03:00   \n",
       "1474  2006-12-01    10:00  2006-12-01    04:00   \n",
       "1475  2006-12-01    11:00  2006-12-01    05:00   \n",
       "1476  2006-12-01    12:00  2006-12-01    06:00   \n",
       "1477  2006-12-01    13:00  2006-12-01    07:00   \n",
       "1478  2006-12-01    14:00  2006-12-01    08:00   \n",
       "1479  2006-12-01    15:00  2006-12-01    09:00   \n",
       "1480  2006-12-01    16:00  2006-12-01    10:00   \n",
       "1481  2006-12-01    17:00  2006-12-01    11:00   \n",
       "1482  2006-12-01    18:00  2006-12-01    12:00   \n",
       "1483  2006-12-01    19:00  2006-12-01    13:00   \n",
       "1484  2006-12-01    20:00  2006-12-01    14:00   \n",
       "\n",
       "                          File_name_for_1D_lake  \\\n",
       "1460  goes11.2006.11.30.2000.v01.nc-var1-t0.csv   \n",
       "1461  goes11.2006.11.30.2100.v01.nc-var1-t0.csv   \n",
       "1462  goes11.2006.11.30.2200.v01.nc-var1-t0.csv   \n",
       "1463  goes11.2006.11.30.2300.v01.nc-var1-t0.csv   \n",
       "1464  goes11.2006.12.01.0000.v01.nc-var1-t0.csv   \n",
       "1465  goes11.2006.12.01.0100.v01.nc-var1-t0.csv   \n",
       "1466  goes11.2006.12.01.0200.v01.nc-var1-t0.csv   \n",
       "1467  goes11.2006.12.01.0300.v01.nc-var1-t0.csv   \n",
       "1468  goes11.2006.12.01.0400.v01.nc-var1-t0.csv   \n",
       "1469  goes11.2006.12.01.0500.v01.nc-var1-t0.csv   \n",
       "1470  goes11.2006.12.01.0600.v01.nc-var1-t0.csv   \n",
       "1471  goes11.2006.12.01.0700.v01.nc-var1-t0.csv   \n",
       "1472  goes11.2006.12.01.0800.v01.nc-var1-t0.csv   \n",
       "1473  goes11.2006.12.01.0900.v01.nc-var1-t0.csv   \n",
       "1474  goes11.2006.12.01.1000.v01.nc-var1-t0.csv   \n",
       "1475  goes11.2006.12.01.1100.v01.nc-var1-t0.csv   \n",
       "1476  goes11.2006.12.01.1200.v01.nc-var1-t0.csv   \n",
       "1477  goes11.2006.12.01.1300.v01.nc-var1-t0.csv   \n",
       "1478  goes11.2006.12.01.1400.v01.nc-var1-t0.csv   \n",
       "1479  goes11.2006.12.01.1500.v01.nc-var1-t0.csv   \n",
       "1480  goes11.2006.12.01.1600.v01.nc-var1-t0.csv   \n",
       "1481  goes11.2006.12.01.1700.v01.nc-var1-t0.csv   \n",
       "1482  goes11.2006.12.01.1800.v01.nc-var1-t0.csv   \n",
       "1483  goes11.2006.12.01.1900.v01.nc-var1-t0.csv   \n",
       "1484  goes11.2006.12.01.2000.v01.nc-var1-t0.csv   \n",
       "\n",
       "                                File_name_for_2D_lake  \\\n",
       "1460  T_goes11.2006.11.30.2000.v01.nc-var1-t0.csv.csv   \n",
       "1461  T_goes11.2006.11.30.2100.v01.nc-var1-t0.csv.csv   \n",
       "1462  T_goes11.2006.11.30.2200.v01.nc-var1-t0.csv.csv   \n",
       "1463  T_goes11.2006.11.30.2300.v01.nc-var1-t0.csv.csv   \n",
       "1464  T_goes11.2006.12.01.0000.v01.nc-var1-t0.csv.csv   \n",
       "1465  T_goes11.2006.12.01.0100.v01.nc-var1-t0.csv.csv   \n",
       "1466  T_goes11.2006.12.01.0200.v01.nc-var1-t0.csv.csv   \n",
       "1467  T_goes11.2006.12.01.0300.v01.nc-var1-t0.csv.csv   \n",
       "1468  T_goes11.2006.12.01.0400.v01.nc-var1-t0.csv.csv   \n",
       "1469  T_goes11.2006.12.01.0500.v01.nc-var1-t0.csv.csv   \n",
       "1470  T_goes11.2006.12.01.0600.v01.nc-var1-t0.csv.csv   \n",
       "1471  T_goes11.2006.12.01.0700.v01.nc-var1-t0.csv.csv   \n",
       "1472  T_goes11.2006.12.01.0800.v01.nc-var1-t0.csv.csv   \n",
       "1473  T_goes11.2006.12.01.0900.v01.nc-var1-t0.csv.csv   \n",
       "1474  T_goes11.2006.12.01.1000.v01.nc-var1-t0.csv.csv   \n",
       "1475  T_goes11.2006.12.01.1100.v01.nc-var1-t0.csv.csv   \n",
       "1476  T_goes11.2006.12.01.1200.v01.nc-var1-t0.csv.csv   \n",
       "1477  T_goes11.2006.12.01.1300.v01.nc-var1-t0.csv.csv   \n",
       "1478  T_goes11.2006.12.01.1400.v01.nc-var1-t0.csv.csv   \n",
       "1479  T_goes11.2006.12.01.1500.v01.nc-var1-t0.csv.csv   \n",
       "1480  T_goes11.2006.12.01.1600.v01.nc-var1-t0.csv.csv   \n",
       "1481  T_goes11.2006.12.01.1700.v01.nc-var1-t0.csv.csv   \n",
       "1482  T_goes11.2006.12.01.1800.v01.nc-var1-t0.csv.csv   \n",
       "1483  T_goes11.2006.12.01.1900.v01.nc-var1-t0.csv.csv   \n",
       "1484  T_goes11.2006.12.01.2000.v01.nc-var1-t0.csv.csv   \n",
       "\n",
       "                                           Lake_data_1D  data_usable  \\\n",
       "1460  [0.34, 0.3475, 0.35, 0.3225, 0.3375, 0.345, 0....         True   \n",
       "1461  [0.195, 0.21249999, 0.21249999, 0.19999999, 0....         True   \n",
       "1462  [0.035, 0.035, 0.0525, 0.0425, 0.0425, 0.0425,...         True   \n",
       "1463  [nan, nan, 0.0, 0.0075, nan, 0.0025, 0.0, 0.00...        False   \n",
       "1464  [0.0025, nan, 0.0025, 0.0, 0.005, 0.0, 0.0075,...        False   \n",
       "1465  [0.0, nan, 0.005, 0.0025, 0.0075, 0.0025, 0.00...        False   \n",
       "1466  [0.0025, 0.005, nan, 0.0025, nan, 0.0025, nan,...        False   \n",
       "1467  [nan, 0.0025, nan, nan, nan, 0.0025, 0.0, 0.0,...        False   \n",
       "1468  [nan, 0.0025, 0.005, 0.0025, nan, nan, 0.0, 0....        False   \n",
       "1469  [nan, nan, nan, nan, nan, nan, 0.0025, 0.0, 0....        False   \n",
       "1470  [nan, nan, 0.0025, nan, nan, 0.0, nan, 0.0025,...        False   \n",
       "1471  [0.0, nan, 0.005, 0.0025, nan, 0.0025, 0.0025,...        False   \n",
       "1472  [0.0025, nan, 0.01, nan, 0.0075, 0.0, 0.0075, ...        False   \n",
       "1473  [0.0, 0.0075, 0.0, 0.0025, nan, nan, 0.0, nan,...        False   \n",
       "1474  [0.0025, 0.0025, 0.005, nan, 0.0025, nan, nan,...        False   \n",
       "1475  [nan, 0.0025, 0.005, nan, 0.0, 0.0, nan, nan, ...        False   \n",
       "1476  [0.0025, nan, 0.0025, nan, 0.0025, nan, 0.0025...        False   \n",
       "1477  [0.02, 0.03, 0.0325, 0.015, 0.03, 0.02, 0.03, ...        False   \n",
       "1478  [0.235, 0.19749999, 0.1475, 0.185, 0.195, 0.16...         True   \n",
       "1479  [0.21, 0.1775, 0.17999999, 0.26999998, 0.28, 0...         True   \n",
       "1480  [0.39999998, 0.39, 0.39749998, 0.42, 0.42, 0.4...         True   \n",
       "1481  [0.37, 0.36249998, 0.3725, 0.4025, 0.415, 0.43...         True   \n",
       "1482  [0.3175, 0.32999998, 0.3275, 0.36499998, 0.367...         True   \n",
       "1483  [0.265, 0.255, 0.305, 0.31, 0.305, 0.28, 0.352...         True   \n",
       "1484  [0.355, 0.34, 0.31, 0.32999998, 0.32, 0.3125, ...         True   \n",
       "\n",
       "      cloud_count  cloud_exist  ...  Atm Press (hPa) Sea Lev Press (hPa)  \\\n",
       "1460         3521         True  ...           996.30             1019.80   \n",
       "1461         3521         True  ...           995.70             1019.40   \n",
       "1462         3521        False  ...           996.70                   M   \n",
       "1463         3521        False  ...           996.70             1020.20   \n",
       "1464         3521        False  ...           996.70             1020.50   \n",
       "1465         3521        False  ...           996.70             1020.50   \n",
       "1466         3521        False  ...           996.30             1020.00   \n",
       "1467         3521        False  ...           995.70             1019.60   \n",
       "1468         3521        False  ...           995.70                   M   \n",
       "1469         3521        False  ...           995.30             1019.00   \n",
       "1470         3521        False  ...           994.70             1018.30   \n",
       "1471         3521        False  ...           993.30                   M   \n",
       "1472         3521        False  ...           991.70             1015.40   \n",
       "1473         3521        False  ...           990.00                   M   \n",
       "1474         3521        False  ...           988.00             1011.70   \n",
       "1475         3521        False  ...           986.70             1010.40   \n",
       "1476         3521        False  ...           985.40             1008.80   \n",
       "1477         3521        False  ...           985.00             1008.50   \n",
       "1478         3504         True  ...           981.00             1004.60   \n",
       "1479         3599         True  ...           978.70             1002.20   \n",
       "1480         3599         True  ...           979.70             1003.00   \n",
       "1481         3599         True  ...           979.00             1002.40   \n",
       "1482         3599         True  ...           979.00             1002.50   \n",
       "1483         3599         True  ...           978.70             1002.20   \n",
       "1484         3599         True  ...           979.70             1003.00   \n",
       "\n",
       "     Altimeter (hPa) Precip (in) Wind Chill (F) Heat Index (F) Unnamed: 18  \\\n",
       "1460         1019.30        0.00             20             NC         NaN   \n",
       "1461         1018.60        0.00             17             NC         NaN   \n",
       "1462         1019.60        0.00             19             NC         NaN   \n",
       "1463         1019.60        0.00             22             NC         NaN   \n",
       "1464         1019.60        0.00             20             NC         NaN   \n",
       "1465         1019.60        0.00             19             NC         NaN   \n",
       "1466         1019.30        0.00             18             NC         NaN   \n",
       "1467         1018.60        0.00             17             NC         NaN   \n",
       "1468         1018.60        0.00             19             NC         NaN   \n",
       "1469         1018.30        0.00             18             NC         NaN   \n",
       "1470         1017.60        0.00             18             NC         NaN   \n",
       "1471         1016.30        0.00             18             NC         NaN   \n",
       "1472         1014.60        0.00             16             NC         NaN   \n",
       "1473         1012.90        0.00             16             NC         NaN   \n",
       "1474         1010.80        0.00             14             NC         NaN   \n",
       "1475         1009.50        0.00             16             NC         NaN   \n",
       "1476         1008.10        0.00             16             NC         NaN   \n",
       "1477         1007.80        0.00             16             NC         NaN   \n",
       "1478         1003.70        0.00             16             NC         NaN   \n",
       "1479         1001.40        0.01             15             NC         NaN   \n",
       "1480         1002.40        0.04             16             NC         NaN   \n",
       "1481         1001.70        0.11              M             NC         NaN   \n",
       "1482         1001.70        0.15             15             NC         NaN   \n",
       "1483         1001.40        0.16             16             NC         NaN   \n",
       "1484         1002.40        0.05             16             NC         NaN   \n",
       "\n",
       "     is_snow_precip is_precip does_snow_24_120  \n",
       "1460          False     False             True  \n",
       "1461          False     False             True  \n",
       "1462          False     False             True  \n",
       "1463          False     False             True  \n",
       "1464          False     False             True  \n",
       "1465          False     False             True  \n",
       "1466          False     False             True  \n",
       "1467          False     False             True  \n",
       "1468          False     False             True  \n",
       "1469          False     False             True  \n",
       "1470          False     False             True  \n",
       "1471          False     False             True  \n",
       "1472          False     False             True  \n",
       "1473          False     False             True  \n",
       "1474          False     False             True  \n",
       "1475          False     False             True  \n",
       "1476          False     False             True  \n",
       "1477          False     False             True  \n",
       "1478          False     False             True  \n",
       "1479           True      True             True  \n",
       "1480           True      True             True  \n",
       "1481           True      True             True  \n",
       "1482           True      True             True  \n",
       "1483           True      True             True  \n",
       "1484           True      True             True  \n",
       "\n",
       "[25 rows x 30 columns]"
      ]
     },
     "execution_count": 17,
     "metadata": {},
     "output_type": "execute_result"
    }
   ],
   "source": [
    "df_usable_data[1460:1485]"
   ]
  },
  {
   "cell_type": "code",
   "execution_count": 18,
   "id": "10e2a0b0",
   "metadata": {},
   "outputs": [
    {
     "data": {
      "text/plain": [
       "[56,\n",
       " 105,\n",
       " 112,\n",
       " 118,\n",
       " 153,\n",
       " 171,\n",
       " 35,\n",
       " 78,\n",
       " 93,\n",
       " 150,\n",
       " 63,\n",
       " 70,\n",
       " 31,\n",
       " 97,\n",
       " 228,\n",
       " 235,\n",
       " 91,\n",
       " 125,\n",
       " 130,\n",
       " 168,\n",
       " 107,\n",
       " 28,\n",
       " 95,\n",
       " 37,\n",
       " 46,\n",
       " 62,\n",
       " 24,\n",
       " 27,\n",
       " 34,\n",
       " 43,\n",
       " 16,\n",
       " 87,\n",
       " 108,\n",
       " 689,\n",
       " 856,\n",
       " 934,\n",
       " 948,\n",
       " 1039,\n",
       " 1066,\n",
       " 1158,\n",
       " 1288,\n",
       " 13,\n",
       " 29,\n",
       " 22,\n",
       " 132,\n",
       " 163,\n",
       " 206,\n",
       " 212,\n",
       " 235,\n",
       " 32,\n",
       " 25,\n",
       " 49,\n",
       " 60,\n",
       " 84,\n",
       " 19,\n",
       " 120,\n",
       " 154,\n",
       " 179,\n",
       " 187,\n",
       " 379,\n",
       " 415,\n",
       " 438,\n",
       " 117,\n",
       " 246,\n",
       " 47,\n",
       " 9,\n",
       " 74,\n",
       " 95,\n",
       " 38,\n",
       " 67,\n",
       " 100,\n",
       " 117,\n",
       " 122,\n",
       " 248,\n",
       " 444,\n",
       " 479,\n",
       " 485,\n",
       " 550,\n",
       " 621,\n",
       " 837,\n",
       " 910,\n",
       " 1434,\n",
       " 1450,\n",
       " 49,\n",
       " 61,\n",
       " 65,\n",
       " 13,\n",
       " 160,\n",
       " 93,\n",
       " 164,\n",
       " 198,\n",
       " 216,\n",
       " 128,\n",
       " 135,\n",
       " 153,\n",
       " 201,\n",
       " 232,\n",
       " 244,\n",
       " 328,\n",
       " 404,\n",
       " 556,\n",
       " 562,\n",
       " 573,\n",
       " 618,\n",
       " 697,\n",
       " 754,\n",
       " 765,\n",
       " 880,\n",
       " 897,\n",
       " 947,\n",
       " 1003,\n",
       " 1045,\n",
       " 1127,\n",
       " 18,\n",
       " 37,\n",
       " 44,\n",
       " 53,\n",
       " 64,\n",
       " 6,\n",
       " 17,\n",
       " 108,\n",
       " 590,\n",
       " 28,\n",
       " 34,\n",
       " 44,\n",
       " 56,\n",
       " 180,\n",
       " 185,\n",
       " 262,\n",
       " 389,\n",
       " 626,\n",
       " 663,\n",
       " 1115,\n",
       " 23,\n",
       " 75,\n",
       " 84,\n",
       " 114,\n",
       " 121,\n",
       " 127,\n",
       " 135,\n",
       " 477,\n",
       " 484,\n",
       " 496,\n",
       " 522,\n",
       " 595,\n",
       " 602,\n",
       " 606,\n",
       " 690,\n",
       " 702,\n",
       " 721,\n",
       " 772,\n",
       " 61,\n",
       " 83,\n",
       " 253,\n",
       " 331,\n",
       " 395,\n",
       " 400,\n",
       " 53,\n",
       " 298,\n",
       " 314,\n",
       " 79,\n",
       " 17,\n",
       " 702,\n",
       " 65,\n",
       " 100,\n",
       " 171,\n",
       " 153,\n",
       " 26,\n",
       " 487,\n",
       " 544,\n",
       " 560,\n",
       " 613,\n",
       " 835,\n",
       " 1081,\n",
       " 1240,\n",
       " 1445,\n",
       " 1453,\n",
       " 1729,\n",
       " 2000,\n",
       " 2411,\n",
       " 2551,\n",
       " 2613,\n",
       " 2885,\n",
       " 2984,\n",
       " 3097,\n",
       " 3217,\n",
       " 3431,\n",
       " 3560,\n",
       " 3574,\n",
       " 3708,\n",
       " 3726,\n",
       " 3829,\n",
       " 4157,\n",
       " 4165,\n",
       " 4169,\n",
       " 312,\n",
       " 325,\n",
       " 333,\n",
       " 432,\n",
       " 454,\n",
       " 459,\n",
       " 470,\n",
       " 589,\n",
       " 600,\n",
       " 728,\n",
       " 782,\n",
       " 787,\n",
       " 926,\n",
       " 945,\n",
       " 962,\n",
       " 1200,\n",
       " 1363,\n",
       " 1371,\n",
       " 1482,\n",
       " 1525,\n",
       " 1529,\n",
       " 1541,\n",
       " 1548,\n",
       " 1789,\n",
       " 1805,\n",
       " 1817,\n",
       " 1993,\n",
       " 2153,\n",
       " 2221,\n",
       " 2492,\n",
       " 2606,\n",
       " 2743,\n",
       " 2866,\n",
       " 3197,\n",
       " 3363,\n",
       " 3516,\n",
       " 3632,\n",
       " 3647,\n",
       " 3692,\n",
       " 3818,\n",
       " 3923,\n",
       " 4188,\n",
       " 4197,\n",
       " 4358,\n",
       " 38,\n",
       " 7,\n",
       " 44,\n",
       " 92,\n",
       " 115,\n",
       " 131,\n",
       " 138,\n",
       " 204,\n",
       " 213,\n",
       " 394,\n",
       " 504,\n",
       " 515,\n",
       " 536,\n",
       " 595,\n",
       " 765,\n",
       " 803,\n",
       " 1001,\n",
       " 1281,\n",
       " 1289,\n",
       " 1331,\n",
       " 1468,\n",
       " 1616,\n",
       " 1640,\n",
       " 1725,\n",
       " 2246,\n",
       " 2292,\n",
       " 2455,\n",
       " 2555,\n",
       " 2647,\n",
       " 2660,\n",
       " 2697,\n",
       " 2708,\n",
       " 2713,\n",
       " 2726,\n",
       " 2909,\n",
       " 2983,\n",
       " 2990,\n",
       " 3003,\n",
       " 3070,\n",
       " 3076,\n",
       " 3180,\n",
       " 3287,\n",
       " 3293,\n",
       " 3634,\n",
       " 3643,\n",
       " 3656,\n",
       " 3678,\n",
       " 3846,\n",
       " 4139,\n",
       " 53,\n",
       " 107,\n",
       " 141,\n",
       " 343,\n",
       " 362,\n",
       " 389,\n",
       " 416,\n",
       " 422,\n",
       " 465,\n",
       " 503,\n",
       " 513,\n",
       " 549,\n",
       " 566,\n",
       " 590,\n",
       " 720,\n",
       " 726,\n",
       " 857,\n",
       " 931,\n",
       " 977,\n",
       " 1117,\n",
       " 1135,\n",
       " 1278,\n",
       " 1320,\n",
       " 1523,\n",
       " 1546,\n",
       " 1645,\n",
       " 1819,\n",
       " 1915,\n",
       " 1920,\n",
       " 1964,\n",
       " 35,\n",
       " 43,\n",
       " 126,\n",
       " 253,\n",
       " 321,\n",
       " 370,\n",
       " 510,\n",
       " 946,\n",
       " 1019,\n",
       " 1545,\n",
       " 1653,\n",
       " 23,\n",
       " 40,\n",
       " 78,\n",
       " 298,\n",
       " 313,\n",
       " 327,\n",
       " 389,\n",
       " 393,\n",
       " 110,\n",
       " 207,\n",
       " 247,\n",
       " 257,\n",
       " 298,\n",
       " 303,\n",
       " 309,\n",
       " 331,\n",
       " 358,\n",
       " 494,\n",
       " 510,\n",
       " 536,\n",
       " 679,\n",
       " 698,\n",
       " 1032,\n",
       " 1220,\n",
       " 1378,\n",
       " 1386,\n",
       " 1417,\n",
       " 1488,\n",
       " 151,\n",
       " 643,\n",
       " 1031,\n",
       " 1272,\n",
       " 1441,\n",
       " 1764,\n",
       " 1965,\n",
       " 2072,\n",
       " 171,\n",
       " 177,\n",
       " 33,\n",
       " 43,\n",
       " 102,\n",
       " 132,\n",
       " 316,\n",
       " 64,\n",
       " 74,\n",
       " 87,\n",
       " 139,\n",
       " 145,\n",
       " 61,\n",
       " 60,\n",
       " 67,\n",
       " 82,\n",
       " 86,\n",
       " 95,\n",
       " 57,\n",
       " 268,\n",
       " 370,\n",
       " 382,\n",
       " 108,\n",
       " 164,\n",
       " 178,\n",
       " 208,\n",
       " 212,\n",
       " 220,\n",
       " 244,\n",
       " 363,\n",
       " 424,\n",
       " 487,\n",
       " 535,\n",
       " 678,\n",
       " 685,\n",
       " 59,\n",
       " 82,\n",
       " 137,\n",
       " 265,\n",
       " 470,\n",
       " 525,\n",
       " 603,\n",
       " 654,\n",
       " 673,\n",
       " 906,\n",
       " 1323,\n",
       " 1508,\n",
       " 1616,\n",
       " 1632,\n",
       " 1673,\n",
       " 1682,\n",
       " 1858,\n",
       " 1866,\n",
       " 1881,\n",
       " 1950,\n",
       " 1958,\n",
       " 2029,\n",
       " 2044,\n",
       " 12,\n",
       " 16,\n",
       " 37,\n",
       " 268,\n",
       " 351,\n",
       " 383,\n",
       " 544,\n",
       " 604,\n",
       " 612,\n",
       " 686,\n",
       " 291,\n",
       " 353,\n",
       " 367,\n",
       " 482,\n",
       " 508,\n",
       " 622,\n",
       " 686,\n",
       " 799,\n",
       " 820,\n",
       " 35,\n",
       " 85,\n",
       " 39,\n",
       " 204,\n",
       " 210,\n",
       " 246,\n",
       " 38,\n",
       " 248,\n",
       " 255,\n",
       " 349,\n",
       " 389,\n",
       " 555,\n",
       " 112,\n",
       " 214,\n",
       " 230,\n",
       " 376,\n",
       " 194,\n",
       " 244]"
      ]
     },
     "execution_count": 18,
     "metadata": {},
     "output_type": "execute_result"
    }
   ],
   "source": [
    "if cloud_start_lst[0] is None:\n",
    "    print('Is None.')\n",
    "    cloud_start_lst[0] = 0\n",
    "\n",
    "\n",
    "duration_between_cloud_snow = [precip_start_lst[i] - cloud_start_lst[i] for i in range(len(precip_start_lst))]\n",
    "duration_between_cloud_snow"
   ]
  },
  {
   "cell_type": "code",
   "execution_count": 19,
   "id": "94122a5b",
   "metadata": {},
   "outputs": [
    {
     "name": "stdout",
     "output_type": "stream",
     "text": [
      "# of element in cloud_start_lst: 460\n",
      "# of element in precip_start_lst: 460\n"
     ]
    }
   ],
   "source": [
    "print('# of element in cloud_start_lst:', len(cloud_start_lst))\n",
    "print('# of element in precip_start_lst:', len(precip_start_lst))"
   ]
  },
  {
   "cell_type": "code",
   "execution_count": 20,
   "id": "40d9b09b",
   "metadata": {},
   "outputs": [],
   "source": [
    "# Get the corresponding cloud_start\n",
    "df_cloud_start_rows = df_usable_data.iloc[cloud_start_lst]\n",
    "\n",
    "# Get the corresponding precip start\n",
    "df_precip_start_rows = df_usable_data.iloc[precip_start_lst]"
   ]
  },
  {
   "cell_type": "code",
   "execution_count": 21,
   "id": "7e4820c0",
   "metadata": {},
   "outputs": [
    {
     "data": {
      "text/html": [
       "<div>\n",
       "<style scoped>\n",
       "    .dataframe tbody tr th:only-of-type {\n",
       "        vertical-align: middle;\n",
       "    }\n",
       "\n",
       "    .dataframe tbody tr th {\n",
       "        vertical-align: top;\n",
       "    }\n",
       "\n",
       "    .dataframe thead th {\n",
       "        text-align: right;\n",
       "    }\n",
       "</style>\n",
       "<table border=\"1\" class=\"dataframe\">\n",
       "  <thead>\n",
       "    <tr style=\"text-align: right;\">\n",
       "      <th></th>\n",
       "      <th>Date_UTC</th>\n",
       "      <th>Time_UTC</th>\n",
       "      <th>Date_CST</th>\n",
       "      <th>Time_CST</th>\n",
       "      <th>File_name_for_1D_lake</th>\n",
       "      <th>File_name_for_2D_lake</th>\n",
       "      <th>Lake_data_1D</th>\n",
       "      <th>data_usable</th>\n",
       "      <th>cloud_count</th>\n",
       "      <th>cloud_exist</th>\n",
       "      <th>...</th>\n",
       "      <th>Atm Press (hPa)</th>\n",
       "      <th>Sea Lev Press (hPa)</th>\n",
       "      <th>Altimeter (hPa)</th>\n",
       "      <th>Precip (in)</th>\n",
       "      <th>Wind Chill (F)</th>\n",
       "      <th>Heat Index (F)</th>\n",
       "      <th>Unnamed: 18</th>\n",
       "      <th>is_snow_precip</th>\n",
       "      <th>is_precip</th>\n",
       "      <th>does_snow_24_120</th>\n",
       "    </tr>\n",
       "  </thead>\n",
       "  <tbody>\n",
       "    <tr>\n",
       "      <th>0</th>\n",
       "      <td>2006-10-01</td>\n",
       "      <td>20:00</td>\n",
       "      <td>2006-10-01</td>\n",
       "      <td>14:00</td>\n",
       "      <td>goes11.2006.10.01.2000.v01.nc-var1-t0.csv</td>\n",
       "      <td>T_goes11.2006.10.01.2000.v01.nc-var1-t0.csv.csv</td>\n",
       "      <td>[0.099999994, 0.095, 0.0975, 0.099999994, 0.11...</td>\n",
       "      <td>True</td>\n",
       "      <td>873</td>\n",
       "      <td>True</td>\n",
       "      <td>...</td>\n",
       "      <td>994.70</td>\n",
       "      <td>1017.80</td>\n",
       "      <td>1017.60</td>\n",
       "      <td>0.0</td>\n",
       "      <td>NC</td>\n",
       "      <td>NC</td>\n",
       "      <td>NaN</td>\n",
       "      <td>False</td>\n",
       "      <td>False</td>\n",
       "      <td>False</td>\n",
       "    </tr>\n",
       "    <tr>\n",
       "      <th>1</th>\n",
       "      <td>2006-10-06</td>\n",
       "      <td>20:00</td>\n",
       "      <td>2006-10-06</td>\n",
       "      <td>14:00</td>\n",
       "      <td>goes11.2006.10.06.2000.v01.nc-var1-t0.csv</td>\n",
       "      <td>T_goes11.2006.10.06.2000.v01.nc-var1-t0.csv.csv</td>\n",
       "      <td>[0.1325, 0.1275, 0.11, 0.114999995, 0.09999999...</td>\n",
       "      <td>True</td>\n",
       "      <td>2355</td>\n",
       "      <td>True</td>\n",
       "      <td>...</td>\n",
       "      <td>1007.30</td>\n",
       "      <td>1030.90</td>\n",
       "      <td>1030.50</td>\n",
       "      <td>0.0</td>\n",
       "      <td>NC</td>\n",
       "      <td>NC</td>\n",
       "      <td>NaN</td>\n",
       "      <td>False</td>\n",
       "      <td>False</td>\n",
       "      <td>False</td>\n",
       "    </tr>\n",
       "    <tr>\n",
       "      <th>2</th>\n",
       "      <td>2006-10-06</td>\n",
       "      <td>20:00</td>\n",
       "      <td>2006-10-06</td>\n",
       "      <td>14:00</td>\n",
       "      <td>goes11.2006.10.06.2000.v01.nc-var1-t0.csv</td>\n",
       "      <td>T_goes11.2006.10.06.2000.v01.nc-var1-t0.csv.csv</td>\n",
       "      <td>[0.1325, 0.1275, 0.11, 0.114999995, 0.09999999...</td>\n",
       "      <td>True</td>\n",
       "      <td>2355</td>\n",
       "      <td>True</td>\n",
       "      <td>...</td>\n",
       "      <td>1007.30</td>\n",
       "      <td>1030.90</td>\n",
       "      <td>1030.50</td>\n",
       "      <td>0.0</td>\n",
       "      <td>NC</td>\n",
       "      <td>NC</td>\n",
       "      <td>NaN</td>\n",
       "      <td>False</td>\n",
       "      <td>False</td>\n",
       "      <td>False</td>\n",
       "    </tr>\n",
       "    <tr>\n",
       "      <th>3</th>\n",
       "      <td>2006-10-06</td>\n",
       "      <td>20:00</td>\n",
       "      <td>2006-10-06</td>\n",
       "      <td>14:00</td>\n",
       "      <td>goes11.2006.10.06.2000.v01.nc-var1-t0.csv</td>\n",
       "      <td>T_goes11.2006.10.06.2000.v01.nc-var1-t0.csv.csv</td>\n",
       "      <td>[0.1325, 0.1275, 0.11, 0.114999995, 0.09999999...</td>\n",
       "      <td>True</td>\n",
       "      <td>2355</td>\n",
       "      <td>True</td>\n",
       "      <td>...</td>\n",
       "      <td>1007.30</td>\n",
       "      <td>1030.90</td>\n",
       "      <td>1030.50</td>\n",
       "      <td>0.0</td>\n",
       "      <td>NC</td>\n",
       "      <td>NC</td>\n",
       "      <td>NaN</td>\n",
       "      <td>False</td>\n",
       "      <td>False</td>\n",
       "      <td>False</td>\n",
       "    </tr>\n",
       "    <tr>\n",
       "      <th>4</th>\n",
       "      <td>2006-10-06</td>\n",
       "      <td>20:00</td>\n",
       "      <td>2006-10-06</td>\n",
       "      <td>14:00</td>\n",
       "      <td>goes11.2006.10.06.2000.v01.nc-var1-t0.csv</td>\n",
       "      <td>T_goes11.2006.10.06.2000.v01.nc-var1-t0.csv.csv</td>\n",
       "      <td>[0.1325, 0.1275, 0.11, 0.114999995, 0.09999999...</td>\n",
       "      <td>True</td>\n",
       "      <td>2355</td>\n",
       "      <td>True</td>\n",
       "      <td>...</td>\n",
       "      <td>1007.30</td>\n",
       "      <td>1030.90</td>\n",
       "      <td>1030.50</td>\n",
       "      <td>0.0</td>\n",
       "      <td>NC</td>\n",
       "      <td>NC</td>\n",
       "      <td>NaN</td>\n",
       "      <td>False</td>\n",
       "      <td>False</td>\n",
       "      <td>False</td>\n",
       "    </tr>\n",
       "  </tbody>\n",
       "</table>\n",
       "<p>5 rows × 30 columns</p>\n",
       "</div>"
      ],
      "text/plain": [
       "     Date_UTC Time_UTC    Date_CST Time_CST  \\\n",
       "0  2006-10-01    20:00  2006-10-01    14:00   \n",
       "1  2006-10-06    20:00  2006-10-06    14:00   \n",
       "2  2006-10-06    20:00  2006-10-06    14:00   \n",
       "3  2006-10-06    20:00  2006-10-06    14:00   \n",
       "4  2006-10-06    20:00  2006-10-06    14:00   \n",
       "\n",
       "                       File_name_for_1D_lake  \\\n",
       "0  goes11.2006.10.01.2000.v01.nc-var1-t0.csv   \n",
       "1  goes11.2006.10.06.2000.v01.nc-var1-t0.csv   \n",
       "2  goes11.2006.10.06.2000.v01.nc-var1-t0.csv   \n",
       "3  goes11.2006.10.06.2000.v01.nc-var1-t0.csv   \n",
       "4  goes11.2006.10.06.2000.v01.nc-var1-t0.csv   \n",
       "\n",
       "                             File_name_for_2D_lake  \\\n",
       "0  T_goes11.2006.10.01.2000.v01.nc-var1-t0.csv.csv   \n",
       "1  T_goes11.2006.10.06.2000.v01.nc-var1-t0.csv.csv   \n",
       "2  T_goes11.2006.10.06.2000.v01.nc-var1-t0.csv.csv   \n",
       "3  T_goes11.2006.10.06.2000.v01.nc-var1-t0.csv.csv   \n",
       "4  T_goes11.2006.10.06.2000.v01.nc-var1-t0.csv.csv   \n",
       "\n",
       "                                        Lake_data_1D  data_usable  \\\n",
       "0  [0.099999994, 0.095, 0.0975, 0.099999994, 0.11...         True   \n",
       "1  [0.1325, 0.1275, 0.11, 0.114999995, 0.09999999...         True   \n",
       "2  [0.1325, 0.1275, 0.11, 0.114999995, 0.09999999...         True   \n",
       "3  [0.1325, 0.1275, 0.11, 0.114999995, 0.09999999...         True   \n",
       "4  [0.1325, 0.1275, 0.11, 0.114999995, 0.09999999...         True   \n",
       "\n",
       "   cloud_count  cloud_exist  ...  Atm Press (hPa) Sea Lev Press (hPa)  \\\n",
       "0          873         True  ...           994.70             1017.80   \n",
       "1         2355         True  ...          1007.30             1030.90   \n",
       "2         2355         True  ...          1007.30             1030.90   \n",
       "3         2355         True  ...          1007.30             1030.90   \n",
       "4         2355         True  ...          1007.30             1030.90   \n",
       "\n",
       "  Altimeter (hPa) Precip (in) Wind Chill (F) Heat Index (F) Unnamed: 18  \\\n",
       "0         1017.60         0.0             NC             NC         NaN   \n",
       "1         1030.50         0.0             NC             NC         NaN   \n",
       "2         1030.50         0.0             NC             NC         NaN   \n",
       "3         1030.50         0.0             NC             NC         NaN   \n",
       "4         1030.50         0.0             NC             NC         NaN   \n",
       "\n",
       "  is_snow_precip is_precip does_snow_24_120  \n",
       "0          False     False            False  \n",
       "1          False     False            False  \n",
       "2          False     False            False  \n",
       "3          False     False            False  \n",
       "4          False     False            False  \n",
       "\n",
       "[5 rows x 30 columns]"
      ]
     },
     "execution_count": 21,
     "metadata": {},
     "output_type": "execute_result"
    }
   ],
   "source": [
    "df_cloud_start_rows = df_cloud_start_rows.reset_index(drop=True)\n",
    "\n",
    "df_cloud_start_rows.head(5)"
   ]
  },
  {
   "cell_type": "code",
   "execution_count": 22,
   "id": "20ad2461",
   "metadata": {},
   "outputs": [
    {
     "data": {
      "text/html": [
       "<div>\n",
       "<style scoped>\n",
       "    .dataframe tbody tr th:only-of-type {\n",
       "        vertical-align: middle;\n",
       "    }\n",
       "\n",
       "    .dataframe tbody tr th {\n",
       "        vertical-align: top;\n",
       "    }\n",
       "\n",
       "    .dataframe thead th {\n",
       "        text-align: right;\n",
       "    }\n",
       "</style>\n",
       "<table border=\"1\" class=\"dataframe\">\n",
       "  <thead>\n",
       "    <tr style=\"text-align: right;\">\n",
       "      <th></th>\n",
       "      <th>Date_UTC</th>\n",
       "      <th>Time_UTC</th>\n",
       "      <th>Date_CST</th>\n",
       "      <th>Time_CST</th>\n",
       "      <th>File_name_for_1D_lake</th>\n",
       "      <th>File_name_for_2D_lake</th>\n",
       "      <th>Lake_data_1D</th>\n",
       "      <th>data_usable</th>\n",
       "      <th>cloud_count</th>\n",
       "      <th>cloud_exist</th>\n",
       "      <th>...</th>\n",
       "      <th>Atm Press (hPa)</th>\n",
       "      <th>Sea Lev Press (hPa)</th>\n",
       "      <th>Altimeter (hPa)</th>\n",
       "      <th>Precip (in)</th>\n",
       "      <th>Wind Chill (F)</th>\n",
       "      <th>Heat Index (F)</th>\n",
       "      <th>Unnamed: 18</th>\n",
       "      <th>is_snow_precip</th>\n",
       "      <th>is_precip</th>\n",
       "      <th>does_snow_24_120</th>\n",
       "    </tr>\n",
       "  </thead>\n",
       "  <tbody>\n",
       "    <tr>\n",
       "      <th>0</th>\n",
       "      <td>2006-10-04</td>\n",
       "      <td>04:00</td>\n",
       "      <td>2006-10-03</td>\n",
       "      <td>22:00</td>\n",
       "      <td>goes11.2006.10.04.0400.v01.nc-var1-t0.csv</td>\n",
       "      <td>T_goes11.2006.10.04.0400.v01.nc-var1-t0.csv.csv</td>\n",
       "      <td>[0.0025, nan, nan, nan, 0.0025, 0.0025, nan, n...</td>\n",
       "      <td>False</td>\n",
       "      <td>3597</td>\n",
       "      <td>False</td>\n",
       "      <td>...</td>\n",
       "      <td>990.30</td>\n",
       "      <td>1013.20</td>\n",
       "      <td>1013.20</td>\n",
       "      <td>0.61</td>\n",
       "      <td>NC</td>\n",
       "      <td>NC</td>\n",
       "      <td>NaN</td>\n",
       "      <td>False</td>\n",
       "      <td>True</td>\n",
       "      <td>False</td>\n",
       "    </tr>\n",
       "    <tr>\n",
       "      <th>1</th>\n",
       "      <td>2006-10-11</td>\n",
       "      <td>05:00</td>\n",
       "      <td>2006-10-10</td>\n",
       "      <td>23:00</td>\n",
       "      <td>goes11.2006.10.11.0500.v01.nc-var1-t0.csv</td>\n",
       "      <td>T_goes11.2006.10.11.0500.v01.nc-var1-t0.csv.csv</td>\n",
       "      <td>[0.0, nan, nan, nan, 0.0025, 0.01, nan, 0.0025...</td>\n",
       "      <td>False</td>\n",
       "      <td>3597</td>\n",
       "      <td>False</td>\n",
       "      <td>...</td>\n",
       "      <td>983.00</td>\n",
       "      <td>1005.90</td>\n",
       "      <td>1005.80</td>\n",
       "      <td>0.03</td>\n",
       "      <td>NC</td>\n",
       "      <td>NC</td>\n",
       "      <td>NaN</td>\n",
       "      <td>False</td>\n",
       "      <td>True</td>\n",
       "      <td>True</td>\n",
       "    </tr>\n",
       "    <tr>\n",
       "      <th>2</th>\n",
       "      <td>2006-10-11</td>\n",
       "      <td>12:00</td>\n",
       "      <td>2006-10-11</td>\n",
       "      <td>06:00</td>\n",
       "      <td>goes11.2006.10.11.1200.v01.nc-var1-t0.csv</td>\n",
       "      <td>T_goes11.2006.10.11.1200.v01.nc-var1-t0.csv.csv</td>\n",
       "      <td>[0.02, 0.022499999, 0.024999999, 0.03, 0.02249...</td>\n",
       "      <td>True</td>\n",
       "      <td>3597</td>\n",
       "      <td>False</td>\n",
       "      <td>...</td>\n",
       "      <td>973.70</td>\n",
       "      <td>996.60</td>\n",
       "      <td>996.30</td>\n",
       "      <td>0.03</td>\n",
       "      <td>NC</td>\n",
       "      <td>NC</td>\n",
       "      <td>NaN</td>\n",
       "      <td>False</td>\n",
       "      <td>True</td>\n",
       "      <td>True</td>\n",
       "    </tr>\n",
       "    <tr>\n",
       "      <th>3</th>\n",
       "      <td>2006-10-11</td>\n",
       "      <td>18:00</td>\n",
       "      <td>2006-10-11</td>\n",
       "      <td>12:00</td>\n",
       "      <td>goes11.2006.10.11.1800.v01.nc-var1-t0.csv</td>\n",
       "      <td>T_goes11.2006.10.11.1800.v01.nc-var1-t0.csv.csv</td>\n",
       "      <td>[0.585, 0.60249996, 0.6225, 0.64, 0.6775, 0.68...</td>\n",
       "      <td>True</td>\n",
       "      <td>3599</td>\n",
       "      <td>True</td>\n",
       "      <td>...</td>\n",
       "      <td>967.70</td>\n",
       "      <td>990.30</td>\n",
       "      <td>990.20</td>\n",
       "      <td>0.08</td>\n",
       "      <td>NC</td>\n",
       "      <td>NC</td>\n",
       "      <td>NaN</td>\n",
       "      <td>False</td>\n",
       "      <td>True</td>\n",
       "      <td>True</td>\n",
       "    </tr>\n",
       "    <tr>\n",
       "      <th>4</th>\n",
       "      <td>2006-10-13</td>\n",
       "      <td>05:00</td>\n",
       "      <td>2006-10-12</td>\n",
       "      <td>23:00</td>\n",
       "      <td>goes11.2006.10.13.0500.v01.nc-var1-t0.csv</td>\n",
       "      <td>T_goes11.2006.10.13.0500.v01.nc-var1-t0.csv.csv</td>\n",
       "      <td>[0.0, nan, 0.0025, 0.0025, 0.0, 0.0075, 0.01, ...</td>\n",
       "      <td>False</td>\n",
       "      <td>3599</td>\n",
       "      <td>False</td>\n",
       "      <td>...</td>\n",
       "      <td>972.40</td>\n",
       "      <td>995.60</td>\n",
       "      <td>994.90</td>\n",
       "      <td>0.03</td>\n",
       "      <td>26</td>\n",
       "      <td>NC</td>\n",
       "      <td>NaN</td>\n",
       "      <td>False</td>\n",
       "      <td>True</td>\n",
       "      <td>False</td>\n",
       "    </tr>\n",
       "  </tbody>\n",
       "</table>\n",
       "<p>5 rows × 30 columns</p>\n",
       "</div>"
      ],
      "text/plain": [
       "     Date_UTC Time_UTC    Date_CST Time_CST  \\\n",
       "0  2006-10-04    04:00  2006-10-03    22:00   \n",
       "1  2006-10-11    05:00  2006-10-10    23:00   \n",
       "2  2006-10-11    12:00  2006-10-11    06:00   \n",
       "3  2006-10-11    18:00  2006-10-11    12:00   \n",
       "4  2006-10-13    05:00  2006-10-12    23:00   \n",
       "\n",
       "                       File_name_for_1D_lake  \\\n",
       "0  goes11.2006.10.04.0400.v01.nc-var1-t0.csv   \n",
       "1  goes11.2006.10.11.0500.v01.nc-var1-t0.csv   \n",
       "2  goes11.2006.10.11.1200.v01.nc-var1-t0.csv   \n",
       "3  goes11.2006.10.11.1800.v01.nc-var1-t0.csv   \n",
       "4  goes11.2006.10.13.0500.v01.nc-var1-t0.csv   \n",
       "\n",
       "                             File_name_for_2D_lake  \\\n",
       "0  T_goes11.2006.10.04.0400.v01.nc-var1-t0.csv.csv   \n",
       "1  T_goes11.2006.10.11.0500.v01.nc-var1-t0.csv.csv   \n",
       "2  T_goes11.2006.10.11.1200.v01.nc-var1-t0.csv.csv   \n",
       "3  T_goes11.2006.10.11.1800.v01.nc-var1-t0.csv.csv   \n",
       "4  T_goes11.2006.10.13.0500.v01.nc-var1-t0.csv.csv   \n",
       "\n",
       "                                        Lake_data_1D  data_usable  \\\n",
       "0  [0.0025, nan, nan, nan, 0.0025, 0.0025, nan, n...        False   \n",
       "1  [0.0, nan, nan, nan, 0.0025, 0.01, nan, 0.0025...        False   \n",
       "2  [0.02, 0.022499999, 0.024999999, 0.03, 0.02249...         True   \n",
       "3  [0.585, 0.60249996, 0.6225, 0.64, 0.6775, 0.68...         True   \n",
       "4  [0.0, nan, 0.0025, 0.0025, 0.0, 0.0075, 0.01, ...        False   \n",
       "\n",
       "   cloud_count  cloud_exist  ...  Atm Press (hPa) Sea Lev Press (hPa)  \\\n",
       "0         3597        False  ...           990.30             1013.20   \n",
       "1         3597        False  ...           983.00             1005.90   \n",
       "2         3597        False  ...           973.70              996.60   \n",
       "3         3599         True  ...           967.70              990.30   \n",
       "4         3599        False  ...           972.40              995.60   \n",
       "\n",
       "  Altimeter (hPa) Precip (in) Wind Chill (F) Heat Index (F) Unnamed: 18  \\\n",
       "0         1013.20        0.61             NC             NC         NaN   \n",
       "1         1005.80        0.03             NC             NC         NaN   \n",
       "2          996.30        0.03             NC             NC         NaN   \n",
       "3          990.20        0.08             NC             NC         NaN   \n",
       "4          994.90        0.03             26             NC         NaN   \n",
       "\n",
       "  is_snow_precip is_precip does_snow_24_120  \n",
       "0          False      True            False  \n",
       "1          False      True             True  \n",
       "2          False      True             True  \n",
       "3          False      True             True  \n",
       "4          False      True            False  \n",
       "\n",
       "[5 rows x 30 columns]"
      ]
     },
     "execution_count": 22,
     "metadata": {},
     "output_type": "execute_result"
    }
   ],
   "source": [
    "df_precip_start_rows = df_precip_start_rows.reset_index(drop=True)\n",
    "\n",
    "\n",
    "df_precip_start_rows.head(5)"
   ]
  },
  {
   "cell_type": "code",
   "execution_count": 23,
   "id": "bb1ee652",
   "metadata": {},
   "outputs": [
    {
     "data": {
      "text/plain": [
       "(460, 30)"
      ]
     },
     "execution_count": 23,
     "metadata": {},
     "output_type": "execute_result"
    }
   ],
   "source": [
    "df_cloud_start_rows.shape"
   ]
  },
  {
   "cell_type": "code",
   "execution_count": 24,
   "id": "316e3142",
   "metadata": {},
   "outputs": [
    {
     "data": {
      "text/plain": [
       "(460, 30)"
      ]
     },
     "execution_count": 24,
     "metadata": {},
     "output_type": "execute_result"
    }
   ],
   "source": [
    "df_precip_start_rows.shape"
   ]
  },
  {
   "cell_type": "code",
   "execution_count": 25,
   "id": "2e70bf9e",
   "metadata": {
    "scrolled": true
   },
   "outputs": [
    {
     "data": {
      "text/html": [
       "<div>\n",
       "<style scoped>\n",
       "    .dataframe tbody tr th:only-of-type {\n",
       "        vertical-align: middle;\n",
       "    }\n",
       "\n",
       "    .dataframe tbody tr th {\n",
       "        vertical-align: top;\n",
       "    }\n",
       "\n",
       "    .dataframe thead th {\n",
       "        text-align: right;\n",
       "    }\n",
       "</style>\n",
       "<table border=\"1\" class=\"dataframe\">\n",
       "  <thead>\n",
       "    <tr style=\"text-align: right;\">\n",
       "      <th></th>\n",
       "      <th>Cloud_Start_Date_UTC</th>\n",
       "      <th>Cloud_Start_Time_UTC</th>\n",
       "      <th>Cloud_Start_Date_CST</th>\n",
       "      <th>Cloud_Start_Time_CST</th>\n",
       "      <th>Cloud_Start_File_name_for_1D_lake</th>\n",
       "      <th>Cloud_Start_File_name_for_2D_lake</th>\n",
       "      <th>Cloud_Start_Lake_data_1D</th>\n",
       "      <th>Cloud_Start_data_usable</th>\n",
       "      <th>Cloud_Start_cloud_count</th>\n",
       "      <th>Cloud_Start_cloud_exist</th>\n",
       "      <th>...</th>\n",
       "      <th>Cloud_Start_Atm Press (hPa)</th>\n",
       "      <th>Cloud_Start_Sea Lev Press (hPa)</th>\n",
       "      <th>Cloud_Start_Altimeter (hPa)</th>\n",
       "      <th>Cloud_Start_Precip (in)</th>\n",
       "      <th>Cloud_Start_Wind Chill (F)</th>\n",
       "      <th>Cloud_Start_Heat Index (F)</th>\n",
       "      <th>Cloud_Start_Unnamed: 18</th>\n",
       "      <th>Cloud_Start_is_snow_precip</th>\n",
       "      <th>Cloud_Start_is_precip</th>\n",
       "      <th>Cloud_Start_does_snow_24_120</th>\n",
       "    </tr>\n",
       "  </thead>\n",
       "  <tbody>\n",
       "    <tr>\n",
       "      <th>0</th>\n",
       "      <td>2006-10-01</td>\n",
       "      <td>20:00</td>\n",
       "      <td>2006-10-01</td>\n",
       "      <td>14:00</td>\n",
       "      <td>goes11.2006.10.01.2000.v01.nc-var1-t0.csv</td>\n",
       "      <td>T_goes11.2006.10.01.2000.v01.nc-var1-t0.csv.csv</td>\n",
       "      <td>[0.099999994, 0.095, 0.0975, 0.099999994, 0.11...</td>\n",
       "      <td>True</td>\n",
       "      <td>873</td>\n",
       "      <td>True</td>\n",
       "      <td>...</td>\n",
       "      <td>994.70</td>\n",
       "      <td>1017.80</td>\n",
       "      <td>1017.60</td>\n",
       "      <td>0.0</td>\n",
       "      <td>NC</td>\n",
       "      <td>NC</td>\n",
       "      <td>NaN</td>\n",
       "      <td>False</td>\n",
       "      <td>False</td>\n",
       "      <td>False</td>\n",
       "    </tr>\n",
       "    <tr>\n",
       "      <th>1</th>\n",
       "      <td>2006-10-06</td>\n",
       "      <td>20:00</td>\n",
       "      <td>2006-10-06</td>\n",
       "      <td>14:00</td>\n",
       "      <td>goes11.2006.10.06.2000.v01.nc-var1-t0.csv</td>\n",
       "      <td>T_goes11.2006.10.06.2000.v01.nc-var1-t0.csv.csv</td>\n",
       "      <td>[0.1325, 0.1275, 0.11, 0.114999995, 0.09999999...</td>\n",
       "      <td>True</td>\n",
       "      <td>2355</td>\n",
       "      <td>True</td>\n",
       "      <td>...</td>\n",
       "      <td>1007.30</td>\n",
       "      <td>1030.90</td>\n",
       "      <td>1030.50</td>\n",
       "      <td>0.0</td>\n",
       "      <td>NC</td>\n",
       "      <td>NC</td>\n",
       "      <td>NaN</td>\n",
       "      <td>False</td>\n",
       "      <td>False</td>\n",
       "      <td>False</td>\n",
       "    </tr>\n",
       "    <tr>\n",
       "      <th>2</th>\n",
       "      <td>2006-10-06</td>\n",
       "      <td>20:00</td>\n",
       "      <td>2006-10-06</td>\n",
       "      <td>14:00</td>\n",
       "      <td>goes11.2006.10.06.2000.v01.nc-var1-t0.csv</td>\n",
       "      <td>T_goes11.2006.10.06.2000.v01.nc-var1-t0.csv.csv</td>\n",
       "      <td>[0.1325, 0.1275, 0.11, 0.114999995, 0.09999999...</td>\n",
       "      <td>True</td>\n",
       "      <td>2355</td>\n",
       "      <td>True</td>\n",
       "      <td>...</td>\n",
       "      <td>1007.30</td>\n",
       "      <td>1030.90</td>\n",
       "      <td>1030.50</td>\n",
       "      <td>0.0</td>\n",
       "      <td>NC</td>\n",
       "      <td>NC</td>\n",
       "      <td>NaN</td>\n",
       "      <td>False</td>\n",
       "      <td>False</td>\n",
       "      <td>False</td>\n",
       "    </tr>\n",
       "    <tr>\n",
       "      <th>3</th>\n",
       "      <td>2006-10-06</td>\n",
       "      <td>20:00</td>\n",
       "      <td>2006-10-06</td>\n",
       "      <td>14:00</td>\n",
       "      <td>goes11.2006.10.06.2000.v01.nc-var1-t0.csv</td>\n",
       "      <td>T_goes11.2006.10.06.2000.v01.nc-var1-t0.csv.csv</td>\n",
       "      <td>[0.1325, 0.1275, 0.11, 0.114999995, 0.09999999...</td>\n",
       "      <td>True</td>\n",
       "      <td>2355</td>\n",
       "      <td>True</td>\n",
       "      <td>...</td>\n",
       "      <td>1007.30</td>\n",
       "      <td>1030.90</td>\n",
       "      <td>1030.50</td>\n",
       "      <td>0.0</td>\n",
       "      <td>NC</td>\n",
       "      <td>NC</td>\n",
       "      <td>NaN</td>\n",
       "      <td>False</td>\n",
       "      <td>False</td>\n",
       "      <td>False</td>\n",
       "    </tr>\n",
       "    <tr>\n",
       "      <th>4</th>\n",
       "      <td>2006-10-06</td>\n",
       "      <td>20:00</td>\n",
       "      <td>2006-10-06</td>\n",
       "      <td>14:00</td>\n",
       "      <td>goes11.2006.10.06.2000.v01.nc-var1-t0.csv</td>\n",
       "      <td>T_goes11.2006.10.06.2000.v01.nc-var1-t0.csv.csv</td>\n",
       "      <td>[0.1325, 0.1275, 0.11, 0.114999995, 0.09999999...</td>\n",
       "      <td>True</td>\n",
       "      <td>2355</td>\n",
       "      <td>True</td>\n",
       "      <td>...</td>\n",
       "      <td>1007.30</td>\n",
       "      <td>1030.90</td>\n",
       "      <td>1030.50</td>\n",
       "      <td>0.0</td>\n",
       "      <td>NC</td>\n",
       "      <td>NC</td>\n",
       "      <td>NaN</td>\n",
       "      <td>False</td>\n",
       "      <td>False</td>\n",
       "      <td>False</td>\n",
       "    </tr>\n",
       "  </tbody>\n",
       "</table>\n",
       "<p>5 rows × 30 columns</p>\n",
       "</div>"
      ],
      "text/plain": [
       "  Cloud_Start_Date_UTC Cloud_Start_Time_UTC Cloud_Start_Date_CST  \\\n",
       "0           2006-10-01                20:00           2006-10-01   \n",
       "1           2006-10-06                20:00           2006-10-06   \n",
       "2           2006-10-06                20:00           2006-10-06   \n",
       "3           2006-10-06                20:00           2006-10-06   \n",
       "4           2006-10-06                20:00           2006-10-06   \n",
       "\n",
       "  Cloud_Start_Time_CST          Cloud_Start_File_name_for_1D_lake  \\\n",
       "0                14:00  goes11.2006.10.01.2000.v01.nc-var1-t0.csv   \n",
       "1                14:00  goes11.2006.10.06.2000.v01.nc-var1-t0.csv   \n",
       "2                14:00  goes11.2006.10.06.2000.v01.nc-var1-t0.csv   \n",
       "3                14:00  goes11.2006.10.06.2000.v01.nc-var1-t0.csv   \n",
       "4                14:00  goes11.2006.10.06.2000.v01.nc-var1-t0.csv   \n",
       "\n",
       "                 Cloud_Start_File_name_for_2D_lake  \\\n",
       "0  T_goes11.2006.10.01.2000.v01.nc-var1-t0.csv.csv   \n",
       "1  T_goes11.2006.10.06.2000.v01.nc-var1-t0.csv.csv   \n",
       "2  T_goes11.2006.10.06.2000.v01.nc-var1-t0.csv.csv   \n",
       "3  T_goes11.2006.10.06.2000.v01.nc-var1-t0.csv.csv   \n",
       "4  T_goes11.2006.10.06.2000.v01.nc-var1-t0.csv.csv   \n",
       "\n",
       "                            Cloud_Start_Lake_data_1D  Cloud_Start_data_usable  \\\n",
       "0  [0.099999994, 0.095, 0.0975, 0.099999994, 0.11...                     True   \n",
       "1  [0.1325, 0.1275, 0.11, 0.114999995, 0.09999999...                     True   \n",
       "2  [0.1325, 0.1275, 0.11, 0.114999995, 0.09999999...                     True   \n",
       "3  [0.1325, 0.1275, 0.11, 0.114999995, 0.09999999...                     True   \n",
       "4  [0.1325, 0.1275, 0.11, 0.114999995, 0.09999999...                     True   \n",
       "\n",
       "   Cloud_Start_cloud_count  Cloud_Start_cloud_exist  ...  \\\n",
       "0                      873                     True  ...   \n",
       "1                     2355                     True  ...   \n",
       "2                     2355                     True  ...   \n",
       "3                     2355                     True  ...   \n",
       "4                     2355                     True  ...   \n",
       "\n",
       "   Cloud_Start_Atm Press (hPa) Cloud_Start_Sea Lev Press (hPa)  \\\n",
       "0                       994.70                         1017.80   \n",
       "1                      1007.30                         1030.90   \n",
       "2                      1007.30                         1030.90   \n",
       "3                      1007.30                         1030.90   \n",
       "4                      1007.30                         1030.90   \n",
       "\n",
       "  Cloud_Start_Altimeter (hPa) Cloud_Start_Precip (in)  \\\n",
       "0                     1017.60                     0.0   \n",
       "1                     1030.50                     0.0   \n",
       "2                     1030.50                     0.0   \n",
       "3                     1030.50                     0.0   \n",
       "4                     1030.50                     0.0   \n",
       "\n",
       "  Cloud_Start_Wind Chill (F) Cloud_Start_Heat Index (F)  \\\n",
       "0                         NC                         NC   \n",
       "1                         NC                         NC   \n",
       "2                         NC                         NC   \n",
       "3                         NC                         NC   \n",
       "4                         NC                         NC   \n",
       "\n",
       "  Cloud_Start_Unnamed: 18 Cloud_Start_is_snow_precip Cloud_Start_is_precip  \\\n",
       "0                     NaN                      False                 False   \n",
       "1                     NaN                      False                 False   \n",
       "2                     NaN                      False                 False   \n",
       "3                     NaN                      False                 False   \n",
       "4                     NaN                      False                 False   \n",
       "\n",
       "  Cloud_Start_does_snow_24_120  \n",
       "0                        False  \n",
       "1                        False  \n",
       "2                        False  \n",
       "3                        False  \n",
       "4                        False  \n",
       "\n",
       "[5 rows x 30 columns]"
      ]
     },
     "execution_count": 25,
     "metadata": {},
     "output_type": "execute_result"
    }
   ],
   "source": [
    "df_cloud_start_rows = df_cloud_start_rows.rename(columns={col: 'Cloud_Start_' + col for col in df_cloud_start_rows.columns})\n",
    "df_cloud_start_rows.head(5)"
   ]
  },
  {
   "cell_type": "code",
   "execution_count": 26,
   "id": "e503adee",
   "metadata": {},
   "outputs": [
    {
     "data": {
      "text/html": [
       "<div>\n",
       "<style scoped>\n",
       "    .dataframe tbody tr th:only-of-type {\n",
       "        vertical-align: middle;\n",
       "    }\n",
       "\n",
       "    .dataframe tbody tr th {\n",
       "        vertical-align: top;\n",
       "    }\n",
       "\n",
       "    .dataframe thead th {\n",
       "        text-align: right;\n",
       "    }\n",
       "</style>\n",
       "<table border=\"1\" class=\"dataframe\">\n",
       "  <thead>\n",
       "    <tr style=\"text-align: right;\">\n",
       "      <th></th>\n",
       "      <th>Precip_Start_Date_UTC</th>\n",
       "      <th>Precip_Start_Time_UTC</th>\n",
       "      <th>Precip_Start_Date_CST</th>\n",
       "      <th>Precip_Start_Time_CST</th>\n",
       "      <th>Precip_Start_File_name_for_1D_lake</th>\n",
       "      <th>Precip_Start_File_name_for_2D_lake</th>\n",
       "      <th>Precip_Start_Lake_data_1D</th>\n",
       "      <th>Precip_Start_data_usable</th>\n",
       "      <th>Precip_Start_cloud_count</th>\n",
       "      <th>Precip_Start_cloud_exist</th>\n",
       "      <th>...</th>\n",
       "      <th>Precip_Start_Atm Press (hPa)</th>\n",
       "      <th>Precip_Start_Sea Lev Press (hPa)</th>\n",
       "      <th>Precip_Start_Altimeter (hPa)</th>\n",
       "      <th>Precip_Start_Precip (in)</th>\n",
       "      <th>Precip_Start_Wind Chill (F)</th>\n",
       "      <th>Precip_Start_Heat Index (F)</th>\n",
       "      <th>Precip_Start_Unnamed: 18</th>\n",
       "      <th>Precip_Start_is_snow_precip</th>\n",
       "      <th>Precip_Start_is_precip</th>\n",
       "      <th>Precip_Start_does_snow_24_120</th>\n",
       "    </tr>\n",
       "  </thead>\n",
       "  <tbody>\n",
       "    <tr>\n",
       "      <th>0</th>\n",
       "      <td>2006-10-04</td>\n",
       "      <td>04:00</td>\n",
       "      <td>2006-10-03</td>\n",
       "      <td>22:00</td>\n",
       "      <td>goes11.2006.10.04.0400.v01.nc-var1-t0.csv</td>\n",
       "      <td>T_goes11.2006.10.04.0400.v01.nc-var1-t0.csv.csv</td>\n",
       "      <td>[0.0025, nan, nan, nan, 0.0025, 0.0025, nan, n...</td>\n",
       "      <td>False</td>\n",
       "      <td>3597</td>\n",
       "      <td>False</td>\n",
       "      <td>...</td>\n",
       "      <td>990.30</td>\n",
       "      <td>1013.20</td>\n",
       "      <td>1013.20</td>\n",
       "      <td>0.61</td>\n",
       "      <td>NC</td>\n",
       "      <td>NC</td>\n",
       "      <td>NaN</td>\n",
       "      <td>False</td>\n",
       "      <td>True</td>\n",
       "      <td>False</td>\n",
       "    </tr>\n",
       "    <tr>\n",
       "      <th>1</th>\n",
       "      <td>2006-10-11</td>\n",
       "      <td>05:00</td>\n",
       "      <td>2006-10-10</td>\n",
       "      <td>23:00</td>\n",
       "      <td>goes11.2006.10.11.0500.v01.nc-var1-t0.csv</td>\n",
       "      <td>T_goes11.2006.10.11.0500.v01.nc-var1-t0.csv.csv</td>\n",
       "      <td>[0.0, nan, nan, nan, 0.0025, 0.01, nan, 0.0025...</td>\n",
       "      <td>False</td>\n",
       "      <td>3597</td>\n",
       "      <td>False</td>\n",
       "      <td>...</td>\n",
       "      <td>983.00</td>\n",
       "      <td>1005.90</td>\n",
       "      <td>1005.80</td>\n",
       "      <td>0.03</td>\n",
       "      <td>NC</td>\n",
       "      <td>NC</td>\n",
       "      <td>NaN</td>\n",
       "      <td>False</td>\n",
       "      <td>True</td>\n",
       "      <td>True</td>\n",
       "    </tr>\n",
       "    <tr>\n",
       "      <th>2</th>\n",
       "      <td>2006-10-11</td>\n",
       "      <td>12:00</td>\n",
       "      <td>2006-10-11</td>\n",
       "      <td>06:00</td>\n",
       "      <td>goes11.2006.10.11.1200.v01.nc-var1-t0.csv</td>\n",
       "      <td>T_goes11.2006.10.11.1200.v01.nc-var1-t0.csv.csv</td>\n",
       "      <td>[0.02, 0.022499999, 0.024999999, 0.03, 0.02249...</td>\n",
       "      <td>True</td>\n",
       "      <td>3597</td>\n",
       "      <td>False</td>\n",
       "      <td>...</td>\n",
       "      <td>973.70</td>\n",
       "      <td>996.60</td>\n",
       "      <td>996.30</td>\n",
       "      <td>0.03</td>\n",
       "      <td>NC</td>\n",
       "      <td>NC</td>\n",
       "      <td>NaN</td>\n",
       "      <td>False</td>\n",
       "      <td>True</td>\n",
       "      <td>True</td>\n",
       "    </tr>\n",
       "    <tr>\n",
       "      <th>3</th>\n",
       "      <td>2006-10-11</td>\n",
       "      <td>18:00</td>\n",
       "      <td>2006-10-11</td>\n",
       "      <td>12:00</td>\n",
       "      <td>goes11.2006.10.11.1800.v01.nc-var1-t0.csv</td>\n",
       "      <td>T_goes11.2006.10.11.1800.v01.nc-var1-t0.csv.csv</td>\n",
       "      <td>[0.585, 0.60249996, 0.6225, 0.64, 0.6775, 0.68...</td>\n",
       "      <td>True</td>\n",
       "      <td>3599</td>\n",
       "      <td>True</td>\n",
       "      <td>...</td>\n",
       "      <td>967.70</td>\n",
       "      <td>990.30</td>\n",
       "      <td>990.20</td>\n",
       "      <td>0.08</td>\n",
       "      <td>NC</td>\n",
       "      <td>NC</td>\n",
       "      <td>NaN</td>\n",
       "      <td>False</td>\n",
       "      <td>True</td>\n",
       "      <td>True</td>\n",
       "    </tr>\n",
       "    <tr>\n",
       "      <th>4</th>\n",
       "      <td>2006-10-13</td>\n",
       "      <td>05:00</td>\n",
       "      <td>2006-10-12</td>\n",
       "      <td>23:00</td>\n",
       "      <td>goes11.2006.10.13.0500.v01.nc-var1-t0.csv</td>\n",
       "      <td>T_goes11.2006.10.13.0500.v01.nc-var1-t0.csv.csv</td>\n",
       "      <td>[0.0, nan, 0.0025, 0.0025, 0.0, 0.0075, 0.01, ...</td>\n",
       "      <td>False</td>\n",
       "      <td>3599</td>\n",
       "      <td>False</td>\n",
       "      <td>...</td>\n",
       "      <td>972.40</td>\n",
       "      <td>995.60</td>\n",
       "      <td>994.90</td>\n",
       "      <td>0.03</td>\n",
       "      <td>26</td>\n",
       "      <td>NC</td>\n",
       "      <td>NaN</td>\n",
       "      <td>False</td>\n",
       "      <td>True</td>\n",
       "      <td>False</td>\n",
       "    </tr>\n",
       "  </tbody>\n",
       "</table>\n",
       "<p>5 rows × 30 columns</p>\n",
       "</div>"
      ],
      "text/plain": [
       "  Precip_Start_Date_UTC Precip_Start_Time_UTC Precip_Start_Date_CST  \\\n",
       "0            2006-10-04                 04:00            2006-10-03   \n",
       "1            2006-10-11                 05:00            2006-10-10   \n",
       "2            2006-10-11                 12:00            2006-10-11   \n",
       "3            2006-10-11                 18:00            2006-10-11   \n",
       "4            2006-10-13                 05:00            2006-10-12   \n",
       "\n",
       "  Precip_Start_Time_CST         Precip_Start_File_name_for_1D_lake  \\\n",
       "0                 22:00  goes11.2006.10.04.0400.v01.nc-var1-t0.csv   \n",
       "1                 23:00  goes11.2006.10.11.0500.v01.nc-var1-t0.csv   \n",
       "2                 06:00  goes11.2006.10.11.1200.v01.nc-var1-t0.csv   \n",
       "3                 12:00  goes11.2006.10.11.1800.v01.nc-var1-t0.csv   \n",
       "4                 23:00  goes11.2006.10.13.0500.v01.nc-var1-t0.csv   \n",
       "\n",
       "                Precip_Start_File_name_for_2D_lake  \\\n",
       "0  T_goes11.2006.10.04.0400.v01.nc-var1-t0.csv.csv   \n",
       "1  T_goes11.2006.10.11.0500.v01.nc-var1-t0.csv.csv   \n",
       "2  T_goes11.2006.10.11.1200.v01.nc-var1-t0.csv.csv   \n",
       "3  T_goes11.2006.10.11.1800.v01.nc-var1-t0.csv.csv   \n",
       "4  T_goes11.2006.10.13.0500.v01.nc-var1-t0.csv.csv   \n",
       "\n",
       "                           Precip_Start_Lake_data_1D  \\\n",
       "0  [0.0025, nan, nan, nan, 0.0025, 0.0025, nan, n...   \n",
       "1  [0.0, nan, nan, nan, 0.0025, 0.01, nan, 0.0025...   \n",
       "2  [0.02, 0.022499999, 0.024999999, 0.03, 0.02249...   \n",
       "3  [0.585, 0.60249996, 0.6225, 0.64, 0.6775, 0.68...   \n",
       "4  [0.0, nan, 0.0025, 0.0025, 0.0, 0.0075, 0.01, ...   \n",
       "\n",
       "   Precip_Start_data_usable  Precip_Start_cloud_count  \\\n",
       "0                     False                      3597   \n",
       "1                     False                      3597   \n",
       "2                      True                      3597   \n",
       "3                      True                      3599   \n",
       "4                     False                      3599   \n",
       "\n",
       "   Precip_Start_cloud_exist  ...  Precip_Start_Atm Press (hPa)  \\\n",
       "0                     False  ...                        990.30   \n",
       "1                     False  ...                        983.00   \n",
       "2                     False  ...                        973.70   \n",
       "3                      True  ...                        967.70   \n",
       "4                     False  ...                        972.40   \n",
       "\n",
       "  Precip_Start_Sea Lev Press (hPa) Precip_Start_Altimeter (hPa)  \\\n",
       "0                          1013.20                      1013.20   \n",
       "1                          1005.90                      1005.80   \n",
       "2                           996.60                       996.30   \n",
       "3                           990.30                       990.20   \n",
       "4                           995.60                       994.90   \n",
       "\n",
       "  Precip_Start_Precip (in) Precip_Start_Wind Chill (F)  \\\n",
       "0                     0.61                          NC   \n",
       "1                     0.03                          NC   \n",
       "2                     0.03                          NC   \n",
       "3                     0.08                          NC   \n",
       "4                     0.03                          26   \n",
       "\n",
       "  Precip_Start_Heat Index (F) Precip_Start_Unnamed: 18  \\\n",
       "0                          NC                      NaN   \n",
       "1                          NC                      NaN   \n",
       "2                          NC                      NaN   \n",
       "3                          NC                      NaN   \n",
       "4                          NC                      NaN   \n",
       "\n",
       "  Precip_Start_is_snow_precip Precip_Start_is_precip  \\\n",
       "0                       False                   True   \n",
       "1                       False                   True   \n",
       "2                       False                   True   \n",
       "3                       False                   True   \n",
       "4                       False                   True   \n",
       "\n",
       "  Precip_Start_does_snow_24_120  \n",
       "0                         False  \n",
       "1                          True  \n",
       "2                          True  \n",
       "3                          True  \n",
       "4                         False  \n",
       "\n",
       "[5 rows x 30 columns]"
      ]
     },
     "execution_count": 26,
     "metadata": {},
     "output_type": "execute_result"
    }
   ],
   "source": [
    "df_precip_start_rows = df_precip_start_rows.rename(columns={col: 'Precip_Start_' + col for col in df_precip_start_rows.columns})\n",
    "df_precip_start_rows.head(5)"
   ]
  },
  {
   "cell_type": "code",
   "execution_count": 27,
   "id": "ebc1e68a",
   "metadata": {},
   "outputs": [
    {
     "data": {
      "text/html": [
       "<div>\n",
       "<style scoped>\n",
       "    .dataframe tbody tr th:only-of-type {\n",
       "        vertical-align: middle;\n",
       "    }\n",
       "\n",
       "    .dataframe tbody tr th {\n",
       "        vertical-align: top;\n",
       "    }\n",
       "\n",
       "    .dataframe thead th {\n",
       "        text-align: right;\n",
       "    }\n",
       "</style>\n",
       "<table border=\"1\" class=\"dataframe\">\n",
       "  <thead>\n",
       "    <tr style=\"text-align: right;\">\n",
       "      <th></th>\n",
       "      <th>Cloud_Start_Date_UTC</th>\n",
       "      <th>Cloud_Start_Time_UTC</th>\n",
       "      <th>Cloud_Start_Date_CST</th>\n",
       "      <th>Cloud_Start_Time_CST</th>\n",
       "      <th>Precip_Start_Date_UTC</th>\n",
       "      <th>Precip_Start_Time_UTC</th>\n",
       "      <th>Precip_Start_Date_CST</th>\n",
       "      <th>Precip_Start_Time_CST</th>\n",
       "    </tr>\n",
       "  </thead>\n",
       "  <tbody>\n",
       "    <tr>\n",
       "      <th>0</th>\n",
       "      <td>2006-10-01</td>\n",
       "      <td>20:00</td>\n",
       "      <td>2006-10-01</td>\n",
       "      <td>14:00</td>\n",
       "      <td>2006-10-04</td>\n",
       "      <td>04:00</td>\n",
       "      <td>2006-10-03</td>\n",
       "      <td>22:00</td>\n",
       "    </tr>\n",
       "    <tr>\n",
       "      <th>1</th>\n",
       "      <td>2006-10-06</td>\n",
       "      <td>20:00</td>\n",
       "      <td>2006-10-06</td>\n",
       "      <td>14:00</td>\n",
       "      <td>2006-10-11</td>\n",
       "      <td>05:00</td>\n",
       "      <td>2006-10-10</td>\n",
       "      <td>23:00</td>\n",
       "    </tr>\n",
       "    <tr>\n",
       "      <th>2</th>\n",
       "      <td>2006-10-06</td>\n",
       "      <td>20:00</td>\n",
       "      <td>2006-10-06</td>\n",
       "      <td>14:00</td>\n",
       "      <td>2006-10-11</td>\n",
       "      <td>12:00</td>\n",
       "      <td>2006-10-11</td>\n",
       "      <td>06:00</td>\n",
       "    </tr>\n",
       "    <tr>\n",
       "      <th>3</th>\n",
       "      <td>2006-10-06</td>\n",
       "      <td>20:00</td>\n",
       "      <td>2006-10-06</td>\n",
       "      <td>14:00</td>\n",
       "      <td>2006-10-11</td>\n",
       "      <td>18:00</td>\n",
       "      <td>2006-10-11</td>\n",
       "      <td>12:00</td>\n",
       "    </tr>\n",
       "    <tr>\n",
       "      <th>4</th>\n",
       "      <td>2006-10-06</td>\n",
       "      <td>20:00</td>\n",
       "      <td>2006-10-06</td>\n",
       "      <td>14:00</td>\n",
       "      <td>2006-10-13</td>\n",
       "      <td>05:00</td>\n",
       "      <td>2006-10-12</td>\n",
       "      <td>23:00</td>\n",
       "    </tr>\n",
       "  </tbody>\n",
       "</table>\n",
       "</div>"
      ],
      "text/plain": [
       "  Cloud_Start_Date_UTC Cloud_Start_Time_UTC Cloud_Start_Date_CST  \\\n",
       "0           2006-10-01                20:00           2006-10-01   \n",
       "1           2006-10-06                20:00           2006-10-06   \n",
       "2           2006-10-06                20:00           2006-10-06   \n",
       "3           2006-10-06                20:00           2006-10-06   \n",
       "4           2006-10-06                20:00           2006-10-06   \n",
       "\n",
       "  Cloud_Start_Time_CST Precip_Start_Date_UTC Precip_Start_Time_UTC  \\\n",
       "0                14:00            2006-10-04                 04:00   \n",
       "1                14:00            2006-10-11                 05:00   \n",
       "2                14:00            2006-10-11                 12:00   \n",
       "3                14:00            2006-10-11                 18:00   \n",
       "4                14:00            2006-10-13                 05:00   \n",
       "\n",
       "  Precip_Start_Date_CST Precip_Start_Time_CST  \n",
       "0            2006-10-03                 22:00  \n",
       "1            2006-10-10                 23:00  \n",
       "2            2006-10-11                 06:00  \n",
       "3            2006-10-11                 12:00  \n",
       "4            2006-10-12                 23:00  "
      ]
     },
     "execution_count": 27,
     "metadata": {},
     "output_type": "execute_result"
    }
   ],
   "source": [
    "df_combined_timing = pd.DataFrame({\n",
    "    'Cloud_Start_Date_UTC': df_cloud_start_rows['Cloud_Start_Date_UTC'],\n",
    "    'Cloud_Start_Time_UTC': df_cloud_start_rows['Cloud_Start_Time_UTC'],\n",
    "    'Cloud_Start_Date_CST': df_cloud_start_rows['Cloud_Start_Date_CST'],\n",
    "    'Cloud_Start_Time_CST': df_cloud_start_rows['Cloud_Start_Time_CST'],\n",
    "    'Precip_Start_Date_UTC': df_precip_start_rows['Precip_Start_Date_UTC'],\n",
    "    'Precip_Start_Time_UTC': df_precip_start_rows['Precip_Start_Time_UTC'],\n",
    "    'Precip_Start_Date_CST': df_precip_start_rows['Precip_Start_Date_CST'],\n",
    "    'Precip_Start_Time_CST': df_precip_start_rows['Precip_Start_Time_CST']\n",
    "})\n",
    "df_combined_timing.head(5)"
   ]
  },
  {
   "cell_type": "code",
   "execution_count": 28,
   "id": "7068f5f4",
   "metadata": {},
   "outputs": [
    {
     "data": {
      "text/html": [
       "<div>\n",
       "<style scoped>\n",
       "    .dataframe tbody tr th:only-of-type {\n",
       "        vertical-align: middle;\n",
       "    }\n",
       "\n",
       "    .dataframe tbody tr th {\n",
       "        vertical-align: top;\n",
       "    }\n",
       "\n",
       "    .dataframe thead th {\n",
       "        text-align: right;\n",
       "    }\n",
       "</style>\n",
       "<table border=\"1\" class=\"dataframe\">\n",
       "  <thead>\n",
       "    <tr style=\"text-align: right;\">\n",
       "      <th></th>\n",
       "      <th>Cloud_Start_Date_UTC</th>\n",
       "      <th>Cloud_Start_Time_UTC</th>\n",
       "      <th>Cloud_Start_Date_CST</th>\n",
       "      <th>Cloud_Start_Time_CST</th>\n",
       "      <th>Precip_Start_Date_UTC</th>\n",
       "      <th>Precip_Start_Time_UTC</th>\n",
       "      <th>Precip_Start_Date_CST</th>\n",
       "      <th>Precip_Start_Time_CST</th>\n",
       "      <th>Duration_of_Snow</th>\n",
       "    </tr>\n",
       "  </thead>\n",
       "  <tbody>\n",
       "    <tr>\n",
       "      <th>0</th>\n",
       "      <td>2006-10-01</td>\n",
       "      <td>20:00</td>\n",
       "      <td>2006-10-01</td>\n",
       "      <td>14:00</td>\n",
       "      <td>2006-10-04</td>\n",
       "      <td>04:00</td>\n",
       "      <td>2006-10-03</td>\n",
       "      <td>22:00</td>\n",
       "      <td>4</td>\n",
       "    </tr>\n",
       "    <tr>\n",
       "      <th>1</th>\n",
       "      <td>2006-10-06</td>\n",
       "      <td>20:00</td>\n",
       "      <td>2006-10-06</td>\n",
       "      <td>14:00</td>\n",
       "      <td>2006-10-11</td>\n",
       "      <td>05:00</td>\n",
       "      <td>2006-10-10</td>\n",
       "      <td>23:00</td>\n",
       "      <td>5</td>\n",
       "    </tr>\n",
       "    <tr>\n",
       "      <th>2</th>\n",
       "      <td>2006-10-06</td>\n",
       "      <td>20:00</td>\n",
       "      <td>2006-10-06</td>\n",
       "      <td>14:00</td>\n",
       "      <td>2006-10-11</td>\n",
       "      <td>12:00</td>\n",
       "      <td>2006-10-11</td>\n",
       "      <td>06:00</td>\n",
       "      <td>3</td>\n",
       "    </tr>\n",
       "    <tr>\n",
       "      <th>3</th>\n",
       "      <td>2006-10-06</td>\n",
       "      <td>20:00</td>\n",
       "      <td>2006-10-06</td>\n",
       "      <td>14:00</td>\n",
       "      <td>2006-10-11</td>\n",
       "      <td>18:00</td>\n",
       "      <td>2006-10-11</td>\n",
       "      <td>12:00</td>\n",
       "      <td>11</td>\n",
       "    </tr>\n",
       "    <tr>\n",
       "      <th>4</th>\n",
       "      <td>2006-10-06</td>\n",
       "      <td>20:00</td>\n",
       "      <td>2006-10-06</td>\n",
       "      <td>14:00</td>\n",
       "      <td>2006-10-13</td>\n",
       "      <td>05:00</td>\n",
       "      <td>2006-10-12</td>\n",
       "      <td>23:00</td>\n",
       "      <td>12</td>\n",
       "    </tr>\n",
       "  </tbody>\n",
       "</table>\n",
       "</div>"
      ],
      "text/plain": [
       "  Cloud_Start_Date_UTC Cloud_Start_Time_UTC Cloud_Start_Date_CST  \\\n",
       "0           2006-10-01                20:00           2006-10-01   \n",
       "1           2006-10-06                20:00           2006-10-06   \n",
       "2           2006-10-06                20:00           2006-10-06   \n",
       "3           2006-10-06                20:00           2006-10-06   \n",
       "4           2006-10-06                20:00           2006-10-06   \n",
       "\n",
       "  Cloud_Start_Time_CST Precip_Start_Date_UTC Precip_Start_Time_UTC  \\\n",
       "0                14:00            2006-10-04                 04:00   \n",
       "1                14:00            2006-10-11                 05:00   \n",
       "2                14:00            2006-10-11                 12:00   \n",
       "3                14:00            2006-10-11                 18:00   \n",
       "4                14:00            2006-10-13                 05:00   \n",
       "\n",
       "  Precip_Start_Date_CST Precip_Start_Time_CST  Duration_of_Snow  \n",
       "0            2006-10-03                 22:00                 4  \n",
       "1            2006-10-10                 23:00                 5  \n",
       "2            2006-10-11                 06:00                 3  \n",
       "3            2006-10-11                 12:00                11  \n",
       "4            2006-10-12                 23:00                12  "
      ]
     },
     "execution_count": 28,
     "metadata": {},
     "output_type": "execute_result"
    }
   ],
   "source": [
    "df_combined_timing['Duration_of_Snow'] = num_T_lib\n",
    "df_combined_timing.head(5)"
   ]
  },
  {
   "cell_type": "code",
   "execution_count": 29,
   "id": "10897687",
   "metadata": {},
   "outputs": [],
   "source": [
    "df_combined_timing['Duration_of_cloud_formation'] = duration_between_cloud_snow\n",
    "# duration_between_cloud_snow"
   ]
  },
  {
   "cell_type": "code",
   "execution_count": 30,
   "id": "97b00011",
   "metadata": {},
   "outputs": [],
   "source": [
    "df_combined_timing = df_combined_timing[df_combined_timing['Duration_of_cloud_formation'] <= 72]"
   ]
  },
  {
   "cell_type": "code",
   "execution_count": 31,
   "id": "47900414",
   "metadata": {},
   "outputs": [],
   "source": [
    "df_combined_timing = df_combined_timing[df_combined_timing['Duration_of_cloud_formation'] > 2]"
   ]
  },
  {
   "cell_type": "code",
   "execution_count": 32,
   "id": "32e1e207",
   "metadata": {},
   "outputs": [
    {
     "data": {
      "text/html": [
       "<div>\n",
       "<style scoped>\n",
       "    .dataframe tbody tr th:only-of-type {\n",
       "        vertical-align: middle;\n",
       "    }\n",
       "\n",
       "    .dataframe tbody tr th {\n",
       "        vertical-align: top;\n",
       "    }\n",
       "\n",
       "    .dataframe thead th {\n",
       "        text-align: right;\n",
       "    }\n",
       "</style>\n",
       "<table border=\"1\" class=\"dataframe\">\n",
       "  <thead>\n",
       "    <tr style=\"text-align: right;\">\n",
       "      <th></th>\n",
       "      <th>Cloud_Start_Date_UTC</th>\n",
       "      <th>Cloud_Start_Time_UTC</th>\n",
       "      <th>Cloud_Start_Date_CST</th>\n",
       "      <th>Cloud_Start_Time_CST</th>\n",
       "      <th>Precip_Start_Date_UTC</th>\n",
       "      <th>Precip_Start_Time_UTC</th>\n",
       "      <th>Precip_Start_Date_CST</th>\n",
       "      <th>Precip_Start_Time_CST</th>\n",
       "      <th>Duration_of_Snow</th>\n",
       "      <th>Duration_of_cloud_formation</th>\n",
       "      <th>Precip_year</th>\n",
       "    </tr>\n",
       "  </thead>\n",
       "  <tbody>\n",
       "    <tr>\n",
       "      <th>0</th>\n",
       "      <td>2006-10-01</td>\n",
       "      <td>20:00</td>\n",
       "      <td>2006-10-01</td>\n",
       "      <td>14:00</td>\n",
       "      <td>2006-10-04</td>\n",
       "      <td>04:00</td>\n",
       "      <td>2006-10-03</td>\n",
       "      <td>22:00</td>\n",
       "      <td>4</td>\n",
       "      <td>56</td>\n",
       "      <td>2006</td>\n",
       "    </tr>\n",
       "    <tr>\n",
       "      <th>6</th>\n",
       "      <td>2006-10-15</td>\n",
       "      <td>18:00</td>\n",
       "      <td>2006-10-15</td>\n",
       "      <td>12:00</td>\n",
       "      <td>2006-10-17</td>\n",
       "      <td>05:00</td>\n",
       "      <td>2006-10-16</td>\n",
       "      <td>23:00</td>\n",
       "      <td>14</td>\n",
       "      <td>35</td>\n",
       "      <td>2006</td>\n",
       "    </tr>\n",
       "    <tr>\n",
       "      <th>10</th>\n",
       "      <td>2006-10-25</td>\n",
       "      <td>18:00</td>\n",
       "      <td>2006-10-25</td>\n",
       "      <td>12:00</td>\n",
       "      <td>2006-10-28</td>\n",
       "      <td>09:00</td>\n",
       "      <td>2006-10-28</td>\n",
       "      <td>03:00</td>\n",
       "      <td>6</td>\n",
       "      <td>63</td>\n",
       "      <td>2006</td>\n",
       "    </tr>\n",
       "    <tr>\n",
       "      <th>11</th>\n",
       "      <td>2006-10-25</td>\n",
       "      <td>18:00</td>\n",
       "      <td>2006-10-25</td>\n",
       "      <td>12:00</td>\n",
       "      <td>2006-10-28</td>\n",
       "      <td>16:00</td>\n",
       "      <td>2006-10-28</td>\n",
       "      <td>10:00</td>\n",
       "      <td>4</td>\n",
       "      <td>70</td>\n",
       "      <td>2006</td>\n",
       "    </tr>\n",
       "    <tr>\n",
       "      <th>12</th>\n",
       "      <td>2006-11-09</td>\n",
       "      <td>18:00</td>\n",
       "      <td>2006-11-09</td>\n",
       "      <td>12:00</td>\n",
       "      <td>2006-11-11</td>\n",
       "      <td>01:00</td>\n",
       "      <td>2006-11-10</td>\n",
       "      <td>19:00</td>\n",
       "      <td>5</td>\n",
       "      <td>31</td>\n",
       "      <td>2006</td>\n",
       "    </tr>\n",
       "  </tbody>\n",
       "</table>\n",
       "</div>"
      ],
      "text/plain": [
       "   Cloud_Start_Date_UTC Cloud_Start_Time_UTC Cloud_Start_Date_CST  \\\n",
       "0            2006-10-01                20:00           2006-10-01   \n",
       "6            2006-10-15                18:00           2006-10-15   \n",
       "10           2006-10-25                18:00           2006-10-25   \n",
       "11           2006-10-25                18:00           2006-10-25   \n",
       "12           2006-11-09                18:00           2006-11-09   \n",
       "\n",
       "   Cloud_Start_Time_CST Precip_Start_Date_UTC Precip_Start_Time_UTC  \\\n",
       "0                 14:00            2006-10-04                 04:00   \n",
       "6                 12:00            2006-10-17                 05:00   \n",
       "10                12:00            2006-10-28                 09:00   \n",
       "11                12:00            2006-10-28                 16:00   \n",
       "12                12:00            2006-11-11                 01:00   \n",
       "\n",
       "   Precip_Start_Date_CST Precip_Start_Time_CST  Duration_of_Snow  \\\n",
       "0             2006-10-03                 22:00                 4   \n",
       "6             2006-10-16                 23:00                14   \n",
       "10            2006-10-28                 03:00                 6   \n",
       "11            2006-10-28                 10:00                 4   \n",
       "12            2006-11-10                 19:00                 5   \n",
       "\n",
       "    Duration_of_cloud_formation Precip_year  \n",
       "0                            56        2006  \n",
       "6                            35        2006  \n",
       "10                           63        2006  \n",
       "11                           70        2006  \n",
       "12                           31        2006  "
      ]
     },
     "execution_count": 32,
     "metadata": {},
     "output_type": "execute_result"
    }
   ],
   "source": [
    "df_combined_timing['Precip_year'] = df_combined_timing['Precip_Start_Date_CST'].str.slice(stop=4)\n",
    "df_combined_timing.head(5)"
   ]
  },
  {
   "cell_type": "code",
   "execution_count": 33,
   "id": "f7248854",
   "metadata": {},
   "outputs": [
    {
     "data": {
      "text/plain": [
       "(69, 11)"
      ]
     },
     "execution_count": 33,
     "metadata": {},
     "output_type": "execute_result"
    }
   ],
   "source": [
    "df_combined_timing.shape"
   ]
  },
  {
   "cell_type": "code",
   "execution_count": 38,
   "id": "5438c909",
   "metadata": {},
   "outputs": [
    {
     "data": {
      "application/vnd.plotly.v1+json": {
       "config": {
        "plotlyServerURL": "https://plot.ly"
       },
       "data": [
        {
         "alignmentgroup": "True",
         "bingroup": "x",
         "hovertemplate": "Duration_of_cloud_formation=%{x}<br>count=%{y}<extra></extra>",
         "legendgroup": "",
         "marker": {
          "color": "rgb(0, 128, 255)",
          "pattern": {
           "shape": ""
          }
         },
         "name": "",
         "nbinsx": 15,
         "offsetgroup": "",
         "orientation": "v",
         "showlegend": false,
         "textposition": "outside",
         "texttemplate": "%{y}",
         "type": "histogram",
         "x": [
          56,
          35,
          63,
          70,
          31,
          28,
          37,
          46,
          62,
          24,
          27,
          34,
          43,
          16,
          13,
          29,
          22,
          32,
          25,
          49,
          60,
          19,
          47,
          9,
          38,
          67,
          49,
          61,
          65,
          13,
          18,
          37,
          44,
          53,
          64,
          6,
          17,
          28,
          34,
          44,
          56,
          23,
          61,
          53,
          17,
          65,
          26,
          38,
          7,
          44,
          53,
          35,
          43,
          23,
          40,
          33,
          43,
          64,
          61,
          60,
          67,
          57,
          59,
          12,
          16,
          37,
          35,
          39,
          38
         ],
         "xaxis": "x",
         "yaxis": "y"
        }
       ],
       "layout": {
        "barmode": "relative",
        "legend": {
         "tracegroupgap": 0
        },
        "template": {
         "data": {
          "bar": [
           {
            "error_x": {
             "color": "#2a3f5f"
            },
            "error_y": {
             "color": "#2a3f5f"
            },
            "marker": {
             "line": {
              "color": "#E5ECF6",
              "width": 0.5
             },
             "pattern": {
              "fillmode": "overlay",
              "size": 10,
              "solidity": 0.2
             }
            },
            "type": "bar"
           }
          ],
          "barpolar": [
           {
            "marker": {
             "line": {
              "color": "#E5ECF6",
              "width": 0.5
             },
             "pattern": {
              "fillmode": "overlay",
              "size": 10,
              "solidity": 0.2
             }
            },
            "type": "barpolar"
           }
          ],
          "carpet": [
           {
            "aaxis": {
             "endlinecolor": "#2a3f5f",
             "gridcolor": "white",
             "linecolor": "white",
             "minorgridcolor": "white",
             "startlinecolor": "#2a3f5f"
            },
            "baxis": {
             "endlinecolor": "#2a3f5f",
             "gridcolor": "white",
             "linecolor": "white",
             "minorgridcolor": "white",
             "startlinecolor": "#2a3f5f"
            },
            "type": "carpet"
           }
          ],
          "choropleth": [
           {
            "colorbar": {
             "outlinewidth": 0,
             "ticks": ""
            },
            "type": "choropleth"
           }
          ],
          "contour": [
           {
            "colorbar": {
             "outlinewidth": 0,
             "ticks": ""
            },
            "colorscale": [
             [
              0,
              "#0d0887"
             ],
             [
              0.1111111111111111,
              "#46039f"
             ],
             [
              0.2222222222222222,
              "#7201a8"
             ],
             [
              0.3333333333333333,
              "#9c179e"
             ],
             [
              0.4444444444444444,
              "#bd3786"
             ],
             [
              0.5555555555555556,
              "#d8576b"
             ],
             [
              0.6666666666666666,
              "#ed7953"
             ],
             [
              0.7777777777777778,
              "#fb9f3a"
             ],
             [
              0.8888888888888888,
              "#fdca26"
             ],
             [
              1,
              "#f0f921"
             ]
            ],
            "type": "contour"
           }
          ],
          "contourcarpet": [
           {
            "colorbar": {
             "outlinewidth": 0,
             "ticks": ""
            },
            "type": "contourcarpet"
           }
          ],
          "heatmap": [
           {
            "colorbar": {
             "outlinewidth": 0,
             "ticks": ""
            },
            "colorscale": [
             [
              0,
              "#0d0887"
             ],
             [
              0.1111111111111111,
              "#46039f"
             ],
             [
              0.2222222222222222,
              "#7201a8"
             ],
             [
              0.3333333333333333,
              "#9c179e"
             ],
             [
              0.4444444444444444,
              "#bd3786"
             ],
             [
              0.5555555555555556,
              "#d8576b"
             ],
             [
              0.6666666666666666,
              "#ed7953"
             ],
             [
              0.7777777777777778,
              "#fb9f3a"
             ],
             [
              0.8888888888888888,
              "#fdca26"
             ],
             [
              1,
              "#f0f921"
             ]
            ],
            "type": "heatmap"
           }
          ],
          "heatmapgl": [
           {
            "colorbar": {
             "outlinewidth": 0,
             "ticks": ""
            },
            "colorscale": [
             [
              0,
              "#0d0887"
             ],
             [
              0.1111111111111111,
              "#46039f"
             ],
             [
              0.2222222222222222,
              "#7201a8"
             ],
             [
              0.3333333333333333,
              "#9c179e"
             ],
             [
              0.4444444444444444,
              "#bd3786"
             ],
             [
              0.5555555555555556,
              "#d8576b"
             ],
             [
              0.6666666666666666,
              "#ed7953"
             ],
             [
              0.7777777777777778,
              "#fb9f3a"
             ],
             [
              0.8888888888888888,
              "#fdca26"
             ],
             [
              1,
              "#f0f921"
             ]
            ],
            "type": "heatmapgl"
           }
          ],
          "histogram": [
           {
            "marker": {
             "pattern": {
              "fillmode": "overlay",
              "size": 10,
              "solidity": 0.2
             }
            },
            "type": "histogram"
           }
          ],
          "histogram2d": [
           {
            "colorbar": {
             "outlinewidth": 0,
             "ticks": ""
            },
            "colorscale": [
             [
              0,
              "#0d0887"
             ],
             [
              0.1111111111111111,
              "#46039f"
             ],
             [
              0.2222222222222222,
              "#7201a8"
             ],
             [
              0.3333333333333333,
              "#9c179e"
             ],
             [
              0.4444444444444444,
              "#bd3786"
             ],
             [
              0.5555555555555556,
              "#d8576b"
             ],
             [
              0.6666666666666666,
              "#ed7953"
             ],
             [
              0.7777777777777778,
              "#fb9f3a"
             ],
             [
              0.8888888888888888,
              "#fdca26"
             ],
             [
              1,
              "#f0f921"
             ]
            ],
            "type": "histogram2d"
           }
          ],
          "histogram2dcontour": [
           {
            "colorbar": {
             "outlinewidth": 0,
             "ticks": ""
            },
            "colorscale": [
             [
              0,
              "#0d0887"
             ],
             [
              0.1111111111111111,
              "#46039f"
             ],
             [
              0.2222222222222222,
              "#7201a8"
             ],
             [
              0.3333333333333333,
              "#9c179e"
             ],
             [
              0.4444444444444444,
              "#bd3786"
             ],
             [
              0.5555555555555556,
              "#d8576b"
             ],
             [
              0.6666666666666666,
              "#ed7953"
             ],
             [
              0.7777777777777778,
              "#fb9f3a"
             ],
             [
              0.8888888888888888,
              "#fdca26"
             ],
             [
              1,
              "#f0f921"
             ]
            ],
            "type": "histogram2dcontour"
           }
          ],
          "mesh3d": [
           {
            "colorbar": {
             "outlinewidth": 0,
             "ticks": ""
            },
            "type": "mesh3d"
           }
          ],
          "parcoords": [
           {
            "line": {
             "colorbar": {
              "outlinewidth": 0,
              "ticks": ""
             }
            },
            "type": "parcoords"
           }
          ],
          "pie": [
           {
            "automargin": true,
            "type": "pie"
           }
          ],
          "scatter": [
           {
            "fillpattern": {
             "fillmode": "overlay",
             "size": 10,
             "solidity": 0.2
            },
            "type": "scatter"
           }
          ],
          "scatter3d": [
           {
            "line": {
             "colorbar": {
              "outlinewidth": 0,
              "ticks": ""
             }
            },
            "marker": {
             "colorbar": {
              "outlinewidth": 0,
              "ticks": ""
             }
            },
            "type": "scatter3d"
           }
          ],
          "scattercarpet": [
           {
            "marker": {
             "colorbar": {
              "outlinewidth": 0,
              "ticks": ""
             }
            },
            "type": "scattercarpet"
           }
          ],
          "scattergeo": [
           {
            "marker": {
             "colorbar": {
              "outlinewidth": 0,
              "ticks": ""
             }
            },
            "type": "scattergeo"
           }
          ],
          "scattergl": [
           {
            "marker": {
             "colorbar": {
              "outlinewidth": 0,
              "ticks": ""
             }
            },
            "type": "scattergl"
           }
          ],
          "scattermapbox": [
           {
            "marker": {
             "colorbar": {
              "outlinewidth": 0,
              "ticks": ""
             }
            },
            "type": "scattermapbox"
           }
          ],
          "scatterpolar": [
           {
            "marker": {
             "colorbar": {
              "outlinewidth": 0,
              "ticks": ""
             }
            },
            "type": "scatterpolar"
           }
          ],
          "scatterpolargl": [
           {
            "marker": {
             "colorbar": {
              "outlinewidth": 0,
              "ticks": ""
             }
            },
            "type": "scatterpolargl"
           }
          ],
          "scatterternary": [
           {
            "marker": {
             "colorbar": {
              "outlinewidth": 0,
              "ticks": ""
             }
            },
            "type": "scatterternary"
           }
          ],
          "surface": [
           {
            "colorbar": {
             "outlinewidth": 0,
             "ticks": ""
            },
            "colorscale": [
             [
              0,
              "#0d0887"
             ],
             [
              0.1111111111111111,
              "#46039f"
             ],
             [
              0.2222222222222222,
              "#7201a8"
             ],
             [
              0.3333333333333333,
              "#9c179e"
             ],
             [
              0.4444444444444444,
              "#bd3786"
             ],
             [
              0.5555555555555556,
              "#d8576b"
             ],
             [
              0.6666666666666666,
              "#ed7953"
             ],
             [
              0.7777777777777778,
              "#fb9f3a"
             ],
             [
              0.8888888888888888,
              "#fdca26"
             ],
             [
              1,
              "#f0f921"
             ]
            ],
            "type": "surface"
           }
          ],
          "table": [
           {
            "cells": {
             "fill": {
              "color": "#EBF0F8"
             },
             "line": {
              "color": "white"
             }
            },
            "header": {
             "fill": {
              "color": "#C8D4E3"
             },
             "line": {
              "color": "white"
             }
            },
            "type": "table"
           }
          ]
         },
         "layout": {
          "annotationdefaults": {
           "arrowcolor": "#2a3f5f",
           "arrowhead": 0,
           "arrowwidth": 1
          },
          "autotypenumbers": "strict",
          "coloraxis": {
           "colorbar": {
            "outlinewidth": 0,
            "ticks": ""
           }
          },
          "colorscale": {
           "diverging": [
            [
             0,
             "#8e0152"
            ],
            [
             0.1,
             "#c51b7d"
            ],
            [
             0.2,
             "#de77ae"
            ],
            [
             0.3,
             "#f1b6da"
            ],
            [
             0.4,
             "#fde0ef"
            ],
            [
             0.5,
             "#f7f7f7"
            ],
            [
             0.6,
             "#e6f5d0"
            ],
            [
             0.7,
             "#b8e186"
            ],
            [
             0.8,
             "#7fbc41"
            ],
            [
             0.9,
             "#4d9221"
            ],
            [
             1,
             "#276419"
            ]
           ],
           "sequential": [
            [
             0,
             "#0d0887"
            ],
            [
             0.1111111111111111,
             "#46039f"
            ],
            [
             0.2222222222222222,
             "#7201a8"
            ],
            [
             0.3333333333333333,
             "#9c179e"
            ],
            [
             0.4444444444444444,
             "#bd3786"
            ],
            [
             0.5555555555555556,
             "#d8576b"
            ],
            [
             0.6666666666666666,
             "#ed7953"
            ],
            [
             0.7777777777777778,
             "#fb9f3a"
            ],
            [
             0.8888888888888888,
             "#fdca26"
            ],
            [
             1,
             "#f0f921"
            ]
           ],
           "sequentialminus": [
            [
             0,
             "#0d0887"
            ],
            [
             0.1111111111111111,
             "#46039f"
            ],
            [
             0.2222222222222222,
             "#7201a8"
            ],
            [
             0.3333333333333333,
             "#9c179e"
            ],
            [
             0.4444444444444444,
             "#bd3786"
            ],
            [
             0.5555555555555556,
             "#d8576b"
            ],
            [
             0.6666666666666666,
             "#ed7953"
            ],
            [
             0.7777777777777778,
             "#fb9f3a"
            ],
            [
             0.8888888888888888,
             "#fdca26"
            ],
            [
             1,
             "#f0f921"
            ]
           ]
          },
          "colorway": [
           "#636efa",
           "#EF553B",
           "#00cc96",
           "#ab63fa",
           "#FFA15A",
           "#19d3f3",
           "#FF6692",
           "#B6E880",
           "#FF97FF",
           "#FECB52"
          ],
          "font": {
           "color": "#2a3f5f"
          },
          "geo": {
           "bgcolor": "white",
           "lakecolor": "white",
           "landcolor": "#E5ECF6",
           "showlakes": true,
           "showland": true,
           "subunitcolor": "white"
          },
          "hoverlabel": {
           "align": "left"
          },
          "hovermode": "closest",
          "mapbox": {
           "style": "light"
          },
          "paper_bgcolor": "white",
          "plot_bgcolor": "#E5ECF6",
          "polar": {
           "angularaxis": {
            "gridcolor": "white",
            "linecolor": "white",
            "ticks": ""
           },
           "bgcolor": "#E5ECF6",
           "radialaxis": {
            "gridcolor": "white",
            "linecolor": "white",
            "ticks": ""
           }
          },
          "scene": {
           "xaxis": {
            "backgroundcolor": "#E5ECF6",
            "gridcolor": "white",
            "gridwidth": 2,
            "linecolor": "white",
            "showbackground": true,
            "ticks": "",
            "zerolinecolor": "white"
           },
           "yaxis": {
            "backgroundcolor": "#E5ECF6",
            "gridcolor": "white",
            "gridwidth": 2,
            "linecolor": "white",
            "showbackground": true,
            "ticks": "",
            "zerolinecolor": "white"
           },
           "zaxis": {
            "backgroundcolor": "#E5ECF6",
            "gridcolor": "white",
            "gridwidth": 2,
            "linecolor": "white",
            "showbackground": true,
            "ticks": "",
            "zerolinecolor": "white"
           }
          },
          "shapedefaults": {
           "line": {
            "color": "#2a3f5f"
           }
          },
          "ternary": {
           "aaxis": {
            "gridcolor": "white",
            "linecolor": "white",
            "ticks": ""
           },
           "baxis": {
            "gridcolor": "white",
            "linecolor": "white",
            "ticks": ""
           },
           "bgcolor": "#E5ECF6",
           "caxis": {
            "gridcolor": "white",
            "linecolor": "white",
            "ticks": ""
           }
          },
          "title": {
           "x": 0.05
          },
          "xaxis": {
           "automargin": true,
           "gridcolor": "white",
           "linecolor": "white",
           "ticks": "",
           "title": {
            "standoff": 15
           },
           "zerolinecolor": "white",
           "zerolinewidth": 2
          },
          "yaxis": {
           "automargin": true,
           "gridcolor": "white",
           "linecolor": "white",
           "ticks": "",
           "title": {
            "standoff": 15
           },
           "zerolinecolor": "white",
           "zerolinewidth": 2
          }
         }
        },
        "title": {
         "text": "Duration of Cloud Formation at 14850"
        },
        "xaxis": {
         "anchor": "y",
         "domain": [
          0,
          1
         ],
         "title": {
          "text": "# of cloud formation"
         }
        },
        "yaxis": {
         "anchor": "x",
         "domain": [
          0,
          1
         ],
         "title": {
          "text": "# of precip events"
         }
        }
       }
      },
      "text/html": [
       "<div>                            <div id=\"da65a500-53ba-4fd8-8b88-65c5bcbb9957\" class=\"plotly-graph-div\" style=\"height:525px; width:100%;\"></div>            <script type=\"text/javascript\">                require([\"plotly\"], function(Plotly) {                    window.PLOTLYENV=window.PLOTLYENV || {};                                    if (document.getElementById(\"da65a500-53ba-4fd8-8b88-65c5bcbb9957\")) {                    Plotly.newPlot(                        \"da65a500-53ba-4fd8-8b88-65c5bcbb9957\",                        [{\"alignmentgroup\":\"True\",\"bingroup\":\"x\",\"hovertemplate\":\"Duration_of_cloud_formation=%{x}<br>count=%{y}<extra></extra>\",\"legendgroup\":\"\",\"marker\":{\"color\":\"rgb(0, 128, 255)\",\"pattern\":{\"shape\":\"\"}},\"name\":\"\",\"nbinsx\":15,\"offsetgroup\":\"\",\"orientation\":\"v\",\"showlegend\":false,\"x\":[56,35,63,70,31,28,37,46,62,24,27,34,43,16,13,29,22,32,25,49,60,19,47,9,38,67,49,61,65,13,18,37,44,53,64,6,17,28,34,44,56,23,61,53,17,65,26,38,7,44,53,35,43,23,40,33,43,64,61,60,67,57,59,12,16,37,35,39,38],\"xaxis\":\"x\",\"yaxis\":\"y\",\"type\":\"histogram\",\"textposition\":\"outside\",\"texttemplate\":\"%{y}\"}],                        {\"template\":{\"data\":{\"histogram2dcontour\":[{\"type\":\"histogram2dcontour\",\"colorbar\":{\"outlinewidth\":0,\"ticks\":\"\"},\"colorscale\":[[0.0,\"#0d0887\"],[0.1111111111111111,\"#46039f\"],[0.2222222222222222,\"#7201a8\"],[0.3333333333333333,\"#9c179e\"],[0.4444444444444444,\"#bd3786\"],[0.5555555555555556,\"#d8576b\"],[0.6666666666666666,\"#ed7953\"],[0.7777777777777778,\"#fb9f3a\"],[0.8888888888888888,\"#fdca26\"],[1.0,\"#f0f921\"]]}],\"choropleth\":[{\"type\":\"choropleth\",\"colorbar\":{\"outlinewidth\":0,\"ticks\":\"\"}}],\"histogram2d\":[{\"type\":\"histogram2d\",\"colorbar\":{\"outlinewidth\":0,\"ticks\":\"\"},\"colorscale\":[[0.0,\"#0d0887\"],[0.1111111111111111,\"#46039f\"],[0.2222222222222222,\"#7201a8\"],[0.3333333333333333,\"#9c179e\"],[0.4444444444444444,\"#bd3786\"],[0.5555555555555556,\"#d8576b\"],[0.6666666666666666,\"#ed7953\"],[0.7777777777777778,\"#fb9f3a\"],[0.8888888888888888,\"#fdca26\"],[1.0,\"#f0f921\"]]}],\"heatmap\":[{\"type\":\"heatmap\",\"colorbar\":{\"outlinewidth\":0,\"ticks\":\"\"},\"colorscale\":[[0.0,\"#0d0887\"],[0.1111111111111111,\"#46039f\"],[0.2222222222222222,\"#7201a8\"],[0.3333333333333333,\"#9c179e\"],[0.4444444444444444,\"#bd3786\"],[0.5555555555555556,\"#d8576b\"],[0.6666666666666666,\"#ed7953\"],[0.7777777777777778,\"#fb9f3a\"],[0.8888888888888888,\"#fdca26\"],[1.0,\"#f0f921\"]]}],\"heatmapgl\":[{\"type\":\"heatmapgl\",\"colorbar\":{\"outlinewidth\":0,\"ticks\":\"\"},\"colorscale\":[[0.0,\"#0d0887\"],[0.1111111111111111,\"#46039f\"],[0.2222222222222222,\"#7201a8\"],[0.3333333333333333,\"#9c179e\"],[0.4444444444444444,\"#bd3786\"],[0.5555555555555556,\"#d8576b\"],[0.6666666666666666,\"#ed7953\"],[0.7777777777777778,\"#fb9f3a\"],[0.8888888888888888,\"#fdca26\"],[1.0,\"#f0f921\"]]}],\"contourcarpet\":[{\"type\":\"contourcarpet\",\"colorbar\":{\"outlinewidth\":0,\"ticks\":\"\"}}],\"contour\":[{\"type\":\"contour\",\"colorbar\":{\"outlinewidth\":0,\"ticks\":\"\"},\"colorscale\":[[0.0,\"#0d0887\"],[0.1111111111111111,\"#46039f\"],[0.2222222222222222,\"#7201a8\"],[0.3333333333333333,\"#9c179e\"],[0.4444444444444444,\"#bd3786\"],[0.5555555555555556,\"#d8576b\"],[0.6666666666666666,\"#ed7953\"],[0.7777777777777778,\"#fb9f3a\"],[0.8888888888888888,\"#fdca26\"],[1.0,\"#f0f921\"]]}],\"surface\":[{\"type\":\"surface\",\"colorbar\":{\"outlinewidth\":0,\"ticks\":\"\"},\"colorscale\":[[0.0,\"#0d0887\"],[0.1111111111111111,\"#46039f\"],[0.2222222222222222,\"#7201a8\"],[0.3333333333333333,\"#9c179e\"],[0.4444444444444444,\"#bd3786\"],[0.5555555555555556,\"#d8576b\"],[0.6666666666666666,\"#ed7953\"],[0.7777777777777778,\"#fb9f3a\"],[0.8888888888888888,\"#fdca26\"],[1.0,\"#f0f921\"]]}],\"mesh3d\":[{\"type\":\"mesh3d\",\"colorbar\":{\"outlinewidth\":0,\"ticks\":\"\"}}],\"scatter\":[{\"fillpattern\":{\"fillmode\":\"overlay\",\"size\":10,\"solidity\":0.2},\"type\":\"scatter\"}],\"parcoords\":[{\"type\":\"parcoords\",\"line\":{\"colorbar\":{\"outlinewidth\":0,\"ticks\":\"\"}}}],\"scatterpolargl\":[{\"type\":\"scatterpolargl\",\"marker\":{\"colorbar\":{\"outlinewidth\":0,\"ticks\":\"\"}}}],\"bar\":[{\"error_x\":{\"color\":\"#2a3f5f\"},\"error_y\":{\"color\":\"#2a3f5f\"},\"marker\":{\"line\":{\"color\":\"#E5ECF6\",\"width\":0.5},\"pattern\":{\"fillmode\":\"overlay\",\"size\":10,\"solidity\":0.2}},\"type\":\"bar\"}],\"scattergeo\":[{\"type\":\"scattergeo\",\"marker\":{\"colorbar\":{\"outlinewidth\":0,\"ticks\":\"\"}}}],\"scatterpolar\":[{\"type\":\"scatterpolar\",\"marker\":{\"colorbar\":{\"outlinewidth\":0,\"ticks\":\"\"}}}],\"histogram\":[{\"marker\":{\"pattern\":{\"fillmode\":\"overlay\",\"size\":10,\"solidity\":0.2}},\"type\":\"histogram\"}],\"scattergl\":[{\"type\":\"scattergl\",\"marker\":{\"colorbar\":{\"outlinewidth\":0,\"ticks\":\"\"}}}],\"scatter3d\":[{\"type\":\"scatter3d\",\"line\":{\"colorbar\":{\"outlinewidth\":0,\"ticks\":\"\"}},\"marker\":{\"colorbar\":{\"outlinewidth\":0,\"ticks\":\"\"}}}],\"scattermapbox\":[{\"type\":\"scattermapbox\",\"marker\":{\"colorbar\":{\"outlinewidth\":0,\"ticks\":\"\"}}}],\"scatterternary\":[{\"type\":\"scatterternary\",\"marker\":{\"colorbar\":{\"outlinewidth\":0,\"ticks\":\"\"}}}],\"scattercarpet\":[{\"type\":\"scattercarpet\",\"marker\":{\"colorbar\":{\"outlinewidth\":0,\"ticks\":\"\"}}}],\"carpet\":[{\"aaxis\":{\"endlinecolor\":\"#2a3f5f\",\"gridcolor\":\"white\",\"linecolor\":\"white\",\"minorgridcolor\":\"white\",\"startlinecolor\":\"#2a3f5f\"},\"baxis\":{\"endlinecolor\":\"#2a3f5f\",\"gridcolor\":\"white\",\"linecolor\":\"white\",\"minorgridcolor\":\"white\",\"startlinecolor\":\"#2a3f5f\"},\"type\":\"carpet\"}],\"table\":[{\"cells\":{\"fill\":{\"color\":\"#EBF0F8\"},\"line\":{\"color\":\"white\"}},\"header\":{\"fill\":{\"color\":\"#C8D4E3\"},\"line\":{\"color\":\"white\"}},\"type\":\"table\"}],\"barpolar\":[{\"marker\":{\"line\":{\"color\":\"#E5ECF6\",\"width\":0.5},\"pattern\":{\"fillmode\":\"overlay\",\"size\":10,\"solidity\":0.2}},\"type\":\"barpolar\"}],\"pie\":[{\"automargin\":true,\"type\":\"pie\"}]},\"layout\":{\"autotypenumbers\":\"strict\",\"colorway\":[\"#636efa\",\"#EF553B\",\"#00cc96\",\"#ab63fa\",\"#FFA15A\",\"#19d3f3\",\"#FF6692\",\"#B6E880\",\"#FF97FF\",\"#FECB52\"],\"font\":{\"color\":\"#2a3f5f\"},\"hovermode\":\"closest\",\"hoverlabel\":{\"align\":\"left\"},\"paper_bgcolor\":\"white\",\"plot_bgcolor\":\"#E5ECF6\",\"polar\":{\"bgcolor\":\"#E5ECF6\",\"angularaxis\":{\"gridcolor\":\"white\",\"linecolor\":\"white\",\"ticks\":\"\"},\"radialaxis\":{\"gridcolor\":\"white\",\"linecolor\":\"white\",\"ticks\":\"\"}},\"ternary\":{\"bgcolor\":\"#E5ECF6\",\"aaxis\":{\"gridcolor\":\"white\",\"linecolor\":\"white\",\"ticks\":\"\"},\"baxis\":{\"gridcolor\":\"white\",\"linecolor\":\"white\",\"ticks\":\"\"},\"caxis\":{\"gridcolor\":\"white\",\"linecolor\":\"white\",\"ticks\":\"\"}},\"coloraxis\":{\"colorbar\":{\"outlinewidth\":0,\"ticks\":\"\"}},\"colorscale\":{\"sequential\":[[0.0,\"#0d0887\"],[0.1111111111111111,\"#46039f\"],[0.2222222222222222,\"#7201a8\"],[0.3333333333333333,\"#9c179e\"],[0.4444444444444444,\"#bd3786\"],[0.5555555555555556,\"#d8576b\"],[0.6666666666666666,\"#ed7953\"],[0.7777777777777778,\"#fb9f3a\"],[0.8888888888888888,\"#fdca26\"],[1.0,\"#f0f921\"]],\"sequentialminus\":[[0.0,\"#0d0887\"],[0.1111111111111111,\"#46039f\"],[0.2222222222222222,\"#7201a8\"],[0.3333333333333333,\"#9c179e\"],[0.4444444444444444,\"#bd3786\"],[0.5555555555555556,\"#d8576b\"],[0.6666666666666666,\"#ed7953\"],[0.7777777777777778,\"#fb9f3a\"],[0.8888888888888888,\"#fdca26\"],[1.0,\"#f0f921\"]],\"diverging\":[[0,\"#8e0152\"],[0.1,\"#c51b7d\"],[0.2,\"#de77ae\"],[0.3,\"#f1b6da\"],[0.4,\"#fde0ef\"],[0.5,\"#f7f7f7\"],[0.6,\"#e6f5d0\"],[0.7,\"#b8e186\"],[0.8,\"#7fbc41\"],[0.9,\"#4d9221\"],[1,\"#276419\"]]},\"xaxis\":{\"gridcolor\":\"white\",\"linecolor\":\"white\",\"ticks\":\"\",\"title\":{\"standoff\":15},\"zerolinecolor\":\"white\",\"automargin\":true,\"zerolinewidth\":2},\"yaxis\":{\"gridcolor\":\"white\",\"linecolor\":\"white\",\"ticks\":\"\",\"title\":{\"standoff\":15},\"zerolinecolor\":\"white\",\"automargin\":true,\"zerolinewidth\":2},\"scene\":{\"xaxis\":{\"backgroundcolor\":\"#E5ECF6\",\"gridcolor\":\"white\",\"linecolor\":\"white\",\"showbackground\":true,\"ticks\":\"\",\"zerolinecolor\":\"white\",\"gridwidth\":2},\"yaxis\":{\"backgroundcolor\":\"#E5ECF6\",\"gridcolor\":\"white\",\"linecolor\":\"white\",\"showbackground\":true,\"ticks\":\"\",\"zerolinecolor\":\"white\",\"gridwidth\":2},\"zaxis\":{\"backgroundcolor\":\"#E5ECF6\",\"gridcolor\":\"white\",\"linecolor\":\"white\",\"showbackground\":true,\"ticks\":\"\",\"zerolinecolor\":\"white\",\"gridwidth\":2}},\"shapedefaults\":{\"line\":{\"color\":\"#2a3f5f\"}},\"annotationdefaults\":{\"arrowcolor\":\"#2a3f5f\",\"arrowhead\":0,\"arrowwidth\":1},\"geo\":{\"bgcolor\":\"white\",\"landcolor\":\"#E5ECF6\",\"subunitcolor\":\"white\",\"showland\":true,\"showlakes\":true,\"lakecolor\":\"white\"},\"title\":{\"x\":0.05},\"mapbox\":{\"style\":\"light\"}}},\"xaxis\":{\"anchor\":\"y\",\"domain\":[0.0,1.0],\"title\":{\"text\":\"# of cloud formation\"}},\"yaxis\":{\"anchor\":\"x\",\"domain\":[0.0,1.0],\"title\":{\"text\":\"# of precip events\"}},\"legend\":{\"tracegroupgap\":0},\"title\":{\"text\":\"Duration of Cloud Formation at 14850\"},\"barmode\":\"relative\"},                        {\"responsive\": true}                    ).then(function(){\n",
       "                            \n",
       "var gd = document.getElementById('da65a500-53ba-4fd8-8b88-65c5bcbb9957');\n",
       "var x = new MutationObserver(function (mutations, observer) {{\n",
       "        var display = window.getComputedStyle(gd).display;\n",
       "        if (!display || display === 'none') {{\n",
       "            console.log([gd, 'removed!']);\n",
       "            Plotly.purge(gd);\n",
       "            observer.disconnect();\n",
       "        }}\n",
       "}});\n",
       "\n",
       "// Listen for the removal of the full notebook cells\n",
       "var notebookContainer = gd.closest('#notebook-container');\n",
       "if (notebookContainer) {{\n",
       "    x.observe(notebookContainer, {childList: true});\n",
       "}}\n",
       "\n",
       "// Listen for the clearing of the current output cell\n",
       "var outputEl = gd.closest('.output');\n",
       "if (outputEl) {{\n",
       "    x.observe(outputEl, {childList: true});\n",
       "}}\n",
       "\n",
       "                        })                };                });            </script>        </div>"
      ]
     },
     "metadata": {},
     "output_type": "display_data"
    }
   ],
   "source": [
    "import plotly.express as px\n",
    "\n",
    "fig = px.histogram(df_combined_timing, x=\"Duration_of_cloud_formation\", nbins = 15, title=\"Duration of Cloud Formation at \" + str(station_ID_num))\n",
    "fig.update_layout(xaxis_title=\"# of cloud formation\", yaxis_title=\"# of precip events\")\n",
    "fig.update_traces(marker_color=\"rgb(0, 128, 255)\", texttemplate='%{y}', textposition='outside')\n",
    "fig.show()\n",
    "fig.write_image('hist_'+station_ID_num+'_duration_of_cloud_formation.png')"
   ]
  },
  {
   "cell_type": "code",
   "execution_count": 35,
   "id": "22e47563",
   "metadata": {},
   "outputs": [
    {
     "data": {
      "application/vnd.plotly.v1+json": {
       "config": {
        "plotlyServerURL": "https://plot.ly"
       },
       "data": [
        {
         "alignmentgroup": "True",
         "bingroup": "x",
         "hovertemplate": "Duration_of_Snow=%{x}<br>count=%{y}<extra></extra>",
         "legendgroup": "",
         "marker": {
          "color": "rgb(0, 128, 255)",
          "pattern": {
           "shape": ""
          }
         },
         "name": "",
         "nbinsx": 20,
         "offsetgroup": "",
         "orientation": "v",
         "showlegend": false,
         "textposition": "outside",
         "texttemplate": "%{y}",
         "type": "histogram",
         "x": [
          4,
          14,
          6,
          4,
          5,
          7,
          3,
          9,
          11,
          3,
          3,
          3,
          6,
          4,
          6,
          13,
          3,
          4,
          6,
          8,
          12,
          7,
          3,
          3,
          4,
          3,
          5,
          3,
          3,
          3,
          3,
          4,
          3,
          7,
          9,
          10,
          5,
          5,
          3,
          3,
          3,
          6,
          6,
          3,
          5,
          3,
          6,
          5,
          7,
          7,
          3,
          5,
          3,
          6,
          13,
          4,
          3,
          9,
          7,
          4,
          3,
          4,
          5,
          3,
          3,
          6,
          4,
          4,
          4
         ],
         "xaxis": "x",
         "yaxis": "y"
        }
       ],
       "layout": {
        "barmode": "relative",
        "legend": {
         "tracegroupgap": 0
        },
        "template": {
         "data": {
          "bar": [
           {
            "error_x": {
             "color": "#2a3f5f"
            },
            "error_y": {
             "color": "#2a3f5f"
            },
            "marker": {
             "line": {
              "color": "#E5ECF6",
              "width": 0.5
             },
             "pattern": {
              "fillmode": "overlay",
              "size": 10,
              "solidity": 0.2
             }
            },
            "type": "bar"
           }
          ],
          "barpolar": [
           {
            "marker": {
             "line": {
              "color": "#E5ECF6",
              "width": 0.5
             },
             "pattern": {
              "fillmode": "overlay",
              "size": 10,
              "solidity": 0.2
             }
            },
            "type": "barpolar"
           }
          ],
          "carpet": [
           {
            "aaxis": {
             "endlinecolor": "#2a3f5f",
             "gridcolor": "white",
             "linecolor": "white",
             "minorgridcolor": "white",
             "startlinecolor": "#2a3f5f"
            },
            "baxis": {
             "endlinecolor": "#2a3f5f",
             "gridcolor": "white",
             "linecolor": "white",
             "minorgridcolor": "white",
             "startlinecolor": "#2a3f5f"
            },
            "type": "carpet"
           }
          ],
          "choropleth": [
           {
            "colorbar": {
             "outlinewidth": 0,
             "ticks": ""
            },
            "type": "choropleth"
           }
          ],
          "contour": [
           {
            "colorbar": {
             "outlinewidth": 0,
             "ticks": ""
            },
            "colorscale": [
             [
              0,
              "#0d0887"
             ],
             [
              0.1111111111111111,
              "#46039f"
             ],
             [
              0.2222222222222222,
              "#7201a8"
             ],
             [
              0.3333333333333333,
              "#9c179e"
             ],
             [
              0.4444444444444444,
              "#bd3786"
             ],
             [
              0.5555555555555556,
              "#d8576b"
             ],
             [
              0.6666666666666666,
              "#ed7953"
             ],
             [
              0.7777777777777778,
              "#fb9f3a"
             ],
             [
              0.8888888888888888,
              "#fdca26"
             ],
             [
              1,
              "#f0f921"
             ]
            ],
            "type": "contour"
           }
          ],
          "contourcarpet": [
           {
            "colorbar": {
             "outlinewidth": 0,
             "ticks": ""
            },
            "type": "contourcarpet"
           }
          ],
          "heatmap": [
           {
            "colorbar": {
             "outlinewidth": 0,
             "ticks": ""
            },
            "colorscale": [
             [
              0,
              "#0d0887"
             ],
             [
              0.1111111111111111,
              "#46039f"
             ],
             [
              0.2222222222222222,
              "#7201a8"
             ],
             [
              0.3333333333333333,
              "#9c179e"
             ],
             [
              0.4444444444444444,
              "#bd3786"
             ],
             [
              0.5555555555555556,
              "#d8576b"
             ],
             [
              0.6666666666666666,
              "#ed7953"
             ],
             [
              0.7777777777777778,
              "#fb9f3a"
             ],
             [
              0.8888888888888888,
              "#fdca26"
             ],
             [
              1,
              "#f0f921"
             ]
            ],
            "type": "heatmap"
           }
          ],
          "heatmapgl": [
           {
            "colorbar": {
             "outlinewidth": 0,
             "ticks": ""
            },
            "colorscale": [
             [
              0,
              "#0d0887"
             ],
             [
              0.1111111111111111,
              "#46039f"
             ],
             [
              0.2222222222222222,
              "#7201a8"
             ],
             [
              0.3333333333333333,
              "#9c179e"
             ],
             [
              0.4444444444444444,
              "#bd3786"
             ],
             [
              0.5555555555555556,
              "#d8576b"
             ],
             [
              0.6666666666666666,
              "#ed7953"
             ],
             [
              0.7777777777777778,
              "#fb9f3a"
             ],
             [
              0.8888888888888888,
              "#fdca26"
             ],
             [
              1,
              "#f0f921"
             ]
            ],
            "type": "heatmapgl"
           }
          ],
          "histogram": [
           {
            "marker": {
             "pattern": {
              "fillmode": "overlay",
              "size": 10,
              "solidity": 0.2
             }
            },
            "type": "histogram"
           }
          ],
          "histogram2d": [
           {
            "colorbar": {
             "outlinewidth": 0,
             "ticks": ""
            },
            "colorscale": [
             [
              0,
              "#0d0887"
             ],
             [
              0.1111111111111111,
              "#46039f"
             ],
             [
              0.2222222222222222,
              "#7201a8"
             ],
             [
              0.3333333333333333,
              "#9c179e"
             ],
             [
              0.4444444444444444,
              "#bd3786"
             ],
             [
              0.5555555555555556,
              "#d8576b"
             ],
             [
              0.6666666666666666,
              "#ed7953"
             ],
             [
              0.7777777777777778,
              "#fb9f3a"
             ],
             [
              0.8888888888888888,
              "#fdca26"
             ],
             [
              1,
              "#f0f921"
             ]
            ],
            "type": "histogram2d"
           }
          ],
          "histogram2dcontour": [
           {
            "colorbar": {
             "outlinewidth": 0,
             "ticks": ""
            },
            "colorscale": [
             [
              0,
              "#0d0887"
             ],
             [
              0.1111111111111111,
              "#46039f"
             ],
             [
              0.2222222222222222,
              "#7201a8"
             ],
             [
              0.3333333333333333,
              "#9c179e"
             ],
             [
              0.4444444444444444,
              "#bd3786"
             ],
             [
              0.5555555555555556,
              "#d8576b"
             ],
             [
              0.6666666666666666,
              "#ed7953"
             ],
             [
              0.7777777777777778,
              "#fb9f3a"
             ],
             [
              0.8888888888888888,
              "#fdca26"
             ],
             [
              1,
              "#f0f921"
             ]
            ],
            "type": "histogram2dcontour"
           }
          ],
          "mesh3d": [
           {
            "colorbar": {
             "outlinewidth": 0,
             "ticks": ""
            },
            "type": "mesh3d"
           }
          ],
          "parcoords": [
           {
            "line": {
             "colorbar": {
              "outlinewidth": 0,
              "ticks": ""
             }
            },
            "type": "parcoords"
           }
          ],
          "pie": [
           {
            "automargin": true,
            "type": "pie"
           }
          ],
          "scatter": [
           {
            "fillpattern": {
             "fillmode": "overlay",
             "size": 10,
             "solidity": 0.2
            },
            "type": "scatter"
           }
          ],
          "scatter3d": [
           {
            "line": {
             "colorbar": {
              "outlinewidth": 0,
              "ticks": ""
             }
            },
            "marker": {
             "colorbar": {
              "outlinewidth": 0,
              "ticks": ""
             }
            },
            "type": "scatter3d"
           }
          ],
          "scattercarpet": [
           {
            "marker": {
             "colorbar": {
              "outlinewidth": 0,
              "ticks": ""
             }
            },
            "type": "scattercarpet"
           }
          ],
          "scattergeo": [
           {
            "marker": {
             "colorbar": {
              "outlinewidth": 0,
              "ticks": ""
             }
            },
            "type": "scattergeo"
           }
          ],
          "scattergl": [
           {
            "marker": {
             "colorbar": {
              "outlinewidth": 0,
              "ticks": ""
             }
            },
            "type": "scattergl"
           }
          ],
          "scattermapbox": [
           {
            "marker": {
             "colorbar": {
              "outlinewidth": 0,
              "ticks": ""
             }
            },
            "type": "scattermapbox"
           }
          ],
          "scatterpolar": [
           {
            "marker": {
             "colorbar": {
              "outlinewidth": 0,
              "ticks": ""
             }
            },
            "type": "scatterpolar"
           }
          ],
          "scatterpolargl": [
           {
            "marker": {
             "colorbar": {
              "outlinewidth": 0,
              "ticks": ""
             }
            },
            "type": "scatterpolargl"
           }
          ],
          "scatterternary": [
           {
            "marker": {
             "colorbar": {
              "outlinewidth": 0,
              "ticks": ""
             }
            },
            "type": "scatterternary"
           }
          ],
          "surface": [
           {
            "colorbar": {
             "outlinewidth": 0,
             "ticks": ""
            },
            "colorscale": [
             [
              0,
              "#0d0887"
             ],
             [
              0.1111111111111111,
              "#46039f"
             ],
             [
              0.2222222222222222,
              "#7201a8"
             ],
             [
              0.3333333333333333,
              "#9c179e"
             ],
             [
              0.4444444444444444,
              "#bd3786"
             ],
             [
              0.5555555555555556,
              "#d8576b"
             ],
             [
              0.6666666666666666,
              "#ed7953"
             ],
             [
              0.7777777777777778,
              "#fb9f3a"
             ],
             [
              0.8888888888888888,
              "#fdca26"
             ],
             [
              1,
              "#f0f921"
             ]
            ],
            "type": "surface"
           }
          ],
          "table": [
           {
            "cells": {
             "fill": {
              "color": "#EBF0F8"
             },
             "line": {
              "color": "white"
             }
            },
            "header": {
             "fill": {
              "color": "#C8D4E3"
             },
             "line": {
              "color": "white"
             }
            },
            "type": "table"
           }
          ]
         },
         "layout": {
          "annotationdefaults": {
           "arrowcolor": "#2a3f5f",
           "arrowhead": 0,
           "arrowwidth": 1
          },
          "autotypenumbers": "strict",
          "coloraxis": {
           "colorbar": {
            "outlinewidth": 0,
            "ticks": ""
           }
          },
          "colorscale": {
           "diverging": [
            [
             0,
             "#8e0152"
            ],
            [
             0.1,
             "#c51b7d"
            ],
            [
             0.2,
             "#de77ae"
            ],
            [
             0.3,
             "#f1b6da"
            ],
            [
             0.4,
             "#fde0ef"
            ],
            [
             0.5,
             "#f7f7f7"
            ],
            [
             0.6,
             "#e6f5d0"
            ],
            [
             0.7,
             "#b8e186"
            ],
            [
             0.8,
             "#7fbc41"
            ],
            [
             0.9,
             "#4d9221"
            ],
            [
             1,
             "#276419"
            ]
           ],
           "sequential": [
            [
             0,
             "#0d0887"
            ],
            [
             0.1111111111111111,
             "#46039f"
            ],
            [
             0.2222222222222222,
             "#7201a8"
            ],
            [
             0.3333333333333333,
             "#9c179e"
            ],
            [
             0.4444444444444444,
             "#bd3786"
            ],
            [
             0.5555555555555556,
             "#d8576b"
            ],
            [
             0.6666666666666666,
             "#ed7953"
            ],
            [
             0.7777777777777778,
             "#fb9f3a"
            ],
            [
             0.8888888888888888,
             "#fdca26"
            ],
            [
             1,
             "#f0f921"
            ]
           ],
           "sequentialminus": [
            [
             0,
             "#0d0887"
            ],
            [
             0.1111111111111111,
             "#46039f"
            ],
            [
             0.2222222222222222,
             "#7201a8"
            ],
            [
             0.3333333333333333,
             "#9c179e"
            ],
            [
             0.4444444444444444,
             "#bd3786"
            ],
            [
             0.5555555555555556,
             "#d8576b"
            ],
            [
             0.6666666666666666,
             "#ed7953"
            ],
            [
             0.7777777777777778,
             "#fb9f3a"
            ],
            [
             0.8888888888888888,
             "#fdca26"
            ],
            [
             1,
             "#f0f921"
            ]
           ]
          },
          "colorway": [
           "#636efa",
           "#EF553B",
           "#00cc96",
           "#ab63fa",
           "#FFA15A",
           "#19d3f3",
           "#FF6692",
           "#B6E880",
           "#FF97FF",
           "#FECB52"
          ],
          "font": {
           "color": "#2a3f5f"
          },
          "geo": {
           "bgcolor": "white",
           "lakecolor": "white",
           "landcolor": "#E5ECF6",
           "showlakes": true,
           "showland": true,
           "subunitcolor": "white"
          },
          "hoverlabel": {
           "align": "left"
          },
          "hovermode": "closest",
          "mapbox": {
           "style": "light"
          },
          "paper_bgcolor": "white",
          "plot_bgcolor": "#E5ECF6",
          "polar": {
           "angularaxis": {
            "gridcolor": "white",
            "linecolor": "white",
            "ticks": ""
           },
           "bgcolor": "#E5ECF6",
           "radialaxis": {
            "gridcolor": "white",
            "linecolor": "white",
            "ticks": ""
           }
          },
          "scene": {
           "xaxis": {
            "backgroundcolor": "#E5ECF6",
            "gridcolor": "white",
            "gridwidth": 2,
            "linecolor": "white",
            "showbackground": true,
            "ticks": "",
            "zerolinecolor": "white"
           },
           "yaxis": {
            "backgroundcolor": "#E5ECF6",
            "gridcolor": "white",
            "gridwidth": 2,
            "linecolor": "white",
            "showbackground": true,
            "ticks": "",
            "zerolinecolor": "white"
           },
           "zaxis": {
            "backgroundcolor": "#E5ECF6",
            "gridcolor": "white",
            "gridwidth": 2,
            "linecolor": "white",
            "showbackground": true,
            "ticks": "",
            "zerolinecolor": "white"
           }
          },
          "shapedefaults": {
           "line": {
            "color": "#2a3f5f"
           }
          },
          "ternary": {
           "aaxis": {
            "gridcolor": "white",
            "linecolor": "white",
            "ticks": ""
           },
           "baxis": {
            "gridcolor": "white",
            "linecolor": "white",
            "ticks": ""
           },
           "bgcolor": "#E5ECF6",
           "caxis": {
            "gridcolor": "white",
            "linecolor": "white",
            "ticks": ""
           }
          },
          "title": {
           "x": 0.05
          },
          "xaxis": {
           "automargin": true,
           "gridcolor": "white",
           "linecolor": "white",
           "ticks": "",
           "title": {
            "standoff": 15
           },
           "zerolinecolor": "white",
           "zerolinewidth": 2
          },
          "yaxis": {
           "automargin": true,
           "gridcolor": "white",
           "linecolor": "white",
           "ticks": "",
           "title": {
            "standoff": 15
           },
           "zerolinecolor": "white",
           "zerolinewidth": 2
          }
         }
        },
        "title": {
         "text": "Duration of Precip Events at 14850"
        },
        "xaxis": {
         "anchor": "y",
         "domain": [
          0,
          1
         ],
         "title": {
          "text": "# of hours of precip"
         }
        },
        "yaxis": {
         "anchor": "x",
         "domain": [
          0,
          1
         ],
         "title": {
          "text": "# of Precip events"
         }
        }
       }
      },
      "text/html": [
       "<div>                            <div id=\"30290c2c-7f3c-45c2-b769-06da81ff2962\" class=\"plotly-graph-div\" style=\"height:525px; width:100%;\"></div>            <script type=\"text/javascript\">                require([\"plotly\"], function(Plotly) {                    window.PLOTLYENV=window.PLOTLYENV || {};                                    if (document.getElementById(\"30290c2c-7f3c-45c2-b769-06da81ff2962\")) {                    Plotly.newPlot(                        \"30290c2c-7f3c-45c2-b769-06da81ff2962\",                        [{\"alignmentgroup\":\"True\",\"bingroup\":\"x\",\"hovertemplate\":\"Duration_of_Snow=%{x}<br>count=%{y}<extra></extra>\",\"legendgroup\":\"\",\"marker\":{\"color\":\"rgb(0, 128, 255)\",\"pattern\":{\"shape\":\"\"}},\"name\":\"\",\"nbinsx\":20,\"offsetgroup\":\"\",\"orientation\":\"v\",\"showlegend\":false,\"x\":[4,14,6,4,5,7,3,9,11,3,3,3,6,4,6,13,3,4,6,8,12,7,3,3,4,3,5,3,3,3,3,4,3,7,9,10,5,5,3,3,3,6,6,3,5,3,6,5,7,7,3,5,3,6,13,4,3,9,7,4,3,4,5,3,3,6,4,4,4],\"xaxis\":\"x\",\"yaxis\":\"y\",\"type\":\"histogram\",\"textposition\":\"outside\",\"texttemplate\":\"%{y}\"}],                        {\"template\":{\"data\":{\"histogram2dcontour\":[{\"type\":\"histogram2dcontour\",\"colorbar\":{\"outlinewidth\":0,\"ticks\":\"\"},\"colorscale\":[[0.0,\"#0d0887\"],[0.1111111111111111,\"#46039f\"],[0.2222222222222222,\"#7201a8\"],[0.3333333333333333,\"#9c179e\"],[0.4444444444444444,\"#bd3786\"],[0.5555555555555556,\"#d8576b\"],[0.6666666666666666,\"#ed7953\"],[0.7777777777777778,\"#fb9f3a\"],[0.8888888888888888,\"#fdca26\"],[1.0,\"#f0f921\"]]}],\"choropleth\":[{\"type\":\"choropleth\",\"colorbar\":{\"outlinewidth\":0,\"ticks\":\"\"}}],\"histogram2d\":[{\"type\":\"histogram2d\",\"colorbar\":{\"outlinewidth\":0,\"ticks\":\"\"},\"colorscale\":[[0.0,\"#0d0887\"],[0.1111111111111111,\"#46039f\"],[0.2222222222222222,\"#7201a8\"],[0.3333333333333333,\"#9c179e\"],[0.4444444444444444,\"#bd3786\"],[0.5555555555555556,\"#d8576b\"],[0.6666666666666666,\"#ed7953\"],[0.7777777777777778,\"#fb9f3a\"],[0.8888888888888888,\"#fdca26\"],[1.0,\"#f0f921\"]]}],\"heatmap\":[{\"type\":\"heatmap\",\"colorbar\":{\"outlinewidth\":0,\"ticks\":\"\"},\"colorscale\":[[0.0,\"#0d0887\"],[0.1111111111111111,\"#46039f\"],[0.2222222222222222,\"#7201a8\"],[0.3333333333333333,\"#9c179e\"],[0.4444444444444444,\"#bd3786\"],[0.5555555555555556,\"#d8576b\"],[0.6666666666666666,\"#ed7953\"],[0.7777777777777778,\"#fb9f3a\"],[0.8888888888888888,\"#fdca26\"],[1.0,\"#f0f921\"]]}],\"heatmapgl\":[{\"type\":\"heatmapgl\",\"colorbar\":{\"outlinewidth\":0,\"ticks\":\"\"},\"colorscale\":[[0.0,\"#0d0887\"],[0.1111111111111111,\"#46039f\"],[0.2222222222222222,\"#7201a8\"],[0.3333333333333333,\"#9c179e\"],[0.4444444444444444,\"#bd3786\"],[0.5555555555555556,\"#d8576b\"],[0.6666666666666666,\"#ed7953\"],[0.7777777777777778,\"#fb9f3a\"],[0.8888888888888888,\"#fdca26\"],[1.0,\"#f0f921\"]]}],\"contourcarpet\":[{\"type\":\"contourcarpet\",\"colorbar\":{\"outlinewidth\":0,\"ticks\":\"\"}}],\"contour\":[{\"type\":\"contour\",\"colorbar\":{\"outlinewidth\":0,\"ticks\":\"\"},\"colorscale\":[[0.0,\"#0d0887\"],[0.1111111111111111,\"#46039f\"],[0.2222222222222222,\"#7201a8\"],[0.3333333333333333,\"#9c179e\"],[0.4444444444444444,\"#bd3786\"],[0.5555555555555556,\"#d8576b\"],[0.6666666666666666,\"#ed7953\"],[0.7777777777777778,\"#fb9f3a\"],[0.8888888888888888,\"#fdca26\"],[1.0,\"#f0f921\"]]}],\"surface\":[{\"type\":\"surface\",\"colorbar\":{\"outlinewidth\":0,\"ticks\":\"\"},\"colorscale\":[[0.0,\"#0d0887\"],[0.1111111111111111,\"#46039f\"],[0.2222222222222222,\"#7201a8\"],[0.3333333333333333,\"#9c179e\"],[0.4444444444444444,\"#bd3786\"],[0.5555555555555556,\"#d8576b\"],[0.6666666666666666,\"#ed7953\"],[0.7777777777777778,\"#fb9f3a\"],[0.8888888888888888,\"#fdca26\"],[1.0,\"#f0f921\"]]}],\"mesh3d\":[{\"type\":\"mesh3d\",\"colorbar\":{\"outlinewidth\":0,\"ticks\":\"\"}}],\"scatter\":[{\"fillpattern\":{\"fillmode\":\"overlay\",\"size\":10,\"solidity\":0.2},\"type\":\"scatter\"}],\"parcoords\":[{\"type\":\"parcoords\",\"line\":{\"colorbar\":{\"outlinewidth\":0,\"ticks\":\"\"}}}],\"scatterpolargl\":[{\"type\":\"scatterpolargl\",\"marker\":{\"colorbar\":{\"outlinewidth\":0,\"ticks\":\"\"}}}],\"bar\":[{\"error_x\":{\"color\":\"#2a3f5f\"},\"error_y\":{\"color\":\"#2a3f5f\"},\"marker\":{\"line\":{\"color\":\"#E5ECF6\",\"width\":0.5},\"pattern\":{\"fillmode\":\"overlay\",\"size\":10,\"solidity\":0.2}},\"type\":\"bar\"}],\"scattergeo\":[{\"type\":\"scattergeo\",\"marker\":{\"colorbar\":{\"outlinewidth\":0,\"ticks\":\"\"}}}],\"scatterpolar\":[{\"type\":\"scatterpolar\",\"marker\":{\"colorbar\":{\"outlinewidth\":0,\"ticks\":\"\"}}}],\"histogram\":[{\"marker\":{\"pattern\":{\"fillmode\":\"overlay\",\"size\":10,\"solidity\":0.2}},\"type\":\"histogram\"}],\"scattergl\":[{\"type\":\"scattergl\",\"marker\":{\"colorbar\":{\"outlinewidth\":0,\"ticks\":\"\"}}}],\"scatter3d\":[{\"type\":\"scatter3d\",\"line\":{\"colorbar\":{\"outlinewidth\":0,\"ticks\":\"\"}},\"marker\":{\"colorbar\":{\"outlinewidth\":0,\"ticks\":\"\"}}}],\"scattermapbox\":[{\"type\":\"scattermapbox\",\"marker\":{\"colorbar\":{\"outlinewidth\":0,\"ticks\":\"\"}}}],\"scatterternary\":[{\"type\":\"scatterternary\",\"marker\":{\"colorbar\":{\"outlinewidth\":0,\"ticks\":\"\"}}}],\"scattercarpet\":[{\"type\":\"scattercarpet\",\"marker\":{\"colorbar\":{\"outlinewidth\":0,\"ticks\":\"\"}}}],\"carpet\":[{\"aaxis\":{\"endlinecolor\":\"#2a3f5f\",\"gridcolor\":\"white\",\"linecolor\":\"white\",\"minorgridcolor\":\"white\",\"startlinecolor\":\"#2a3f5f\"},\"baxis\":{\"endlinecolor\":\"#2a3f5f\",\"gridcolor\":\"white\",\"linecolor\":\"white\",\"minorgridcolor\":\"white\",\"startlinecolor\":\"#2a3f5f\"},\"type\":\"carpet\"}],\"table\":[{\"cells\":{\"fill\":{\"color\":\"#EBF0F8\"},\"line\":{\"color\":\"white\"}},\"header\":{\"fill\":{\"color\":\"#C8D4E3\"},\"line\":{\"color\":\"white\"}},\"type\":\"table\"}],\"barpolar\":[{\"marker\":{\"line\":{\"color\":\"#E5ECF6\",\"width\":0.5},\"pattern\":{\"fillmode\":\"overlay\",\"size\":10,\"solidity\":0.2}},\"type\":\"barpolar\"}],\"pie\":[{\"automargin\":true,\"type\":\"pie\"}]},\"layout\":{\"autotypenumbers\":\"strict\",\"colorway\":[\"#636efa\",\"#EF553B\",\"#00cc96\",\"#ab63fa\",\"#FFA15A\",\"#19d3f3\",\"#FF6692\",\"#B6E880\",\"#FF97FF\",\"#FECB52\"],\"font\":{\"color\":\"#2a3f5f\"},\"hovermode\":\"closest\",\"hoverlabel\":{\"align\":\"left\"},\"paper_bgcolor\":\"white\",\"plot_bgcolor\":\"#E5ECF6\",\"polar\":{\"bgcolor\":\"#E5ECF6\",\"angularaxis\":{\"gridcolor\":\"white\",\"linecolor\":\"white\",\"ticks\":\"\"},\"radialaxis\":{\"gridcolor\":\"white\",\"linecolor\":\"white\",\"ticks\":\"\"}},\"ternary\":{\"bgcolor\":\"#E5ECF6\",\"aaxis\":{\"gridcolor\":\"white\",\"linecolor\":\"white\",\"ticks\":\"\"},\"baxis\":{\"gridcolor\":\"white\",\"linecolor\":\"white\",\"ticks\":\"\"},\"caxis\":{\"gridcolor\":\"white\",\"linecolor\":\"white\",\"ticks\":\"\"}},\"coloraxis\":{\"colorbar\":{\"outlinewidth\":0,\"ticks\":\"\"}},\"colorscale\":{\"sequential\":[[0.0,\"#0d0887\"],[0.1111111111111111,\"#46039f\"],[0.2222222222222222,\"#7201a8\"],[0.3333333333333333,\"#9c179e\"],[0.4444444444444444,\"#bd3786\"],[0.5555555555555556,\"#d8576b\"],[0.6666666666666666,\"#ed7953\"],[0.7777777777777778,\"#fb9f3a\"],[0.8888888888888888,\"#fdca26\"],[1.0,\"#f0f921\"]],\"sequentialminus\":[[0.0,\"#0d0887\"],[0.1111111111111111,\"#46039f\"],[0.2222222222222222,\"#7201a8\"],[0.3333333333333333,\"#9c179e\"],[0.4444444444444444,\"#bd3786\"],[0.5555555555555556,\"#d8576b\"],[0.6666666666666666,\"#ed7953\"],[0.7777777777777778,\"#fb9f3a\"],[0.8888888888888888,\"#fdca26\"],[1.0,\"#f0f921\"]],\"diverging\":[[0,\"#8e0152\"],[0.1,\"#c51b7d\"],[0.2,\"#de77ae\"],[0.3,\"#f1b6da\"],[0.4,\"#fde0ef\"],[0.5,\"#f7f7f7\"],[0.6,\"#e6f5d0\"],[0.7,\"#b8e186\"],[0.8,\"#7fbc41\"],[0.9,\"#4d9221\"],[1,\"#276419\"]]},\"xaxis\":{\"gridcolor\":\"white\",\"linecolor\":\"white\",\"ticks\":\"\",\"title\":{\"standoff\":15},\"zerolinecolor\":\"white\",\"automargin\":true,\"zerolinewidth\":2},\"yaxis\":{\"gridcolor\":\"white\",\"linecolor\":\"white\",\"ticks\":\"\",\"title\":{\"standoff\":15},\"zerolinecolor\":\"white\",\"automargin\":true,\"zerolinewidth\":2},\"scene\":{\"xaxis\":{\"backgroundcolor\":\"#E5ECF6\",\"gridcolor\":\"white\",\"linecolor\":\"white\",\"showbackground\":true,\"ticks\":\"\",\"zerolinecolor\":\"white\",\"gridwidth\":2},\"yaxis\":{\"backgroundcolor\":\"#E5ECF6\",\"gridcolor\":\"white\",\"linecolor\":\"white\",\"showbackground\":true,\"ticks\":\"\",\"zerolinecolor\":\"white\",\"gridwidth\":2},\"zaxis\":{\"backgroundcolor\":\"#E5ECF6\",\"gridcolor\":\"white\",\"linecolor\":\"white\",\"showbackground\":true,\"ticks\":\"\",\"zerolinecolor\":\"white\",\"gridwidth\":2}},\"shapedefaults\":{\"line\":{\"color\":\"#2a3f5f\"}},\"annotationdefaults\":{\"arrowcolor\":\"#2a3f5f\",\"arrowhead\":0,\"arrowwidth\":1},\"geo\":{\"bgcolor\":\"white\",\"landcolor\":\"#E5ECF6\",\"subunitcolor\":\"white\",\"showland\":true,\"showlakes\":true,\"lakecolor\":\"white\"},\"title\":{\"x\":0.05},\"mapbox\":{\"style\":\"light\"}}},\"xaxis\":{\"anchor\":\"y\",\"domain\":[0.0,1.0],\"title\":{\"text\":\"# of hours of precip\"}},\"yaxis\":{\"anchor\":\"x\",\"domain\":[0.0,1.0],\"title\":{\"text\":\"# of Precip events\"}},\"legend\":{\"tracegroupgap\":0},\"title\":{\"text\":\"Duration of Precip Events at 14850\"},\"barmode\":\"relative\"},                        {\"responsive\": true}                    ).then(function(){\n",
       "                            \n",
       "var gd = document.getElementById('30290c2c-7f3c-45c2-b769-06da81ff2962');\n",
       "var x = new MutationObserver(function (mutations, observer) {{\n",
       "        var display = window.getComputedStyle(gd).display;\n",
       "        if (!display || display === 'none') {{\n",
       "            console.log([gd, 'removed!']);\n",
       "            Plotly.purge(gd);\n",
       "            observer.disconnect();\n",
       "        }}\n",
       "}});\n",
       "\n",
       "// Listen for the removal of the full notebook cells\n",
       "var notebookContainer = gd.closest('#notebook-container');\n",
       "if (notebookContainer) {{\n",
       "    x.observe(notebookContainer, {childList: true});\n",
       "}}\n",
       "\n",
       "// Listen for the clearing of the current output cell\n",
       "var outputEl = gd.closest('.output');\n",
       "if (outputEl) {{\n",
       "    x.observe(outputEl, {childList: true});\n",
       "}}\n",
       "\n",
       "                        })                };                });            </script>        </div>"
      ]
     },
     "metadata": {},
     "output_type": "display_data"
    }
   ],
   "source": [
    "import plotly.express as px\n",
    "\n",
    "fig = px.histogram(df_combined_timing, x=\"Duration_of_Snow\", nbins = 20, title=\"Duration of Precip Events at \" + str(station_ID_num))\n",
    "fig.update_layout(xaxis_title=\"# of hours of precip\", yaxis_title=\"# of Precip events\")\n",
    "fig.update_traces(marker_color=\"rgb(0, 128, 255)\", texttemplate='%{y}', textposition='outside')\n",
    "fig.show()\n",
    "fig.write_image('hist_'+station_ID_num+'.png')"
   ]
  },
  {
   "cell_type": "code",
   "execution_count": 36,
   "id": "830adc8d",
   "metadata": {},
   "outputs": [],
   "source": [
    "output_dir = 'output/histo_precip/'\n",
    "output_csv_name = station_ID_num+'_Precip_Events.csv'\n",
    "\n",
    "output_file_path = os.path.join(output_dir, output_csv_name)\n",
    "\n",
    "df_combined_timing.to_csv(output_file_path, index=False)"
   ]
  },
  {
   "cell_type": "code",
   "execution_count": 37,
   "id": "03b01346",
   "metadata": {},
   "outputs": [
    {
     "data": {
      "text/plain": [
       "'14850_Precip_Events.csv'"
      ]
     },
     "execution_count": 37,
     "metadata": {},
     "output_type": "execute_result"
    }
   ],
   "source": [
    "output_csv_name"
   ]
  },
  {
   "cell_type": "code",
   "execution_count": null,
   "id": "7a7d2712",
   "metadata": {},
   "outputs": [],
   "source": []
  }
 ],
 "metadata": {
  "kernelspec": {
   "display_name": "Python 3 (ipykernel)",
   "language": "python",
   "name": "python3"
  },
  "language_info": {
   "codemirror_mode": {
    "name": "ipython",
    "version": 3
   },
   "file_extension": ".py",
   "mimetype": "text/x-python",
   "name": "python",
   "nbconvert_exporter": "python",
   "pygments_lexer": "ipython3",
   "version": "3.8.16"
  }
 },
 "nbformat": 4,
 "nbformat_minor": 5
}
